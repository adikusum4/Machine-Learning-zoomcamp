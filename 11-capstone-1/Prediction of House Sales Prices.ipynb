{
 "cells": [
  {
   "cell_type": "markdown",
   "id": "6cec7a09-ca83-4424-a356-015aadffe7d3",
   "metadata": {},
   "source": [
    "Predict the 2021 Residential House Sales Prices in Durham, NC"
   ]
  },
  {
   "cell_type": "code",
   "execution_count": 1,
   "id": "4848d0ed-a4d6-471f-8c75-f247c96acf5b",
   "metadata": {},
   "outputs": [],
   "source": [
    "# Libraries for Data Manipulation and Profiling\n",
    "import pandas as pd\n",
    "import numpy as np\n",
    "\n",
    "# Libraries for Machine Learning\n",
    "from sklearn.feature_extraction import DictVectorizer\n",
    "from sklearn.preprocessing import LabelEncoder\n",
    "from sklearn.model_selection import train_test_split, GridSearchCV, cross_val_score\n",
    "from sklearn.linear_model import LinearRegression, Lasso, Ridge, ElasticNet, BayesianRidge, HuberRegressor\n",
    "from sklearn.tree import DecisionTreeRegressor, export_text\n",
    "from sklearn.ensemble import RandomForestRegressor, GradientBoostingRegressor, AdaBoostRegressor, ExtraTreesRegressor\n",
    "from xgboost import XGBRegressor\n",
    "from sklearn.svm import SVR\n",
    "from sklearn.neighbors import KNeighborsRegressor\n",
    "from catboost import CatBoostRegressor\n",
    "from lightgbm import LGBMRegressor\n",
    "\n",
    "# Libraries for Metrics\n",
    "from sklearn.metrics import roc_auc_score, mean_squared_error, r2_score\n",
    "\n",
    "# Libraries for Graphics\n",
    "import seaborn as sns\n",
    "from matplotlib import pyplot as plt\n",
    "%matplotlib inline\n",
    "\n",
    "# Libraries for Serialization and Miscellaneous\n",
    "import math\n",
    "import pickle\n",
    "import optuna"
   ]
  },
  {
   "cell_type": "markdown",
   "id": "b72fb7e4-eb70-4746-a009-e815d6228901",
   "metadata": {},
   "source": [
    "## Import Data"
   ]
  },
  {
   "cell_type": "code",
   "execution_count": 2,
   "id": "7c765637-5a4a-4f08-8c2b-1bf111a83542",
   "metadata": {},
   "outputs": [],
   "source": [
    "df = pd.read_csv('Durham_homes_sold_2021_YTD.csv')"
   ]
  },
  {
   "cell_type": "code",
   "execution_count": 3,
   "id": "ed4e16e6-266e-41d1-8218-d54b57894316",
   "metadata": {},
   "outputs": [
    {
     "name": "stdout",
     "output_type": "stream",
     "text": [
      "<class 'pandas.core.frame.DataFrame'>\n",
      "RangeIndex: 4585 entries, 0 to 4584\n",
      "Data columns (total 32 columns):\n",
      " #   Column                    Non-Null Count  Dtype  \n",
      "---  ------                    --------------  -----  \n",
      " 0   Subdivision               4585 non-null   object \n",
      " 1   Total Living Area SqFt    4585 non-null   object \n",
      " 2   Year Built                4585 non-null   int64  \n",
      " 3   Bedrooms                  4585 non-null   int64  \n",
      " 4   Full Baths                4585 non-null   int64  \n",
      " 5   Half Baths                4585 non-null   int64  \n",
      " 6   Property Type             4585 non-null   object \n",
      " 7   List Price                4585 non-null   object \n",
      " 8   Sold Price                4585 non-null   object \n",
      " 9   Acres                     4585 non-null   object \n",
      " 10  Approx Lot SqFt           4585 non-null   object \n",
      " 11  Approximate Acres         4585 non-null   float64\n",
      " 12  Basement                  4585 non-null   object \n",
      " 13  Construction Type         4585 non-null   object \n",
      " 14  Days On Market            4585 non-null   int64  \n",
      " 15  Closing Date              4585 non-null   object \n",
      " 16  Fireplace                 4585 non-null   object \n",
      " 17  Garage                    4585 non-null   int64  \n",
      " 18  HOA 1 Fees Required       3032 non-null   object \n",
      " 19  Internet Listing          4585 non-null   object \n",
      " 20  List Date                 4585 non-null   object \n",
      " 21  Master Bedroom 1st Floor  4585 non-null   object \n",
      " 22  New Construction          4585 non-null   object \n",
      " 23  Total Baths               4585 non-null   int64  \n",
      " 24  Zip                       4585 non-null   object \n",
      " 25  Inside City               4585 non-null   object \n",
      " 26  HOA Y/N                   3608 non-null   object \n",
      " 27  Elementary School 1       4530 non-null   object \n",
      " 28  High School 1             4530 non-null   object \n",
      " 29  Middle School 1           4531 non-null   object \n",
      " 30  City                      4585 non-null   object \n",
      " 31  Restrictive Covenants     4585 non-null   object \n",
      "dtypes: float64(1), int64(7), object(24)\n",
      "memory usage: 1.1+ MB\n"
     ]
    }
   ],
   "source": [
    "df.info()"
   ]
  },
  {
   "cell_type": "code",
   "execution_count": 4,
   "id": "1b2244d9-91df-411c-b542-75d9ef19ff70",
   "metadata": {},
   "outputs": [],
   "source": [
    "# Calculate the number of unique values for each column\n",
    "nunique_values = df.nunique()\n",
    "\n",
    "# Create a list of unique values for each column\n",
    "unique_values = [', '.join(map(str, df[col].unique())) for col in df.columns]\n",
    "\n",
    "# Calculate the count of NaN values for each column\n",
    "count_nan = df.isna().sum()\n",
    "\n",
    "# Calculate the percentage of NaN values for each column\n",
    "nan_percentage = (count_nan / len(df)) * 100\n",
    "\n",
    "# Get the data type for each column\n",
    "dtype_values = df.dtypes\n",
    "\n",
    "# Create a summary DataFrame with the desired information\n",
    "df_summary = pd.DataFrame({\n",
    "    'columns': df.columns,\n",
    "    'nunique': nunique_values.values,\n",
    "    'unique': unique_values,\n",
    "    'dtype': dtype_values.values,\n",
    "    'count_nan': count_nan.values,\n",
    "    'nan_percentage': nan_percentage.values\n",
    "})\n",
    "\n",
    "# Display the result\n",
    "#print(df_summary)\n"
   ]
  },
  {
   "cell_type": "code",
   "execution_count": 5,
   "id": "4132e7c1-e5d8-4423-8dd7-7f1a27f33a1a",
   "metadata": {},
   "outputs": [
    {
     "data": {
      "text/html": [
       "<div>\n",
       "<style scoped>\n",
       "    .dataframe tbody tr th:only-of-type {\n",
       "        vertical-align: middle;\n",
       "    }\n",
       "\n",
       "    .dataframe tbody tr th {\n",
       "        vertical-align: top;\n",
       "    }\n",
       "\n",
       "    .dataframe thead th {\n",
       "        text-align: right;\n",
       "    }\n",
       "</style>\n",
       "<table border=\"1\" class=\"dataframe\">\n",
       "  <thead>\n",
       "    <tr style=\"text-align: right;\">\n",
       "      <th></th>\n",
       "      <th>columns</th>\n",
       "      <th>nunique</th>\n",
       "      <th>unique</th>\n",
       "      <th>dtype</th>\n",
       "      <th>count_nan</th>\n",
       "      <th>nan_percentage</th>\n",
       "    </tr>\n",
       "  </thead>\n",
       "  <tbody>\n",
       "    <tr>\n",
       "      <th>0</th>\n",
       "      <td>Subdivision</td>\n",
       "      <td>646</td>\n",
       "      <td>The Hills at Southpoint, Orchard Lake, Not in ...</td>\n",
       "      <td>object</td>\n",
       "      <td>0</td>\n",
       "      <td>0.000000</td>\n",
       "    </tr>\n",
       "    <tr>\n",
       "      <th>1</th>\n",
       "      <td>Total Living Area SqFt</td>\n",
       "      <td>2030</td>\n",
       "      <td>6,079, 1,532, 4,494, 1,914, 1,681, 2,384, 2,47...</td>\n",
       "      <td>object</td>\n",
       "      <td>0</td>\n",
       "      <td>0.000000</td>\n",
       "    </tr>\n",
       "    <tr>\n",
       "      <th>2</th>\n",
       "      <td>Year Built</td>\n",
       "      <td>117</td>\n",
       "      <td>2010, 2002, 1910, 1997, 2005, 1962, 1998, 1991...</td>\n",
       "      <td>int64</td>\n",
       "      <td>0</td>\n",
       "      <td>0.000000</td>\n",
       "    </tr>\n",
       "    <tr>\n",
       "      <th>3</th>\n",
       "      <td>Bedrooms</td>\n",
       "      <td>9</td>\n",
       "      <td>6, 3, 4, 2, 5, 1, 8, 0, 7</td>\n",
       "      <td>int64</td>\n",
       "      <td>0</td>\n",
       "      <td>0.000000</td>\n",
       "    </tr>\n",
       "    <tr>\n",
       "      <th>4</th>\n",
       "      <td>Full Baths</td>\n",
       "      <td>7</td>\n",
       "      <td>5, 2, 4, 1, 3, 6, 7</td>\n",
       "      <td>int64</td>\n",
       "      <td>0</td>\n",
       "      <td>0.000000</td>\n",
       "    </tr>\n",
       "    <tr>\n",
       "      <th>5</th>\n",
       "      <td>Half Baths</td>\n",
       "      <td>4</td>\n",
       "      <td>1, 0, 2, 3</td>\n",
       "      <td>int64</td>\n",
       "      <td>0</td>\n",
       "      <td>0.000000</td>\n",
       "    </tr>\n",
       "    <tr>\n",
       "      <th>6</th>\n",
       "      <td>Property Type</td>\n",
       "      <td>4</td>\n",
       "      <td>Detached, Attached, Condo, Manufactured</td>\n",
       "      <td>object</td>\n",
       "      <td>0</td>\n",
       "      <td>0.000000</td>\n",
       "    </tr>\n",
       "    <tr>\n",
       "      <th>7</th>\n",
       "      <td>List Price</td>\n",
       "      <td>1573</td>\n",
       "      <td>$819,900, $235,000, $1,153,000, $268,500, $225...</td>\n",
       "      <td>object</td>\n",
       "      <td>0</td>\n",
       "      <td>0.000000</td>\n",
       "    </tr>\n",
       "    <tr>\n",
       "      <th>8</th>\n",
       "      <td>Sold Price</td>\n",
       "      <td>1825</td>\n",
       "      <td>$798,000, $243,000, $1,153,000, $249,500, $230...</td>\n",
       "      <td>object</td>\n",
       "      <td>0</td>\n",
       "      <td>0.000000</td>\n",
       "    </tr>\n",
       "    <tr>\n",
       "      <th>9</th>\n",
       "      <td>Acres</td>\n",
       "      <td>8</td>\n",
       "      <td>.26-.5 Acres, 0-.25 Acres, .76-.99 Acres, .51-...</td>\n",
       "      <td>object</td>\n",
       "      <td>0</td>\n",
       "      <td>0.000000</td>\n",
       "    </tr>\n",
       "    <tr>\n",
       "      <th>10</th>\n",
       "      <td>Approx Lot SqFt</td>\n",
       "      <td>699</td>\n",
       "      <td>12,719.52, 7,579.44, 11,325.60, 38,768.40, 1,5...</td>\n",
       "      <td>object</td>\n",
       "      <td>0</td>\n",
       "      <td>0.000000</td>\n",
       "    </tr>\n",
       "    <tr>\n",
       "      <th>11</th>\n",
       "      <td>Approximate Acres</td>\n",
       "      <td>699</td>\n",
       "      <td>0.292, 0.174, 0.26, 0.89, 0.036, 0.61, 0.21, 0...</td>\n",
       "      <td>float64</td>\n",
       "      <td>0</td>\n",
       "      <td>0.000000</td>\n",
       "    </tr>\n",
       "    <tr>\n",
       "      <th>12</th>\n",
       "      <td>Basement</td>\n",
       "      <td>2</td>\n",
       "      <td>Yes, No</td>\n",
       "      <td>object</td>\n",
       "      <td>0</td>\n",
       "      <td>0.000000</td>\n",
       "    </tr>\n",
       "    <tr>\n",
       "      <th>13</th>\n",
       "      <td>Construction Type</td>\n",
       "      <td>5</td>\n",
       "      <td>Site Built, Manufactured, Modular, Insulated C...</td>\n",
       "      <td>object</td>\n",
       "      <td>0</td>\n",
       "      <td>0.000000</td>\n",
       "    </tr>\n",
       "    <tr>\n",
       "      <th>14</th>\n",
       "      <td>Days On Market</td>\n",
       "      <td>141</td>\n",
       "      <td>56, 3, 1, 6, 48, 82, 18, 5, 0, 38, 63, 14, 195...</td>\n",
       "      <td>int64</td>\n",
       "      <td>0</td>\n",
       "      <td>0.000000</td>\n",
       "    </tr>\n",
       "    <tr>\n",
       "      <th>15</th>\n",
       "      <td>Closing Date</td>\n",
       "      <td>223</td>\n",
       "      <td>1/4/2021, 1/5/2021, 1/6/2021, 1/7/2021, 1/8/20...</td>\n",
       "      <td>object</td>\n",
       "      <td>0</td>\n",
       "      <td>0.000000</td>\n",
       "    </tr>\n",
       "    <tr>\n",
       "      <th>16</th>\n",
       "      <td>Fireplace</td>\n",
       "      <td>5</td>\n",
       "      <td>3, 1, 4+, 0, 2</td>\n",
       "      <td>object</td>\n",
       "      <td>0</td>\n",
       "      <td>0.000000</td>\n",
       "    </tr>\n",
       "    <tr>\n",
       "      <th>17</th>\n",
       "      <td>Garage</td>\n",
       "      <td>8</td>\n",
       "      <td>4, 0, 2, 1, 3, 5, 8, 9</td>\n",
       "      <td>int64</td>\n",
       "      <td>0</td>\n",
       "      <td>0.000000</td>\n",
       "    </tr>\n",
       "    <tr>\n",
       "      <th>18</th>\n",
       "      <td>HOA 1 Fees Required</td>\n",
       "      <td>2</td>\n",
       "      <td>Yes, No, nan</td>\n",
       "      <td>object</td>\n",
       "      <td>1553</td>\n",
       "      <td>33.871320</td>\n",
       "    </tr>\n",
       "    <tr>\n",
       "      <th>19</th>\n",
       "      <td>Internet Listing</td>\n",
       "      <td>2</td>\n",
       "      <td>Yes, No</td>\n",
       "      <td>object</td>\n",
       "      <td>0</td>\n",
       "      <td>0.000000</td>\n",
       "    </tr>\n",
       "    <tr>\n",
       "      <th>20</th>\n",
       "      <td>List Date</td>\n",
       "      <td>521</td>\n",
       "      <td>9/16/2020, 10/8/2020, 11/5/2020, 11/10/2020, 1...</td>\n",
       "      <td>object</td>\n",
       "      <td>0</td>\n",
       "      <td>0.000000</td>\n",
       "    </tr>\n",
       "    <tr>\n",
       "      <th>21</th>\n",
       "      <td>Master Bedroom 1st Floor</td>\n",
       "      <td>2</td>\n",
       "      <td>No, Yes</td>\n",
       "      <td>object</td>\n",
       "      <td>0</td>\n",
       "      <td>0.000000</td>\n",
       "    </tr>\n",
       "    <tr>\n",
       "      <th>22</th>\n",
       "      <td>New Construction</td>\n",
       "      <td>2</td>\n",
       "      <td>No, Yes</td>\n",
       "      <td>object</td>\n",
       "      <td>0</td>\n",
       "      <td>0.000000</td>\n",
       "    </tr>\n",
       "    <tr>\n",
       "      <th>23</th>\n",
       "      <td>Total Baths</td>\n",
       "      <td>9</td>\n",
       "      <td>6, 3, 4, 2, 5, 1, 7, 8, 9</td>\n",
       "      <td>int64</td>\n",
       "      <td>0</td>\n",
       "      <td>0.000000</td>\n",
       "    </tr>\n",
       "    <tr>\n",
       "      <th>24</th>\n",
       "      <td>Zip</td>\n",
       "      <td>469</td>\n",
       "      <td>27713, 27701, 27712-2309, 27705-1643, 27703, 2...</td>\n",
       "      <td>object</td>\n",
       "      <td>0</td>\n",
       "      <td>0.000000</td>\n",
       "    </tr>\n",
       "    <tr>\n",
       "      <th>25</th>\n",
       "      <td>Inside City</td>\n",
       "      <td>2</td>\n",
       "      <td>Yes, No</td>\n",
       "      <td>object</td>\n",
       "      <td>0</td>\n",
       "      <td>0.000000</td>\n",
       "    </tr>\n",
       "    <tr>\n",
       "      <th>26</th>\n",
       "      <td>HOA Y/N</td>\n",
       "      <td>2</td>\n",
       "      <td>nan, Yes, No</td>\n",
       "      <td>object</td>\n",
       "      <td>977</td>\n",
       "      <td>21.308615</td>\n",
       "    </tr>\n",
       "    <tr>\n",
       "      <th>27</th>\n",
       "      <td>Elementary School 1</td>\n",
       "      <td>38</td>\n",
       "      <td>Durham - Creekside, Durham - Southwest, Durham...</td>\n",
       "      <td>object</td>\n",
       "      <td>55</td>\n",
       "      <td>1.199564</td>\n",
       "    </tr>\n",
       "    <tr>\n",
       "      <th>28</th>\n",
       "      <td>High School 1</td>\n",
       "      <td>19</td>\n",
       "      <td>Durham - Jordan, Durham - Hillside, Durham - R...</td>\n",
       "      <td>object</td>\n",
       "      <td>55</td>\n",
       "      <td>1.199564</td>\n",
       "    </tr>\n",
       "    <tr>\n",
       "      <th>29</th>\n",
       "      <td>Middle School 1</td>\n",
       "      <td>19</td>\n",
       "      <td>Durham - Githens, Durham - Lowes Grove, Durham...</td>\n",
       "      <td>object</td>\n",
       "      <td>54</td>\n",
       "      <td>1.177754</td>\n",
       "    </tr>\n",
       "    <tr>\n",
       "      <th>30</th>\n",
       "      <td>City</td>\n",
       "      <td>1</td>\n",
       "      <td>Durham</td>\n",
       "      <td>object</td>\n",
       "      <td>0</td>\n",
       "      <td>0.000000</td>\n",
       "    </tr>\n",
       "    <tr>\n",
       "      <th>31</th>\n",
       "      <td>Restrictive Covenants</td>\n",
       "      <td>2</td>\n",
       "      <td>Yes, No</td>\n",
       "      <td>object</td>\n",
       "      <td>0</td>\n",
       "      <td>0.000000</td>\n",
       "    </tr>\n",
       "  </tbody>\n",
       "</table>\n",
       "</div>"
      ],
      "text/plain": [
       "                     columns  nunique  \\\n",
       "0                Subdivision      646   \n",
       "1     Total Living Area SqFt     2030   \n",
       "2                 Year Built      117   \n",
       "3                   Bedrooms        9   \n",
       "4                 Full Baths        7   \n",
       "5                 Half Baths        4   \n",
       "6              Property Type        4   \n",
       "7                 List Price     1573   \n",
       "8                 Sold Price     1825   \n",
       "9                      Acres        8   \n",
       "10           Approx Lot SqFt      699   \n",
       "11         Approximate Acres      699   \n",
       "12                  Basement        2   \n",
       "13         Construction Type        5   \n",
       "14            Days On Market      141   \n",
       "15              Closing Date      223   \n",
       "16                 Fireplace        5   \n",
       "17                    Garage        8   \n",
       "18       HOA 1 Fees Required        2   \n",
       "19          Internet Listing        2   \n",
       "20                 List Date      521   \n",
       "21  Master Bedroom 1st Floor        2   \n",
       "22          New Construction        2   \n",
       "23               Total Baths        9   \n",
       "24                       Zip      469   \n",
       "25               Inside City        2   \n",
       "26                   HOA Y/N        2   \n",
       "27       Elementary School 1       38   \n",
       "28             High School 1       19   \n",
       "29           Middle School 1       19   \n",
       "30                      City        1   \n",
       "31     Restrictive Covenants        2   \n",
       "\n",
       "                                               unique    dtype  count_nan  \\\n",
       "0   The Hills at Southpoint, Orchard Lake, Not in ...   object          0   \n",
       "1   6,079, 1,532, 4,494, 1,914, 1,681, 2,384, 2,47...   object          0   \n",
       "2   2010, 2002, 1910, 1997, 2005, 1962, 1998, 1991...    int64          0   \n",
       "3                           6, 3, 4, 2, 5, 1, 8, 0, 7    int64          0   \n",
       "4                                 5, 2, 4, 1, 3, 6, 7    int64          0   \n",
       "5                                          1, 0, 2, 3    int64          0   \n",
       "6             Detached, Attached, Condo, Manufactured   object          0   \n",
       "7   $819,900, $235,000, $1,153,000, $268,500, $225...   object          0   \n",
       "8   $798,000, $243,000, $1,153,000, $249,500, $230...   object          0   \n",
       "9   .26-.5 Acres, 0-.25 Acres, .76-.99 Acres, .51-...   object          0   \n",
       "10  12,719.52, 7,579.44, 11,325.60, 38,768.40, 1,5...   object          0   \n",
       "11  0.292, 0.174, 0.26, 0.89, 0.036, 0.61, 0.21, 0...  float64          0   \n",
       "12                                            Yes, No   object          0   \n",
       "13  Site Built, Manufactured, Modular, Insulated C...   object          0   \n",
       "14  56, 3, 1, 6, 48, 82, 18, 5, 0, 38, 63, 14, 195...    int64          0   \n",
       "15  1/4/2021, 1/5/2021, 1/6/2021, 1/7/2021, 1/8/20...   object          0   \n",
       "16                                     3, 1, 4+, 0, 2   object          0   \n",
       "17                             4, 0, 2, 1, 3, 5, 8, 9    int64          0   \n",
       "18                                       Yes, No, nan   object       1553   \n",
       "19                                            Yes, No   object          0   \n",
       "20  9/16/2020, 10/8/2020, 11/5/2020, 11/10/2020, 1...   object          0   \n",
       "21                                            No, Yes   object          0   \n",
       "22                                            No, Yes   object          0   \n",
       "23                          6, 3, 4, 2, 5, 1, 7, 8, 9    int64          0   \n",
       "24  27713, 27701, 27712-2309, 27705-1643, 27703, 2...   object          0   \n",
       "25                                            Yes, No   object          0   \n",
       "26                                       nan, Yes, No   object        977   \n",
       "27  Durham - Creekside, Durham - Southwest, Durham...   object         55   \n",
       "28  Durham - Jordan, Durham - Hillside, Durham - R...   object         55   \n",
       "29  Durham - Githens, Durham - Lowes Grove, Durham...   object         54   \n",
       "30                                             Durham   object          0   \n",
       "31                                            Yes, No   object          0   \n",
       "\n",
       "    nan_percentage  \n",
       "0         0.000000  \n",
       "1         0.000000  \n",
       "2         0.000000  \n",
       "3         0.000000  \n",
       "4         0.000000  \n",
       "5         0.000000  \n",
       "6         0.000000  \n",
       "7         0.000000  \n",
       "8         0.000000  \n",
       "9         0.000000  \n",
       "10        0.000000  \n",
       "11        0.000000  \n",
       "12        0.000000  \n",
       "13        0.000000  \n",
       "14        0.000000  \n",
       "15        0.000000  \n",
       "16        0.000000  \n",
       "17        0.000000  \n",
       "18       33.871320  \n",
       "19        0.000000  \n",
       "20        0.000000  \n",
       "21        0.000000  \n",
       "22        0.000000  \n",
       "23        0.000000  \n",
       "24        0.000000  \n",
       "25        0.000000  \n",
       "26       21.308615  \n",
       "27        1.199564  \n",
       "28        1.199564  \n",
       "29        1.177754  \n",
       "30        0.000000  \n",
       "31        0.000000  "
      ]
     },
     "execution_count": 5,
     "metadata": {},
     "output_type": "execute_result"
    }
   ],
   "source": [
    "df_summary"
   ]
  },
  {
   "cell_type": "markdown",
   "id": "fec051f9-c09c-4ab8-9d7d-359dedc8c18e",
   "metadata": {},
   "source": [
    "## Clean the Data"
   ]
  },
  {
   "cell_type": "code",
   "execution_count": 6,
   "id": "1bd5e401-4d15-4ec8-96d5-d78c6cd9231b",
   "metadata": {},
   "outputs": [],
   "source": [
    "df.columns = df.columns.str.lower().str.replace(' ', '_')"
   ]
  },
  {
   "cell_type": "code",
   "execution_count": null,
   "id": "d1085599-9dfa-489e-940e-d4748144c976",
   "metadata": {},
   "outputs": [],
   "source": [
    "df = df.drop_duplicates()"
   ]
  },
  {
   "cell_type": "code",
   "execution_count": 19,
   "id": "559a71c5-1ce9-43a6-bd30-49376c557028",
   "metadata": {},
   "outputs": [],
   "source": [
    "# Replace '$' and ',' in multiple columns\n",
    "cols_to_replace = ['list_price', 'sold_price', 'total_living_area_sqft', 'approx_lot_sqft']\n",
    "\n",
    "df[cols_to_replace] = df[cols_to_replace].replace({'\\$': '', ',': ''}, regex=True)\n",
    "\n",
    "# Convert columns to numeric type if necessary\n",
    "df[cols_to_replace] = df[cols_to_replace].apply(pd.to_numeric, errors='coerce')\n"
   ]
  },
  {
   "cell_type": "code",
   "execution_count": 20,
   "id": "6b708110-5bf3-4201-9a64-ad5a866a9f4d",
   "metadata": {},
   "outputs": [],
   "source": [
    "df['list_date'] = pd.to_datetime(df['list_date'])\n",
    "df['closing_date'] = pd.to_datetime(df['closing_date'])\n",
    "\n",
    "for c in ['list_date', 'closing_date']: \n",
    "    df[c] = pd.to_datetime(df[c])"
   ]
  },
  {
   "cell_type": "code",
   "execution_count": null,
   "id": "ccb87e40-84b5-419f-85c8-a64ca35df01e",
   "metadata": {},
   "outputs": [],
   "source": [
    "df['list_year'] = df['list_date'].dt.year\n",
    "df['year_built'] = df['year_built'].astype(int)\n",
    "df['age_house'] = df['list_year'] - df['year_built']"
   ]
  },
  {
   "cell_type": "code",
   "execution_count": 24,
   "id": "aadf05d1-05ca-4c0c-b554-162ca8915918",
   "metadata": {},
   "outputs": [],
   "source": [
    "df['days_on_market'] = (df['closing_date'] - df['list_date']).dt.days\n",
    "df['closing_month'] = df['closing_date'].dt.month\n",
    "df['closing_day'] = df['closing_date'].dt.day\n"
   ]
  },
  {
   "cell_type": "code",
   "execution_count": 30,
   "id": "7424015f-4059-4272-8117-0c32d2558648",
   "metadata": {},
   "outputs": [],
   "source": [
    "# Calculate discount_price\n",
    "df['discount_price'] = np.where(\n",
    "    df['list_price'] == df['sold_price'],  # Condition: if list_price is equal to sold_price\n",
    "    0,  # Value is 0 if the condition is met\n",
    "    (df['list_price'] - df['sold_price']) / df['sold_price']  # Calculate the value if the condition is not met\n",
    ")\n"
   ]
  },
  {
   "cell_type": "code",
   "execution_count": 20,
   "id": "38c753fb-38fb-407f-ab3c-ad1c88c32818",
   "metadata": {},
   "outputs": [],
   "source": [
    "del df['list_year']\n",
    "del df['closing_date']\n",
    "del df['list_date']\n"
   ]
  },
  {
   "cell_type": "code",
   "execution_count": 21,
   "id": "e1003751-af3b-4176-a23b-673a64288709",
   "metadata": {},
   "outputs": [
    {
     "data": {
      "text/plain": [
       "fireplace\n",
       "1    2677\n",
       "0    1723\n",
       "2     143\n",
       "3      28\n",
       "4      14\n",
       "Name: count, dtype: int64"
      ]
     },
     "execution_count": 21,
     "metadata": {},
     "output_type": "execute_result"
    }
   ],
   "source": [
    "df['fireplace'] = df['fireplace'].replace({'4+':'4'})\n",
    "df['fireplace'].astype(int)\n",
    "df['fireplace'].value_counts()"
   ]
  },
  {
   "cell_type": "code",
   "execution_count": 22,
   "id": "1cf45537-9c2c-4f9a-977c-be26f1aab022",
   "metadata": {},
   "outputs": [
    {
     "data": {
      "text/plain": [
       "array(['27713', '27701', '27712', '27705', '27703', '27707', '27704',\n",
       "       '27560', '27702', '27517', '27714', '27519'], dtype=object)"
      ]
     },
     "execution_count": 22,
     "metadata": {},
     "output_type": "execute_result"
    }
   ],
   "source": [
    "df['zip'] = df['zip'].str[:5]\n",
    "df['zip'].astype(int)\n",
    "df['zip'].unique()"
   ]
  },
  {
   "cell_type": "code",
   "execution_count": 23,
   "id": "f3497258-64bd-4af3-8905-a190aa21e95a",
   "metadata": {},
   "outputs": [],
   "source": [
    "del df['city']"
   ]
  },
  {
   "cell_type": "markdown",
   "id": "6410cfcb-d9bb-464a-b994-4257ff95779b",
   "metadata": {},
   "source": [
    "### Handle Missing Values"
   ]
  },
  {
   "cell_type": "code",
   "execution_count": 24,
   "id": "168e2024-0749-4b89-8313-f965b56fcba0",
   "metadata": {},
   "outputs": [
    {
     "data": {
      "text/plain": [
       "subdivision                    0\n",
       "total_living_area_sqft         0\n",
       "year_built                     0\n",
       "bedrooms                       0\n",
       "full_baths                     0\n",
       "half_baths                     0\n",
       "property_type                  0\n",
       "list_price                     0\n",
       "sold_price                     0\n",
       "acres                          0\n",
       "approx_lot_sqft                0\n",
       "approximate_acres              0\n",
       "basement                       0\n",
       "construction_type              0\n",
       "days_on_market                 0\n",
       "fireplace                      0\n",
       "garage                         0\n",
       "hoa_1_fees_required         1553\n",
       "internet_listing               0\n",
       "master_bedroom_1st_floor       0\n",
       "new_construction               0\n",
       "total_baths                    0\n",
       "zip                            0\n",
       "inside_city                    0\n",
       "hoa_y/n                      977\n",
       "elementary_school_1           55\n",
       "high_school_1                 55\n",
       "middle_school_1               54\n",
       "restrictive_covenants          0\n",
       "age_house                      0\n",
       "closing_month                  0\n",
       "closing_day                    0\n",
       "discount_price                 0\n",
       "dtype: int64"
      ]
     },
     "execution_count": 24,
     "metadata": {},
     "output_type": "execute_result"
    }
   ],
   "source": [
    "df.isna().sum()"
   ]
  },
  {
   "cell_type": "code",
   "execution_count": 25,
   "id": "a9c72a62-d736-4332-9db1-1a7a7a8de8dc",
   "metadata": {},
   "outputs": [
    {
     "data": {
      "text/plain": [
       "hoa_1_fees_required\n",
       "Yes    2843\n",
       "No      189\n",
       "Name: count, dtype: int64"
      ]
     },
     "execution_count": 25,
     "metadata": {},
     "output_type": "execute_result"
    }
   ],
   "source": [
    "df['hoa_1_fees_required'].value_counts()"
   ]
  },
  {
   "cell_type": "code",
   "execution_count": 26,
   "id": "bf86a71e-10e6-4e03-b052-9b7603d0b6c7",
   "metadata": {},
   "outputs": [
    {
     "data": {
      "text/plain": [
       "hoa_y/n\n",
       "Yes    2552\n",
       "No     1056\n",
       "Name: count, dtype: int64"
      ]
     },
     "execution_count": 26,
     "metadata": {},
     "output_type": "execute_result"
    }
   ],
   "source": [
    "df['hoa_y/n'].value_counts()"
   ]
  },
  {
   "cell_type": "code",
   "execution_count": 27,
   "id": "b0a4a530-7f44-4e73-8373-f638f45be27a",
   "metadata": {},
   "outputs": [],
   "source": [
    "# Fill NaN values in 'hoa_1_fees_required' with values from 'hoa_y/n'\n",
    "df['hoa_1_fees_required'].fillna(df['hoa_y/n'], inplace=True)\n",
    "\n",
    "# Set 'hoa_1_fees_required' to 'No' if 'subdivision' is 'Not in a Subdivision'\n",
    "df['hoa_1_fees_required'] = np.where(df['subdivision'] == 'Not in a Subdivision', 'No', df['hoa_1_fees_required'])\n",
    "\n",
    "# Get a list of subdivisions with HOA fees as 'Yes' and 'No'\n",
    "hoa_yes = df[df['hoa_1_fees_required'] == 'Yes']['subdivision'].unique()\n",
    "hoa_no = df[df['hoa_1_fees_required'] == 'No']['subdivision'].unique()\n",
    "\n",
    "# Fill NaN values based on conditions in 'hoa_1_fees_required' and 'subdivision'\n",
    "df['hoa_1_fees_required'] = np.where(\n",
    "    df['hoa_1_fees_required'].isna() & df['subdivision'].isin(hoa_yes),\n",
    "    'Yes', df['hoa_1_fees_required']\n",
    ")\n",
    "df['hoa_1_fees_required'] = np.where(\n",
    "    df['hoa_1_fees_required'].isna() & df['subdivision'].isin(hoa_no),\n",
    "    'No', df['hoa_1_fees_required']\n",
    ")\n",
    "\n",
    "# If any NaN values remain, set 'No' as the default value\n",
    "df['hoa_1_fees_required'].fillna('No', inplace=True)\n"
   ]
  },
  {
   "cell_type": "code",
   "execution_count": 28,
   "id": "99054879-da72-4246-955f-0caef815b9eb",
   "metadata": {},
   "outputs": [
    {
     "data": {
      "text/plain": [
       "0"
      ]
     },
     "execution_count": 28,
     "metadata": {},
     "output_type": "execute_result"
    }
   ],
   "source": [
    "df['hoa_1_fees_required'].isna().sum()"
   ]
  },
  {
   "cell_type": "code",
   "execution_count": 29,
   "id": "3fd8194d-0d1a-4a37-93d2-cdd1e9039210",
   "metadata": {},
   "outputs": [],
   "source": [
    "del df['hoa_y/n']\n",
    "del df['list_price']"
   ]
  },
  {
   "cell_type": "code",
   "execution_count": 30,
   "id": "132c887a-4dcc-4493-93a0-6176e1a11ce3",
   "metadata": {},
   "outputs": [],
   "source": [
    "df = df.fillna(-1)"
   ]
  },
  {
   "cell_type": "code",
   "execution_count": 31,
   "id": "e3d9fbcc-1a0b-4e97-8de9-4b14d9040fbb",
   "metadata": {},
   "outputs": [
    {
     "data": {
      "text/plain": [
       "subdivision                 0\n",
       "total_living_area_sqft      0\n",
       "year_built                  0\n",
       "bedrooms                    0\n",
       "full_baths                  0\n",
       "half_baths                  0\n",
       "property_type               0\n",
       "sold_price                  0\n",
       "acres                       0\n",
       "approx_lot_sqft             0\n",
       "approximate_acres           0\n",
       "basement                    0\n",
       "construction_type           0\n",
       "days_on_market              0\n",
       "fireplace                   0\n",
       "garage                      0\n",
       "hoa_1_fees_required         0\n",
       "internet_listing            0\n",
       "master_bedroom_1st_floor    0\n",
       "new_construction            0\n",
       "total_baths                 0\n",
       "zip                         0\n",
       "inside_city                 0\n",
       "elementary_school_1         0\n",
       "high_school_1               0\n",
       "middle_school_1             0\n",
       "restrictive_covenants       0\n",
       "age_house                   0\n",
       "closing_month               0\n",
       "closing_day                 0\n",
       "discount_price              0\n",
       "dtype: int64"
      ]
     },
     "execution_count": 31,
     "metadata": {},
     "output_type": "execute_result"
    }
   ],
   "source": [
    "df.isna().sum()"
   ]
  },
  {
   "cell_type": "code",
   "execution_count": 32,
   "id": "788e907a-895c-4907-aebb-b1932fd1194e",
   "metadata": {},
   "outputs": [],
   "source": [
    "df = df.replace('Yes', 1)\n",
    "df = df.replace('No', 0)"
   ]
  },
  {
   "cell_type": "code",
   "execution_count": 33,
   "id": "18d84b95-0f50-40e4-99de-54b677bdea31",
   "metadata": {},
   "outputs": [],
   "source": [
    "categorical_cols = df.select_dtypes(exclude=['number']).columns.tolist()\n",
    "#categorical = list(df.dtypes[df.dtypes == 'object'].index)\n",
    "numerical_cols = df.select_dtypes(include=['number']).columns.tolist()"
   ]
  },
  {
   "cell_type": "code",
   "execution_count": 34,
   "id": "fc4f5d12-0e7e-4d97-b2c1-6e834195c5c2",
   "metadata": {},
   "outputs": [
    {
     "data": {
      "text/plain": [
       "['subdivision',\n",
       " 'property_type',\n",
       " 'acres',\n",
       " 'construction_type',\n",
       " 'fireplace',\n",
       " 'zip',\n",
       " 'elementary_school_1',\n",
       " 'high_school_1',\n",
       " 'middle_school_1']"
      ]
     },
     "execution_count": 34,
     "metadata": {},
     "output_type": "execute_result"
    }
   ],
   "source": [
    "categorical_cols"
   ]
  },
  {
   "cell_type": "code",
   "execution_count": 35,
   "id": "f5a0067c-05d9-4428-adfa-8da31a71da2e",
   "metadata": {},
   "outputs": [
    {
     "data": {
      "text/plain": [
       "['total_living_area_sqft',\n",
       " 'year_built',\n",
       " 'bedrooms',\n",
       " 'full_baths',\n",
       " 'half_baths',\n",
       " 'sold_price',\n",
       " 'approx_lot_sqft',\n",
       " 'approximate_acres',\n",
       " 'basement',\n",
       " 'days_on_market',\n",
       " 'garage',\n",
       " 'hoa_1_fees_required',\n",
       " 'internet_listing',\n",
       " 'master_bedroom_1st_floor',\n",
       " 'new_construction',\n",
       " 'total_baths',\n",
       " 'inside_city',\n",
       " 'restrictive_covenants',\n",
       " 'age_house',\n",
       " 'closing_month',\n",
       " 'closing_day',\n",
       " 'discount_price']"
      ]
     },
     "execution_count": 35,
     "metadata": {},
     "output_type": "execute_result"
    }
   ],
   "source": [
    "numerical_cols"
   ]
  },
  {
   "cell_type": "code",
   "execution_count": 36,
   "id": "685e9add-9b60-42b8-9fdc-94f7a5f185e7",
   "metadata": {},
   "outputs": [
    {
     "data": {
      "text/html": [
       "<div>\n",
       "<style scoped>\n",
       "    .dataframe tbody tr th:only-of-type {\n",
       "        vertical-align: middle;\n",
       "    }\n",
       "\n",
       "    .dataframe tbody tr th {\n",
       "        vertical-align: top;\n",
       "    }\n",
       "\n",
       "    .dataframe thead th {\n",
       "        text-align: right;\n",
       "    }\n",
       "</style>\n",
       "<table border=\"1\" class=\"dataframe\">\n",
       "  <thead>\n",
       "    <tr style=\"text-align: right;\">\n",
       "      <th></th>\n",
       "      <th>total_living_area_sqft</th>\n",
       "      <th>year_built</th>\n",
       "      <th>bedrooms</th>\n",
       "      <th>full_baths</th>\n",
       "      <th>half_baths</th>\n",
       "      <th>sold_price</th>\n",
       "      <th>approx_lot_sqft</th>\n",
       "      <th>approximate_acres</th>\n",
       "      <th>basement</th>\n",
       "      <th>days_on_market</th>\n",
       "      <th>...</th>\n",
       "      <th>internet_listing</th>\n",
       "      <th>master_bedroom_1st_floor</th>\n",
       "      <th>new_construction</th>\n",
       "      <th>total_baths</th>\n",
       "      <th>inside_city</th>\n",
       "      <th>restrictive_covenants</th>\n",
       "      <th>age_house</th>\n",
       "      <th>closing_month</th>\n",
       "      <th>closing_day</th>\n",
       "      <th>discount_price</th>\n",
       "    </tr>\n",
       "  </thead>\n",
       "  <tbody>\n",
       "    <tr>\n",
       "      <th>count</th>\n",
       "      <td>4585.000</td>\n",
       "      <td>4585.000</td>\n",
       "      <td>4585.000</td>\n",
       "      <td>4585.000</td>\n",
       "      <td>4585.000</td>\n",
       "      <td>4585.000</td>\n",
       "      <td>4585.000</td>\n",
       "      <td>4585.000</td>\n",
       "      <td>4585.000</td>\n",
       "      <td>4585.000</td>\n",
       "      <td>...</td>\n",
       "      <td>4585.000</td>\n",
       "      <td>4585.00</td>\n",
       "      <td>4585.000</td>\n",
       "      <td>4585.000</td>\n",
       "      <td>4585.000</td>\n",
       "      <td>4585.000</td>\n",
       "      <td>4585.000</td>\n",
       "      <td>4585.000</td>\n",
       "      <td>4585.000</td>\n",
       "      <td>4585.000</td>\n",
       "    </tr>\n",
       "    <tr>\n",
       "      <th>mean</th>\n",
       "      <td>1959.684</td>\n",
       "      <td>1993.250</td>\n",
       "      <td>3.146</td>\n",
       "      <td>2.132</td>\n",
       "      <td>0.575</td>\n",
       "      <td>378824.136</td>\n",
       "      <td>13547.417</td>\n",
       "      <td>0.311</td>\n",
       "      <td>0.080</td>\n",
       "      <td>79.309</td>\n",
       "      <td>...</td>\n",
       "      <td>0.985</td>\n",
       "      <td>0.51</td>\n",
       "      <td>0.205</td>\n",
       "      <td>2.707</td>\n",
       "      <td>0.899</td>\n",
       "      <td>0.697</td>\n",
       "      <td>27.529</td>\n",
       "      <td>5.813</td>\n",
       "      <td>17.214</td>\n",
       "      <td>-0.036</td>\n",
       "    </tr>\n",
       "    <tr>\n",
       "      <th>std</th>\n",
       "      <td>822.910</td>\n",
       "      <td>27.478</td>\n",
       "      <td>0.798</td>\n",
       "      <td>0.671</td>\n",
       "      <td>0.520</td>\n",
       "      <td>202127.241</td>\n",
       "      <td>42660.063</td>\n",
       "      <td>0.979</td>\n",
       "      <td>0.271</td>\n",
       "      <td>91.269</td>\n",
       "      <td>...</td>\n",
       "      <td>0.123</td>\n",
       "      <td>0.50</td>\n",
       "      <td>0.404</td>\n",
       "      <td>0.879</td>\n",
       "      <td>0.301</td>\n",
       "      <td>0.459</td>\n",
       "      <td>27.549</td>\n",
       "      <td>2.700</td>\n",
       "      <td>8.840</td>\n",
       "      <td>0.070</td>\n",
       "    </tr>\n",
       "    <tr>\n",
       "      <th>min</th>\n",
       "      <td>240.000</td>\n",
       "      <td>1890.000</td>\n",
       "      <td>0.000</td>\n",
       "      <td>1.000</td>\n",
       "      <td>0.000</td>\n",
       "      <td>55000.000</td>\n",
       "      <td>0.000</td>\n",
       "      <td>0.000</td>\n",
       "      <td>0.000</td>\n",
       "      <td>0.000</td>\n",
       "      <td>...</td>\n",
       "      <td>0.000</td>\n",
       "      <td>0.00</td>\n",
       "      <td>0.000</td>\n",
       "      <td>1.000</td>\n",
       "      <td>0.000</td>\n",
       "      <td>0.000</td>\n",
       "      <td>-2.000</td>\n",
       "      <td>1.000</td>\n",
       "      <td>1.000</td>\n",
       "      <td>-0.463</td>\n",
       "    </tr>\n",
       "    <tr>\n",
       "      <th>25%</th>\n",
       "      <td>1431.000</td>\n",
       "      <td>1978.000</td>\n",
       "      <td>3.000</td>\n",
       "      <td>2.000</td>\n",
       "      <td>0.000</td>\n",
       "      <td>268012.000</td>\n",
       "      <td>3528.360</td>\n",
       "      <td>0.081</td>\n",
       "      <td>0.000</td>\n",
       "      <td>34.000</td>\n",
       "      <td>...</td>\n",
       "      <td>1.000</td>\n",
       "      <td>0.00</td>\n",
       "      <td>0.000</td>\n",
       "      <td>2.000</td>\n",
       "      <td>1.000</td>\n",
       "      <td>0.000</td>\n",
       "      <td>3.000</td>\n",
       "      <td>4.000</td>\n",
       "      <td>10.000</td>\n",
       "      <td>-0.079</td>\n",
       "    </tr>\n",
       "    <tr>\n",
       "      <th>50%</th>\n",
       "      <td>1819.000</td>\n",
       "      <td>2002.000</td>\n",
       "      <td>3.000</td>\n",
       "      <td>2.000</td>\n",
       "      <td>1.000</td>\n",
       "      <td>337575.000</td>\n",
       "      <td>7710.120</td>\n",
       "      <td>0.177</td>\n",
       "      <td>0.000</td>\n",
       "      <td>45.000</td>\n",
       "      <td>...</td>\n",
       "      <td>1.000</td>\n",
       "      <td>1.00</td>\n",
       "      <td>0.000</td>\n",
       "      <td>3.000</td>\n",
       "      <td>1.000</td>\n",
       "      <td>1.000</td>\n",
       "      <td>19.000</td>\n",
       "      <td>6.000</td>\n",
       "      <td>17.000</td>\n",
       "      <td>-0.023</td>\n",
       "    </tr>\n",
       "    <tr>\n",
       "      <th>75%</th>\n",
       "      <td>2300.000</td>\n",
       "      <td>2017.000</td>\n",
       "      <td>4.000</td>\n",
       "      <td>2.000</td>\n",
       "      <td>1.000</td>\n",
       "      <td>432500.000</td>\n",
       "      <td>13068.000</td>\n",
       "      <td>0.300</td>\n",
       "      <td>0.000</td>\n",
       "      <td>79.000</td>\n",
       "      <td>...</td>\n",
       "      <td>1.000</td>\n",
       "      <td>1.00</td>\n",
       "      <td>0.000</td>\n",
       "      <td>3.000</td>\n",
       "      <td>1.000</td>\n",
       "      <td>1.000</td>\n",
       "      <td>43.000</td>\n",
       "      <td>8.000</td>\n",
       "      <td>25.000</td>\n",
       "      <td>0.000</td>\n",
       "    </tr>\n",
       "    <tr>\n",
       "      <th>max</th>\n",
       "      <td>9582.000</td>\n",
       "      <td>2021.000</td>\n",
       "      <td>8.000</td>\n",
       "      <td>7.000</td>\n",
       "      <td>3.000</td>\n",
       "      <td>3500000.000</td>\n",
       "      <td>1907928.000</td>\n",
       "      <td>43.800</td>\n",
       "      <td>1.000</td>\n",
       "      <td>1604.000</td>\n",
       "      <td>...</td>\n",
       "      <td>1.000</td>\n",
       "      <td>1.00</td>\n",
       "      <td>1.000</td>\n",
       "      <td>9.000</td>\n",
       "      <td>1.000</td>\n",
       "      <td>1.000</td>\n",
       "      <td>131.000</td>\n",
       "      <td>10.000</td>\n",
       "      <td>31.000</td>\n",
       "      <td>0.562</td>\n",
       "    </tr>\n",
       "  </tbody>\n",
       "</table>\n",
       "<p>8 rows × 22 columns</p>\n",
       "</div>"
      ],
      "text/plain": [
       "       total_living_area_sqft  year_built  bedrooms  full_baths  half_baths  \\\n",
       "count                4585.000    4585.000  4585.000    4585.000    4585.000   \n",
       "mean                 1959.684    1993.250     3.146       2.132       0.575   \n",
       "std                   822.910      27.478     0.798       0.671       0.520   \n",
       "min                   240.000    1890.000     0.000       1.000       0.000   \n",
       "25%                  1431.000    1978.000     3.000       2.000       0.000   \n",
       "50%                  1819.000    2002.000     3.000       2.000       1.000   \n",
       "75%                  2300.000    2017.000     4.000       2.000       1.000   \n",
       "max                  9582.000    2021.000     8.000       7.000       3.000   \n",
       "\n",
       "        sold_price  approx_lot_sqft  approximate_acres  basement  \\\n",
       "count     4585.000         4585.000           4585.000  4585.000   \n",
       "mean    378824.136        13547.417              0.311     0.080   \n",
       "std     202127.241        42660.063              0.979     0.271   \n",
       "min      55000.000            0.000              0.000     0.000   \n",
       "25%     268012.000         3528.360              0.081     0.000   \n",
       "50%     337575.000         7710.120              0.177     0.000   \n",
       "75%     432500.000        13068.000              0.300     0.000   \n",
       "max    3500000.000      1907928.000             43.800     1.000   \n",
       "\n",
       "       days_on_market  ...  internet_listing  master_bedroom_1st_floor  \\\n",
       "count        4585.000  ...          4585.000                   4585.00   \n",
       "mean           79.309  ...             0.985                      0.51   \n",
       "std            91.269  ...             0.123                      0.50   \n",
       "min             0.000  ...             0.000                      0.00   \n",
       "25%            34.000  ...             1.000                      0.00   \n",
       "50%            45.000  ...             1.000                      1.00   \n",
       "75%            79.000  ...             1.000                      1.00   \n",
       "max          1604.000  ...             1.000                      1.00   \n",
       "\n",
       "       new_construction  total_baths  inside_city  restrictive_covenants  \\\n",
       "count          4585.000     4585.000     4585.000               4585.000   \n",
       "mean              0.205        2.707        0.899                  0.697   \n",
       "std               0.404        0.879        0.301                  0.459   \n",
       "min               0.000        1.000        0.000                  0.000   \n",
       "25%               0.000        2.000        1.000                  0.000   \n",
       "50%               0.000        3.000        1.000                  1.000   \n",
       "75%               0.000        3.000        1.000                  1.000   \n",
       "max               1.000        9.000        1.000                  1.000   \n",
       "\n",
       "       age_house  closing_month  closing_day  discount_price  \n",
       "count   4585.000       4585.000     4585.000        4585.000  \n",
       "mean      27.529          5.813       17.214          -0.036  \n",
       "std       27.549          2.700        8.840           0.070  \n",
       "min       -2.000          1.000        1.000          -0.463  \n",
       "25%        3.000          4.000       10.000          -0.079  \n",
       "50%       19.000          6.000       17.000          -0.023  \n",
       "75%       43.000          8.000       25.000           0.000  \n",
       "max      131.000         10.000       31.000           0.562  \n",
       "\n",
       "[8 rows x 22 columns]"
      ]
     },
     "execution_count": 36,
     "metadata": {},
     "output_type": "execute_result"
    }
   ],
   "source": [
    "df[numerical_cols].describe().round(3)"
   ]
  },
  {
   "cell_type": "code",
   "execution_count": 37,
   "id": "07516354-5a64-4c5f-aa68-18481538a9ce",
   "metadata": {},
   "outputs": [
    {
     "data": {
      "text/plain": [
       "<Axes: xlabel='sold_price', ylabel='Count'>"
      ]
     },
     "execution_count": 37,
     "metadata": {},
     "output_type": "execute_result"
    },
    {
     "data": {
      "image/png": "[encoded data removed]",
      "text/plain": [
       "<Figure size 640x480 with 1 Axes>"
      ]
     },
     "metadata": {},
     "output_type": "display_data"
    }
   ],
   "source": [
    "sns.histplot(df.sold_price, bins=55)"
   ]
  },
  {
   "cell_type": "code",
   "execution_count": 38,
   "id": "1403d2ea-9a5b-4b29-8c43-be741c6fdf05",
   "metadata": {},
   "outputs": [
    {
     "data": {
      "text/plain": [
       "<Axes: xlabel='sold_price', ylabel='Count'>"
      ]
     },
     "execution_count": 38,
     "metadata": {},
     "output_type": "execute_result"
    },
    {
     "data": {
      "image/png": "[encoded data removed]",
      "text/plain": [
       "<Figure size 640x480 with 1 Axes>"
      ]
     },
     "metadata": {},
     "output_type": "display_data"
    }
   ],
   "source": [
    "sns.histplot(df.sold_price[df.sold_price < 770000], bins=55)"
   ]
  },
  {
   "cell_type": "code",
   "execution_count": 39,
   "id": "8fd204df-231d-4fc3-b875-0bf46336f038",
   "metadata": {
    "scrolled": true
   },
   "outputs": [
    {
     "data": {
      "text/plain": [
       "<Axes: >"
      ]
     },
     "execution_count": 39,
     "metadata": {},
     "output_type": "execute_result"
    },
    {
     "data": {
      "image/png": "[encoded data removed]",
      "text/plain": [
       "<Figure size 640x480 with 2 Axes>"
      ]
     },
     "metadata": {},
     "output_type": "display_data"
    }
   ],
   "source": [
    "corr = df[numerical_cols].corr()\n",
    "\n",
    "sns.heatmap(corr, cmap='viridis')"
   ]
  },
  {
   "cell_type": "code",
   "execution_count": 40,
   "id": "0ff865fd-1d19-492a-8238-eb5d9ea491bf",
   "metadata": {},
   "outputs": [],
   "source": [
    "price_logs = np.log1p(df.sold_price)"
   ]
  },
  {
   "cell_type": "code",
   "execution_count": 41,
   "id": "8fa3abdf-32f0-4412-8761-0e01ff0c202b",
   "metadata": {},
   "outputs": [
    {
     "data": {
      "text/plain": [
       "<Axes: xlabel='sold_price', ylabel='Count'>"
      ]
     },
     "execution_count": 41,
     "metadata": {},
     "output_type": "execute_result"
    },
    {
     "data": {
      "image/png": "[encoded data removed]",
      "text/plain": [
       "<Figure size 640x480 with 1 Axes>"
      ]
     },
     "metadata": {},
     "output_type": "display_data"
    }
   ],
   "source": [
    "sns.histplot(price_logs, bins=55)"
   ]
  },
  {
   "cell_type": "markdown",
   "id": "e77b283b-e45a-4bf7-b8f1-884d08d510f4",
   "metadata": {},
   "source": [
    "## Split the Data"
   ]
  },
  {
   "cell_type": "code",
   "execution_count": 42,
   "id": "92c22586-b1cd-4c27-90b2-b5acbce42dcf",
   "metadata": {},
   "outputs": [],
   "source": [
    "df_copy = df.copy()"
   ]
  },
  {
   "cell_type": "code",
   "execution_count": 43,
   "id": "3d63169d-c9e2-402a-8c1c-c81824223791",
   "metadata": {},
   "outputs": [],
   "source": [
    "# Apply LabelEncoder to each categorical column\n",
    "label_encoders = {}\n",
    "for col in categorical_cols:\n",
    "    le = LabelEncoder()\n",
    "    df[col] = le.fit_transform(df_copy[col].astype(str))  # Convert to string to avoid errors\n",
    "    label_encoders[col] = le  # Store the LabelEncoder for reference or inverse transformation\n"
   ]
  },
  {
   "cell_type": "code",
   "execution_count": 44,
   "id": "8b89bf0d-65f1-47ba-85f6-59eb136c764a",
   "metadata": {},
   "outputs": [],
   "source": [
    "df_full_train, df_test = train_test_split(df_copy, test_size=0.2, shuffle=False)\n",
    "df_train, df_val = train_test_split(df_full_train, test_size=0.25, shuffle=False)"
   ]
  },
  {
   "cell_type": "code",
   "execution_count": 45,
   "id": "aafd114f-8e22-4608-a840-0ea951bb2ea9",
   "metadata": {},
   "outputs": [],
   "source": [
    "df_full_train = df_full_train.reset_index(drop=True)\n",
    "df_train = df_train.reset_index(drop=True)\n",
    "df_val = df_val.reset_index(drop=True)\n",
    "df_test = df_test.reset_index(drop=True)"
   ]
  },
  {
   "cell_type": "code",
   "execution_count": 46,
   "id": "07474be3-5272-4aae-8e19-e9d6ac6dcd55",
   "metadata": {},
   "outputs": [],
   "source": [
    "y_full_train = np.log1p(df_full_train.sold_price.values)\n",
    "y_train = np.log1p(df_train.sold_price.values)\n",
    "y_val = np.log1p(df_val.sold_price.values)\n",
    "y_test = np.log1p(df_test.sold_price.values)"
   ]
  },
  {
   "cell_type": "code",
   "execution_count": 47,
   "id": "2530b2a6-4bea-406c-98a9-4bdb5b63ea38",
   "metadata": {},
   "outputs": [],
   "source": [
    "del df_full_train['sold_price']\n",
    "del df_train['sold_price']\n",
    "del df_val['sold_price']\n",
    "del df_test['sold_price']"
   ]
  },
  {
   "cell_type": "markdown",
   "id": "396f1350-4acf-4c87-a188-2f593f080513",
   "metadata": {},
   "source": [
    "## Train the Models"
   ]
  },
  {
   "cell_type": "code",
   "execution_count": 48,
   "id": "4b062589-a5ba-4c42-a2db-59a098747ec7",
   "metadata": {},
   "outputs": [],
   "source": [
    "dv = DictVectorizer(sparse=False)\n",
    "\n",
    "train_dict = df_train.to_dict(orient='records')\n",
    "X_train = dv.fit_transform(train_dict)\n",
    "\n",
    "val_dict = df_val.to_dict(orient='records')\n",
    "X_val = dv.transform(val_dict)"
   ]
  },
  {
   "cell_type": "code",
   "execution_count": 49,
   "id": "4b90a147-7ffb-4b32-86a2-6143aa5d86bb",
   "metadata": {},
   "outputs": [],
   "source": [
    "models = {\n",
    "    \"Linear Regression\": LinearRegression(),\n",
    "    \"Decision Tree\": DecisionTreeRegressor(),\n",
    "    \"Random Forest\": RandomForestRegressor(),\n",
    "    \"XGBoost\": XGBRegressor()\n",
    "}"
   ]
  },
  {
   "cell_type": "code",
   "execution_count": 50,
   "id": "1f269ea7-e517-4a1a-8cfc-2f856e1e3b88",
   "metadata": {},
   "outputs": [
    {
     "name": "stdout",
     "output_type": "stream",
     "text": [
      "Linear Regression Score: -6.3878e+08\n",
      "Decision Tree Score: 0.60739\n",
      "Random Forest Score: 0.79839\n",
      "XGBoost Score: 0.83224\n"
     ]
    }
   ],
   "source": [
    "for name, model in models.items():\n",
    "    model.fit(X_train, y_train)\n",
    "    print(name + \" Score: {:.5}\".format(model.score(X_val, y_val)))"
   ]
  },
  {
   "cell_type": "code",
   "execution_count": 51,
   "id": "cf91374a-5d84-4deb-9305-beccd792c503",
   "metadata": {},
   "outputs": [
    {
     "name": "stdout",
     "output_type": "stream",
     "text": [
      "Linear Regression - MSE: 106044735.62550, R2: -638776269.30527\n",
      "Decision Tree - MSE: 0.06196, R2: 0.62675\n",
      "Random Forest - MSE: 0.03253, R2: 0.80405\n",
      "XGBoost - MSE: 0.02785, R2: 0.83224\n",
      "Gradient Boosting - MSE: 0.03061, R2: 0.81559\n",
      "AdaBoost - MSE: 0.05418, R2: 0.67362\n",
      "Lasso Regression - MSE: 0.07250, R2: 0.56327\n",
      "Ridge Regression - MSE: 0.03036, R2: 0.81713\n",
      "ElasticNet - MSE: 0.07248, R2: 0.56338\n",
      "K-Neighbors - MSE: 0.07462, R2: 0.55051\n",
      "Support Vector Regression - MSE: 0.07666, R2: 0.53824\n",
      "Bayesian Ridge - MSE: 0.03003, R2: 0.81908\n",
      "Huber Regressor - MSE: 0.07211, R2: 0.56561\n",
      "Extra Trees - MSE: 0.02879, R2: 0.82659\n",
      "CatBoost - MSE: 0.02354, R2: 0.85820\n",
      "[LightGBM] [Info] Auto-choosing row-wise multi-threading, the overhead of testing was 0.006362 seconds.\n",
      "You can set `force_row_wise=true` to remove the overhead.\n",
      "And if memory is not enough, you can set `force_col_wise=true`.\n",
      "[LightGBM] [Info] Total Bins 1721\n",
      "[LightGBM] [Info] Number of data points in the train set: 2751, number of used features: 97\n",
      "[LightGBM] [Info] Start training from score 12.712343\n",
      "LightGBM - MSE: 0.02662, R2: 0.83964\n"
     ]
    }
   ],
   "source": [
    "# Function to train a model and calculate scores\n",
    "def train_and_evaluate_model(model, X_train, y_train, X_val, y_val):\n",
    "    model.fit(X_train, y_train)\n",
    "    predictions = model.predict(X_val)\n",
    "    \n",
    "    # Evaluate metrics\n",
    "    mse = mean_squared_error(y_val, predictions)\n",
    "    r2 = r2_score(y_val, predictions)\n",
    "    \n",
    "    return mse, r2\n",
    "\n",
    "# Convert DataFrame to dict and transform features\n",
    "dv = DictVectorizer(sparse=False)\n",
    "\n",
    "train_dict = df_train.to_dict(orient='records')\n",
    "X_train = dv.fit_transform(train_dict)\n",
    "\n",
    "val_dict = df_val.to_dict(orient='records')\n",
    "X_val = dv.transform(val_dict)\n",
    "\n",
    "# List of models to evaluate\n",
    "models = {\n",
    "    \"Linear Regression\": LinearRegression(),\n",
    "    \"Decision Tree\": DecisionTreeRegressor(),\n",
    "    \"Random Forest\": RandomForestRegressor(),\n",
    "    \"XGBoost\": XGBRegressor(),\n",
    "    \"Gradient Boosting\": GradientBoostingRegressor(),\n",
    "    \"AdaBoost\": AdaBoostRegressor(),\n",
    "    \"Lasso Regression\": Lasso(),\n",
    "    \"Ridge Regression\": Ridge(),\n",
    "    \"ElasticNet\": ElasticNet(),\n",
    "    \"K-Neighbors\": KNeighborsRegressor(),\n",
    "    \"Support Vector Regression\": SVR(),\n",
    "    \"Bayesian Ridge\": BayesianRidge(),\n",
    "    \"Huber Regressor\": HuberRegressor(),\n",
    "    \"Extra Trees\": ExtraTreesRegressor(),\n",
    "    \"CatBoost\": CatBoostRegressor(verbose=0),\n",
    "    \"LightGBM\": LGBMRegressor()\n",
    "}\n",
    "\n",
    "# Evaluate each model\n",
    "for name, model in models.items():\n",
    "    try:\n",
    "        mse, r2 = train_and_evaluate_model(model, X_train, y_train, X_val, y_val)\n",
    "        print(f\"{name} - MSE: {mse:.5f}, R2: {r2:.5f}\")\n",
    "    except Exception as e:\n",
    "        print(f\"Error in {name}: {e}\")\n"
   ]
  },
  {
   "cell_type": "markdown",
   "id": "be058f18-f4c0-4bc7-a094-ffab2827b19b",
   "metadata": {},
   "source": [
    "CatBoost - MSE: 0.02354, R2: 0.85820\n",
    "XGBoost - MSE: 0.02785, R2: 0.83224\n",
    "Gradient Boosting - MSE: 0.03061, R2: 0.815599"
   ]
  },
  {
   "cell_type": "code",
   "execution_count": 53,
   "id": "bbfd8e9b-5fbf-4d6b-a0d6-a1747d81df78",
   "metadata": {},
   "outputs": [],
   "source": [
    "# Objective function for Optuna\n",
    "def objective(trial):\n",
    "    # Define the hyperparameter search space\n",
    "    params = {\n",
    "        'eta': trial.suggest_float('eta', 0.01, 0.3, step=0.01),\n",
    "        'max_depth': trial.suggest_int('max_depth', 3, 10),\n",
    "        'min_child_weight': trial.suggest_int('min_child_weight', 1, 10),\n",
    "        'subsample': trial.suggest_float('subsample', 0.5, 1.0),\n",
    "        'colsample_bytree': trial.suggest_float('colsample_bytree', 0.5, 1.0),\n",
    "        'n_estimators': trial.suggest_int('n_estimators', 50, 500),\n",
    "        'objective': 'reg:squarederror',\n",
    "        'nthread': 8,\n",
    "        'random_state': 42,\n",
    "    }\n",
    "\n",
    "    # Create an XGBoost model with the defined parameters\n",
    "    model = XGBRegressor(**params)\n",
    "    model.fit(X_train, y_train)\n",
    "\n",
    "    # Predict on the validation data\n",
    "    y_pred = model.predict(X_val)\n",
    "\n",
    "    # Calculate RMSE (Root Mean Squared Error)\n",
    "    rmse = np.sqrt(mean_squared_error(y_val, y_pred))\n",
    "    return rmse\n"
   ]
  },
  {
   "cell_type": "code",
   "execution_count": 54,
   "id": "5da97f83-3374-477f-af62-9dee58984d3f",
   "metadata": {},
   "outputs": [
    {
     "name": "stderr",
     "output_type": "stream",
     "text": [
      "[I 2025-01-11 00:46:22,794] A new study created in memory with name: no-name-73106a11-ccaa-4303-a981-9e5c4ffa76b5\n",
      "[I 2025-01-11 00:46:30,905] Trial 0 finished with value: 0.1588056727058131 and parameters: {'eta': 0.08, 'max_depth': 7, 'min_child_weight': 4, 'subsample': 0.6578841601055108, 'colsample_bytree': 0.7683850778501393, 'n_estimators': 282}. Best is trial 0 with value: 0.1588056727058131.\n",
      "[I 2025-01-11 00:46:33,370] Trial 1 finished with value: 0.16261420418662498 and parameters: {'eta': 0.17, 'max_depth': 5, 'min_child_weight': 7, 'subsample': 0.6214897969396567, 'colsample_bytree': 0.8647034372786221, 'n_estimators': 94}. Best is trial 0 with value: 0.1588056727058131.\n",
      "[I 2025-01-11 00:46:37,506] Trial 2 finished with value: 0.16819049058992733 and parameters: {'eta': 0.28, 'max_depth': 10, 'min_child_weight': 9, 'subsample': 0.661825049671376, 'colsample_bytree': 0.7080267925469695, 'n_estimators': 86}. Best is trial 0 with value: 0.1588056727058131.\n",
      "[I 2025-01-11 00:46:47,576] Trial 3 finished with value: 0.1628752305746568 and parameters: {'eta': 0.27, 'max_depth': 6, 'min_child_weight': 3, 'subsample': 0.8911492526173905, 'colsample_bytree': 0.7325177649605239, 'n_estimators': 425}. Best is trial 0 with value: 0.1588056727058131.\n",
      "[I 2025-01-11 00:46:56,185] Trial 4 finished with value: 0.16175408465461386 and parameters: {'eta': 0.08, 'max_depth': 7, 'min_child_weight': 3, 'subsample': 0.9724113718220004, 'colsample_bytree': 0.6119402955806239, 'n_estimators': 97}. Best is trial 0 with value: 0.1588056727058131.\n",
      "[I 2025-01-11 00:47:00,386] Trial 5 finished with value: 0.15658571214559414 and parameters: {'eta': 0.14, 'max_depth': 5, 'min_child_weight': 5, 'subsample': 0.5809356195644502, 'colsample_bytree': 0.6230611232212047, 'n_estimators': 163}. Best is trial 5 with value: 0.15658571214559414.\n",
      "[I 2025-01-11 00:47:05,409] Trial 6 finished with value: 0.16406971549663643 and parameters: {'eta': 0.17, 'max_depth': 7, 'min_child_weight': 10, 'subsample': 0.7834593304868995, 'colsample_bytree': 0.7590347079285826, 'n_estimators': 120}. Best is trial 5 with value: 0.15658571214559414.\n",
      "[I 2025-01-11 00:47:34,180] Trial 7 finished with value: 0.1761710084629925 and parameters: {'eta': 0.28, 'max_depth': 8, 'min_child_weight': 6, 'subsample': 0.7952230108869704, 'colsample_bytree': 0.9341912652984082, 'n_estimators': 497}. Best is trial 5 with value: 0.15658571214559414.\n",
      "[I 2025-01-11 00:48:00,185] Trial 8 finished with value: 0.1601838244925544 and parameters: {'eta': 0.09999999999999999, 'max_depth': 7, 'min_child_weight': 7, 'subsample': 0.7003526527451986, 'colsample_bytree': 0.8812726053817272, 'n_estimators': 439}. Best is trial 5 with value: 0.15658571214559414.\n",
      "[I 2025-01-11 00:48:14,160] Trial 9 finished with value: 0.15723843800557208 and parameters: {'eta': 0.03, 'max_depth': 8, 'min_child_weight': 1, 'subsample': 0.8731874700623081, 'colsample_bytree': 0.6141960277175198, 'n_estimators': 318}. Best is trial 5 with value: 0.15658571214559414.\n",
      "[I 2025-01-11 00:48:17,685] Trial 10 finished with value: 0.16933530847443115 and parameters: {'eta': 0.22, 'max_depth': 3, 'min_child_weight': 5, 'subsample': 0.5127900261314248, 'colsample_bytree': 0.5084810858304964, 'n_estimators': 197}. Best is trial 5 with value: 0.15658571214559414.\n",
      "[I 2025-01-11 00:48:23,855] Trial 11 finished with value: 0.19506211916516358 and parameters: {'eta': 0.01, 'max_depth': 4, 'min_child_weight': 1, 'subsample': 0.5333910655923237, 'colsample_bytree': 0.5848245709577817, 'n_estimators': 298}. Best is trial 5 with value: 0.15658571214559414.\n",
      "[I 2025-01-11 00:48:35,212] Trial 12 finished with value: 0.19063559788619847 and parameters: {'eta': 0.01, 'max_depth': 9, 'min_child_weight': 1, 'subsample': 0.868530884558734, 'colsample_bytree': 0.6291840852050666, 'n_estimators': 204}. Best is trial 5 with value: 0.15658571214559414.\n",
      "[I 2025-01-11 00:48:41,681] Trial 13 finished with value: 0.15483567303306017 and parameters: {'eta': 0.12, 'max_depth': 5, 'min_child_weight': 2, 'subsample': 0.8689117307727308, 'colsample_bytree': 0.5130513630800055, 'n_estimators': 322}. Best is trial 13 with value: 0.15483567303306017.\n",
      "[I 2025-01-11 00:48:45,869] Trial 14 finished with value: 0.15503594252819075 and parameters: {'eta': 0.13, 'max_depth': 5, 'min_child_weight': 3, 'subsample': 0.9765380916080761, 'colsample_bytree': 0.5505944442836594, 'n_estimators': 203}. Best is trial 13 with value: 0.15483567303306017.\n",
      "[I 2025-01-11 00:48:53,010] Trial 15 finished with value: 0.15745913978319342 and parameters: {'eta': 0.13, 'max_depth': 3, 'min_child_weight': 3, 'subsample': 0.9727053155993055, 'colsample_bytree': 0.5272524745841305, 'n_estimators': 364}. Best is trial 13 with value: 0.15483567303306017.\n",
      "[I 2025-01-11 00:48:57,727] Trial 16 finished with value: 0.16115254121624087 and parameters: {'eta': 0.21000000000000002, 'max_depth': 5, 'min_child_weight': 2, 'subsample': 0.9241581140993654, 'colsample_bytree': 0.5529709458325883, 'n_estimators': 231}. Best is trial 13 with value: 0.15483567303306017.\n",
      "[I 2025-01-11 00:49:03,508] Trial 17 finished with value: 0.15196500565253046 and parameters: {'eta': 0.11, 'max_depth': 4, 'min_child_weight': 4, 'subsample': 0.8144299428941899, 'colsample_bytree': 0.6769893800444747, 'n_estimators': 354}. Best is trial 17 with value: 0.15196500565253046.\n",
      "[I 2025-01-11 00:49:09,312] Trial 18 finished with value: 0.1553009481666669 and parameters: {'eta': 0.060000000000000005, 'max_depth': 4, 'min_child_weight': 4, 'subsample': 0.8140583926284913, 'colsample_bytree': 0.6624833527776074, 'n_estimators': 354}. Best is trial 17 with value: 0.15196500565253046.\n",
      "[I 2025-01-11 00:49:19,948] Trial 19 finished with value: 0.16068638538703883 and parameters: {'eta': 0.21000000000000002, 'max_depth': 4, 'min_child_weight': 2, 'subsample': 0.7387841207715442, 'colsample_bytree': 0.832056210823882, 'n_estimators': 394}. Best is trial 17 with value: 0.15196500565253046.\n",
      "[I 2025-01-11 00:49:34,028] Trial 20 finished with value: 0.15899284095284455 and parameters: {'eta': 0.11, 'max_depth': 6, 'min_child_weight': 6, 'subsample': 0.8563220221264152, 'colsample_bytree': 0.9934057588305008, 'n_estimators': 255}. Best is trial 17 with value: 0.15196500565253046.\n",
      "[I 2025-01-11 00:49:39,373] Trial 21 finished with value: 0.16339211684110236 and parameters: {'eta': 0.16, 'max_depth': 5, 'min_child_weight': 4, 'subsample': 0.997010164483795, 'colsample_bytree': 0.553914272081752, 'n_estimators': 332}. Best is trial 17 with value: 0.15196500565253046.\n",
      "[I 2025-01-11 00:49:43,349] Trial 22 finished with value: 0.15712492551170665 and parameters: {'eta': 0.12, 'max_depth': 4, 'min_child_weight': 2, 'subsample': 0.9273751893212816, 'colsample_bytree': 0.6836475575041588, 'n_estimators': 256}. Best is trial 17 with value: 0.15196500565253046.\n",
      "[I 2025-01-11 00:49:47,619] Trial 23 finished with value: 0.15424574772712898 and parameters: {'eta': 0.05, 'max_depth': 6, 'min_child_weight': 3, 'subsample': 0.8277201142309062, 'colsample_bytree': 0.5761635083001341, 'n_estimators': 172}. Best is trial 17 with value: 0.15196500565253046.\n",
      "[I 2025-01-11 00:49:51,294] Trial 24 finished with value: 0.1591221940654484 and parameters: {'eta': 0.05, 'max_depth': 6, 'min_child_weight': 4, 'subsample': 0.834996632760175, 'colsample_bytree': 0.5083130872354553, 'n_estimators': 148}. Best is trial 17 with value: 0.15196500565253046.\n",
      "[I 2025-01-11 00:49:56,400] Trial 25 finished with value: 0.16253878628932655 and parameters: {'eta': 0.09, 'max_depth': 3, 'min_child_weight': 2, 'subsample': 0.7586463634996176, 'colsample_bytree': 0.5821555759276711, 'n_estimators': 387}. Best is trial 17 with value: 0.15196500565253046.\n",
      "[I 2025-01-11 00:49:58,457] Trial 26 finished with value: 0.18387096830751193 and parameters: {'eta': 0.05, 'max_depth': 6, 'min_child_weight': 5, 'subsample': 0.9161673677485666, 'colsample_bytree': 0.6651055647396938, 'n_estimators': 56}. Best is trial 17 with value: 0.15196500565253046.\n",
      "[I 2025-01-11 00:50:04,251] Trial 27 finished with value: 0.15634796162180317 and parameters: {'eta': 0.06999999999999999, 'max_depth': 4, 'min_child_weight': 3, 'subsample': 0.7293294366204647, 'colsample_bytree': 0.5852416196995226, 'n_estimators': 311}. Best is trial 17 with value: 0.15196500565253046.\n",
      "[I 2025-01-11 00:50:16,754] Trial 28 finished with value: 0.1688733947468355 and parameters: {'eta': 0.19, 'max_depth': 5, 'min_child_weight': 2, 'subsample': 0.8248242175958824, 'colsample_bytree': 0.7889475709284015, 'n_estimators': 474}. Best is trial 17 with value: 0.15196500565253046.\n",
      "[I 2025-01-11 00:50:28,021] Trial 29 finished with value: 0.15546815679808937 and parameters: {'eta': 0.03, 'max_depth': 8, 'min_child_weight': 4, 'subsample': 0.7708322136515718, 'colsample_bytree': 0.657912063932435, 'n_estimators': 285}. Best is trial 17 with value: 0.15196500565253046.\n",
      "[I 2025-01-11 00:50:44,435] Trial 30 finished with value: 0.15883949122417848 and parameters: {'eta': 0.09999999999999999, 'max_depth': 6, 'min_child_weight': 4, 'subsample': 0.6821018993450279, 'colsample_bytree': 0.723759275138939, 'n_estimators': 344}. Best is trial 17 with value: 0.15196500565253046.\n",
      "[I 2025-01-11 00:50:48,984] Trial 31 finished with value: 0.15720730783446754 and parameters: {'eta': 0.14, 'max_depth': 5, 'min_child_weight': 3, 'subsample': 0.956009578948827, 'colsample_bytree': 0.5516323740385786, 'n_estimators': 188}. Best is trial 17 with value: 0.15196500565253046.\n",
      "[I 2025-01-11 00:50:54,220] Trial 32 finished with value: 0.15707664286521397 and parameters: {'eta': 0.15000000000000002, 'max_depth': 4, 'min_child_weight': 3, 'subsample': 0.9023459969840542, 'colsample_bytree': 0.5447595044917619, 'n_estimators': 229}. Best is trial 17 with value: 0.15196500565253046.\n",
      "[I 2025-01-11 00:51:00,589] Trial 33 finished with value: 0.15557629795472586 and parameters: {'eta': 0.08, 'max_depth': 5, 'min_child_weight': 1, 'subsample': 0.8424606101447356, 'colsample_bytree': 0.5071720691431428, 'n_estimators': 159}. Best is trial 17 with value: 0.15196500565253046.\n",
      "[I 2025-01-11 00:51:10,151] Trial 34 finished with value: 0.1582512433715056 and parameters: {'eta': 0.12, 'max_depth': 6, 'min_child_weight': 2, 'subsample': 0.7977150411136025, 'colsample_bytree': 0.5712531633010621, 'n_estimators': 260}. Best is trial 17 with value: 0.15196500565253046.\n",
      "[I 2025-01-11 00:51:15,732] Trial 35 finished with value: 0.15893736918951534 and parameters: {'eta': 0.18000000000000002, 'max_depth': 5, 'min_child_weight': 8, 'subsample': 0.8801711644435317, 'colsample_bytree': 0.7037460627454657, 'n_estimators': 222}. Best is trial 17 with value: 0.15196500565253046.\n",
      "[I 2025-01-11 00:51:20,182] Trial 36 finished with value: 0.16434109353250587 and parameters: {'eta': 0.25, 'max_depth': 3, 'min_child_weight': 3, 'subsample': 0.942643040143875, 'colsample_bytree': 0.6142876853171392, 'n_estimators': 134}. Best is trial 17 with value: 0.15196500565253046.\n",
      "[I 2025-01-11 00:51:36,312] Trial 37 finished with value: 0.15658058715644765 and parameters: {'eta': 0.09999999999999999, 'max_depth': 6, 'min_child_weight': 5, 'subsample': 0.7175457791176989, 'colsample_bytree': 0.6435612823237498, 'n_estimators': 384}. Best is trial 17 with value: 0.15196500565253046.\n",
      "[I 2025-01-11 00:51:43,509] Trial 38 finished with value: 0.1619030985734852 and parameters: {'eta': 0.14, 'max_depth': 7, 'min_child_weight': 4, 'subsample': 0.9909433067831471, 'colsample_bytree': 0.531176647444272, 'n_estimators': 181}. Best is trial 17 with value: 0.15196500565253046.\n",
      "[I 2025-01-11 00:51:52,105] Trial 39 finished with value: 0.15999595190233817 and parameters: {'eta': 0.12, 'max_depth': 10, 'min_child_weight': 3, 'subsample': 0.6304600824501956, 'colsample_bytree': 0.7961241756947618, 'n_estimators': 99}. Best is trial 17 with value: 0.15196500565253046.\n",
      "[I 2025-01-11 00:52:09,652] Trial 40 finished with value: 0.15904576141231205 and parameters: {'eta': 0.16, 'max_depth': 5, 'min_child_weight': 5, 'subsample': 0.8078548651710376, 'colsample_bytree': 0.5940561889824316, 'n_estimators': 425}. Best is trial 17 with value: 0.15196500565253046.\n",
      "[I 2025-01-11 00:52:19,608] Trial 41 finished with value: 0.1552039956360337 and parameters: {'eta': 0.060000000000000005, 'max_depth': 4, 'min_child_weight': 4, 'subsample': 0.8031318835961339, 'colsample_bytree': 0.689355712229689, 'n_estimators': 339}. Best is trial 17 with value: 0.15196500565253046.\n",
      "[I 2025-01-11 00:52:27,270] Trial 42 finished with value: 0.1608655267786578 and parameters: {'eta': 0.04, 'max_depth': 4, 'min_child_weight': 6, 'subsample': 0.7751436347064629, 'colsample_bytree': 0.695068698474759, 'n_estimators': 280}. Best is trial 17 with value: 0.15196500565253046.\n",
      "[I 2025-01-11 00:52:34,441] Trial 43 finished with value: 0.1548830493689691 and parameters: {'eta': 0.08, 'max_depth': 4, 'min_child_weight': 4, 'subsample': 0.8550115417975573, 'colsample_bytree': 0.7245343342101435, 'n_estimators': 328}. Best is trial 17 with value: 0.15196500565253046.\n",
      "[I 2025-01-11 00:52:45,190] Trial 44 finished with value: 0.1547503733674744 and parameters: {'eta': 0.09, 'max_depth': 5, 'min_child_weight': 3, 'subsample': 0.8999922614569055, 'colsample_bytree': 0.7314777598788419, 'n_estimators': 299}. Best is trial 17 with value: 0.15196500565253046.\n",
      "[I 2025-01-11 00:52:50,456] Trial 45 finished with value: 0.16198955127712067 and parameters: {'eta': 0.08, 'max_depth': 3, 'min_child_weight': 5, 'subsample': 0.852875927593393, 'colsample_bytree': 0.7436129172086062, 'n_estimators': 305}. Best is trial 17 with value: 0.15196500565253046.\n",
      "[I 2025-01-11 00:52:56,668] Trial 46 finished with value: 0.15826893358096356 and parameters: {'eta': 0.09, 'max_depth': 4, 'min_child_weight': 10, 'subsample': 0.8882922510561051, 'colsample_bytree': 0.7590763357398127, 'n_estimators': 317}. Best is trial 17 with value: 0.15196500565253046.\n",
      "[I 2025-01-11 00:53:10,489] Trial 47 finished with value: 0.15651833835258475 and parameters: {'eta': 0.03, 'max_depth': 6, 'min_child_weight': 2, 'subsample': 0.902786473545784, 'colsample_bytree': 0.7864331431252022, 'n_estimators': 405}. Best is trial 17 with value: 0.15196500565253046.\n",
      "[I 2025-01-11 00:53:19,532] Trial 48 finished with value: 0.15446044441805937 and parameters: {'eta': 0.06999999999999999, 'max_depth': 5, 'min_child_weight': 7, 'subsample': 0.8646213604099452, 'colsample_bytree': 0.7306974599533715, 'n_estimators': 371}. Best is trial 17 with value: 0.15196500565253046.\n",
      "[I 2025-01-11 00:53:31,242] Trial 49 finished with value: 0.15662539680934207 and parameters: {'eta': 0.060000000000000005, 'max_depth': 7, 'min_child_weight': 7, 'subsample': 0.8234747130285367, 'colsample_bytree': 0.821515191496938, 'n_estimators': 364}. Best is trial 17 with value: 0.15196500565253046.\n"
     ]
    },
    {
     "name": "stdout",
     "output_type": "stream",
     "text": [
      "Best trial:\n",
      "{'eta': 0.11, 'max_depth': 4, 'min_child_weight': 4, 'subsample': 0.8144299428941899, 'colsample_bytree': 0.6769893800444747, 'n_estimators': 354}\n",
      "Best RMSE: 0.15197\n"
     ]
    }
   ],
   "source": [
    "# Run Optuna\n",
    "study = optuna.create_study(direction='minimize')  # Minimize RMSE\n",
    "study.optimize(objective, n_trials=50)\n",
    "\n",
    "# Best results\n",
    "print(\"Best trial:\")\n",
    "print(study.best_trial.params)\n",
    "print(\"Best RMSE: {:.5}\".format(study.best_value))\n"
   ]
  },
  {
   "cell_type": "code",
   "execution_count": 55,
   "id": "f1ad2314-3377-4c54-81f4-6ea6a18d251b",
   "metadata": {},
   "outputs": [],
   "source": [
    "# Objective function for CatBoost\n",
    "def objective_catboost(trial):\n",
    "    params = {\n",
    "        'iterations': trial.suggest_int('iterations', 100, 1000),\n",
    "        'depth': trial.suggest_int('depth', 4, 10),\n",
    "        'learning_rate': trial.suggest_float('learning_rate', 0.01, 0.3, step=0.01),\n",
    "        'l2_leaf_reg': trial.suggest_float('l2_leaf_reg', 1e-3, 10.0, log=True),\n",
    "        'random_strength': trial.suggest_float('random_strength', 1e-3, 10.0, log=True),\n",
    "        'bagging_temperature': trial.suggest_float('bagging_temperature', 0.0, 1.0),\n",
    "        'border_count': trial.suggest_int('border_count', 1, 255),\n",
    "        'loss_function': 'RMSE',\n",
    "        'random_state': 42\n",
    "    }\n",
    "\n",
    "    # Create a CatBoost model with the specified parameters\n",
    "    model = CatBoostRegressor(**params, verbose=0)\n",
    "    model.fit(X_train, y_train)\n",
    "\n",
    "    # Predict on the validation data\n",
    "    y_pred = model.predict(X_val)\n",
    "\n",
    "    # Calculate RMSE\n",
    "    rmse = np.sqrt(mean_squared_error(y_val, y_pred))\n",
    "    return rmse\n"
   ]
  },
  {
   "cell_type": "code",
   "execution_count": 56,
   "id": "25055a11-b995-4b5f-8989-f114938bf8dc",
   "metadata": {},
   "outputs": [
    {
     "name": "stderr",
     "output_type": "stream",
     "text": [
      "[I 2025-01-11 00:56:13,677] A new study created in memory with name: no-name-a98e5b16-8027-4183-8e8f-408c80ba9a08\n",
      "[I 2025-01-11 00:56:44,838] Trial 0 finished with value: 0.15974056914528167 and parameters: {'iterations': 480, 'depth': 8, 'learning_rate': 0.2, 'l2_leaf_reg': 8.529256551090434, 'random_strength': 0.015240037116795687, 'bagging_temperature': 0.632134246246443, 'border_count': 158}. Best is trial 0 with value: 0.15974056914528167.\n",
      "[I 2025-01-11 00:57:38,816] Trial 1 finished with value: 0.14821978276325368 and parameters: {'iterations': 882, 'depth': 6, 'learning_rate': 0.04, 'l2_leaf_reg': 0.013798814577448425, 'random_strength': 8.692043962717046, 'bagging_temperature': 0.407504174119262, 'border_count': 200}. Best is trial 1 with value: 0.14821978276325368.\n",
      "[I 2025-01-11 00:58:39,781] Trial 2 finished with value: 0.15437324518780088 and parameters: {'iterations': 817, 'depth': 8, 'learning_rate': 0.17, 'l2_leaf_reg': 1.0154130656516542, 'random_strength': 0.0067141312615516015, 'bagging_temperature': 0.599298481667845, 'border_count': 82}. Best is trial 1 with value: 0.14821978276325368.\n",
      "[I 2025-01-11 00:59:02,419] Trial 3 finished with value: 0.19473438820605982 and parameters: {'iterations': 189, 'depth': 8, 'learning_rate': 0.02, 'l2_leaf_reg': 0.3780936303543965, 'random_strength': 4.258705708899176, 'bagging_temperature': 0.0799862006901868, 'border_count': 221}. Best is trial 1 with value: 0.14821978276325368.\n",
      "[I 2025-01-11 00:59:55,681] Trial 4 finished with value: 0.16458682898622037 and parameters: {'iterations': 187, 'depth': 10, 'learning_rate': 0.13, 'l2_leaf_reg': 0.9942451840069153, 'random_strength': 0.025797508047611616, 'bagging_temperature': 0.5078724635360679, 'border_count': 44}. Best is trial 1 with value: 0.14821978276325368.\n",
      "[I 2025-01-11 01:00:14,017] Trial 5 finished with value: 0.1606343498991974 and parameters: {'iterations': 979, 'depth': 4, 'learning_rate': 0.02, 'l2_leaf_reg': 0.1539054633895895, 'random_strength': 1.7256343630941462, 'bagging_temperature': 0.1371661901538095, 'border_count': 102}. Best is trial 1 with value: 0.14821978276325368.\n",
      "[I 2025-01-11 01:01:31,616] Trial 6 finished with value: 0.1603419593263344 and parameters: {'iterations': 785, 'depth': 9, 'learning_rate': 0.27, 'l2_leaf_reg': 8.82763613862389, 'random_strength': 0.001328618769805978, 'bagging_temperature': 0.49341748332272584, 'border_count': 190}. Best is trial 1 with value: 0.14821978276325368.\n",
      "[I 2025-01-11 01:03:28,498] Trial 7 finished with value: 0.16651725397107928 and parameters: {'iterations': 554, 'depth': 10, 'learning_rate': 0.27, 'l2_leaf_reg': 0.005434947253400742, 'random_strength': 0.0937656967701034, 'bagging_temperature': 0.4399631190627581, 'border_count': 164}. Best is trial 1 with value: 0.14821978276325368.\n",
      "[I 2025-01-11 01:03:53,115] Trial 8 finished with value: 0.15943363767062504 and parameters: {'iterations': 703, 'depth': 7, 'learning_rate': 0.24000000000000002, 'l2_leaf_reg': 0.3387167022514763, 'random_strength': 0.20328741633527792, 'bagging_temperature': 0.49511951029589285, 'border_count': 93}. Best is trial 1 with value: 0.14821978276325368.\n",
      "[I 2025-01-11 01:03:59,126] Trial 9 finished with value: 0.16183371551880008 and parameters: {'iterations': 247, 'depth': 5, 'learning_rate': 0.24000000000000002, 'l2_leaf_reg': 0.009910911680794105, 'random_strength': 0.01199853255768296, 'bagging_temperature': 0.06165160409125248, 'border_count': 22}. Best is trial 1 with value: 0.14821978276325368.\n",
      "[I 2025-01-11 01:04:20,903] Trial 10 finished with value: 0.14919802161309967 and parameters: {'iterations': 998, 'depth': 6, 'learning_rate': 0.09, 'l2_leaf_reg': 0.001013899558255507, 'random_strength': 1.0088336379179959, 'bagging_temperature': 0.905311889080983, 'border_count': 255}. Best is trial 1 with value: 0.14821978276325368.\n",
      "[I 2025-01-11 01:04:43,258] Trial 11 finished with value: 0.1545047516395658 and parameters: {'iterations': 992, 'depth': 6, 'learning_rate': 0.09, 'l2_leaf_reg': 0.0010818325309660433, 'random_strength': 0.866755257499762, 'bagging_temperature': 0.9836874093356339, 'border_count': 254}. Best is trial 1 with value: 0.14821978276325368.\n",
      "[I 2025-01-11 01:05:04,863] Trial 12 finished with value: 0.15033013927120262 and parameters: {'iterations': 877, 'depth': 6, 'learning_rate': 0.08, 'l2_leaf_reg': 0.020456896567943052, 'random_strength': 8.472934778689334, 'bagging_temperature': 0.954956032872336, 'border_count': 245}. Best is trial 1 with value: 0.14821978276325368.\n",
      "[I 2025-01-11 01:05:20,519] Trial 13 finished with value: 0.14830749807156546 and parameters: {'iterations': 616, 'depth': 6, 'learning_rate': 0.06999999999999999, 'l2_leaf_reg': 0.0013074850510108463, 'random_strength': 0.6611676713385743, 'bagging_temperature': 0.7836826257391653, 'border_count': 209}. Best is trial 1 with value: 0.14821978276325368.\n",
      "[I 2025-01-11 01:05:29,828] Trial 14 finished with value: 0.1579825110339388 and parameters: {'iterations': 578, 'depth': 4, 'learning_rate': 0.05, 'l2_leaf_reg': 0.031286364019754764, 'random_strength': 0.2343784787321311, 'bagging_temperature': 0.7837414074205435, 'border_count': 205}. Best is trial 1 with value: 0.14821978276325368.\n",
      "[I 2025-01-11 01:05:37,074] Trial 15 finished with value: 0.15885141054703275 and parameters: {'iterations': 377, 'depth': 5, 'learning_rate': 0.14, 'l2_leaf_reg': 0.004287608765191767, 'random_strength': 8.856744740310159, 'bagging_temperature': 0.3318009955352703, 'border_count': 147}. Best is trial 1 with value: 0.14821978276325368.\n",
      "[I 2025-01-11 01:05:56,846] Trial 16 finished with value: 0.15101799662061036 and parameters: {'iterations': 657, 'depth': 7, 'learning_rate': 0.060000000000000005, 'l2_leaf_reg': 0.003452321954672673, 'random_strength': 2.207300983348368, 'bagging_temperature': 0.3034078064845095, 'border_count': 185}. Best is trial 1 with value: 0.14821978276325368.\n",
      "[I 2025-01-11 01:06:05,960] Trial 17 finished with value: 0.1854695690995616 and parameters: {'iterations': 415, 'depth': 5, 'learning_rate': 0.01, 'l2_leaf_reg': 0.04271254744766268, 'random_strength': 0.6074448519541514, 'bagging_temperature': 0.7450230910862061, 'border_count': 219}. Best is trial 1 with value: 0.14821978276325368.\n",
      "[I 2025-01-11 01:06:27,579] Trial 18 finished with value: 0.15447198309004992 and parameters: {'iterations': 670, 'depth': 7, 'learning_rate': 0.12, 'l2_leaf_reg': 0.0024944326971887637, 'random_strength': 0.06492099389592916, 'bagging_temperature': 0.2629714020596298, 'border_count': 128}. Best is trial 1 with value: 0.14821978276325368.\n",
      "[I 2025-01-11 01:06:42,834] Trial 19 finished with value: 0.14683347807905311 and parameters: {'iterations': 776, 'depth': 6, 'learning_rate': 0.05, 'l2_leaf_reg': 0.015034957218523184, 'random_strength': 0.38547109151338566, 'bagging_temperature': 0.8169010422222099, 'border_count': 129}. Best is trial 19 with value: 0.14683347807905311.\n",
      "[I 2025-01-11 01:06:55,612] Trial 20 finished with value: 0.15283304689485055 and parameters: {'iterations': 868, 'depth': 5, 'learning_rate': 0.04, 'l2_leaf_reg': 0.07044872434976801, 'random_strength': 0.28743336711840956, 'bagging_temperature': 0.6276420839938484, 'border_count': 56}. Best is trial 19 with value: 0.14683347807905311.\n",
      "[I 2025-01-11 01:07:14,349] Trial 21 finished with value: 0.14744475803371096 and parameters: {'iterations': 749, 'depth': 6, 'learning_rate': 0.06999999999999999, 'l2_leaf_reg': 0.012550991581389212, 'random_strength': 2.9784666566032034, 'bagging_temperature': 0.8264751639497318, 'border_count': 125}. Best is trial 19 with value: 0.14683347807905311.\n",
      "[I 2025-01-11 01:07:36,904] Trial 22 finished with value: 0.1513402290451108 and parameters: {'iterations': 758, 'depth': 7, 'learning_rate': 0.04, 'l2_leaf_reg': 0.01474309979376097, 'random_strength': 3.015388868964147, 'bagging_temperature': 0.8070937706552092, 'border_count': 116}. Best is trial 19 with value: 0.14683347807905311.\n",
      "[I 2025-01-11 01:07:56,005] Trial 23 finished with value: 0.14998913155010282 and parameters: {'iterations': 895, 'depth': 6, 'learning_rate': 0.11, 'l2_leaf_reg': 0.008608389950268532, 'random_strength': 4.1315524271452615, 'bagging_temperature': 0.8652163868822802, 'border_count': 128}. Best is trial 19 with value: 0.14683347807905311.\n",
      "[I 2025-01-11 01:08:07,933] Trial 24 finished with value: 0.15968901777262864 and parameters: {'iterations': 765, 'depth': 5, 'learning_rate': 0.17, 'l2_leaf_reg': 0.08773942848691756, 'random_strength': 9.784195525707448, 'bagging_temperature': 0.7116637247502499, 'border_count': 74}. Best is trial 19 with value: 0.14683347807905311.\n",
      "[I 2025-01-11 01:08:32,743] Trial 25 finished with value: 0.1478012101066008 and parameters: {'iterations': 920, 'depth': 7, 'learning_rate': 0.09999999999999999, 'l2_leaf_reg': 0.02008229243514954, 'random_strength': 1.7307631673239003, 'bagging_temperature': 0.38071777699014614, 'border_count': 149}. Best is trial 19 with value: 0.14683347807905311.\n",
      "[I 2025-01-11 01:08:52,349] Trial 26 finished with value: 0.1528459677855014 and parameters: {'iterations': 705, 'depth': 7, 'learning_rate': 0.09999999999999999, 'l2_leaf_reg': 0.03210046452641373, 'random_strength': 0.39516903863139746, 'bagging_temperature': 0.18907526553341295, 'border_count': 144}. Best is trial 19 with value: 0.14683347807905311.\n",
      "[I 2025-01-11 01:09:34,459] Trial 27 finished with value: 0.15033704489401128 and parameters: {'iterations': 931, 'depth': 8, 'learning_rate': 0.06999999999999999, 'l2_leaf_reg': 0.17297013454257515, 'random_strength': 1.3852201216208677, 'bagging_temperature': 0.6880152629866059, 'border_count': 173}. Best is trial 19 with value: 0.14683347807905311.\n",
      "[I 2025-01-11 01:09:58,984] Trial 28 finished with value: 0.1542927417611971 and parameters: {'iterations': 828, 'depth': 7, 'learning_rate': 0.15000000000000002, 'l2_leaf_reg': 0.04691707797657379, 'random_strength': 0.05254290504841602, 'bagging_temperature': 0.8757654283069369, 'border_count': 106}. Best is trial 19 with value: 0.14683347807905311.\n",
      "[I 2025-01-11 01:10:46,691] Trial 29 finished with value: 0.1562942487121076 and parameters: {'iterations': 733, 'depth': 9, 'learning_rate': 0.11, 'l2_leaf_reg': 0.006843143901413188, 'random_strength': 0.12663486124734025, 'bagging_temperature': 0.5568981733003697, 'border_count': 147}. Best is trial 19 with value: 0.14683347807905311.\n",
      "[I 2025-01-11 01:11:26,772] Trial 30 finished with value: 0.16384213662433997 and parameters: {'iterations': 522, 'depth': 9, 'learning_rate': 0.17, 'l2_leaf_reg': 0.002140945400897709, 'random_strength': 3.8417902020932173, 'bagging_temperature': 0.6627761253971589, 'border_count': 117}. Best is trial 19 with value: 0.14683347807905311.\n",
      "[I 2025-01-11 01:11:45,698] Trial 31 finished with value: 0.14761555369072682 and parameters: {'iterations': 942, 'depth': 6, 'learning_rate': 0.04, 'l2_leaf_reg': 0.017625429282103776, 'random_strength': 4.997469753074196, 'bagging_temperature': 0.380412859577588, 'border_count': 172}. Best is trial 19 with value: 0.14683347807905311.\n",
      "[I 2025-01-11 01:12:04,611] Trial 32 finished with value: 0.14900762925778357 and parameters: {'iterations': 917, 'depth': 6, 'learning_rate': 0.05, 'l2_leaf_reg': 0.017557859800434308, 'random_strength': 1.8551009392741629, 'bagging_temperature': 0.37804682683921603, 'border_count': 167}. Best is trial 19 with value: 0.14683347807905311.\n",
      "[I 2025-01-11 01:12:27,221] Trial 33 finished with value: 0.15125114028696096 and parameters: {'iterations': 831, 'depth': 7, 'learning_rate': 0.03, 'l2_leaf_reg': 0.02340056265371834, 'random_strength': 0.4964688926341821, 'bagging_temperature': 0.2230741828290742, 'border_count': 141}. Best is trial 19 with value: 0.14683347807905311.\n",
      "[I 2025-01-11 01:13:08,873] Trial 34 finished with value: 0.1469675100475298 and parameters: {'iterations': 931, 'depth': 8, 'learning_rate': 0.06999999999999999, 'l2_leaf_reg': 0.00870867617378251, 'random_strength': 5.429309858365665, 'bagging_temperature': 0.37379512690289723, 'border_count': 179}. Best is trial 19 with value: 0.14683347807905311.\n",
      "[I 2025-01-11 01:13:44,854] Trial 35 finished with value: 0.17698105373097223 and parameters: {'iterations': 821, 'depth': 8, 'learning_rate': 0.01, 'l2_leaf_reg': 4.2910156356163, 'random_strength': 5.127040208740985, 'bagging_temperature': 0.574639354595226, 'border_count': 179}. Best is trial 19 with value: 0.14683347807905311.\n",
      "[I 2025-01-11 01:14:20,367] Trial 36 finished with value: 0.15115107722128732 and parameters: {'iterations': 848, 'depth': 8, 'learning_rate': 0.060000000000000005, 'l2_leaf_reg': 0.010699058091094862, 'random_strength': 6.00638708917907, 'bagging_temperature': 0.44195193633184204, 'border_count': 130}. Best is trial 19 with value: 0.14683347807905311.\n",
      "[I 2025-01-11 01:14:35,340] Trial 37 finished with value: 0.1548302498244719 and parameters: {'iterations': 953, 'depth': 5, 'learning_rate': 0.03, 'l2_leaf_reg': 0.055814237012164196, 'random_strength': 2.984918556738315, 'bagging_temperature': 0.004487685619483761, 'border_count': 195}. Best is trial 19 with value: 0.14683347807905311.\n",
      "[I 2025-01-11 01:14:52,153] Trial 38 finished with value: 0.15524118692150027 and parameters: {'iterations': 792, 'depth': 4, 'learning_rate': 0.06999999999999999, 'l2_leaf_reg': 0.14475371597296383, 'random_strength': 0.0015366367635259255, 'bagging_temperature': 0.3210820939866957, 'border_count': 157}. Best is trial 19 with value: 0.14683347807905311.\n",
      "[I 2025-01-11 01:15:14,048] Trial 39 finished with value: 0.15988009465145483 and parameters: {'iterations': 616, 'depth': 6, 'learning_rate': 0.2, 'l2_leaf_reg': 0.00539322911757837, 'random_strength': 1.1854243413992207, 'bagging_temperature': 0.46996450425512143, 'border_count': 83}. Best is trial 19 with value: 0.14683347807905311.\n",
      "[I 2025-01-11 01:16:01,419] Trial 40 finished with value: 0.16868725663220438 and parameters: {'iterations': 960, 'depth': 8, 'learning_rate': 0.02, 'l2_leaf_reg': 0.0025590799864417917, 'random_strength': 2.5706180904841562, 'bagging_temperature': 0.8328215304502478, 'border_count': 4}. Best is trial 19 with value: 0.14683347807905311.\n",
      "[I 2025-01-11 01:16:31,628] Trial 41 finished with value: 0.15715286166222114 and parameters: {'iterations': 905, 'depth': 7, 'learning_rate': 0.09, 'l2_leaf_reg': 0.012929755821002935, 'random_strength': 5.467179093158771, 'bagging_temperature': 0.4014514004291753, 'border_count': 159}. Best is trial 19 with value: 0.14683347807905311.\n",
      "[I 2025-01-11 01:16:56,120] Trial 42 finished with value: 0.15104874476623065 and parameters: {'iterations': 940, 'depth': 6, 'learning_rate': 0.05, 'l2_leaf_reg': 0.026177575791944924, 'random_strength': 1.6578276995730465, 'bagging_temperature': 0.35974631132570717, 'border_count': 178}. Best is trial 19 with value: 0.14683347807905311.\n",
      "[I 2025-01-11 01:17:02,977] Trial 43 finished with value: 0.15940399016220064 and parameters: {'iterations': 125, 'depth': 6, 'learning_rate': 0.08, 'l2_leaf_reg': 0.006311297099339062, 'random_strength': 0.8744570604066725, 'bagging_temperature': 0.5340994766664895, 'border_count': 135}. Best is trial 19 with value: 0.14683347807905311.\n",
      "[I 2025-01-11 01:17:39,231] Trial 44 finished with value: 0.15322789122622718 and parameters: {'iterations': 869, 'depth': 7, 'learning_rate': 0.13, 'l2_leaf_reg': 0.014376252774134173, 'random_strength': 6.477608876280869, 'bagging_temperature': 0.2584770841262225, 'border_count': 112}. Best is trial 19 with value: 0.14683347807905311.\n",
      "[I 2025-01-11 01:18:51,947] Trial 45 finished with value: 0.15446579502790908 and parameters: {'iterations': 984, 'depth': 9, 'learning_rate': 0.09999999999999999, 'l2_leaf_reg': 0.008276787210951424, 'random_strength': 3.3366798345383533, 'bagging_temperature': 0.4313300907813229, 'border_count': 161}. Best is trial 19 with value: 0.14683347807905311.\n",
      "[I 2025-01-11 01:19:12,663] Trial 46 finished with value: 0.15441878609504406 and parameters: {'iterations': 783, 'depth': 6, 'learning_rate': 0.03, 'l2_leaf_reg': 0.035308484509016164, 'random_strength': 0.15335718526740622, 'bagging_temperature': 0.9314402121814366, 'border_count': 229}. Best is trial 19 with value: 0.14683347807905311.\n",
      "[I 2025-01-11 01:19:42,741] Trial 47 finished with value: 0.15176637937822224 and parameters: {'iterations': 727, 'depth': 8, 'learning_rate': 0.060000000000000005, 'l2_leaf_reg': 0.017111035749694765, 'random_strength': 0.3373715903318515, 'bagging_temperature': 0.1594791105931419, 'border_count': 97}. Best is trial 19 with value: 0.14683347807905311.\n",
      "[I 2025-01-11 01:19:58,375] Trial 48 finished with value: 0.15227200720400533 and parameters: {'iterations': 894, 'depth': 5, 'learning_rate': 0.08, 'l2_leaf_reg': 0.003484743670079147, 'random_strength': 2.099425358329871, 'bagging_temperature': 0.4994530937944571, 'border_count': 188}. Best is trial 19 with value: 0.14683347807905311.\n",
      "[I 2025-01-11 01:20:19,375] Trial 49 finished with value: 0.1485819057980763 and parameters: {'iterations': 998, 'depth': 6, 'learning_rate': 0.05, 'l2_leaf_reg': 0.47343313776455564, 'random_strength': 1.1086535125327683, 'bagging_temperature': 0.9926809412264621, 'border_count': 154}. Best is trial 19 with value: 0.14683347807905311.\n"
     ]
    },
    {
     "name": "stdout",
     "output_type": "stream",
     "text": [
      "Best parameters for CatBoost:\n",
      "{'iterations': 776, 'depth': 6, 'learning_rate': 0.05, 'l2_leaf_reg': 0.015034957218523184, 'random_strength': 0.38547109151338566, 'bagging_temperature': 0.8169010422222099, 'border_count': 129}\n",
      "Best RMSE for CatBoost: 0.14683\n"
     ]
    }
   ],
   "source": [
    "# Run Optuna for CatBoost\n",
    "study_catboost = optuna.create_study(direction='minimize')  # Minimize RMSE\n",
    "study_catboost.optimize(objective_catboost, n_trials=50)\n",
    "\n",
    "# Best results for CatBoost\n",
    "print(\"Best parameters for CatBoost:\")\n",
    "print(study_catboost.best_trial.params)\n",
    "print(\"Best RMSE for CatBoost: {:.5}\".format(study_catboost.best_value))\n"
   ]
  },
  {
   "cell_type": "code",
   "execution_count": 57,
   "id": "cf65cb72-c7c3-48cb-b417-957efd8b7d11",
   "metadata": {},
   "outputs": [],
   "source": [
    "# Objective function for Gradient Boosting\n",
    "def objective_gbr(trial):\n",
    "    params = {\n",
    "        'n_estimators': trial.suggest_int('n_estimators', 50, 500),\n",
    "        'max_depth': trial.suggest_int('max_depth', 3, 10),\n",
    "        'learning_rate': trial.suggest_float('learning_rate', 0.01, 0.3, step=0.01),\n",
    "        'subsample': trial.suggest_float('subsample', 0.5, 1.0),\n",
    "        'min_samples_split': trial.suggest_int('min_samples_split', 2, 20),\n",
    "        'min_samples_leaf': trial.suggest_int('min_samples_leaf', 1, 20),\n",
    "        'random_state': 42\n",
    "    }\n",
    "\n",
    "    # Create a Gradient Boosting model with the specified parameters\n",
    "    model = GradientBoostingRegressor(**params)\n",
    "    model.fit(X_train, y_train)\n",
    "\n",
    "    # Predict on the validation data\n",
    "    y_pred = model.predict(X_val)\n",
    "\n",
    "    # Calculate RMSE\n",
    "    rmse = np.sqrt(mean_squared_error(y_val, y_pred))\n",
    "    return rmse\n"
   ]
  },
  {
   "cell_type": "code",
   "execution_count": 58,
   "id": "082e5d48-5ffb-40b0-a41a-d99cef407327",
   "metadata": {
    "scrolled": true
   },
   "outputs": [
    {
     "name": "stderr",
     "output_type": "stream",
     "text": [
      "[I 2025-01-11 01:20:20,331] A new study created in memory with name: no-name-909cfdbf-c366-4fe9-8b7a-2891480b2b20\n",
      "[I 2025-01-11 01:21:11,592] Trial 0 finished with value: 0.15942175801237088 and parameters: {'n_estimators': 238, 'max_depth': 8, 'learning_rate': 0.03, 'subsample': 0.5248875354659157, 'min_samples_split': 20, 'min_samples_leaf': 16}. Best is trial 0 with value: 0.15942175801237088.\n",
      "[I 2025-01-11 01:23:04,175] Trial 1 finished with value: 0.16744560777391293 and parameters: {'n_estimators': 246, 'max_depth': 8, 'learning_rate': 0.18000000000000002, 'subsample': 0.867892243622058, 'min_samples_split': 15, 'min_samples_leaf': 15}. Best is trial 0 with value: 0.15942175801237088.\n",
      "[I 2025-01-11 01:27:45,913] Trial 2 finished with value: 0.16083512308250808 and parameters: {'n_estimators': 500, 'max_depth': 6, 'learning_rate': 0.08, 'subsample': 0.9764121508627714, 'min_samples_split': 12, 'min_samples_leaf': 14}. Best is trial 0 with value: 0.15942175801237088.\n",
      "[I 2025-01-11 01:32:03,847] Trial 3 finished with value: 0.16561437428471823 and parameters: {'n_estimators': 291, 'max_depth': 8, 'learning_rate': 0.060000000000000005, 'subsample': 0.8789008289542288, 'min_samples_split': 8, 'min_samples_leaf': 2}. Best is trial 0 with value: 0.15942175801237088.\n",
      "[I 2025-01-11 01:35:32,642] Trial 4 finished with value: 0.15837099369543364 and parameters: {'n_estimators': 346, 'max_depth': 8, 'learning_rate': 0.04, 'subsample': 0.7751403714332865, 'min_samples_split': 10, 'min_samples_leaf': 10}. Best is trial 4 with value: 0.15837099369543364.\n",
      "[I 2025-01-11 01:37:44,425] Trial 5 finished with value: 0.1816162664552289 and parameters: {'n_estimators': 426, 'max_depth': 7, 'learning_rate': 0.28, 'subsample': 0.5692867833914123, 'min_samples_split': 14, 'min_samples_leaf': 10}. Best is trial 4 with value: 0.15837099369543364.\n",
      "[I 2025-01-11 01:40:42,860] Trial 6 finished with value: 0.16146130499339445 and parameters: {'n_estimators': 403, 'max_depth': 6, 'learning_rate': 0.15000000000000002, 'subsample': 0.76900311144727, 'min_samples_split': 15, 'min_samples_leaf': 15}. Best is trial 4 with value: 0.15837099369543364.\n",
      "[I 2025-01-11 01:43:31,379] Trial 7 finished with value: 0.16255348728935226 and parameters: {'n_estimators': 303, 'max_depth': 6, 'learning_rate': 0.13, 'subsample': 0.970275565741887, 'min_samples_split': 20, 'min_samples_leaf': 9}. Best is trial 4 with value: 0.15837099369543364.\n",
      "[I 2025-01-11 01:46:45,183] Trial 8 finished with value: 0.16251304523731108 and parameters: {'n_estimators': 342, 'max_depth': 7, 'learning_rate': 0.15000000000000002, 'subsample': 0.9371783749994791, 'min_samples_split': 16, 'min_samples_leaf': 10}. Best is trial 4 with value: 0.15837099369543364.\n",
      "[I 2025-01-11 01:47:10,107] Trial 9 finished with value: 0.17374191624905339 and parameters: {'n_estimators': 58, 'max_depth': 9, 'learning_rate': 0.17, 'subsample': 0.7306431860169008, 'min_samples_split': 4, 'min_samples_leaf': 4}. Best is trial 4 with value: 0.15837099369543364.\n",
      "[I 2025-01-11 01:47:36,485] Trial 10 finished with value: 0.24952617912311334 and parameters: {'n_estimators': 150, 'max_depth': 3, 'learning_rate': 0.01, 'subsample': 0.6754276587898174, 'min_samples_split': 7, 'min_samples_leaf': 6}. Best is trial 4 with value: 0.15837099369543364.\n",
      "[I 2025-01-11 01:48:27,541] Trial 11 finished with value: 0.16391371716230327 and parameters: {'n_estimators': 205, 'max_depth': 10, 'learning_rate': 0.02, 'subsample': 0.5433554244581746, 'min_samples_split': 20, 'min_samples_leaf': 17}. Best is trial 4 with value: 0.15837099369543364.\n",
      "[I 2025-01-11 01:49:05,866] Trial 12 finished with value: 0.16302663117110283 and parameters: {'n_estimators': 173, 'max_depth': 4, 'learning_rate': 0.08, 'subsample': 0.6450819088127235, 'min_samples_split': 10, 'min_samples_leaf': 20}. Best is trial 4 with value: 0.15837099369543364.\n",
      "[I 2025-01-11 01:52:34,682] Trial 13 finished with value: 0.16022329702569285 and parameters: {'n_estimators': 362, 'max_depth': 10, 'learning_rate': 0.05, 'subsample': 0.8132287081516034, 'min_samples_split': 5, 'min_samples_leaf': 13}. Best is trial 4 with value: 0.15837099369543364.\n",
      "[I 2025-01-11 01:54:01,549] Trial 14 finished with value: 0.17621011867077568 and parameters: {'n_estimators': 240, 'max_depth': 8, 'learning_rate': 0.24000000000000002, 'subsample': 0.63246103282999, 'min_samples_split': 2, 'min_samples_leaf': 20}. Best is trial 4 with value: 0.15837099369543364.\n",
      "[I 2025-01-11 01:54:48,352] Trial 15 finished with value: 0.16462223743803966 and parameters: {'n_estimators': 104, 'max_depth': 9, 'learning_rate': 0.11, 'subsample': 0.7164256306959723, 'min_samples_split': 10, 'min_samples_leaf': 7}. Best is trial 4 with value: 0.15837099369543364.\n",
      "[I 2025-01-11 01:56:14,611] Trial 16 finished with value: 0.15663861616404845 and parameters: {'n_estimators': 444, 'max_depth': 5, 'learning_rate': 0.03, 'subsample': 0.5149548923341575, 'min_samples_split': 18, 'min_samples_leaf': 12}. Best is trial 16 with value: 0.15663861616404845.\n",
      "[I 2025-01-11 01:59:14,507] Trial 17 finished with value: 0.16525298543382827 and parameters: {'n_estimators': 498, 'max_depth': 5, 'learning_rate': 0.21000000000000002, 'subsample': 0.8149581828696641, 'min_samples_split': 17, 'min_samples_leaf': 13}. Best is trial 16 with value: 0.15663861616404845.\n",
      "[I 2025-01-11 02:00:54,768] Trial 18 finished with value: 0.1629919043108349 and parameters: {'n_estimators': 435, 'max_depth': 4, 'learning_rate': 0.11, 'subsample': 0.5928989178988023, 'min_samples_split': 12, 'min_samples_leaf': 12}. Best is trial 16 with value: 0.15663861616404845.\n",
      "[I 2025-01-11 02:03:18,253] Trial 19 finished with value: 0.16061135194490692 and parameters: {'n_estimators': 377, 'max_depth': 5, 'learning_rate': 0.05, 'subsample': 0.7852912346594878, 'min_samples_split': 18, 'min_samples_leaf': 7}. Best is trial 16 with value: 0.15663861616404845.\n",
      "[I 2025-01-11 02:04:49,473] Trial 20 finished with value: 0.16226245071831807 and parameters: {'n_estimators': 461, 'max_depth': 5, 'learning_rate': 0.09, 'subsample': 0.5043348752221818, 'min_samples_split': 13, 'min_samples_leaf': 18}. Best is trial 16 with value: 0.15663861616404845.\n",
      "[I 2025-01-11 02:06:20,047] Trial 21 finished with value: 0.15762158968104226 and parameters: {'n_estimators': 319, 'max_depth': 9, 'learning_rate': 0.03, 'subsample': 0.5217587524607862, 'min_samples_split': 18, 'min_samples_leaf': 17}. Best is trial 16 with value: 0.15663861616404845.\n",
      "[I 2025-01-11 02:07:44,151] Trial 22 finished with value: 0.16818871474116623 and parameters: {'n_estimators': 325, 'max_depth': 9, 'learning_rate': 0.01, 'subsample': 0.60464355592098, 'min_samples_split': 18, 'min_samples_leaf': 12}. Best is trial 16 with value: 0.15663861616404845.\n",
      "[I 2025-01-11 02:09:54,177] Trial 23 finished with value: 0.16185540620088382 and parameters: {'n_estimators': 364, 'max_depth': 7, 'learning_rate': 0.04, 'subsample': 0.68622372530705, 'min_samples_split': 8, 'min_samples_leaf': 8}. Best is trial 16 with value: 0.15663861616404845.\n",
      "[I 2025-01-11 02:12:09,473] Trial 24 finished with value: 0.16141971767953348 and parameters: {'n_estimators': 398, 'max_depth': 9, 'learning_rate': 0.06999999999999999, 'subsample': 0.5717747960722414, 'min_samples_split': 18, 'min_samples_leaf': 18}. Best is trial 16 with value: 0.15663861616404845.\n",
      "[I 2025-01-11 02:14:01,161] Trial 25 finished with value: 0.1633000268758319 and parameters: {'n_estimators': 322, 'max_depth': 10, 'learning_rate': 0.09999999999999999, 'subsample': 0.5460543966651438, 'min_samples_split': 16, 'min_samples_leaf': 11}. Best is trial 16 with value: 0.15663861616404845.\n",
      "[I 2025-01-11 02:15:14,097] Trial 26 finished with value: 0.16141155398374823 and parameters: {'n_estimators': 451, 'max_depth': 4, 'learning_rate': 0.03, 'subsample': 0.5038666771621474, 'min_samples_split': 10, 'min_samples_leaf': 5}. Best is trial 16 with value: 0.15663861616404845.\n",
      "[I 2025-01-11 02:16:51,988] Trial 27 finished with value: 0.1825056036947248 and parameters: {'n_estimators': 272, 'max_depth': 7, 'learning_rate': 0.01, 'subsample': 0.868550438221483, 'min_samples_split': 13, 'min_samples_leaf': 1}. Best is trial 16 with value: 0.15663861616404845.\n",
      "[I 2025-01-11 02:18:01,633] Trial 28 finished with value: 0.16104029824475877 and parameters: {'n_estimators': 397, 'max_depth': 3, 'learning_rate': 0.05, 'subsample': 0.6363010498114059, 'min_samples_split': 6, 'min_samples_leaf': 9}. Best is trial 16 with value: 0.15663861616404845.\n",
      "[I 2025-01-11 02:19:38,178] Trial 29 finished with value: 0.1608575239069713 and parameters: {'n_estimators': 262, 'max_depth': 8, 'learning_rate': 0.03, 'subsample': 0.6908462403908494, 'min_samples_split': 19, 'min_samples_leaf': 16}. Best is trial 16 with value: 0.15663861616404845.\n",
      "[I 2025-01-11 02:22:20,656] Trial 30 finished with value: 0.16002785094027408 and parameters: {'n_estimators': 339, 'max_depth': 9, 'learning_rate': 0.060000000000000005, 'subsample': 0.7449361260217152, 'min_samples_split': 11, 'min_samples_leaf': 11}. Best is trial 16 with value: 0.15663861616404845.\n",
      "[I 2025-01-11 02:23:05,488] Trial 31 finished with value: 0.1576573976600174 and parameters: {'n_estimators': 223, 'max_depth': 8, 'learning_rate': 0.03, 'subsample': 0.5270080423483817, 'min_samples_split': 19, 'min_samples_leaf': 15}. Best is trial 16 with value: 0.15663861616404845.\n",
      "[I 2025-01-11 02:23:50,842] Trial 32 finished with value: 0.16135110589020543 and parameters: {'n_estimators': 212, 'max_depth': 9, 'learning_rate': 0.03, 'subsample': 0.5320045339047256, 'min_samples_split': 19, 'min_samples_leaf': 15}. Best is trial 16 with value: 0.15663861616404845.\n",
      "[I 2025-01-11 02:24:42,328] Trial 33 finished with value: 0.1589122191490884 and parameters: {'n_estimators': 206, 'max_depth': 8, 'learning_rate': 0.06999999999999999, 'subsample': 0.5785288306271257, 'min_samples_split': 16, 'min_samples_leaf': 17}. Best is trial 16 with value: 0.15663861616404845.\n",
      "[I 2025-01-11 02:25:43,664] Trial 34 finished with value: 0.15854732124737989 and parameters: {'n_estimators': 299, 'max_depth': 8, 'learning_rate': 0.04, 'subsample': 0.5030031704313846, 'min_samples_split': 17, 'min_samples_leaf': 14}. Best is trial 16 with value: 0.15663861616404845.\n",
      "[I 2025-01-11 02:26:17,455] Trial 35 finished with value: 0.18121579346976446 and parameters: {'n_estimators': 164, 'max_depth': 7, 'learning_rate': 0.3, 'subsample': 0.5418452618253852, 'min_samples_split': 14, 'min_samples_leaf': 14}. Best is trial 16 with value: 0.15663861616404845.\n",
      "[I 2025-01-11 02:28:28,468] Trial 36 finished with value: 0.15966433621741813 and parameters: {'n_estimators': 476, 'max_depth': 8, 'learning_rate': 0.08, 'subsample': 0.6031074534857636, 'min_samples_split': 20, 'min_samples_leaf': 16}. Best is trial 16 with value: 0.15663861616404845.\n",
      "[I 2025-01-11 02:30:06,552] Trial 37 finished with value: 0.1651677960195515 and parameters: {'n_estimators': 262, 'max_depth': 6, 'learning_rate': 0.13, 'subsample': 0.9065684534563634, 'min_samples_split': 15, 'min_samples_leaf': 12}. Best is trial 16 with value: 0.15663861616404845.\n",
      "[I 2025-01-11 02:32:42,025] Trial 38 finished with value: 0.15960959590867738 and parameters: {'n_estimators': 423, 'max_depth': 7, 'learning_rate': 0.060000000000000005, 'subsample': 0.8132861617298186, 'min_samples_split': 19, 'min_samples_leaf': 19}. Best is trial 16 with value: 0.15663861616404845.\n",
      "[I 2025-01-11 02:33:39,367] Trial 39 finished with value: 0.16422437689441996 and parameters: {'n_estimators': 287, 'max_depth': 6, 'learning_rate': 0.21000000000000002, 'subsample': 0.5578787288821376, 'min_samples_split': 17, 'min_samples_leaf': 16}. Best is trial 16 with value: 0.15663861616404845.\n",
      "[I 2025-01-11 02:34:55,677] Trial 40 finished with value: 0.1658142525458602 and parameters: {'n_estimators': 234, 'max_depth': 10, 'learning_rate': 0.02, 'subsample': 0.7728265100310319, 'min_samples_split': 8, 'min_samples_leaf': 9}. Best is trial 16 with value: 0.15663861616404845.\n",
      "[I 2025-01-11 02:35:59,223] Trial 41 finished with value: 0.15829227826928696 and parameters: {'n_estimators': 305, 'max_depth': 8, 'learning_rate': 0.04, 'subsample': 0.513794500410482, 'min_samples_split': 17, 'min_samples_leaf': 14}. Best is trial 16 with value: 0.15663861616404845.\n",
      "[I 2025-01-11 02:37:05,404] Trial 42 finished with value: 0.1568555098218984 and parameters: {'n_estimators': 314, 'max_depth': 8, 'learning_rate': 0.04, 'subsample': 0.5178382198113133, 'min_samples_split': 19, 'min_samples_leaf': 14}. Best is trial 16 with value: 0.15663861616404845.\n",
      "[I 2025-01-11 02:38:07,228] Trial 43 finished with value: 0.1608149570717974 and parameters: {'n_estimators': 301, 'max_depth': 9, 'learning_rate': 0.02, 'subsample': 0.5256056170761334, 'min_samples_split': 19, 'min_samples_leaf': 15}. Best is trial 16 with value: 0.15663861616404845.\n",
      "[I 2025-01-11 02:38:53,212] Trial 44 finished with value: 0.16075655282481818 and parameters: {'n_estimators': 226, 'max_depth': 8, 'learning_rate': 0.04, 'subsample': 0.5204609063676399, 'min_samples_split': 18, 'min_samples_leaf': 13}. Best is trial 16 with value: 0.15663861616404845.\n",
      "[I 2025-01-11 02:39:11,709] Trial 45 finished with value: 0.22447703076502076 and parameters: {'n_estimators': 126, 'max_depth': 7, 'learning_rate': 0.01, 'subsample': 0.5606740348589225, 'min_samples_split': 20, 'min_samples_leaf': 14}. Best is trial 16 with value: 0.15663861616404845.\n",
      "[I 2025-01-11 02:40:39,624] Trial 46 finished with value: 0.1597135084531285 and parameters: {'n_estimators': 323, 'max_depth': 8, 'learning_rate': 0.060000000000000005, 'subsample': 0.6121233509656906, 'min_samples_split': 16, 'min_samples_leaf': 17}. Best is trial 16 with value: 0.15663861616404845.\n",
      "[I 2025-01-11 02:41:25,535] Trial 47 finished with value: 0.1630237554778307 and parameters: {'n_estimators': 193, 'max_depth': 9, 'learning_rate': 0.09, 'subsample': 0.5245179692624737, 'min_samples_split': 17, 'min_samples_leaf': 15}. Best is trial 16 with value: 0.15663861616404845.\n",
      "[I 2025-01-11 02:42:11,452] Trial 48 finished with value: 0.15913236884865137 and parameters: {'n_estimators': 252, 'max_depth': 5, 'learning_rate': 0.06999999999999999, 'subsample': 0.5832394250042819, 'min_samples_split': 19, 'min_samples_leaf': 18}. Best is trial 16 with value: 0.15663861616404845.\n",
      "[I 2025-01-11 02:43:40,412] Trial 49 finished with value: 0.1592814888584565 and parameters: {'n_estimators': 364, 'max_depth': 6, 'learning_rate': 0.13, 'subsample': 0.6544675509926381, 'min_samples_split': 20, 'min_samples_leaf': 13}. Best is trial 16 with value: 0.15663861616404845.\n"
     ]
    },
    {
     "name": "stdout",
     "output_type": "stream",
     "text": [
      "Best parameters for Gradient Boosting:\n",
      "{'n_estimators': 444, 'max_depth': 5, 'learning_rate': 0.03, 'subsample': 0.5149548923341575, 'min_samples_split': 18, 'min_samples_leaf': 12}\n",
      "Best RMSE for Gradient Boosting: 0.15664\n"
     ]
    }
   ],
   "source": [
    "# Run Optuna for Gradient Boosting\n",
    "study_gbr = optuna.create_study(direction='minimize')  # Minimize RMSE\n",
    "study_gbr.optimize(objective_gbr, n_trials=50)\n",
    "\n",
    "# Best results for Gradient Boosting\n",
    "print(\"Best parameters for Gradient Boosting:\")\n",
    "print(study_gbr.best_trial.params)\n",
    "print(\"Best RMSE for Gradient Boosting: {:.5f}\".format(study_gbr.best_value))\n"
   ]
  },
  {
   "cell_type": "code",
   "execution_count": 68,
   "id": "34d6f0df-514d-4ca8-b7dc-567fee3a4a3a",
   "metadata": {},
   "outputs": [],
   "source": [
    "def objective_random_forest(trial):\n",
    "    params = {\n",
    "        'n_estimators': trial.suggest_int('n_estimators', 100, 1000),\n",
    "        'max_depth': trial.suggest_int('max_depth', 4, 30),\n",
    "        'min_samples_split': trial.suggest_int('min_samples_split', 2, 20),\n",
    "        'min_samples_leaf': trial.suggest_int('min_samples_leaf', 1, 20),\n",
    "        'max_features': trial.suggest_categorical('max_features', ['sqrt', 'log2', None]),\n",
    "        'random_state': 42\n",
    "    }\n",
    "\n",
    "    # Create the Random Forest model with the given parameters\n",
    "    model = RandomForestRegressor(**params)\n",
    "    model.fit(X_train, y_train)\n",
    "\n",
    "    # Predict on the validation data\n",
    "    y_pred = model.predict(X_val)\n",
    "\n",
    "    # Calculate RMSE\n",
    "    rmse = np.sqrt(mean_squared_error(y_val, y_pred))\n",
    "    return rmse\n"
   ]
  },
  {
   "cell_type": "code",
   "execution_count": 69,
   "id": "f56a19d1-36c1-4b15-90e9-5f6bc432e3c9",
   "metadata": {},
   "outputs": [
    {
     "name": "stderr",
     "output_type": "stream",
     "text": [
      "[I 2025-01-11 05:03:30,151] A new study created in memory with name: no-name-98dec528-1af0-4977-a304-96cd7e756aad\n",
      "[I 2025-01-11 05:03:58,514] Trial 0 finished with value: 0.1824315678365483 and parameters: {'n_estimators': 121, 'max_depth': 24, 'min_samples_split': 13, 'min_samples_leaf': 2, 'max_features': None}. Best is trial 0 with value: 0.1824315678365483.\n",
      "[I 2025-01-11 05:04:13,387] Trial 1 finished with value: 0.24614404675070276 and parameters: {'n_estimators': 646, 'max_depth': 20, 'min_samples_split': 11, 'min_samples_leaf': 6, 'max_features': 'sqrt'}. Best is trial 0 with value: 0.1824315678365483.\n",
      "[I 2025-01-11 05:04:40,703] Trial 2 finished with value: 0.18070084687861623 and parameters: {'n_estimators': 115, 'max_depth': 21, 'min_samples_split': 8, 'min_samples_leaf': 2, 'max_features': None}. Best is trial 2 with value: 0.18070084687861623.\n",
      "[I 2025-01-11 05:04:43,409] Trial 3 finished with value: 0.37542772858215784 and parameters: {'n_estimators': 339, 'max_depth': 5, 'min_samples_split': 19, 'min_samples_leaf': 18, 'max_features': 'log2'}. Best is trial 2 with value: 0.18070084687861623.\n",
      "[I 2025-01-11 05:06:29,870] Trial 4 finished with value: 0.19142660506574483 and parameters: {'n_estimators': 547, 'max_depth': 22, 'min_samples_split': 3, 'min_samples_leaf': 10, 'max_features': None}. Best is trial 2 with value: 0.18070084687861623.\n",
      "[I 2025-01-11 05:06:32,303] Trial 5 finished with value: 0.2822853109459882 and parameters: {'n_estimators': 126, 'max_depth': 19, 'min_samples_split': 6, 'min_samples_leaf': 17, 'max_features': 'sqrt'}. Best is trial 2 with value: 0.18070084687861623.\n",
      "[I 2025-01-11 05:06:42,360] Trial 6 finished with value: 0.2793573295961811 and parameters: {'n_estimators': 577, 'max_depth': 19, 'min_samples_split': 13, 'min_samples_leaf': 16, 'max_features': 'sqrt'}. Best is trial 2 with value: 0.18070084687861623.\n",
      "[I 2025-01-11 05:06:45,979] Trial 7 finished with value: 0.28661843507629736 and parameters: {'n_estimators': 219, 'max_depth': 19, 'min_samples_split': 13, 'min_samples_leaf': 19, 'max_features': 'sqrt'}. Best is trial 2 with value: 0.18070084687861623.\n",
      "[I 2025-01-11 05:06:51,525] Trial 8 finished with value: 0.3170621674748313 and parameters: {'n_estimators': 420, 'max_depth': 4, 'min_samples_split': 10, 'min_samples_leaf': 9, 'max_features': 'sqrt'}. Best is trial 2 with value: 0.18070084687861623.\n",
      "[I 2025-01-11 05:06:54,509] Trial 9 finished with value: 0.37603715876400673 and parameters: {'n_estimators': 402, 'max_depth': 17, 'min_samples_split': 9, 'min_samples_leaf': 20, 'max_features': 'log2'}. Best is trial 2 with value: 0.18070084687861623.\n",
      "[I 2025-01-11 05:10:23,627] Trial 10 finished with value: 0.183700806676519 and parameters: {'n_estimators': 935, 'max_depth': 29, 'min_samples_split': 18, 'min_samples_leaf': 1, 'max_features': None}. Best is trial 2 with value: 0.18070084687861623.\n",
      "[I 2025-01-11 05:10:52,959] Trial 11 finished with value: 0.18148442436945664 and parameters: {'n_estimators': 131, 'max_depth': 27, 'min_samples_split': 15, 'min_samples_leaf': 1, 'max_features': None}. Best is trial 2 with value: 0.18070084687861623.\n",
      "[I 2025-01-11 05:11:44,579] Trial 12 finished with value: 0.1868391066716854 and parameters: {'n_estimators': 257, 'max_depth': 30, 'min_samples_split': 16, 'min_samples_leaf': 5, 'max_features': None}. Best is trial 2 with value: 0.18070084687861623.\n",
      "[I 2025-01-11 05:14:43,548] Trial 13 finished with value: 0.18558964098687974 and parameters: {'n_estimators': 868, 'max_depth': 13, 'min_samples_split': 7, 'min_samples_leaf': 4, 'max_features': None}. Best is trial 2 with value: 0.18070084687861623.\n",
      "[I 2025-01-11 05:15:30,016] Trial 14 finished with value: 0.19582647618368781 and parameters: {'n_estimators': 255, 'max_depth': 26, 'min_samples_split': 15, 'min_samples_leaf': 13, 'max_features': None}. Best is trial 2 with value: 0.18070084687861623.\n",
      "[I 2025-01-11 05:15:52,122] Trial 15 finished with value: 0.18918271422609564 and parameters: {'n_estimators': 110, 'max_depth': 14, 'min_samples_split': 2, 'min_samples_leaf': 7, 'max_features': None}. Best is trial 2 with value: 0.18070084687861623.\n",
      "[I 2025-01-11 05:18:27,541] Trial 16 finished with value: 0.18242602831200377 and parameters: {'n_estimators': 696, 'max_depth': 26, 'min_samples_split': 6, 'min_samples_leaf': 3, 'max_features': None}. Best is trial 2 with value: 0.18070084687861623.\n",
      "[I 2025-01-11 05:18:35,975] Trial 17 finished with value: 0.22326004497938282 and parameters: {'n_estimators': 448, 'max_depth': 27, 'min_samples_split': 16, 'min_samples_leaf': 1, 'max_features': 'log2'}. Best is trial 2 with value: 0.18070084687861623.\n",
      "[I 2025-01-11 05:19:16,004] Trial 18 finished with value: 0.1968904994645573 and parameters: {'n_estimators': 229, 'max_depth': 10, 'min_samples_split': 9, 'min_samples_leaf': 13, 'max_features': None}. Best is trial 2 with value: 0.18070084687861623.\n",
      "[I 2025-01-11 05:21:50,126] Trial 19 finished with value: 0.18928474666742642 and parameters: {'n_estimators': 782, 'max_depth': 23, 'min_samples_split': 4, 'min_samples_leaf': 8, 'max_features': None}. Best is trial 2 with value: 0.18070084687861623.\n",
      "[I 2025-01-11 05:21:52,715] Trial 20 finished with value: 0.37152553786861375 and parameters: {'n_estimators': 300, 'max_depth': 15, 'min_samples_split': 20, 'min_samples_leaf': 12, 'max_features': 'log2'}. Best is trial 2 with value: 0.18070084687861623.\n",
      "[I 2025-01-11 05:24:36,139] Trial 21 finished with value: 0.1824393059084416 and parameters: {'n_estimators': 702, 'max_depth': 26, 'min_samples_split': 6, 'min_samples_leaf': 3, 'max_features': None}. Best is trial 2 with value: 0.18070084687861623.\n",
      "[I 2025-01-11 05:26:50,857] Trial 22 finished with value: 0.18265004548170255 and parameters: {'n_estimators': 533, 'max_depth': 28, 'min_samples_split': 7, 'min_samples_leaf': 3, 'max_features': None}. Best is trial 2 with value: 0.18070084687861623.\n",
      "[I 2025-01-11 05:29:50,350] Trial 23 finished with value: 0.18591573363702601 and parameters: {'n_estimators': 769, 'max_depth': 24, 'min_samples_split': 5, 'min_samples_leaf': 5, 'max_features': None}. Best is trial 2 with value: 0.18070084687861623.\n",
      "[I 2025-01-11 05:30:30,345] Trial 24 finished with value: 0.18118505082550668 and parameters: {'n_estimators': 177, 'max_depth': 21, 'min_samples_split': 11, 'min_samples_leaf': 1, 'max_features': None}. Best is trial 2 with value: 0.18070084687861623.\n",
      "[I 2025-01-11 05:31:11,722] Trial 25 finished with value: 0.18155975293610327 and parameters: {'n_estimators': 185, 'max_depth': 21, 'min_samples_split': 11, 'min_samples_leaf': 1, 'max_features': None}. Best is trial 2 with value: 0.18070084687861623.\n",
      "[I 2025-01-11 05:31:53,352] Trial 26 finished with value: 0.18665606244020186 and parameters: {'n_estimators': 178, 'max_depth': 17, 'min_samples_split': 14, 'min_samples_leaf': 5, 'max_features': None}. Best is trial 2 with value: 0.18070084687861623.\n",
      "[I 2025-01-11 05:33:04,685] Trial 27 finished with value: 0.1868578451363319 and parameters: {'n_estimators': 348, 'max_depth': 11, 'min_samples_split': 9, 'min_samples_leaf': 2, 'max_features': None}. Best is trial 2 with value: 0.18070084687861623.\n",
      "[I 2025-01-11 05:33:05,850] Trial 28 finished with value: 0.35947098879097894 and parameters: {'n_estimators': 102, 'max_depth': 24, 'min_samples_split': 12, 'min_samples_leaf': 7, 'max_features': 'log2'}. Best is trial 2 with value: 0.18070084687861623.\n",
      "[I 2025-01-11 05:33:49,806] Trial 29 finished with value: 0.18415973395888355 and parameters: {'n_estimators': 162, 'max_depth': 17, 'min_samples_split': 17, 'min_samples_leaf': 2, 'max_features': None}. Best is trial 2 with value: 0.18070084687861623.\n",
      "[I 2025-01-11 05:35:28,808] Trial 30 finished with value: 0.18440343471564863 and parameters: {'n_estimators': 303, 'max_depth': 22, 'min_samples_split': 8, 'min_samples_leaf': 4, 'max_features': None}. Best is trial 2 with value: 0.18070084687861623.\n",
      "[I 2025-01-11 05:36:26,965] Trial 31 finished with value: 0.1813668200532849 and parameters: {'n_estimators': 174, 'max_depth': 21, 'min_samples_split': 12, 'min_samples_leaf': 1, 'max_features': None}. Best is trial 2 with value: 0.18070084687861623.\n",
      "[I 2025-01-11 05:37:16,774] Trial 32 finished with value: 0.18078084595601265 and parameters: {'n_estimators': 162, 'max_depth': 21, 'min_samples_split': 11, 'min_samples_leaf': 1, 'max_features': None}. Best is trial 2 with value: 0.18070084687861623.\n",
      "[I 2025-01-11 05:38:02,822] Trial 33 finished with value: 0.18205923010019778 and parameters: {'n_estimators': 172, 'max_depth': 21, 'min_samples_split': 11, 'min_samples_leaf': 2, 'max_features': None}. Best is trial 2 with value: 0.18070084687861623.\n",
      "[I 2025-01-11 05:39:34,460] Trial 34 finished with value: 0.18549652872520728 and parameters: {'n_estimators': 360, 'max_depth': 21, 'min_samples_split': 12, 'min_samples_leaf': 4, 'max_features': None}. Best is trial 2 with value: 0.18070084687861623.\n",
      "[I 2025-01-11 05:40:55,009] Trial 35 finished with value: 0.18333880668382724 and parameters: {'n_estimators': 287, 'max_depth': 24, 'min_samples_split': 10, 'min_samples_leaf': 3, 'max_features': None}. Best is trial 2 with value: 0.18070084687861623.\n",
      "[I 2025-01-11 05:41:00,575] Trial 36 finished with value: 0.24711468731751357 and parameters: {'n_estimators': 234, 'max_depth': 19, 'min_samples_split': 12, 'min_samples_leaf': 6, 'max_features': 'sqrt'}. Best is trial 2 with value: 0.18070084687861623.\n",
      "[I 2025-01-11 05:41:46,040] Trial 37 finished with value: 0.18133130470711334 and parameters: {'n_estimators': 198, 'max_depth': 20, 'min_samples_split': 10, 'min_samples_leaf': 1, 'max_features': None}. Best is trial 2 with value: 0.18070084687861623.\n",
      "[I 2025-01-11 05:41:50,020] Trial 38 finished with value: 0.27751523376927206 and parameters: {'n_estimators': 206, 'max_depth': 18, 'min_samples_split': 10, 'min_samples_leaf': 15, 'max_features': 'sqrt'}. Best is trial 2 with value: 0.18070084687861623.\n",
      "[I 2025-01-11 05:41:57,091] Trial 39 finished with value: 0.29224017977111105 and parameters: {'n_estimators': 458, 'max_depth': 16, 'min_samples_split': 8, 'min_samples_leaf': 2, 'max_features': 'log2'}. Best is trial 2 with value: 0.18070084687861623.\n",
      "[I 2025-01-11 05:42:00,607] Trial 40 finished with value: 0.24757783129373195 and parameters: {'n_estimators': 143, 'max_depth': 19, 'min_samples_split': 8, 'min_samples_leaf': 6, 'max_features': 'sqrt'}. Best is trial 2 with value: 0.18070084687861623.\n",
      "[I 2025-01-11 05:42:22,828] Trial 41 finished with value: 0.1818024641250829 and parameters: {'n_estimators': 100, 'max_depth': 22, 'min_samples_split': 13, 'min_samples_leaf': 1, 'max_features': None}. Best is trial 2 with value: 0.18070084687861623.\n",
      "[I 2025-01-11 05:43:07,310] Trial 42 finished with value: 0.1812704867076446 and parameters: {'n_estimators': 196, 'max_depth': 20, 'min_samples_split': 10, 'min_samples_leaf': 1, 'max_features': None}. Best is trial 2 with value: 0.18070084687861623.\n",
      "[I 2025-01-11 05:44:05,101] Trial 43 finished with value: 0.18329859753882094 and parameters: {'n_estimators': 268, 'max_depth': 20, 'min_samples_split': 10, 'min_samples_leaf': 3, 'max_features': None}. Best is trial 2 with value: 0.18070084687861623.\n",
      "[I 2025-01-11 05:44:57,564] Trial 44 finished with value: 0.18164762923433114 and parameters: {'n_estimators': 208, 'max_depth': 23, 'min_samples_split': 9, 'min_samples_leaf': 2, 'max_features': None}. Best is trial 2 with value: 0.18070084687861623.\n",
      "[I 2025-01-11 05:46:06,481] Trial 45 finished with value: 0.18532464151920577 and parameters: {'n_estimators': 314, 'max_depth': 18, 'min_samples_split': 11, 'min_samples_leaf': 4, 'max_features': None}. Best is trial 2 with value: 0.18070084687861623.\n",
      "[I 2025-01-11 05:46:40,594] Trial 46 finished with value: 0.1817274280158865 and parameters: {'n_estimators': 145, 'max_depth': 20, 'min_samples_split': 14, 'min_samples_leaf': 1, 'max_features': None}. Best is trial 2 with value: 0.18070084687861623.\n",
      "[I 2025-01-11 05:48:12,417] Trial 47 finished with value: 0.1912858469194662 and parameters: {'n_estimators': 395, 'max_depth': 23, 'min_samples_split': 10, 'min_samples_leaf': 10, 'max_features': None}. Best is trial 2 with value: 0.18070084687861623.\n",
      "[I 2025-01-11 05:49:05,157] Trial 48 finished with value: 0.1823202282804519 and parameters: {'n_estimators': 243, 'max_depth': 25, 'min_samples_split': 7, 'min_samples_leaf': 3, 'max_features': None}. Best is trial 2 with value: 0.18070084687861623.\n",
      "[I 2025-01-11 05:49:17,065] Trial 49 finished with value: 0.22036413658858361 and parameters: {'n_estimators': 494, 'max_depth': 15, 'min_samples_split': 14, 'min_samples_leaf': 2, 'max_features': 'sqrt'}. Best is trial 2 with value: 0.18070084687861623.\n"
     ]
    },
    {
     "name": "stdout",
     "output_type": "stream",
     "text": [
      "Best parameters for Random Forest:\n",
      "{'n_estimators': 115, 'max_depth': 21, 'min_samples_split': 8, 'min_samples_leaf': 2, 'max_features': None}\n",
      "Best RMSE for Random Forest: 0.1807\n"
     ]
    }
   ],
   "source": [
    "# Run Optuna for Random Forest\n",
    "study_rf = optuna.create_study(direction='minimize')  # Minimize RMSE\n",
    "study_rf.optimize(objective_random_forest, n_trials=50)\n",
    "\n",
    "# Best results for Random Forest\n",
    "print(\"Best parameters for Random Forest:\")\n",
    "print(study_rf.best_trial.params)\n",
    "print(\"Best RMSE for Random Forest: {:.5f}\".format(study_rf.best_value))\n"
   ]
  },
  {
   "cell_type": "markdown",
   "id": "a4cf7668-ac86-4d31-9efe-06d2eb39868f",
   "metadata": {},
   "source": [
    "## Choose the Best Model"
   ]
  },
  {
   "cell_type": "code",
   "execution_count": 62,
   "id": "68455b8a-cc84-4619-9b82-fc25468c85e6",
   "metadata": {},
   "outputs": [
    {
     "name": "stdout",
     "output_type": "stream",
     "text": [
      "XGBoost R² score: 0.85689\n",
      "Final RMSE: 0.15414\n"
     ]
    }
   ],
   "source": [
    "best_params = study.best_trial.params\n",
    "final_model = XGBRegressor(**best_params)\n",
    "final_model.fit(X_train, y_train)\n",
    "\n",
    "y_pred = final_model.predict(X_val)\n",
    "final_rmse = np.sqrt(mean_squared_error(y_val, y_pred))\n",
    "print(\"XGBoost R² score: {:.5}\".format(final_model.score(X_val, y_val)))\n",
    "print(\"Final RMSE: {:.5}\".format(final_rmse))\n"
   ]
  },
  {
   "cell_type": "code",
   "execution_count": 63,
   "id": "4811d665-fabb-4d22-b9fa-1a07a61cc560",
   "metadata": {},
   "outputs": [
    {
     "name": "stdout",
     "output_type": "stream",
     "text": [
      "CatBoost R² score: 0.86188\n",
      "Final RMSE for CatBoost: 0.15143\n"
     ]
    }
   ],
   "source": [
    "best_params_catboost = study_catboost.best_trial.params\n",
    "final_catboost = CatBoostRegressor(**best_params_catboost, verbose=0)\n",
    "final_catboost.fit(X_train, y_train)\n",
    "\n",
    "y_pred_catboost = final_catboost.predict(X_val)\n",
    "final_rmse_catboost = np.sqrt(mean_squared_error(y_val, y_pred_catboost))\n",
    "print(\"CatBoost R² score: {:.5}\".format(final_catboost.score(X_val, y_val)))\n",
    "print(\"Final RMSE for CatBoost: {:.5}\".format(final_rmse_catboost))\n"
   ]
  },
  {
   "cell_type": "code",
   "execution_count": 64,
   "id": "fc320429-744d-4633-a7f0-395108420a98",
   "metadata": {},
   "outputs": [
    {
     "name": "stdout",
     "output_type": "stream",
     "text": [
      "Gradient Boosting R² score: 0.85279\n",
      "Final RMSE for Gradient Boosting: 0.15633\n"
     ]
    }
   ],
   "source": [
    "best_params_gbr = study_gbr.best_trial.params\n",
    "final_gbr = GradientBoostingRegressor(**best_params_gbr)\n",
    "final_gbr.fit(X_train, y_train)\n",
    "\n",
    "y_pred_gbr = final_gbr.predict(X_val)\n",
    "final_rmse_gbr = np.sqrt(mean_squared_error(y_val, y_pred_gbr))\n",
    "print(\"Gradient Boosting R² score: {:.5}\".format(final_gbr.score(X_val, y_val)))\n",
    "print(\"Final RMSE for Gradient Boosting: {:.5}\".format(final_rmse_gbr))\n"
   ]
  },
  {
   "cell_type": "code",
   "execution_count": 70,
   "id": "7ee1fbe0-3c47-4f26-9b52-eb2d5ceabfe7",
   "metadata": {},
   "outputs": [
    {
     "name": "stdout",
     "output_type": "stream",
     "text": [
      "Random Forest R² score: 0.80452\n",
      "Final RMSE for Random Forest: 0.18015\n"
     ]
    }
   ],
   "source": [
    "best_params_rf = study_rf.best_trial.params\n",
    "final_rf = RandomForestRegressor(**best_params_rf)\n",
    "final_rf.fit(X_train, y_train)\n",
    "\n",
    "y_pred_rf = final_rf.predict(X_val)\n",
    "final_rmse_rf = np.sqrt(mean_squared_error(y_val, y_pred_rf))\n",
    "print(\"Random Forest R² score: {:.5}\".format(final_rf.score(X_val, y_val)))\n",
    "print(\"Final RMSE for Random Forest: {:.5}\".format(final_rmse_rf))"
   ]
  },
  {
   "cell_type": "markdown",
   "id": "cda2e223-3910-4d5a-8370-8ca2ba88c728",
   "metadata": {},
   "source": [
    "### CatBoost Regressor is the best model for this data"
   ]
  },
  {
   "cell_type": "markdown",
   "id": "a8fdae2c-5c29-4216-b81b-135df4030f49",
   "metadata": {},
   "source": [
    "## Validate the Model"
   ]
  },
  {
   "cell_type": "code",
   "execution_count": 73,
   "id": "f4838e48-cccd-45d3-9b72-ff632d7cf841",
   "metadata": {},
   "outputs": [
    {
     "name": "stdout",
     "output_type": "stream",
     "text": [
      "Smallest RMSE: 0.15143 is model CatBoost\n",
      "Biggest Score: 0.86188 is model CatBoost\n"
     ]
    }
   ],
   "source": [
    "# Identify the model with the smallest RMSE and biggest score\n",
    "models = ['XGBoost', 'CatBoost', 'Random Forest', 'Gradient Boosting']\n",
    "rmse_values = [final_rmse, final_rmse_catboost, final_rmse_rf, final_rmse_gbr]\n",
    "scores = [\n",
    "    final_model.score(X_val, y_val),\n",
    "    final_catboost.score(X_val, y_val),\n",
    "    final_rf.score(X_val, y_val),\n",
    "    final_gbr.score(X_val, y_val)\n",
    "]\n",
    "\n",
    "# Find the model with smallest RMSE and biggest score\n",
    "smallest_rmse_index = rmse_values.index(smallest_rmse)\n",
    "biggest_score_index = scores.index(biggest_score)\n",
    "\n",
    "# Print smallest RMSE and biggest score with model names\n",
    "print(\"Smallest RMSE: {:.5} is model {}\".format(smallest_rmse, models[smallest_rmse_index]))\n",
    "print(\"Biggest Score: {:.5} is model {}\".format(biggest_score, models[biggest_score_index]))\n"
   ]
  },
  {
   "cell_type": "markdown",
   "id": "9610bc41-b550-4a31-bb50-8a4b9a840ccb",
   "metadata": {},
   "source": [
    "## Do cross-validation"
   ]
  },
  {
   "cell_type": "code",
   "execution_count": 76,
   "id": "71b1c898-97c2-4616-849e-9d58a7f77e80",
   "metadata": {},
   "outputs": [
    {
     "name": "stdout",
     "output_type": "stream",
     "text": [
      "Cross-Validation Results:\n",
      "XGBoost: Average RMSE = 0.17021\n",
      "CatBoost: Average RMSE = 0.15880\n",
      "Random Forest: Average RMSE = 0.19216\n",
      "Gradient Boosting: Average RMSE = 0.17686\n",
      "\n",
      "Smallest RMSE: 0.15880 is model CatBoost\n",
      "Biggest Score: 0.86188 is model CatBoost\n"
     ]
    }
   ],
   "source": [
    "# Define models for cross-validation\n",
    "models = {\n",
    "    'XGBoost': final_model,\n",
    "    'CatBoost': final_catboost,\n",
    "    'Random Forest': final_rf,\n",
    "    'Gradient Boosting': final_gbr\n",
    "}\n",
    "\n",
    "# Initialize lists to store results\n",
    "cv_scores = {}\n",
    "rmse_values = {}\n",
    "\n",
    "# Perform cross-validation for each model\n",
    "for model_name, model in models.items():\n",
    "    # Perform cross-validation using negative mean squared error (to get positive RMSE)\n",
    "    neg_mse_scores = cross_val_score(model, X_val, y_val, scoring='neg_mean_squared_error', cv=5)\n",
    "    rmse_scores = np.sqrt(-neg_mse_scores)  # Convert negative MSE to RMSE\n",
    "    cv_scores[model_name] = np.mean(rmse_scores)  # Store average RMSE for each model\n",
    "    rmse_values[model_name] = rmse_scores  # Store RMSE values for each fold\n",
    "\n",
    "# Find the model with smallest RMSE and biggest score\n",
    "smallest_rmse_model = min(cv_scores, key=cv_scores.get)\n",
    "biggest_score_model = max(models, key=lambda model: models[model].score(X_val, y_val))\n",
    "\n",
    "# Print the results\n",
    "print(\"Cross-Validation Results:\")\n",
    "for model_name, avg_rmse in cv_scores.items():\n",
    "    print(f\"{model_name}: Average RMSE = {avg_rmse:.5f}\")\n",
    "\n",
    "print(\"\\nSmallest RMSE: {:.5f} is model {}\".format(cv_scores[smallest_rmse_model], smallest_rmse_model))\n",
    "print(\"Biggest Score: {:.5f} is model {}\".format(models[biggest_score_model].score(X_val, y_val), biggest_score_model))\n"
   ]
  },
  {
   "cell_type": "markdown",
   "id": "d3d893a9-fa5d-4415-b302-0ae5603065af",
   "metadata": {},
   "source": [
    "## Save the Model"
   ]
  },
  {
   "cell_type": "code",
   "execution_count": 77,
   "id": "62be5b84-e514-431d-acac-a4dcf5e35b44",
   "metadata": {},
   "outputs": [],
   "source": [
    "# Save the trained model and DictVectorizer\n",
    "output_file = 'model_catboost.bin'\n"
   ]
  },
  {
   "cell_type": "code",
   "execution_count": 78,
   "id": "e3eef4d7-2dc3-4caa-a470-a565c683896c",
   "metadata": {},
   "outputs": [],
   "source": [
    "with open(output_file, 'wb') as f_out:\n",
    "    pickle.dump((dv, final_catboost), f_out)"
   ]
  },
  {
   "cell_type": "code",
   "execution_count": null,
   "id": "422728ee-31ee-46e7-9ebe-a1b7d335de36",
   "metadata": {},
   "outputs": [],
   "source": []
  }
 ],
 "metadata": {
  "kernelspec": {
   "display_name": "Python 3 (ipykernel)",
   "language": "python",
   "name": "python3"
  },
  "language_info": {
   "codemirror_mode": {
    "name": "ipython",
    "version": 3
   },
   "file_extension": ".py",
   "mimetype": "text/x-python",
   "name": "python",
   "nbconvert_exporter": "python",
   "pygments_lexer": "ipython3",
   "version": "3.11.5"
  }
 },
 "nbformat": 4,
 "nbformat_minor": 5
}
