{
 "cells": [
  {
   "cell_type": "markdown",
   "id": "6cec7a09-ca83-4424-a356-015aadffe7d3",
   "metadata": {},
   "source": [
    "Predict the 2021 Residential House Sales Prices in Durham, NC"
   ]
  },
  {
   "cell_type": "code",
   "execution_count": 1,
   "id": "4848d0ed-a4d6-471f-8c75-f247c96acf5b",
   "metadata": {
    "scrolled": true
   },
   "outputs": [],
   "source": [
    "# Libraries for Data Manipulation and Profiling\n",
    "import pandas as pd\n",
    "import numpy as np\n",
    "\n",
    "# Libraries for Machine Learning\n",
    "from sklearn.feature_extraction import DictVectorizer\n",
    "from sklearn.preprocessing import LabelEncoder\n",
    "from sklearn.model_selection import train_test_split, GridSearchCV, cross_val_score\n",
    "from sklearn.linear_model import LinearRegression, Lasso, Ridge, ElasticNet, BayesianRidge, HuberRegressor\n",
    "from sklearn.tree import DecisionTreeRegressor, export_text\n",
    "from sklearn.ensemble import RandomForestRegressor, GradientBoostingRegressor, AdaBoostRegressor, ExtraTreesRegressor\n",
    "#from xgboost import XGBRegressor\n",
    "from sklearn.svm import SVR\n",
    "from sklearn.neighbors import KNeighborsRegressor\n",
    "from catboost import CatBoostRegressor\n",
    "from lightgbm import LGBMRegressor\n",
    "\n",
    "# Libraries for Metrics\n",
    "from sklearn.metrics import roc_auc_score, mean_squared_error, r2_score\n",
    "\n",
    "# Libraries for Graphics\n",
    "import seaborn as sns\n",
    "from matplotlib import pyplot as plt\n",
    "%matplotlib inline\n",
    "\n",
    "# Libraries for Serialization and Miscellaneous\n",
    "import math\n",
    "import pickle\n",
    "import optuna"
   ]
  },
  {
   "cell_type": "markdown",
   "id": "b72fb7e4-eb70-4746-a009-e815d6228901",
   "metadata": {},
   "source": [
    "## Import Data"
   ]
  },
  {
   "cell_type": "code",
   "execution_count": 2,
   "id": "7c765637-5a4a-4f08-8c2b-1bf111a83542",
   "metadata": {},
   "outputs": [],
   "source": [
    "df = pd.read_csv('Durham_homes_sold_2021_YTD.csv')"
   ]
  },
  {
   "cell_type": "code",
   "execution_count": 3,
   "id": "ed4e16e6-266e-41d1-8218-d54b57894316",
   "metadata": {},
   "outputs": [
    {
     "name": "stdout",
     "output_type": "stream",
     "text": [
      "<class 'pandas.core.frame.DataFrame'>\n",
      "RangeIndex: 4585 entries, 0 to 4584\n",
      "Data columns (total 32 columns):\n",
      " #   Column                    Non-Null Count  Dtype  \n",
      "---  ------                    --------------  -----  \n",
      " 0   Subdivision               4585 non-null   object \n",
      " 1   Total Living Area SqFt    4585 non-null   object \n",
      " 2   Year Built                4585 non-null   int64  \n",
      " 3   Bedrooms                  4585 non-null   int64  \n",
      " 4   Full Baths                4585 non-null   int64  \n",
      " 5   Half Baths                4585 non-null   int64  \n",
      " 6   Property Type             4585 non-null   object \n",
      " 7   List Price                4585 non-null   object \n",
      " 8   Sold Price                4585 non-null   object \n",
      " 9   Acres                     4585 non-null   object \n",
      " 10  Approx Lot SqFt           4585 non-null   object \n",
      " 11  Approximate Acres         4585 non-null   float64\n",
      " 12  Basement                  4585 non-null   object \n",
      " 13  Construction Type         4585 non-null   object \n",
      " 14  Days On Market            4585 non-null   int64  \n",
      " 15  Closing Date              4585 non-null   object \n",
      " 16  Fireplace                 4585 non-null   object \n",
      " 17  Garage                    4585 non-null   int64  \n",
      " 18  HOA 1 Fees Required       3032 non-null   object \n",
      " 19  Internet Listing          4585 non-null   object \n",
      " 20  List Date                 4585 non-null   object \n",
      " 21  Master Bedroom 1st Floor  4585 non-null   object \n",
      " 22  New Construction          4585 non-null   object \n",
      " 23  Total Baths               4585 non-null   int64  \n",
      " 24  Zip                       4585 non-null   object \n",
      " 25  Inside City               4585 non-null   object \n",
      " 26  HOA Y/N                   3608 non-null   object \n",
      " 27  Elementary School 1       4530 non-null   object \n",
      " 28  High School 1             4530 non-null   object \n",
      " 29  Middle School 1           4531 non-null   object \n",
      " 30  City                      4585 non-null   object \n",
      " 31  Restrictive Covenants     4585 non-null   object \n",
      "dtypes: float64(1), int64(7), object(24)\n",
      "memory usage: 1.1+ MB\n"
     ]
    }
   ],
   "source": [
    "df.info()"
   ]
  },
  {
   "cell_type": "code",
   "execution_count": 4,
   "id": "1b2244d9-91df-411c-b542-75d9ef19ff70",
   "metadata": {},
   "outputs": [],
   "source": [
    "# Calculate the number of unique values for each column\n",
    "nunique_values = df.nunique()\n",
    "\n",
    "# Create a list of unique values for each column\n",
    "unique_values = [', '.join(map(str, df[col].unique())) for col in df.columns]\n",
    "\n",
    "# Calculate the count of NaN values for each column\n",
    "count_nan = df.isna().sum()\n",
    "\n",
    "# Calculate the percentage of NaN values for each column\n",
    "nan_percentage = (count_nan / len(df)) * 100\n",
    "\n",
    "# Get the data type for each column\n",
    "dtype_values = df.dtypes\n",
    "\n",
    "# Create a summary DataFrame with the desired information\n",
    "df_summary = pd.DataFrame({\n",
    "    'columns': df.columns,\n",
    "    'nunique': nunique_values.values,\n",
    "    'unique': unique_values,\n",
    "    'dtype': dtype_values.values,\n",
    "    'count_nan': count_nan.values,\n",
    "    'nan_percentage': nan_percentage.values\n",
    "})\n",
    "\n",
    "# Display the result\n",
    "#print(df_summary)\n"
   ]
  },
  {
   "cell_type": "code",
   "execution_count": 5,
   "id": "4132e7c1-e5d8-4423-8dd7-7f1a27f33a1a",
   "metadata": {},
   "outputs": [
    {
     "data": {
      "text/html": [
       "<div>\n",
       "<style scoped>\n",
       "    .dataframe tbody tr th:only-of-type {\n",
       "        vertical-align: middle;\n",
       "    }\n",
       "\n",
       "    .dataframe tbody tr th {\n",
       "        vertical-align: top;\n",
       "    }\n",
       "\n",
       "    .dataframe thead th {\n",
       "        text-align: right;\n",
       "    }\n",
       "</style>\n",
       "<table border=\"1\" class=\"dataframe\">\n",
       "  <thead>\n",
       "    <tr style=\"text-align: right;\">\n",
       "      <th></th>\n",
       "      <th>columns</th>\n",
       "      <th>nunique</th>\n",
       "      <th>unique</th>\n",
       "      <th>dtype</th>\n",
       "      <th>count_nan</th>\n",
       "      <th>nan_percentage</th>\n",
       "    </tr>\n",
       "  </thead>\n",
       "  <tbody>\n",
       "    <tr>\n",
       "      <th>0</th>\n",
       "      <td>Subdivision</td>\n",
       "      <td>646</td>\n",
       "      <td>The Hills at Southpoint, Orchard Lake, Not in ...</td>\n",
       "      <td>object</td>\n",
       "      <td>0</td>\n",
       "      <td>0.000000</td>\n",
       "    </tr>\n",
       "    <tr>\n",
       "      <th>1</th>\n",
       "      <td>Total Living Area SqFt</td>\n",
       "      <td>2030</td>\n",
       "      <td>6,079, 1,532, 4,494, 1,914, 1,681, 2,384, 2,47...</td>\n",
       "      <td>object</td>\n",
       "      <td>0</td>\n",
       "      <td>0.000000</td>\n",
       "    </tr>\n",
       "    <tr>\n",
       "      <th>2</th>\n",
       "      <td>Year Built</td>\n",
       "      <td>117</td>\n",
       "      <td>2010, 2002, 1910, 1997, 2005, 1962, 1998, 1991...</td>\n",
       "      <td>int64</td>\n",
       "      <td>0</td>\n",
       "      <td>0.000000</td>\n",
       "    </tr>\n",
       "    <tr>\n",
       "      <th>3</th>\n",
       "      <td>Bedrooms</td>\n",
       "      <td>9</td>\n",
       "      <td>6, 3, 4, 2, 5, 1, 8, 0, 7</td>\n",
       "      <td>int64</td>\n",
       "      <td>0</td>\n",
       "      <td>0.000000</td>\n",
       "    </tr>\n",
       "    <tr>\n",
       "      <th>4</th>\n",
       "      <td>Full Baths</td>\n",
       "      <td>7</td>\n",
       "      <td>5, 2, 4, 1, 3, 6, 7</td>\n",
       "      <td>int64</td>\n",
       "      <td>0</td>\n",
       "      <td>0.000000</td>\n",
       "    </tr>\n",
       "    <tr>\n",
       "      <th>5</th>\n",
       "      <td>Half Baths</td>\n",
       "      <td>4</td>\n",
       "      <td>1, 0, 2, 3</td>\n",
       "      <td>int64</td>\n",
       "      <td>0</td>\n",
       "      <td>0.000000</td>\n",
       "    </tr>\n",
       "    <tr>\n",
       "      <th>6</th>\n",
       "      <td>Property Type</td>\n",
       "      <td>4</td>\n",
       "      <td>Detached, Attached, Condo, Manufactured</td>\n",
       "      <td>object</td>\n",
       "      <td>0</td>\n",
       "      <td>0.000000</td>\n",
       "    </tr>\n",
       "    <tr>\n",
       "      <th>7</th>\n",
       "      <td>List Price</td>\n",
       "      <td>1573</td>\n",
       "      <td>$819,900, $235,000, $1,153,000, $268,500, $225...</td>\n",
       "      <td>object</td>\n",
       "      <td>0</td>\n",
       "      <td>0.000000</td>\n",
       "    </tr>\n",
       "    <tr>\n",
       "      <th>8</th>\n",
       "      <td>Sold Price</td>\n",
       "      <td>1825</td>\n",
       "      <td>$798,000, $243,000, $1,153,000, $249,500, $230...</td>\n",
       "      <td>object</td>\n",
       "      <td>0</td>\n",
       "      <td>0.000000</td>\n",
       "    </tr>\n",
       "    <tr>\n",
       "      <th>9</th>\n",
       "      <td>Acres</td>\n",
       "      <td>8</td>\n",
       "      <td>.26-.5 Acres, 0-.25 Acres, .76-.99 Acres, .51-...</td>\n",
       "      <td>object</td>\n",
       "      <td>0</td>\n",
       "      <td>0.000000</td>\n",
       "    </tr>\n",
       "    <tr>\n",
       "      <th>10</th>\n",
       "      <td>Approx Lot SqFt</td>\n",
       "      <td>699</td>\n",
       "      <td>12,719.52, 7,579.44, 11,325.60, 38,768.40, 1,5...</td>\n",
       "      <td>object</td>\n",
       "      <td>0</td>\n",
       "      <td>0.000000</td>\n",
       "    </tr>\n",
       "    <tr>\n",
       "      <th>11</th>\n",
       "      <td>Approximate Acres</td>\n",
       "      <td>699</td>\n",
       "      <td>0.292, 0.174, 0.26, 0.89, 0.036, 0.61, 0.21, 0...</td>\n",
       "      <td>float64</td>\n",
       "      <td>0</td>\n",
       "      <td>0.000000</td>\n",
       "    </tr>\n",
       "    <tr>\n",
       "      <th>12</th>\n",
       "      <td>Basement</td>\n",
       "      <td>2</td>\n",
       "      <td>Yes, No</td>\n",
       "      <td>object</td>\n",
       "      <td>0</td>\n",
       "      <td>0.000000</td>\n",
       "    </tr>\n",
       "    <tr>\n",
       "      <th>13</th>\n",
       "      <td>Construction Type</td>\n",
       "      <td>5</td>\n",
       "      <td>Site Built, Manufactured, Modular, Insulated C...</td>\n",
       "      <td>object</td>\n",
       "      <td>0</td>\n",
       "      <td>0.000000</td>\n",
       "    </tr>\n",
       "    <tr>\n",
       "      <th>14</th>\n",
       "      <td>Days On Market</td>\n",
       "      <td>141</td>\n",
       "      <td>56, 3, 1, 6, 48, 82, 18, 5, 0, 38, 63, 14, 195...</td>\n",
       "      <td>int64</td>\n",
       "      <td>0</td>\n",
       "      <td>0.000000</td>\n",
       "    </tr>\n",
       "    <tr>\n",
       "      <th>15</th>\n",
       "      <td>Closing Date</td>\n",
       "      <td>223</td>\n",
       "      <td>1/4/2021, 1/5/2021, 1/6/2021, 1/7/2021, 1/8/20...</td>\n",
       "      <td>object</td>\n",
       "      <td>0</td>\n",
       "      <td>0.000000</td>\n",
       "    </tr>\n",
       "    <tr>\n",
       "      <th>16</th>\n",
       "      <td>Fireplace</td>\n",
       "      <td>5</td>\n",
       "      <td>3, 1, 4+, 0, 2</td>\n",
       "      <td>object</td>\n",
       "      <td>0</td>\n",
       "      <td>0.000000</td>\n",
       "    </tr>\n",
       "    <tr>\n",
       "      <th>17</th>\n",
       "      <td>Garage</td>\n",
       "      <td>8</td>\n",
       "      <td>4, 0, 2, 1, 3, 5, 8, 9</td>\n",
       "      <td>int64</td>\n",
       "      <td>0</td>\n",
       "      <td>0.000000</td>\n",
       "    </tr>\n",
       "    <tr>\n",
       "      <th>18</th>\n",
       "      <td>HOA 1 Fees Required</td>\n",
       "      <td>2</td>\n",
       "      <td>Yes, No, nan</td>\n",
       "      <td>object</td>\n",
       "      <td>1553</td>\n",
       "      <td>33.871320</td>\n",
       "    </tr>\n",
       "    <tr>\n",
       "      <th>19</th>\n",
       "      <td>Internet Listing</td>\n",
       "      <td>2</td>\n",
       "      <td>Yes, No</td>\n",
       "      <td>object</td>\n",
       "      <td>0</td>\n",
       "      <td>0.000000</td>\n",
       "    </tr>\n",
       "    <tr>\n",
       "      <th>20</th>\n",
       "      <td>List Date</td>\n",
       "      <td>521</td>\n",
       "      <td>9/16/2020, 10/8/2020, 11/5/2020, 11/10/2020, 1...</td>\n",
       "      <td>object</td>\n",
       "      <td>0</td>\n",
       "      <td>0.000000</td>\n",
       "    </tr>\n",
       "    <tr>\n",
       "      <th>21</th>\n",
       "      <td>Master Bedroom 1st Floor</td>\n",
       "      <td>2</td>\n",
       "      <td>No, Yes</td>\n",
       "      <td>object</td>\n",
       "      <td>0</td>\n",
       "      <td>0.000000</td>\n",
       "    </tr>\n",
       "    <tr>\n",
       "      <th>22</th>\n",
       "      <td>New Construction</td>\n",
       "      <td>2</td>\n",
       "      <td>No, Yes</td>\n",
       "      <td>object</td>\n",
       "      <td>0</td>\n",
       "      <td>0.000000</td>\n",
       "    </tr>\n",
       "    <tr>\n",
       "      <th>23</th>\n",
       "      <td>Total Baths</td>\n",
       "      <td>9</td>\n",
       "      <td>6, 3, 4, 2, 5, 1, 7, 8, 9</td>\n",
       "      <td>int64</td>\n",
       "      <td>0</td>\n",
       "      <td>0.000000</td>\n",
       "    </tr>\n",
       "    <tr>\n",
       "      <th>24</th>\n",
       "      <td>Zip</td>\n",
       "      <td>469</td>\n",
       "      <td>27713, 27701, 27712-2309, 27705-1643, 27703, 2...</td>\n",
       "      <td>object</td>\n",
       "      <td>0</td>\n",
       "      <td>0.000000</td>\n",
       "    </tr>\n",
       "    <tr>\n",
       "      <th>25</th>\n",
       "      <td>Inside City</td>\n",
       "      <td>2</td>\n",
       "      <td>Yes, No</td>\n",
       "      <td>object</td>\n",
       "      <td>0</td>\n",
       "      <td>0.000000</td>\n",
       "    </tr>\n",
       "    <tr>\n",
       "      <th>26</th>\n",
       "      <td>HOA Y/N</td>\n",
       "      <td>2</td>\n",
       "      <td>nan, Yes, No</td>\n",
       "      <td>object</td>\n",
       "      <td>977</td>\n",
       "      <td>21.308615</td>\n",
       "    </tr>\n",
       "    <tr>\n",
       "      <th>27</th>\n",
       "      <td>Elementary School 1</td>\n",
       "      <td>38</td>\n",
       "      <td>Durham - Creekside, Durham - Southwest, Durham...</td>\n",
       "      <td>object</td>\n",
       "      <td>55</td>\n",
       "      <td>1.199564</td>\n",
       "    </tr>\n",
       "    <tr>\n",
       "      <th>28</th>\n",
       "      <td>High School 1</td>\n",
       "      <td>19</td>\n",
       "      <td>Durham - Jordan, Durham - Hillside, Durham - R...</td>\n",
       "      <td>object</td>\n",
       "      <td>55</td>\n",
       "      <td>1.199564</td>\n",
       "    </tr>\n",
       "    <tr>\n",
       "      <th>29</th>\n",
       "      <td>Middle School 1</td>\n",
       "      <td>19</td>\n",
       "      <td>Durham - Githens, Durham - Lowes Grove, Durham...</td>\n",
       "      <td>object</td>\n",
       "      <td>54</td>\n",
       "      <td>1.177754</td>\n",
       "    </tr>\n",
       "    <tr>\n",
       "      <th>30</th>\n",
       "      <td>City</td>\n",
       "      <td>1</td>\n",
       "      <td>Durham</td>\n",
       "      <td>object</td>\n",
       "      <td>0</td>\n",
       "      <td>0.000000</td>\n",
       "    </tr>\n",
       "    <tr>\n",
       "      <th>31</th>\n",
       "      <td>Restrictive Covenants</td>\n",
       "      <td>2</td>\n",
       "      <td>Yes, No</td>\n",
       "      <td>object</td>\n",
       "      <td>0</td>\n",
       "      <td>0.000000</td>\n",
       "    </tr>\n",
       "  </tbody>\n",
       "</table>\n",
       "</div>"
      ],
      "text/plain": [
       "                     columns  nunique  \\\n",
       "0                Subdivision      646   \n",
       "1     Total Living Area SqFt     2030   \n",
       "2                 Year Built      117   \n",
       "3                   Bedrooms        9   \n",
       "4                 Full Baths        7   \n",
       "5                 Half Baths        4   \n",
       "6              Property Type        4   \n",
       "7                 List Price     1573   \n",
       "8                 Sold Price     1825   \n",
       "9                      Acres        8   \n",
       "10           Approx Lot SqFt      699   \n",
       "11         Approximate Acres      699   \n",
       "12                  Basement        2   \n",
       "13         Construction Type        5   \n",
       "14            Days On Market      141   \n",
       "15              Closing Date      223   \n",
       "16                 Fireplace        5   \n",
       "17                    Garage        8   \n",
       "18       HOA 1 Fees Required        2   \n",
       "19          Internet Listing        2   \n",
       "20                 List Date      521   \n",
       "21  Master Bedroom 1st Floor        2   \n",
       "22          New Construction        2   \n",
       "23               Total Baths        9   \n",
       "24                       Zip      469   \n",
       "25               Inside City        2   \n",
       "26                   HOA Y/N        2   \n",
       "27       Elementary School 1       38   \n",
       "28             High School 1       19   \n",
       "29           Middle School 1       19   \n",
       "30                      City        1   \n",
       "31     Restrictive Covenants        2   \n",
       "\n",
       "                                               unique    dtype  count_nan  \\\n",
       "0   The Hills at Southpoint, Orchard Lake, Not in ...   object          0   \n",
       "1   6,079, 1,532, 4,494, 1,914, 1,681, 2,384, 2,47...   object          0   \n",
       "2   2010, 2002, 1910, 1997, 2005, 1962, 1998, 1991...    int64          0   \n",
       "3                           6, 3, 4, 2, 5, 1, 8, 0, 7    int64          0   \n",
       "4                                 5, 2, 4, 1, 3, 6, 7    int64          0   \n",
       "5                                          1, 0, 2, 3    int64          0   \n",
       "6             Detached, Attached, Condo, Manufactured   object          0   \n",
       "7   $819,900, $235,000, $1,153,000, $268,500, $225...   object          0   \n",
       "8   $798,000, $243,000, $1,153,000, $249,500, $230...   object          0   \n",
       "9   .26-.5 Acres, 0-.25 Acres, .76-.99 Acres, .51-...   object          0   \n",
       "10  12,719.52, 7,579.44, 11,325.60, 38,768.40, 1,5...   object          0   \n",
       "11  0.292, 0.174, 0.26, 0.89, 0.036, 0.61, 0.21, 0...  float64          0   \n",
       "12                                            Yes, No   object          0   \n",
       "13  Site Built, Manufactured, Modular, Insulated C...   object          0   \n",
       "14  56, 3, 1, 6, 48, 82, 18, 5, 0, 38, 63, 14, 195...    int64          0   \n",
       "15  1/4/2021, 1/5/2021, 1/6/2021, 1/7/2021, 1/8/20...   object          0   \n",
       "16                                     3, 1, 4+, 0, 2   object          0   \n",
       "17                             4, 0, 2, 1, 3, 5, 8, 9    int64          0   \n",
       "18                                       Yes, No, nan   object       1553   \n",
       "19                                            Yes, No   object          0   \n",
       "20  9/16/2020, 10/8/2020, 11/5/2020, 11/10/2020, 1...   object          0   \n",
       "21                                            No, Yes   object          0   \n",
       "22                                            No, Yes   object          0   \n",
       "23                          6, 3, 4, 2, 5, 1, 7, 8, 9    int64          0   \n",
       "24  27713, 27701, 27712-2309, 27705-1643, 27703, 2...   object          0   \n",
       "25                                            Yes, No   object          0   \n",
       "26                                       nan, Yes, No   object        977   \n",
       "27  Durham - Creekside, Durham - Southwest, Durham...   object         55   \n",
       "28  Durham - Jordan, Durham - Hillside, Durham - R...   object         55   \n",
       "29  Durham - Githens, Durham - Lowes Grove, Durham...   object         54   \n",
       "30                                             Durham   object          0   \n",
       "31                                            Yes, No   object          0   \n",
       "\n",
       "    nan_percentage  \n",
       "0         0.000000  \n",
       "1         0.000000  \n",
       "2         0.000000  \n",
       "3         0.000000  \n",
       "4         0.000000  \n",
       "5         0.000000  \n",
       "6         0.000000  \n",
       "7         0.000000  \n",
       "8         0.000000  \n",
       "9         0.000000  \n",
       "10        0.000000  \n",
       "11        0.000000  \n",
       "12        0.000000  \n",
       "13        0.000000  \n",
       "14        0.000000  \n",
       "15        0.000000  \n",
       "16        0.000000  \n",
       "17        0.000000  \n",
       "18       33.871320  \n",
       "19        0.000000  \n",
       "20        0.000000  \n",
       "21        0.000000  \n",
       "22        0.000000  \n",
       "23        0.000000  \n",
       "24        0.000000  \n",
       "25        0.000000  \n",
       "26       21.308615  \n",
       "27        1.199564  \n",
       "28        1.199564  \n",
       "29        1.177754  \n",
       "30        0.000000  \n",
       "31        0.000000  "
      ]
     },
     "execution_count": 5,
     "metadata": {},
     "output_type": "execute_result"
    }
   ],
   "source": [
    "df_summary"
   ]
  },
  {
   "cell_type": "markdown",
   "id": "fec051f9-c09c-4ab8-9d7d-359dedc8c18e",
   "metadata": {},
   "source": [
    "## Clean the Data"
   ]
  },
  {
   "cell_type": "code",
   "execution_count": 6,
   "id": "1bd5e401-4d15-4ec8-96d5-d78c6cd9231b",
   "metadata": {},
   "outputs": [],
   "source": [
    "df.columns = df.columns.str.lower().str.replace(' ', '_')"
   ]
  },
  {
   "cell_type": "code",
   "execution_count": 7,
   "id": "d1085599-9dfa-489e-940e-d4748144c976",
   "metadata": {},
   "outputs": [],
   "source": [
    "df = df.drop_duplicates()"
   ]
  },
  {
   "cell_type": "code",
   "execution_count": 8,
   "id": "559a71c5-1ce9-43a6-bd30-49376c557028",
   "metadata": {},
   "outputs": [
    {
     "name": "stderr",
     "output_type": "stream",
     "text": [
      "<>:4: SyntaxWarning: invalid escape sequence '\\$'\n",
      "<>:4: SyntaxWarning: invalid escape sequence '\\$'\n",
      "/tmp/ipykernel_75779/403825619.py:4: SyntaxWarning: invalid escape sequence '\\$'\n",
      "  df[cols_to_replace] = df[cols_to_replace].replace({'\\$': '', ',': ''}, regex=True)\n"
     ]
    }
   ],
   "source": [
    "# Replace '$' and ',' in multiple columns\n",
    "cols_to_replace = ['list_price', 'sold_price', 'total_living_area_sqft', 'approx_lot_sqft']\n",
    "\n",
    "df[cols_to_replace] = df[cols_to_replace].replace({'\\$': '', ',': ''}, regex=True)\n",
    "\n",
    "# Convert columns to numeric type if necessary\n",
    "df[cols_to_replace] = df[cols_to_replace].apply(pd.to_numeric, errors='coerce')\n"
   ]
  },
  {
   "cell_type": "code",
   "execution_count": 9,
   "id": "6b708110-5bf3-4201-9a64-ad5a866a9f4d",
   "metadata": {},
   "outputs": [],
   "source": [
    "df['list_date'] = pd.to_datetime(df['list_date'])\n",
    "df['closing_date'] = pd.to_datetime(df['closing_date'])\n",
    "\n",
    "for c in ['list_date', 'closing_date']: \n",
    "    df[c] = pd.to_datetime(df[c])"
   ]
  },
  {
   "cell_type": "code",
   "execution_count": 10,
   "id": "ccb87e40-84b5-419f-85c8-a64ca35df01e",
   "metadata": {},
   "outputs": [],
   "source": [
    "df['list_year'] = df['list_date'].dt.year\n",
    "df['year_built'] = df['year_built'].astype(int)\n",
    "df['age_house'] = df['list_year'] - df['year_built']"
   ]
  },
  {
   "cell_type": "code",
   "execution_count": 11,
   "id": "aadf05d1-05ca-4c0c-b554-162ca8915918",
   "metadata": {},
   "outputs": [],
   "source": [
    "df['days_on_market'] = (df['closing_date'] - df['list_date']).dt.days\n",
    "df['closing_month'] = df['closing_date'].dt.month\n",
    "df['closing_day'] = df['closing_date'].dt.day\n"
   ]
  },
  {
   "cell_type": "code",
   "execution_count": 12,
   "id": "7424015f-4059-4272-8117-0c32d2558648",
   "metadata": {},
   "outputs": [],
   "source": [
    "# Calculate discount_price\n",
    "df['discount_price'] = np.where(\n",
    "    df['list_price'] == df['sold_price'],  # Condition: if list_price is equal to sold_price\n",
    "    0,  # Value is 0 if the condition is met\n",
    "    (df['list_price'] - df['sold_price']) / df['sold_price']  # Calculate the value if the condition is not met\n",
    ")\n"
   ]
  },
  {
   "cell_type": "code",
   "execution_count": 13,
   "id": "38c753fb-38fb-407f-ab3c-ad1c88c32818",
   "metadata": {},
   "outputs": [],
   "source": [
    "del df['list_year']\n",
    "del df['closing_date']\n",
    "del df['list_date']\n"
   ]
  },
  {
   "cell_type": "code",
   "execution_count": 14,
   "id": "e1003751-af3b-4176-a23b-673a64288709",
   "metadata": {},
   "outputs": [
    {
     "data": {
      "text/plain": [
       "fireplace\n",
       "1    2677\n",
       "0    1722\n",
       "2     143\n",
       "3      28\n",
       "4      14\n",
       "Name: count, dtype: int64"
      ]
     },
     "execution_count": 14,
     "metadata": {},
     "output_type": "execute_result"
    }
   ],
   "source": [
    "df['fireplace'] = df['fireplace'].replace({'4+':'4'})\n",
    "df['fireplace'].astype(int)\n",
    "df['fireplace'].value_counts()"
   ]
  },
  {
   "cell_type": "code",
   "execution_count": 15,
   "id": "1cf45537-9c2c-4f9a-977c-be26f1aab022",
   "metadata": {},
   "outputs": [
    {
     "data": {
      "text/plain": [
       "array(['27713', '27701', '27712', '27705', '27703', '27707', '27704',\n",
       "       '27560', '27702', '27517', '27714', '27519'], dtype=object)"
      ]
     },
     "execution_count": 15,
     "metadata": {},
     "output_type": "execute_result"
    }
   ],
   "source": [
    "df['zip'] = df['zip'].str[:5]\n",
    "df['zip'].astype(int)\n",
    "df['zip'].unique()"
   ]
  },
  {
   "cell_type": "code",
   "execution_count": 16,
   "id": "f3497258-64bd-4af3-8905-a190aa21e95a",
   "metadata": {},
   "outputs": [],
   "source": [
    "del df['city']"
   ]
  },
  {
   "cell_type": "markdown",
   "id": "6410cfcb-d9bb-464a-b994-4257ff95779b",
   "metadata": {},
   "source": [
    "### Handle Missing Values"
   ]
  },
  {
   "cell_type": "code",
   "execution_count": 17,
   "id": "168e2024-0749-4b89-8313-f965b56fcba0",
   "metadata": {},
   "outputs": [
    {
     "data": {
      "text/plain": [
       "subdivision                    0\n",
       "total_living_area_sqft         0\n",
       "year_built                     0\n",
       "bedrooms                       0\n",
       "full_baths                     0\n",
       "half_baths                     0\n",
       "property_type                  0\n",
       "list_price                     0\n",
       "sold_price                     0\n",
       "acres                          0\n",
       "approx_lot_sqft                0\n",
       "approximate_acres              0\n",
       "basement                       0\n",
       "construction_type              0\n",
       "days_on_market                 0\n",
       "fireplace                      0\n",
       "garage                         0\n",
       "hoa_1_fees_required         1553\n",
       "internet_listing               0\n",
       "master_bedroom_1st_floor       0\n",
       "new_construction               0\n",
       "total_baths                    0\n",
       "zip                            0\n",
       "inside_city                    0\n",
       "hoa_y/n                      976\n",
       "elementary_school_1           55\n",
       "high_school_1                 55\n",
       "middle_school_1               54\n",
       "restrictive_covenants          0\n",
       "age_house                      0\n",
       "closing_month                  0\n",
       "closing_day                    0\n",
       "discount_price                 0\n",
       "dtype: int64"
      ]
     },
     "execution_count": 17,
     "metadata": {},
     "output_type": "execute_result"
    }
   ],
   "source": [
    "df.isna().sum()"
   ]
  },
  {
   "cell_type": "code",
   "execution_count": 18,
   "id": "a9c72a62-d736-4332-9db1-1a7a7a8de8dc",
   "metadata": {},
   "outputs": [
    {
     "data": {
      "text/plain": [
       "hoa_1_fees_required\n",
       "Yes    2842\n",
       "No      189\n",
       "Name: count, dtype: int64"
      ]
     },
     "execution_count": 18,
     "metadata": {},
     "output_type": "execute_result"
    }
   ],
   "source": [
    "df['hoa_1_fees_required'].value_counts()"
   ]
  },
  {
   "cell_type": "code",
   "execution_count": 19,
   "id": "bf86a71e-10e6-4e03-b052-9b7603d0b6c7",
   "metadata": {},
   "outputs": [
    {
     "data": {
      "text/plain": [
       "hoa_y/n\n",
       "Yes    2552\n",
       "No     1056\n",
       "Name: count, dtype: int64"
      ]
     },
     "execution_count": 19,
     "metadata": {},
     "output_type": "execute_result"
    }
   ],
   "source": [
    "df['hoa_y/n'].value_counts()"
   ]
  },
  {
   "cell_type": "code",
   "execution_count": 20,
   "id": "b0a4a530-7f44-4e73-8373-f638f45be27a",
   "metadata": {},
   "outputs": [
    {
     "name": "stderr",
     "output_type": "stream",
     "text": [
      "/tmp/ipykernel_75779/2084976726.py:2: FutureWarning: A value is trying to be set on a copy of a DataFrame or Series through chained assignment using an inplace method.\n",
      "The behavior will change in pandas 3.0. This inplace method will never work because the intermediate object on which we are setting values always behaves as a copy.\n",
      "\n",
      "For example, when doing 'df[col].method(value, inplace=True)', try using 'df.method({col: value}, inplace=True)' or df[col] = df[col].method(value) instead, to perform the operation inplace on the original object.\n",
      "\n",
      "\n",
      "  df['hoa_1_fees_required'].fillna(df['hoa_y/n'], inplace=True)\n",
      "/tmp/ipykernel_75779/2084976726.py:22: FutureWarning: A value is trying to be set on a copy of a DataFrame or Series through chained assignment using an inplace method.\n",
      "The behavior will change in pandas 3.0. This inplace method will never work because the intermediate object on which we are setting values always behaves as a copy.\n",
      "\n",
      "For example, when doing 'df[col].method(value, inplace=True)', try using 'df.method({col: value}, inplace=True)' or df[col] = df[col].method(value) instead, to perform the operation inplace on the original object.\n",
      "\n",
      "\n",
      "  df['hoa_1_fees_required'].fillna('No', inplace=True)\n"
     ]
    }
   ],
   "source": [
    "# Fill NaN values in 'hoa_1_fees_required' with values from 'hoa_y/n'\n",
    "df['hoa_1_fees_required'].fillna(df['hoa_y/n'], inplace=True)\n",
    "\n",
    "# Set 'hoa_1_fees_required' to 'No' if 'subdivision' is 'Not in a Subdivision'\n",
    "df['hoa_1_fees_required'] = np.where(df['subdivision'] == 'Not in a Subdivision', 'No', df['hoa_1_fees_required'])\n",
    "\n",
    "# Get a list of subdivisions with HOA fees as 'Yes' and 'No'\n",
    "hoa_yes = df[df['hoa_1_fees_required'] == 'Yes']['subdivision'].unique()\n",
    "hoa_no = df[df['hoa_1_fees_required'] == 'No']['subdivision'].unique()\n",
    "\n",
    "# Fill NaN values based on conditions in 'hoa_1_fees_required' and 'subdivision'\n",
    "df['hoa_1_fees_required'] = np.where(\n",
    "    df['hoa_1_fees_required'].isna() & df['subdivision'].isin(hoa_yes),\n",
    "    'Yes', df['hoa_1_fees_required']\n",
    ")\n",
    "df['hoa_1_fees_required'] = np.where(\n",
    "    df['hoa_1_fees_required'].isna() & df['subdivision'].isin(hoa_no),\n",
    "    'No', df['hoa_1_fees_required']\n",
    ")\n",
    "\n",
    "# If any NaN values remain, set 'No' as the default value\n",
    "df['hoa_1_fees_required'].fillna('No', inplace=True)\n"
   ]
  },
  {
   "cell_type": "code",
   "execution_count": 21,
   "id": "99054879-da72-4246-955f-0caef815b9eb",
   "metadata": {},
   "outputs": [
    {
     "data": {
      "text/plain": [
       "0"
      ]
     },
     "execution_count": 21,
     "metadata": {},
     "output_type": "execute_result"
    }
   ],
   "source": [
    "df['hoa_1_fees_required'].isna().sum()"
   ]
  },
  {
   "cell_type": "code",
   "execution_count": 22,
   "id": "3fd8194d-0d1a-4a37-93d2-cdd1e9039210",
   "metadata": {},
   "outputs": [],
   "source": [
    "del df['hoa_y/n']\n",
    "del df['list_price']"
   ]
  },
  {
   "cell_type": "code",
   "execution_count": 23,
   "id": "132c887a-4dcc-4493-93a0-6176e1a11ce3",
   "metadata": {},
   "outputs": [],
   "source": [
    "df = df.fillna(-1)"
   ]
  },
  {
   "cell_type": "code",
   "execution_count": 24,
   "id": "e3d9fbcc-1a0b-4e97-8de9-4b14d9040fbb",
   "metadata": {},
   "outputs": [
    {
     "data": {
      "text/plain": [
       "subdivision                 0\n",
       "total_living_area_sqft      0\n",
       "year_built                  0\n",
       "bedrooms                    0\n",
       "full_baths                  0\n",
       "half_baths                  0\n",
       "property_type               0\n",
       "sold_price                  0\n",
       "acres                       0\n",
       "approx_lot_sqft             0\n",
       "approximate_acres           0\n",
       "basement                    0\n",
       "construction_type           0\n",
       "days_on_market              0\n",
       "fireplace                   0\n",
       "garage                      0\n",
       "hoa_1_fees_required         0\n",
       "internet_listing            0\n",
       "master_bedroom_1st_floor    0\n",
       "new_construction            0\n",
       "total_baths                 0\n",
       "zip                         0\n",
       "inside_city                 0\n",
       "elementary_school_1         0\n",
       "high_school_1               0\n",
       "middle_school_1             0\n",
       "restrictive_covenants       0\n",
       "age_house                   0\n",
       "closing_month               0\n",
       "closing_day                 0\n",
       "discount_price              0\n",
       "dtype: int64"
      ]
     },
     "execution_count": 24,
     "metadata": {},
     "output_type": "execute_result"
    }
   ],
   "source": [
    "df.isna().sum()"
   ]
  },
  {
   "cell_type": "code",
   "execution_count": 25,
   "id": "788e907a-895c-4907-aebb-b1932fd1194e",
   "metadata": {},
   "outputs": [
    {
     "name": "stderr",
     "output_type": "stream",
     "text": [
      "/tmp/ipykernel_75779/3728064491.py:2: FutureWarning: Downcasting behavior in `replace` is deprecated and will be removed in a future version. To retain the old behavior, explicitly call `result.infer_objects(copy=False)`. To opt-in to the future behavior, set `pd.set_option('future.no_silent_downcasting', True)`\n",
      "  df = df.replace('No', 0)\n"
     ]
    }
   ],
   "source": [
    "df = df.replace('Yes', 1)\n",
    "df = df.replace('No', 0)"
   ]
  },
  {
   "cell_type": "code",
   "execution_count": 26,
   "id": "18d84b95-0f50-40e4-99de-54b677bdea31",
   "metadata": {},
   "outputs": [],
   "source": [
    "categorical_cols = df.select_dtypes(exclude=['number']).columns.tolist()\n",
    "#categorical = list(df.dtypes[df.dtypes == 'object'].index)\n",
    "numerical_cols = df.select_dtypes(include=['number']).columns.tolist()"
   ]
  },
  {
   "cell_type": "code",
   "execution_count": 27,
   "id": "fc4f5d12-0e7e-4d97-b2c1-6e834195c5c2",
   "metadata": {},
   "outputs": [
    {
     "data": {
      "text/plain": [
       "['subdivision',\n",
       " 'property_type',\n",
       " 'acres',\n",
       " 'construction_type',\n",
       " 'fireplace',\n",
       " 'zip',\n",
       " 'elementary_school_1',\n",
       " 'high_school_1',\n",
       " 'middle_school_1']"
      ]
     },
     "execution_count": 27,
     "metadata": {},
     "output_type": "execute_result"
    }
   ],
   "source": [
    "categorical_cols"
   ]
  },
  {
   "cell_type": "code",
   "execution_count": 28,
   "id": "f5a0067c-05d9-4428-adfa-8da31a71da2e",
   "metadata": {},
   "outputs": [
    {
     "data": {
      "text/plain": [
       "['total_living_area_sqft',\n",
       " 'year_built',\n",
       " 'bedrooms',\n",
       " 'full_baths',\n",
       " 'half_baths',\n",
       " 'sold_price',\n",
       " 'approx_lot_sqft',\n",
       " 'approximate_acres',\n",
       " 'basement',\n",
       " 'days_on_market',\n",
       " 'garage',\n",
       " 'hoa_1_fees_required',\n",
       " 'internet_listing',\n",
       " 'master_bedroom_1st_floor',\n",
       " 'new_construction',\n",
       " 'total_baths',\n",
       " 'inside_city',\n",
       " 'restrictive_covenants',\n",
       " 'age_house',\n",
       " 'closing_month',\n",
       " 'closing_day',\n",
       " 'discount_price']"
      ]
     },
     "execution_count": 28,
     "metadata": {},
     "output_type": "execute_result"
    }
   ],
   "source": [
    "numerical_cols"
   ]
  },
  {
   "cell_type": "code",
   "execution_count": 29,
   "id": "685e9add-9b60-42b8-9fdc-94f7a5f185e7",
   "metadata": {},
   "outputs": [
    {
     "data": {
      "text/html": [
       "<div>\n",
       "<style scoped>\n",
       "    .dataframe tbody tr th:only-of-type {\n",
       "        vertical-align: middle;\n",
       "    }\n",
       "\n",
       "    .dataframe tbody tr th {\n",
       "        vertical-align: top;\n",
       "    }\n",
       "\n",
       "    .dataframe thead th {\n",
       "        text-align: right;\n",
       "    }\n",
       "</style>\n",
       "<table border=\"1\" class=\"dataframe\">\n",
       "  <thead>\n",
       "    <tr style=\"text-align: right;\">\n",
       "      <th></th>\n",
       "      <th>total_living_area_sqft</th>\n",
       "      <th>year_built</th>\n",
       "      <th>bedrooms</th>\n",
       "      <th>full_baths</th>\n",
       "      <th>half_baths</th>\n",
       "      <th>sold_price</th>\n",
       "      <th>approx_lot_sqft</th>\n",
       "      <th>approximate_acres</th>\n",
       "      <th>basement</th>\n",
       "      <th>days_on_market</th>\n",
       "      <th>...</th>\n",
       "      <th>internet_listing</th>\n",
       "      <th>master_bedroom_1st_floor</th>\n",
       "      <th>new_construction</th>\n",
       "      <th>total_baths</th>\n",
       "      <th>inside_city</th>\n",
       "      <th>restrictive_covenants</th>\n",
       "      <th>age_house</th>\n",
       "      <th>closing_month</th>\n",
       "      <th>closing_day</th>\n",
       "      <th>discount_price</th>\n",
       "    </tr>\n",
       "  </thead>\n",
       "  <tbody>\n",
       "    <tr>\n",
       "      <th>count</th>\n",
       "      <td>4584.000</td>\n",
       "      <td>4584.000</td>\n",
       "      <td>4584.000</td>\n",
       "      <td>4584.000</td>\n",
       "      <td>4584.000</td>\n",
       "      <td>4584.000</td>\n",
       "      <td>4584.000</td>\n",
       "      <td>4584.000</td>\n",
       "      <td>4584.000</td>\n",
       "      <td>4584.000</td>\n",
       "      <td>...</td>\n",
       "      <td>4584.000</td>\n",
       "      <td>4584.00</td>\n",
       "      <td>4584.000</td>\n",
       "      <td>4584.000</td>\n",
       "      <td>4584.000</td>\n",
       "      <td>4584.000</td>\n",
       "      <td>4584.000</td>\n",
       "      <td>4584.000</td>\n",
       "      <td>4584.000</td>\n",
       "      <td>4584.000</td>\n",
       "    </tr>\n",
       "    <tr>\n",
       "      <th>mean</th>\n",
       "      <td>1959.904</td>\n",
       "      <td>1993.251</td>\n",
       "      <td>3.146</td>\n",
       "      <td>2.132</td>\n",
       "      <td>0.575</td>\n",
       "      <td>378894.778</td>\n",
       "      <td>13550.372</td>\n",
       "      <td>0.311</td>\n",
       "      <td>0.080</td>\n",
       "      <td>79.317</td>\n",
       "      <td>...</td>\n",
       "      <td>0.985</td>\n",
       "      <td>0.51</td>\n",
       "      <td>0.205</td>\n",
       "      <td>2.707</td>\n",
       "      <td>0.899</td>\n",
       "      <td>0.697</td>\n",
       "      <td>27.527</td>\n",
       "      <td>5.814</td>\n",
       "      <td>17.213</td>\n",
       "      <td>-0.036</td>\n",
       "    </tr>\n",
       "    <tr>\n",
       "      <th>std</th>\n",
       "      <td>822.864</td>\n",
       "      <td>27.481</td>\n",
       "      <td>0.798</td>\n",
       "      <td>0.670</td>\n",
       "      <td>0.520</td>\n",
       "      <td>202092.678</td>\n",
       "      <td>42664.248</td>\n",
       "      <td>0.979</td>\n",
       "      <td>0.271</td>\n",
       "      <td>91.277</td>\n",
       "      <td>...</td>\n",
       "      <td>0.123</td>\n",
       "      <td>0.50</td>\n",
       "      <td>0.404</td>\n",
       "      <td>0.878</td>\n",
       "      <td>0.301</td>\n",
       "      <td>0.459</td>\n",
       "      <td>27.551</td>\n",
       "      <td>2.700</td>\n",
       "      <td>8.841</td>\n",
       "      <td>0.070</td>\n",
       "    </tr>\n",
       "    <tr>\n",
       "      <th>min</th>\n",
       "      <td>240.000</td>\n",
       "      <td>1890.000</td>\n",
       "      <td>0.000</td>\n",
       "      <td>1.000</td>\n",
       "      <td>0.000</td>\n",
       "      <td>55000.000</td>\n",
       "      <td>0.000</td>\n",
       "      <td>0.000</td>\n",
       "      <td>0.000</td>\n",
       "      <td>0.000</td>\n",
       "      <td>...</td>\n",
       "      <td>0.000</td>\n",
       "      <td>0.00</td>\n",
       "      <td>0.000</td>\n",
       "      <td>1.000</td>\n",
       "      <td>0.000</td>\n",
       "      <td>0.000</td>\n",
       "      <td>-2.000</td>\n",
       "      <td>1.000</td>\n",
       "      <td>1.000</td>\n",
       "      <td>-0.463</td>\n",
       "    </tr>\n",
       "    <tr>\n",
       "      <th>25%</th>\n",
       "      <td>1431.000</td>\n",
       "      <td>1978.000</td>\n",
       "      <td>3.000</td>\n",
       "      <td>2.000</td>\n",
       "      <td>0.000</td>\n",
       "      <td>268061.500</td>\n",
       "      <td>3528.360</td>\n",
       "      <td>0.081</td>\n",
       "      <td>0.000</td>\n",
       "      <td>34.000</td>\n",
       "      <td>...</td>\n",
       "      <td>1.000</td>\n",
       "      <td>0.00</td>\n",
       "      <td>0.000</td>\n",
       "      <td>2.000</td>\n",
       "      <td>1.000</td>\n",
       "      <td>0.000</td>\n",
       "      <td>3.000</td>\n",
       "      <td>4.000</td>\n",
       "      <td>10.000</td>\n",
       "      <td>-0.079</td>\n",
       "    </tr>\n",
       "    <tr>\n",
       "      <th>50%</th>\n",
       "      <td>1819.000</td>\n",
       "      <td>2002.000</td>\n",
       "      <td>3.000</td>\n",
       "      <td>2.000</td>\n",
       "      <td>1.000</td>\n",
       "      <td>337717.500</td>\n",
       "      <td>7710.120</td>\n",
       "      <td>0.177</td>\n",
       "      <td>0.000</td>\n",
       "      <td>45.000</td>\n",
       "      <td>...</td>\n",
       "      <td>1.000</td>\n",
       "      <td>1.00</td>\n",
       "      <td>0.000</td>\n",
       "      <td>3.000</td>\n",
       "      <td>1.000</td>\n",
       "      <td>1.000</td>\n",
       "      <td>19.000</td>\n",
       "      <td>6.000</td>\n",
       "      <td>17.000</td>\n",
       "      <td>-0.023</td>\n",
       "    </tr>\n",
       "    <tr>\n",
       "      <th>75%</th>\n",
       "      <td>2300.000</td>\n",
       "      <td>2017.000</td>\n",
       "      <td>4.000</td>\n",
       "      <td>2.000</td>\n",
       "      <td>1.000</td>\n",
       "      <td>432500.000</td>\n",
       "      <td>13068.000</td>\n",
       "      <td>0.300</td>\n",
       "      <td>0.000</td>\n",
       "      <td>79.000</td>\n",
       "      <td>...</td>\n",
       "      <td>1.000</td>\n",
       "      <td>1.00</td>\n",
       "      <td>0.000</td>\n",
       "      <td>3.000</td>\n",
       "      <td>1.000</td>\n",
       "      <td>1.000</td>\n",
       "      <td>43.000</td>\n",
       "      <td>8.000</td>\n",
       "      <td>25.000</td>\n",
       "      <td>0.000</td>\n",
       "    </tr>\n",
       "    <tr>\n",
       "      <th>max</th>\n",
       "      <td>9582.000</td>\n",
       "      <td>2021.000</td>\n",
       "      <td>8.000</td>\n",
       "      <td>7.000</td>\n",
       "      <td>3.000</td>\n",
       "      <td>3500000.000</td>\n",
       "      <td>1907928.000</td>\n",
       "      <td>43.800</td>\n",
       "      <td>1.000</td>\n",
       "      <td>1604.000</td>\n",
       "      <td>...</td>\n",
       "      <td>1.000</td>\n",
       "      <td>1.00</td>\n",
       "      <td>1.000</td>\n",
       "      <td>9.000</td>\n",
       "      <td>1.000</td>\n",
       "      <td>1.000</td>\n",
       "      <td>131.000</td>\n",
       "      <td>10.000</td>\n",
       "      <td>31.000</td>\n",
       "      <td>0.562</td>\n",
       "    </tr>\n",
       "  </tbody>\n",
       "</table>\n",
       "<p>8 rows × 22 columns</p>\n",
       "</div>"
      ],
      "text/plain": [
       "       total_living_area_sqft  year_built  bedrooms  full_baths  half_baths  \\\n",
       "count                4584.000    4584.000  4584.000    4584.000    4584.000   \n",
       "mean                 1959.904    1993.251     3.146       2.132       0.575   \n",
       "std                   822.864      27.481     0.798       0.670       0.520   \n",
       "min                   240.000    1890.000     0.000       1.000       0.000   \n",
       "25%                  1431.000    1978.000     3.000       2.000       0.000   \n",
       "50%                  1819.000    2002.000     3.000       2.000       1.000   \n",
       "75%                  2300.000    2017.000     4.000       2.000       1.000   \n",
       "max                  9582.000    2021.000     8.000       7.000       3.000   \n",
       "\n",
       "        sold_price  approx_lot_sqft  approximate_acres  basement  \\\n",
       "count     4584.000         4584.000           4584.000  4584.000   \n",
       "mean    378894.778        13550.372              0.311     0.080   \n",
       "std     202092.678        42664.248              0.979     0.271   \n",
       "min      55000.000            0.000              0.000     0.000   \n",
       "25%     268061.500         3528.360              0.081     0.000   \n",
       "50%     337717.500         7710.120              0.177     0.000   \n",
       "75%     432500.000        13068.000              0.300     0.000   \n",
       "max    3500000.000      1907928.000             43.800     1.000   \n",
       "\n",
       "       days_on_market  ...  internet_listing  master_bedroom_1st_floor  \\\n",
       "count        4584.000  ...          4584.000                   4584.00   \n",
       "mean           79.317  ...             0.985                      0.51   \n",
       "std            91.277  ...             0.123                      0.50   \n",
       "min             0.000  ...             0.000                      0.00   \n",
       "25%            34.000  ...             1.000                      0.00   \n",
       "50%            45.000  ...             1.000                      1.00   \n",
       "75%            79.000  ...             1.000                      1.00   \n",
       "max          1604.000  ...             1.000                      1.00   \n",
       "\n",
       "       new_construction  total_baths  inside_city  restrictive_covenants  \\\n",
       "count          4584.000     4584.000     4584.000               4584.000   \n",
       "mean              0.205        2.707        0.899                  0.697   \n",
       "std               0.404        0.878        0.301                  0.459   \n",
       "min               0.000        1.000        0.000                  0.000   \n",
       "25%               0.000        2.000        1.000                  0.000   \n",
       "50%               0.000        3.000        1.000                  1.000   \n",
       "75%               0.000        3.000        1.000                  1.000   \n",
       "max               1.000        9.000        1.000                  1.000   \n",
       "\n",
       "       age_house  closing_month  closing_day  discount_price  \n",
       "count   4584.000       4584.000     4584.000        4584.000  \n",
       "mean      27.527          5.814       17.213          -0.036  \n",
       "std       27.551          2.700        8.841           0.070  \n",
       "min       -2.000          1.000        1.000          -0.463  \n",
       "25%        3.000          4.000       10.000          -0.079  \n",
       "50%       19.000          6.000       17.000          -0.023  \n",
       "75%       43.000          8.000       25.000           0.000  \n",
       "max      131.000         10.000       31.000           0.562  \n",
       "\n",
       "[8 rows x 22 columns]"
      ]
     },
     "execution_count": 29,
     "metadata": {},
     "output_type": "execute_result"
    }
   ],
   "source": [
    "df[numerical_cols].describe().round(3)"
   ]
  },
  {
   "cell_type": "code",
   "execution_count": 30,
   "id": "07516354-5a64-4c5f-aa68-18481538a9ce",
   "metadata": {},
   "outputs": [
    {
     "data": {
      "text/plain": [
       "<Axes: xlabel='sold_price', ylabel='Count'>"
      ]
     },
     "execution_count": 30,
     "metadata": {},
     "output_type": "execute_result"
    },
    {
     "data": {
      "image/png": "[encoded data removed]",
      "text/plain": [
       "<Figure size 640x480 with 1 Axes>"
      ]
     },
     "metadata": {},
     "output_type": "display_data"
    }
   ],
   "source": [
    "sns.histplot(df.sold_price, bins=55)"
   ]
  },
  {
   "cell_type": "code",
   "execution_count": 31,
   "id": "1403d2ea-9a5b-4b29-8c43-be741c6fdf05",
   "metadata": {},
   "outputs": [
    {
     "data": {
      "text/plain": [
       "<Axes: xlabel='sold_price', ylabel='Count'>"
      ]
     },
     "execution_count": 31,
     "metadata": {},
     "output_type": "execute_result"
    },
    {
     "data": {
      "image/png": "[encoded data removed]",
      "text/plain": [
       "<Figure size 640x480 with 1 Axes>"
      ]
     },
     "metadata": {},
     "output_type": "display_data"
    }
   ],
   "source": [
    "sns.histplot(df.sold_price[df.sold_price < 770000], bins=55)"
   ]
  },
  {
   "cell_type": "code",
   "execution_count": 32,
   "id": "8fd204df-231d-4fc3-b875-0bf46336f038",
   "metadata": {
    "scrolled": true
   },
   "outputs": [
    {
     "data": {
      "text/plain": [
       "<Axes: >"
      ]
     },
     "execution_count": 32,
     "metadata": {},
     "output_type": "execute_result"
    },
    {
     "data": {
      "image/png": "[encoded data removed]",
      "text/plain": [
       "<Figure size 640x480 with 2 Axes>"
      ]
     },
     "metadata": {},
     "output_type": "display_data"
    }
   ],
   "source": [
    "corr = df[numerical_cols].corr()\n",
    "\n",
    "sns.heatmap(corr, cmap='viridis')"
   ]
  },
  {
   "cell_type": "code",
   "execution_count": 33,
   "id": "0ff865fd-1d19-492a-8238-eb5d9ea491bf",
   "metadata": {},
   "outputs": [],
   "source": [
    "price_logs = np.log1p(df.sold_price)"
   ]
  },
  {
   "cell_type": "code",
   "execution_count": 34,
   "id": "8fa3abdf-32f0-4412-8761-0e01ff0c202b",
   "metadata": {},
   "outputs": [
    {
     "data": {
      "text/plain": [
       "<Axes: xlabel='sold_price', ylabel='Count'>"
      ]
     },
     "execution_count": 34,
     "metadata": {},
     "output_type": "execute_result"
    },
    {
     "data": {
      "image/png": "[encoded data removed]",
      "text/plain": [
       "<Figure size 640x480 with 1 Axes>"
      ]
     },
     "metadata": {},
     "output_type": "display_data"
    }
   ],
   "source": [
    "sns.histplot(price_logs, bins=55)"
   ]
  },
  {
   "cell_type": "markdown",
   "id": "e77b283b-e45a-4bf7-b8f1-884d08d510f4",
   "metadata": {},
   "source": [
    "## Split the Data"
   ]
  },
  {
   "cell_type": "code",
   "execution_count": 35,
   "id": "92c22586-b1cd-4c27-90b2-b5acbce42dcf",
   "metadata": {},
   "outputs": [],
   "source": [
    "df_copy = df.copy()"
   ]
  },
  {
   "cell_type": "code",
   "execution_count": 36,
   "id": "3d63169d-c9e2-402a-8c1c-c81824223791",
   "metadata": {},
   "outputs": [],
   "source": [
    "# Apply LabelEncoder to each categorical column\n",
    "label_encoders = {}\n",
    "for col in categorical_cols:\n",
    "    le = LabelEncoder()\n",
    "    df[col] = le.fit_transform(df_copy[col].astype(str))  # Convert to string to avoid errors\n",
    "    label_encoders[col] = le  # Store the LabelEncoder for reference or inverse transformation\n"
   ]
  },
  {
   "cell_type": "code",
   "execution_count": 37,
   "id": "8b89bf0d-65f1-47ba-85f6-59eb136c764a",
   "metadata": {},
   "outputs": [],
   "source": [
    "df_full_train, df_test = train_test_split(df_copy, test_size=0.2, shuffle=False)\n",
    "df_train, df_val = train_test_split(df_full_train, test_size=0.25, shuffle=False)"
   ]
  },
  {
   "cell_type": "code",
   "execution_count": 38,
   "id": "aafd114f-8e22-4608-a840-0ea951bb2ea9",
   "metadata": {},
   "outputs": [],
   "source": [
    "df_full_train = df_full_train.reset_index(drop=True)\n",
    "df_train = df_train.reset_index(drop=True)\n",
    "df_val = df_val.reset_index(drop=True)\n",
    "df_test = df_test.reset_index(drop=True)"
   ]
  },
  {
   "cell_type": "code",
   "execution_count": 39,
   "id": "07474be3-5272-4aae-8e19-e9d6ac6dcd55",
   "metadata": {},
   "outputs": [],
   "source": [
    "y_full_train = np.log1p(df_full_train.sold_price.values)\n",
    "y_train = np.log1p(df_train.sold_price.values)\n",
    "y_val = np.log1p(df_val.sold_price.values)\n",
    "y_test = np.log1p(df_test.sold_price.values)"
   ]
  },
  {
   "cell_type": "code",
   "execution_count": 40,
   "id": "2530b2a6-4bea-406c-98a9-4bdb5b63ea38",
   "metadata": {},
   "outputs": [],
   "source": [
    "del df_full_train['sold_price']\n",
    "del df_train['sold_price']\n",
    "del df_val['sold_price']\n",
    "del df_test['sold_price']"
   ]
  },
  {
   "cell_type": "markdown",
   "id": "396f1350-4acf-4c87-a188-2f593f080513",
   "metadata": {},
   "source": [
    "## Train the Models"
   ]
  },
  {
   "cell_type": "code",
   "execution_count": 41,
   "id": "c95ac1c5-b565-4f64-a09e-6fd8702d0d80",
   "metadata": {},
   "outputs": [],
   "source": [
    "# Function to train a model and calculate scores\n",
    "def train_and_evaluate_model(model, X_train, y_train, X_val, y_val):\n",
    "    model.fit(X_train, y_train)\n",
    "    predictions = model.predict(X_val)\n",
    "    \n",
    "    # Evaluate metrics\n",
    "    mse = mean_squared_error(y_val, predictions)\n",
    "    r2 = r2_score(y_val, predictions)\n",
    "    \n",
    "    return mse, r2\n"
   ]
  },
  {
   "cell_type": "code",
   "execution_count": 42,
   "id": "cf91374a-5d84-4deb-9305-beccd792c503",
   "metadata": {},
   "outputs": [],
   "source": [
    "# Convert DataFrame to dict and transform features\n",
    "dv = DictVectorizer(sparse=False)\n",
    "\n",
    "train_dict = df_train.to_dict(orient='records')\n",
    "X_train = dv.fit_transform(train_dict)\n",
    "\n",
    "val_dict = df_val.to_dict(orient='records')\n",
    "X_val = dv.transform(val_dict)\n"
   ]
  },
  {
   "cell_type": "code",
   "execution_count": 43,
   "id": "2a630a28-11f3-4a5e-8e09-1c74806604a8",
   "metadata": {},
   "outputs": [
    {
     "name": "stdout",
     "output_type": "stream",
     "text": [
      "Linear Regression - MSE: 0.03975, R2: 0.76056\n",
      "Decision Tree - MSE: 0.06980, R2: 0.57956\n",
      "Random Forest - MSE: 0.03210, R2: 0.80666\n",
      "Gradient Boosting - MSE: 0.02908, R2: 0.82486\n",
      "AdaBoost - MSE: 0.05498, R2: 0.66883\n",
      "Lasso Regression - MSE: 0.07243, R2: 0.56369\n",
      "Ridge Regression - MSE: 0.03037, R2: 0.81705\n",
      "ElasticNet - MSE: 0.07241, R2: 0.56380\n",
      "K-Neighbors - MSE: 0.07432, R2: 0.55235\n",
      "Support Vector Regression - MSE: 0.07660, R2: 0.53857\n",
      "Bayesian Ridge - MSE: 0.03006, R2: 0.81895\n",
      "Huber Regressor - MSE: 0.07204, R2: 0.56604\n",
      "Extra Trees - MSE: 0.02881, R2: 0.82645\n",
      "CatBoost - MSE: 0.02395, R2: 0.85571\n",
      "[LightGBM] [Info] Auto-choosing row-wise multi-threading, the overhead of testing was 0.000591 seconds.\n",
      "You can set `force_row_wise=true` to remove the overhead.\n",
      "And if memory is not enough, you can set `force_col_wise=true`.\n",
      "[LightGBM] [Info] Total Bins 1721\n",
      "[LightGBM] [Info] Number of data points in the train set: 2750, number of used features: 97\n",
      "[LightGBM] [Info] Start training from score 12.712997\n",
      "LightGBM - MSE: 0.02494, R2: 0.84979\n"
     ]
    },
    {
     "name": "stderr",
     "output_type": "stream",
     "text": [
      "/usr/local/python/3.12.1/lib/python3.12/site-packages/sklearn/utils/deprecation.py:151: FutureWarning: 'force_all_finite' was renamed to 'ensure_all_finite' in 1.6 and will be removed in 1.8.\n",
      "  warnings.warn(\n",
      "/usr/local/python/3.12.1/lib/python3.12/site-packages/sklearn/utils/deprecation.py:151: FutureWarning: 'force_all_finite' was renamed to 'ensure_all_finite' in 1.6 and will be removed in 1.8.\n",
      "  warnings.warn(\n"
     ]
    }
   ],
   "source": [
    "# List of models to evaluate\n",
    "models = {\n",
    "    \"Linear Regression\": LinearRegression(),\n",
    "    \"Decision Tree\": DecisionTreeRegressor(),\n",
    "    \"Random Forest\": RandomForestRegressor(),\n",
    "    \"Gradient Boosting\": GradientBoostingRegressor(),\n",
    "    \"AdaBoost\": AdaBoostRegressor(),\n",
    "    \"Lasso Regression\": Lasso(),\n",
    "    \"Ridge Regression\": Ridge(),\n",
    "    \"ElasticNet\": ElasticNet(),\n",
    "    \"K-Neighbors\": KNeighborsRegressor(),\n",
    "    \"Support Vector Regression\": SVR(),\n",
    "    \"Bayesian Ridge\": BayesianRidge(),\n",
    "    \"Huber Regressor\": HuberRegressor(),\n",
    "    \"Extra Trees\": ExtraTreesRegressor(),\n",
    "    \"CatBoost\": CatBoostRegressor(verbose=0),\n",
    "    \"LightGBM\": LGBMRegressor()\n",
    "}\n",
    "\n",
    "# Evaluate each model\n",
    "for name, model in models.items():\n",
    "    try:\n",
    "        mse, r2 = train_and_evaluate_model(model, X_train, y_train, X_val, y_val)\n",
    "        print(f\"{name} - MSE: {mse:.5f}, R2: {r2:.5f}\")\n",
    "    except Exception as e:\n",
    "        print(f\"Error in {name}: {e}\")\n"
   ]
  },
  {
   "cell_type": "code",
   "execution_count": 44,
   "id": "f1ad2314-3377-4c54-81f4-6ea6a18d251b",
   "metadata": {},
   "outputs": [],
   "source": [
    "# Objective function for CatBoost\n",
    "def objective_catboost(trial):\n",
    "    params = {\n",
    "        'iterations': trial.suggest_int('iterations', 100, 1000),\n",
    "        'depth': trial.suggest_int('depth', 4, 10),\n",
    "        'learning_rate': trial.suggest_float('learning_rate', 0.01, 0.3, step=0.01),\n",
    "        'l2_leaf_reg': trial.suggest_float('l2_leaf_reg', 1e-3, 10.0, log=True),\n",
    "        'random_strength': trial.suggest_float('random_strength', 1e-3, 10.0, log=True),\n",
    "        'bagging_temperature': trial.suggest_float('bagging_temperature', 0.0, 1.0),\n",
    "        'border_count': trial.suggest_int('border_count', 1, 255),\n",
    "        'loss_function': 'RMSE',\n",
    "        'random_state': 42\n",
    "    }\n",
    "\n",
    "    # Create a CatBoost model with the specified parameters\n",
    "    model = CatBoostRegressor(**params, verbose=0)\n",
    "    model.fit(X_train, y_train)\n",
    "\n",
    "    # Predict on the validation data\n",
    "    y_pred = model.predict(X_val)\n",
    "\n",
    "    # Calculate RMSE\n",
    "    rmse = np.sqrt(mean_squared_error(y_val, y_pred))\n",
    "    return rmse\n"
   ]
  },
  {
   "cell_type": "code",
   "execution_count": 45,
   "id": "9a0e972d-a5b6-4c98-8773-77341e3d1376",
   "metadata": {},
   "outputs": [
    {
     "name": "stderr",
     "output_type": "stream",
     "text": [
      "[I 2025-01-12 10:23:51,192] A new study created in memory with name: no-name-f722e85d-a87c-4b57-aef8-83ef104cc49b\n",
      "[I 2025-01-12 10:23:58,818] Trial 0 finished with value: 0.16743023184760125 and parameters: {'iterations': 437, 'depth': 10, 'learning_rate': 0.22, 'l2_leaf_reg': 0.24810409748678125, 'random_strength': 0.004207988669606638, 'bagging_temperature': 0.15599452033620265, 'border_count': 15}. Best is trial 0 with value: 0.16743023184760125.\n",
      "[I 2025-01-12 10:24:04,559] Trial 1 finished with value: 0.1621571508891797 and parameters: {'iterations': 880, 'depth': 8, 'learning_rate': 0.22, 'l2_leaf_reg': 0.0012087541473056963, 'random_strength': 7.579479953348009, 'bagging_temperature': 0.8324426408004217, 'border_count': 55}. Best is trial 1 with value: 0.1621571508891797.\n",
      "[I 2025-01-12 10:24:05,848] Trial 2 finished with value: 0.15634738096422182 and parameters: {'iterations': 263, 'depth': 5, 'learning_rate': 0.09999999999999999, 'l2_leaf_reg': 0.12561043700013558, 'random_strength': 0.05342937261279776, 'bagging_temperature': 0.2912291401980419, 'border_count': 157}. Best is trial 2 with value: 0.15634738096422182.\n",
      "[I 2025-01-12 10:24:07,302] Trial 3 finished with value: 0.15001984678439484 and parameters: {'iterations': 225, 'depth': 6, 'learning_rate': 0.11, 'l2_leaf_reg': 0.06672367170464207, 'random_strength': 1.382623217936987, 'bagging_temperature': 0.19967378215835974, 'border_count': 132}. Best is trial 3 with value: 0.15001984678439484.\n",
      "[I 2025-01-12 10:24:09,167] Trial 4 finished with value: 0.1604372763382613 and parameters: {'iterations': 633, 'depth': 4, 'learning_rate': 0.19, 'l2_leaf_reg': 0.004809461967501573, 'random_strength': 0.0018205657658407262, 'bagging_temperature': 0.9488855372533332, 'border_count': 247}. Best is trial 3 with value: 0.15001984678439484.\n",
      "[I 2025-01-12 10:24:12,302] Trial 5 finished with value: 0.1549748772079582 and parameters: {'iterations': 828, 'depth': 6, 'learning_rate': 0.03, 'l2_leaf_reg': 0.5456725485601477, 'random_strength': 0.057624872164786026, 'bagging_temperature': 0.12203823484477883, 'border_count': 127}. Best is trial 3 with value: 0.15001984678439484.\n",
      "[I 2025-01-12 10:24:15,818] Trial 6 finished with value: 0.1671637621945754 and parameters: {'iterations': 130, 'depth': 10, 'learning_rate': 0.08, 'l2_leaf_reg': 0.4467752817973907, 'random_strength': 0.017654048052495083, 'bagging_temperature': 0.5200680211778108, 'border_count': 140}. Best is trial 3 with value: 0.15001984678439484.\n",
      "[I 2025-01-12 10:24:23,223] Trial 7 finished with value: 0.15991046284729124 and parameters: {'iterations': 266, 'depth': 10, 'learning_rate': 0.24000000000000002, 'l2_leaf_reg': 5.727904470799623, 'random_strength': 3.7958531426706403, 'bagging_temperature': 0.5978999788110851, 'border_count': 236}. Best is trial 3 with value: 0.15001984678439484.\n",
      "[I 2025-01-12 10:24:24,300] Trial 8 finished with value: 0.19004514688853774 and parameters: {'iterations': 179, 'depth': 5, 'learning_rate': 0.02, 'l2_leaf_reg': 0.02001342062287998, 'random_strength': 0.03586816498627549, 'bagging_temperature': 0.2713490317738959, 'border_count': 212}. Best is trial 3 with value: 0.15001984678439484.\n",
      "[I 2025-01-12 10:24:26,079] Trial 9 finished with value: 0.15528021457076666 and parameters: {'iterations': 421, 'depth': 5, 'learning_rate': 0.17, 'l2_leaf_reg': 0.0036618192203924276, 'random_strength': 1.6172900811143154, 'bagging_temperature': 0.07455064367977082, 'border_count': 252}. Best is trial 3 with value: 0.15001984678439484.\n",
      "[I 2025-01-12 10:24:30,559] Trial 10 finished with value: 0.16910393919879654 and parameters: {'iterations': 562, 'depth': 8, 'learning_rate': 0.3, 'l2_leaf_reg': 0.024400771927662206, 'random_strength': 0.4964646836954137, 'bagging_temperature': 0.38029296025181053, 'border_count': 88}. Best is trial 3 with value: 0.15001984678439484.\n",
      "[I 2025-01-12 10:24:35,704] Trial 11 finished with value: 0.16337973828958188 and parameters: {'iterations': 966, 'depth': 7, 'learning_rate': 0.01, 'l2_leaf_reg': 2.1022994083881446, 'random_strength': 0.2949971987301983, 'bagging_temperature': 0.02666418411826038, 'border_count': 176}. Best is trial 3 with value: 0.15001984678439484.\n",
      "[I 2025-01-12 10:24:39,671] Trial 12 finished with value: 0.15065069573584527 and parameters: {'iterations': 777, 'depth': 7, 'learning_rate': 0.09, 'l2_leaf_reg': 0.9551364314447321, 'random_strength': 0.2691624202310528, 'bagging_temperature': 0.21437163559881067, 'border_count': 106}. Best is trial 3 with value: 0.15001984678439484.\n",
      "[I 2025-01-12 10:24:43,167] Trial 13 finished with value: 0.1464960464293158 and parameters: {'iterations': 721, 'depth': 7, 'learning_rate': 0.11, 'l2_leaf_reg': 1.5428265953485776, 'random_strength': 0.4726102737804253, 'bagging_temperature': 0.37217093185683103, 'border_count': 90}. Best is trial 13 with value: 0.1464960464293158.\n",
      "[I 2025-01-12 10:24:47,878] Trial 14 finished with value: 0.15682900600323987 and parameters: {'iterations': 686, 'depth': 8, 'learning_rate': 0.13, 'l2_leaf_reg': 0.04652629106902196, 'random_strength': 1.2974703235040814, 'bagging_temperature': 0.4167592747695319, 'border_count': 60}. Best is trial 13 with value: 0.1464960464293158.\n",
      "[I 2025-01-12 10:24:49,940] Trial 15 finished with value: 0.1598151240116799 and parameters: {'iterations': 441, 'depth': 6, 'learning_rate': 0.14, 'l2_leaf_reg': 9.064133162971203, 'random_strength': 0.8961761225226234, 'bagging_temperature': 0.631084343538965, 'border_count': 192}. Best is trial 13 with value: 0.1464960464293158.\n",
      "[I 2025-01-12 10:24:52,673] Trial 16 finished with value: 0.15198701939231998 and parameters: {'iterations': 713, 'depth': 6, 'learning_rate': 0.060000000000000005, 'l2_leaf_reg': 0.09121408267808616, 'random_strength': 0.18852159041563288, 'bagging_temperature': 0.3812663701378688, 'border_count': 75}. Best is trial 13 with value: 0.1464960464293158.\n",
      "[I 2025-01-12 10:24:56,432] Trial 17 finished with value: 0.156005493200514 and parameters: {'iterations': 330, 'depth': 9, 'learning_rate': 0.12, 'l2_leaf_reg': 2.021804679722331, 'random_strength': 3.293541028855422, 'bagging_temperature': 0.705938802363825, 'border_count': 15}. Best is trial 13 with value: 0.1464960464293158.\n",
      "[I 2025-01-12 10:24:57,987] Trial 18 finished with value: 0.15869080483908282 and parameters: {'iterations': 565, 'depth': 4, 'learning_rate': 0.060000000000000005, 'l2_leaf_reg': 0.009209029326216804, 'random_strength': 8.394009304368009, 'bagging_temperature': 0.456079043375911, 'border_count': 107}. Best is trial 13 with value: 0.1464960464293158.\n",
      "[I 2025-01-12 10:25:02,421] Trial 19 finished with value: 0.1544900568221979 and parameters: {'iterations': 969, 'depth': 7, 'learning_rate': 0.18000000000000002, 'l2_leaf_reg': 0.19328728896105002, 'random_strength': 0.11360904762622828, 'bagging_temperature': 0.315542140738186, 'border_count': 42}. Best is trial 13 with value: 0.1464960464293158.\n",
      "[I 2025-01-12 10:25:04,030] Trial 20 finished with value: 0.15670325489997491 and parameters: {'iterations': 331, 'depth': 6, 'learning_rate': 0.15000000000000002, 'l2_leaf_reg': 0.06169613115186194, 'random_strength': 0.6279475070534114, 'bagging_temperature': 0.00044303414453383816, 'border_count': 123}. Best is trial 13 with value: 0.1464960464293158.\n",
      "[I 2025-01-12 10:25:07,933] Trial 21 finished with value: 0.15077907562730614 and parameters: {'iterations': 784, 'depth': 7, 'learning_rate': 0.09999999999999999, 'l2_leaf_reg': 1.2060415286200616, 'random_strength': 0.2642292327346078, 'bagging_temperature': 0.1964001555547573, 'border_count': 99}. Best is trial 13 with value: 0.1464960464293158.\n",
      "[I 2025-01-12 10:25:13,928] Trial 22 finished with value: 0.15350990521800348 and parameters: {'iterations': 739, 'depth': 8, 'learning_rate': 0.09999999999999999, 'l2_leaf_reg': 0.766841941772111, 'random_strength': 3.2092601977965782, 'bagging_temperature': 0.20924308290560437, 'border_count': 152}. Best is trial 13 with value: 0.1464960464293158.\n",
      "[I 2025-01-12 10:25:17,225] Trial 23 finished with value: 0.1584681862331438 and parameters: {'iterations': 645, 'depth': 7, 'learning_rate': 0.060000000000000005, 'l2_leaf_reg': 3.7649322644380177, 'random_strength': 0.14759891324322047, 'bagging_temperature': 0.2529574487767025, 'border_count': 113}. Best is trial 13 with value: 0.1464960464293158.\n",
      "[I 2025-01-12 10:25:21,440] Trial 24 finished with value: 0.15173085009498608 and parameters: {'iterations': 853, 'depth': 7, 'learning_rate': 0.12, 'l2_leaf_reg': 0.3536954636025749, 'random_strength': 0.509124597404598, 'bagging_temperature': 0.5240459372584388, 'border_count': 83}. Best is trial 13 with value: 0.1464960464293158.\n",
      "[I 2025-01-12 10:25:28,538] Trial 25 finished with value: 0.15477342886966533 and parameters: {'iterations': 507, 'depth': 9, 'learning_rate': 0.04, 'l2_leaf_reg': 1.0061758118238704, 'random_strength': 0.014027670370025435, 'bagging_temperature': 0.3417502316132168, 'border_count': 157}. Best is trial 13 with value: 0.1464960464293158.\n",
      "[I 2025-01-12 10:25:31,720] Trial 26 finished with value: 0.15036515771152395 and parameters: {'iterations': 901, 'depth': 6, 'learning_rate': 0.08, 'l2_leaf_reg': 4.172493126387767, 'random_strength': 1.7933697099232044, 'bagging_temperature': 0.11196127773788545, 'border_count': 42}. Best is trial 13 with value: 0.1464960464293158.\n",
      "[I 2025-01-12 10:25:34,095] Trial 27 finished with value: 0.16326633469862822 and parameters: {'iterations': 908, 'depth': 5, 'learning_rate': 0.06999999999999999, 'l2_leaf_reg': 9.847897000139005, 'random_strength': 2.0445295869366675, 'bagging_temperature': 0.07711550285957414, 'border_count': 40}. Best is trial 13 with value: 0.1464960464293158.\n",
      "[I 2025-01-12 10:25:36,492] Trial 28 finished with value: 0.1529159402834241 and parameters: {'iterations': 644, 'depth': 6, 'learning_rate': 0.16, 'l2_leaf_reg': 2.746685480950294, 'random_strength': 0.9994741873384261, 'bagging_temperature': 0.14507255811209577, 'border_count': 30}. Best is trial 13 with value: 0.1464960464293158.\n",
      "[I 2025-01-12 10:25:39,548] Trial 29 finished with value: 0.15535389802137223 and parameters: {'iterations': 937, 'depth': 6, 'learning_rate': 0.13, 'l2_leaf_reg': 0.23829841962752116, 'random_strength': 3.9421015405939515, 'bagging_temperature': 0.12005887865160741, 'border_count': 12}. Best is trial 13 with value: 0.1464960464293158.\n",
      "[I 2025-01-12 10:25:42,417] Trial 30 finished with value: 0.1528816258536445 and parameters: {'iterations': 998, 'depth': 5, 'learning_rate': 0.2, 'l2_leaf_reg': 5.272063743403585, 'random_strength': 2.020235992996831, 'bagging_temperature': 0.17651710333855816, 'border_count': 62}. Best is trial 13 with value: 0.1464960464293158.\n",
      "[I 2025-01-12 10:25:45,949] Trial 31 finished with value: 0.15077323913598287 and parameters: {'iterations': 748, 'depth': 7, 'learning_rate': 0.09, 'l2_leaf_reg': 1.2423238846367326, 'random_strength': 0.2999624359161047, 'bagging_temperature': 0.23430985394225368, 'border_count': 95}. Best is trial 13 with value: 0.1464960464293158.\n",
      "[I 2025-01-12 10:25:51,698] Trial 32 finished with value: 0.15414904793046 and parameters: {'iterations': 811, 'depth': 8, 'learning_rate': 0.11, 'l2_leaf_reg': 1.832044730183241, 'random_strength': 0.5620719481286536, 'bagging_temperature': 0.3273934005000707, 'border_count': 74}. Best is trial 13 with value: 0.1464960464293158.\n",
      "[I 2025-01-12 10:25:54,942] Trial 33 finished with value: 0.15311433907144537 and parameters: {'iterations': 888, 'depth': 6, 'learning_rate': 0.08, 'l2_leaf_reg': 0.13075615859027628, 'random_strength': 0.07630235649653476, 'bagging_temperature': 0.06403369570750347, 'border_count': 137}. Best is trial 13 with value: 0.1464960464293158.\n",
      "[I 2025-01-12 10:25:58,853] Trial 34 finished with value: 0.15399230676663134 and parameters: {'iterations': 789, 'depth': 7, 'learning_rate': 0.05, 'l2_leaf_reg': 3.5866092303026873, 'random_strength': 5.269685306986714, 'bagging_temperature': 0.1607879957618617, 'border_count': 116}. Best is trial 13 with value: 0.1464960464293158.\n",
      "[I 2025-01-12 10:26:05,466] Trial 35 finished with value: 0.15211749981103984 and parameters: {'iterations': 602, 'depth': 9, 'learning_rate': 0.09, 'l2_leaf_reg': 0.7082983723506917, 'random_strength': 0.9312546294351389, 'bagging_temperature': 0.26584644668701873, 'border_count': 49}. Best is trial 13 with value: 0.1464960464293158.\n",
      "[I 2025-01-12 10:26:08,192] Trial 36 finished with value: 0.15217356232461107 and parameters: {'iterations': 843, 'depth': 5, 'learning_rate': 0.11, 'l2_leaf_reg': 0.035560604425464465, 'random_strength': 0.0019297355872959002, 'bagging_temperature': 0.4509835830596314, 'border_count': 171}. Best is trial 13 with value: 0.1464960464293158.\n",
      "[I 2025-01-12 10:26:10,151] Trial 37 finished with value: 0.15708280242454586 and parameters: {'iterations': 483, 'depth': 6, 'learning_rate': 0.04, 'l2_leaf_reg': 0.32666874015215797, 'random_strength': 0.3791057252813524, 'bagging_temperature': 0.9982835861660031, 'border_count': 28}. Best is trial 13 with value: 0.1464960464293158.\n",
      "[I 2025-01-12 10:26:11,188] Trial 38 finished with value: 0.16595186318428098 and parameters: {'iterations': 193, 'depth': 4, 'learning_rate': 0.08, 'l2_leaf_reg': 0.15087922443485488, 'random_strength': 0.03924719195550714, 'bagging_temperature': 0.8120151248686935, 'border_count': 138}. Best is trial 13 with value: 0.1464960464293158.\n",
      "[I 2025-01-12 10:26:14,784] Trial 39 finished with value: 0.15589900581701596 and parameters: {'iterations': 705, 'depth': 7, 'learning_rate': 0.24000000000000002, 'l2_leaf_reg': 0.0014382932929486963, 'random_strength': 1.9670558512340377, 'bagging_temperature': 0.09462940509576778, 'border_count': 68}. Best is trial 13 with value: 0.1464960464293158.\n",
      "[I 2025-01-12 10:26:17,563] Trial 40 finished with value: 0.15543848113922562 and parameters: {'iterations': 767, 'depth': 6, 'learning_rate': 0.15000000000000002, 'l2_leaf_reg': 0.4487891684498914, 'random_strength': 0.16990050463932246, 'bagging_temperature': 0.21191348775968444, 'border_count': 129}. Best is trial 13 with value: 0.1464960464293158.\n",
      "[I 2025-01-12 10:26:21,735] Trial 41 finished with value: 0.15069869018460022 and parameters: {'iterations': 871, 'depth': 7, 'learning_rate': 0.09, 'l2_leaf_reg': 1.3124714658887942, 'random_strength': 0.7084015155853668, 'bagging_temperature': 0.2553785337736191, 'border_count': 94}. Best is trial 13 with value: 0.1464960464293158.\n",
      "[I 2025-01-12 10:26:26,226] Trial 42 finished with value: 0.15307896911068067 and parameters: {'iterations': 902, 'depth': 7, 'learning_rate': 0.09, 'l2_leaf_reg': 5.0923760524220745, 'random_strength': 0.786905256996064, 'bagging_temperature': 0.34459921175231417, 'border_count': 100}. Best is trial 13 with value: 0.1464960464293158.\n",
      "[I 2025-01-12 10:26:32,179] Trial 43 finished with value: 0.15629317882153787 and parameters: {'iterations': 847, 'depth': 8, 'learning_rate': 0.11, 'l2_leaf_reg': 1.4561752494720743, 'random_strength': 1.2858898438812856, 'bagging_temperature': 0.28121787037602064, 'border_count': 86}. Best is trial 13 with value: 0.1464960464293158.\n",
      "[I 2025-01-12 10:26:33,865] Trial 44 finished with value: 0.1598030857163042 and parameters: {'iterations': 113, 'depth': 8, 'learning_rate': 0.13, 'l2_leaf_reg': 0.6007099284624966, 'random_strength': 0.4285748571867931, 'bagging_temperature': 0.14992465750949902, 'border_count': 109}. Best is trial 13 with value: 0.1464960464293158.\n",
      "[I 2025-01-12 10:26:36,556] Trial 45 finished with value: 0.15013147874977756 and parameters: {'iterations': 676, 'depth': 6, 'learning_rate': 0.08, 'l2_leaf_reg': 0.08707306830957144, 'random_strength': 0.22037923438148938, 'bagging_temperature': 0.4000326691864714, 'border_count': 148}. Best is trial 13 with value: 0.1464960464293158.\n",
      "[I 2025-01-12 10:26:38,769] Trial 46 finished with value: 0.16019667170430424 and parameters: {'iterations': 662, 'depth': 5, 'learning_rate': 0.03, 'l2_leaf_reg': 0.014205851724869469, 'random_strength': 0.08646500424401254, 'bagging_temperature': 0.5428539553518337, 'border_count': 147}. Best is trial 13 with value: 0.1464960464293158.\n",
      "[I 2025-01-12 10:26:41,314] Trial 47 finished with value: 0.1545235904545542 and parameters: {'iterations': 598, 'depth': 6, 'learning_rate': 0.060000000000000005, 'l2_leaf_reg': 0.06492773782474409, 'random_strength': 0.22616412780296866, 'bagging_temperature': 0.3938098735802969, 'border_count': 190}. Best is trial 13 with value: 0.1464960464293158.\n",
      "[I 2025-01-12 10:26:43,594] Trial 48 finished with value: 0.15416505216727056 and parameters: {'iterations': 698, 'depth': 5, 'learning_rate': 0.06999999999999999, 'l2_leaf_reg': 0.0424496215298141, 'random_strength': 0.020231196692570338, 'bagging_temperature': 0.4305401941703333, 'border_count': 125}. Best is trial 13 with value: 0.1464960464293158.\n",
      "[I 2025-01-12 10:26:45,474] Trial 49 finished with value: 0.1827823119642285 and parameters: {'iterations': 382, 'depth': 6, 'learning_rate': 0.01, 'l2_leaf_reg': 0.10019957926870454, 'random_strength': 0.12734832097595755, 'bagging_temperature': 0.04518119261590206, 'border_count': 168}. Best is trial 13 with value: 0.1464960464293158.\n"
     ]
    },
    {
     "name": "stdout",
     "output_type": "stream",
     "text": [
      "Best parameters for CatBoost:\n",
      "{'iterations': 721, 'depth': 7, 'learning_rate': 0.11, 'l2_leaf_reg': 1.5428265953485776, 'random_strength': 0.4726102737804253, 'bagging_temperature': 0.37217093185683103, 'border_count': 90}\n",
      "Best RMSE for CatBoost: 0.14650\n"
     ]
    }
   ],
   "source": [
    "# Create study with TPESampler and fixed seed\n",
    "study_catboost = optuna.create_study(\n",
    "    direction='minimize', \n",
    "    sampler=optuna.samplers.TPESampler(seed=42)  # Set seed here\n",
    ")\n",
    "\n",
    "# Run Optuna for CatBoost\n",
    "study_catboost.optimize(objective_catboost, n_trials=50)\n",
    "\n",
    "# Best results for CatBoost\n",
    "print(\"Best parameters for CatBoost:\")\n",
    "print(study_catboost.best_trial.params)\n",
    "print(\"Best RMSE for CatBoost: {:.5f}\".format(study_catboost.best_value))"
   ]
  },
  {
   "cell_type": "code",
   "execution_count": 46,
   "id": "cf65cb72-c7c3-48cb-b417-957efd8b7d11",
   "metadata": {},
   "outputs": [],
   "source": [
    "# Objective function for Gradient Boosting\n",
    "def objective_gbr(trial):\n",
    "    params = {\n",
    "        'n_estimators': trial.suggest_int('n_estimators', 50, 500),\n",
    "        'max_depth': trial.suggest_int('max_depth', 3, 10),\n",
    "        'learning_rate': trial.suggest_float('learning_rate', 0.01, 0.3, step=0.01),\n",
    "        'subsample': trial.suggest_float('subsample', 0.5, 1.0),\n",
    "        'min_samples_split': trial.suggest_int('min_samples_split', 2, 20),\n",
    "        'min_samples_leaf': trial.suggest_int('min_samples_leaf', 1, 20),\n",
    "        'random_state': 42\n",
    "    }\n",
    "\n",
    "    # Create a Gradient Boosting model with the specified parameters\n",
    "    model = GradientBoostingRegressor(**params)\n",
    "    model.fit(X_train, y_train)\n",
    "\n",
    "    # Predict on the validation data\n",
    "    y_pred = model.predict(X_val)\n",
    "\n",
    "    # Calculate RMSE\n",
    "    rmse = np.sqrt(mean_squared_error(y_val, y_pred))\n",
    "    return rmse\n"
   ]
  },
  {
   "cell_type": "code",
   "execution_count": 47,
   "id": "082e5d48-5ffb-40b0-a41a-d99cef407327",
   "metadata": {
    "scrolled": true
   },
   "outputs": [
    {
     "name": "stderr",
     "output_type": "stream",
     "text": [
      "[I 2025-01-12 10:26:45,489] A new study created in memory with name: no-name-27f94263-fb08-49ac-886e-f16249dfe4c1\n",
      "[I 2025-01-12 10:26:55,434] Trial 0 finished with value: 0.18003595783570686 and parameters: {'n_estimators': 218, 'max_depth': 10, 'learning_rate': 0.22, 'subsample': 0.7993292420985183, 'min_samples_split': 4, 'min_samples_leaf': 4}. Best is trial 0 with value: 0.18003595783570686.\n",
      "[I 2025-01-12 10:26:58,636] Trial 1 finished with value: 0.1668916693244336 and parameters: {'n_estimators': 76, 'max_depth': 9, 'learning_rate': 0.19, 'subsample': 0.8540362888980227, 'min_samples_split': 2, 'min_samples_leaf': 20}. Best is trial 1 with value: 0.1668916693244336.\n",
      "[I 2025-01-12 10:27:05,024] Trial 2 finished with value: 0.15773860320486574 and parameters: {'n_estimators': 425, 'max_depth': 4, 'learning_rate': 0.060000000000000005, 'subsample': 0.5917022549267169, 'min_samples_split': 7, 'min_samples_leaf': 11}. Best is trial 2 with value: 0.15773860320486574.\n",
      "[I 2025-01-12 10:27:09,227] Trial 3 finished with value: 0.17364911804265365 and parameters: {'n_estimators': 244, 'max_depth': 5, 'learning_rate': 0.19, 'subsample': 0.569746930326021, 'min_samples_split': 7, 'min_samples_leaf': 8}. Best is trial 2 with value: 0.15773860320486574.\n",
      "[I 2025-01-12 10:27:19,109] Trial 4 finished with value: 0.1611372444806978 and parameters: {'n_estimators': 255, 'max_depth': 9, 'learning_rate': 0.060000000000000005, 'subsample': 0.7571172192068059, 'min_samples_split': 13, 'min_samples_leaf': 1}. Best is trial 2 with value: 0.15773860320486574.\n",
      "[I 2025-01-12 10:27:27,297] Trial 5 finished with value: 0.17260511528894962 and parameters: {'n_estimators': 324, 'max_depth': 4, 'learning_rate': 0.02, 'subsample': 0.9744427686266666, 'min_samples_split': 20, 'min_samples_leaf': 17}. Best is trial 2 with value: 0.15773860320486574.\n",
      "[I 2025-01-12 10:27:30,008] Trial 6 finished with value: 0.16508939643634404 and parameters: {'n_estimators': 187, 'max_depth': 3, 'learning_rate': 0.21000000000000002, 'subsample': 0.7200762468698007, 'min_samples_split': 4, 'min_samples_leaf': 10}. Best is trial 2 with value: 0.15773860320486574.\n",
      "[I 2025-01-12 10:27:32,695] Trial 7 finished with value: 0.1713271577748285 and parameters: {'n_estimators': 65, 'max_depth': 10, 'learning_rate': 0.08, 'subsample': 0.831261142176991, 'min_samples_split': 7, 'min_samples_leaf': 11}. Best is trial 2 with value: 0.15773860320486574.\n",
      "[I 2025-01-12 10:27:39,572] Trial 8 finished with value: 0.1639567896051199 and parameters: {'n_estimators': 296, 'max_depth': 4, 'learning_rate': 0.3, 'subsample': 0.8875664116805573, 'min_samples_split': 19, 'min_samples_leaf': 18}. Best is trial 2 with value: 0.15773860320486574.\n",
      "[I 2025-01-12 10:27:49,331] Trial 9 finished with value: 0.1585291408559986 and parameters: {'n_estimators': 319, 'max_depth': 10, 'learning_rate': 0.03, 'subsample': 0.5979914312095727, 'min_samples_split': 2, 'min_samples_leaf': 7}. Best is trial 2 with value: 0.15773860320486574.\n",
      "[I 2025-01-12 10:27:58,887] Trial 10 finished with value: 0.16546142728585084 and parameters: {'n_estimators': 491, 'max_depth': 7, 'learning_rate': 0.12, 'subsample': 0.5089809378074097, 'min_samples_split': 13, 'min_samples_leaf': 14}. Best is trial 2 with value: 0.15773860320486574.\n",
      "[I 2025-01-12 10:28:09,855] Trial 11 finished with value: 0.16030721767912734 and parameters: {'n_estimators': 431, 'max_depth': 7, 'learning_rate': 0.02, 'subsample': 0.650003508632543, 'min_samples_split': 9, 'min_samples_leaf': 6}. Best is trial 2 with value: 0.15773860320486574.\n",
      "[I 2025-01-12 10:28:18,171] Trial 12 finished with value: 0.16468144408622207 and parameters: {'n_estimators': 381, 'max_depth': 6, 'learning_rate': 0.09999999999999999, 'subsample': 0.6200332915693267, 'min_samples_split': 2, 'min_samples_leaf': 12}. Best is trial 2 with value: 0.15773860320486574.\n",
      "[I 2025-01-12 10:28:29,406] Trial 13 finished with value: 0.16256284222725356 and parameters: {'n_estimators': 371, 'max_depth': 8, 'learning_rate': 0.05, 'subsample': 0.6728468726241332, 'min_samples_split': 6, 'min_samples_leaf': 7}. Best is trial 2 with value: 0.15773860320486574.\n",
      "[I 2025-01-12 10:28:38,142] Trial 14 finished with value: 0.16201835761583028 and parameters: {'n_estimators': 492, 'max_depth': 6, 'learning_rate': 0.13, 'subsample': 0.5103633082201379, 'min_samples_split': 11, 'min_samples_leaf': 14}. Best is trial 2 with value: 0.15773860320486574.\n",
      "[I 2025-01-12 10:28:42,606] Trial 15 finished with value: 0.19450211651013627 and parameters: {'n_estimators': 415, 'max_depth': 3, 'learning_rate': 0.01, 'subsample': 0.5554432753583699, 'min_samples_split': 9, 'min_samples_leaf': 4}. Best is trial 2 with value: 0.15773860320486574.\n",
      "[I 2025-01-12 10:28:49,039] Trial 16 finished with value: 0.15966254303573776 and parameters: {'n_estimators': 344, 'max_depth': 5, 'learning_rate': 0.060000000000000005, 'subsample': 0.5979644942759226, 'min_samples_split': 16, 'min_samples_leaf': 9}. Best is trial 2 with value: 0.15773860320486574.\n",
      "[I 2025-01-12 10:29:03,088] Trial 17 finished with value: 0.17348522687706122 and parameters: {'n_estimators': 434, 'max_depth': 8, 'learning_rate': 0.15000000000000002, 'subsample': 0.6967875000375171, 'min_samples_split': 5, 'min_samples_leaf': 5}. Best is trial 2 with value: 0.15773860320486574.\n",
      "[I 2025-01-12 10:29:06,178] Trial 18 finished with value: 0.16277373436573478 and parameters: {'n_estimators': 157, 'max_depth': 5, 'learning_rate': 0.09, 'subsample': 0.63126231828219, 'min_samples_split': 9, 'min_samples_leaf': 13}. Best is trial 2 with value: 0.15773860320486574.\n",
      "[I 2025-01-12 10:29:10,572] Trial 19 finished with value: 0.165009780834012 and parameters: {'n_estimators': 295, 'max_depth': 4, 'learning_rate': 0.04, 'subsample': 0.5575090435960492, 'min_samples_split': 2, 'min_samples_leaf': 1}. Best is trial 2 with value: 0.15773860320486574.\n",
      "[I 2025-01-12 10:29:23,368] Trial 20 finished with value: 0.17348139104115534 and parameters: {'n_estimators': 394, 'max_depth': 8, 'learning_rate': 0.28, 'subsample': 0.7153166316772055, 'min_samples_split': 11, 'min_samples_leaf': 16}. Best is trial 2 with value: 0.15773860320486574.\n",
      "[I 2025-01-12 10:29:29,802] Trial 21 finished with value: 0.16113659131087127 and parameters: {'n_estimators': 351, 'max_depth': 5, 'learning_rate': 0.06999999999999999, 'subsample': 0.6027164834155112, 'min_samples_split': 17, 'min_samples_leaf': 9}. Best is trial 2 with value: 0.15773860320486574.\n",
      "[I 2025-01-12 10:29:35,666] Trial 22 finished with value: 0.15858686232764346 and parameters: {'n_estimators': 335, 'max_depth': 5, 'learning_rate': 0.04, 'subsample': 0.5881505782715022, 'min_samples_split': 16, 'min_samples_leaf': 9}. Best is trial 2 with value: 0.15773860320486574.\n",
      "[I 2025-01-12 10:29:44,288] Trial 23 finished with value: 0.15597251322282066 and parameters: {'n_estimators': 457, 'max_depth': 6, 'learning_rate': 0.03, 'subsample': 0.5386899569864505, 'min_samples_split': 15, 'min_samples_leaf': 11}. Best is trial 23 with value: 0.15597251322282066.\n",
      "[I 2025-01-12 10:29:52,348] Trial 24 finished with value: 0.16747930064037767 and parameters: {'n_estimators': 458, 'max_depth': 6, 'learning_rate': 0.01, 'subsample': 0.5349347257469105, 'min_samples_split': 14, 'min_samples_leaf': 11}. Best is trial 23 with value: 0.15597251322282066.\n",
      "[I 2025-01-12 10:30:04,757] Trial 25 finished with value: 0.16772721252960765 and parameters: {'n_estimators': 468, 'max_depth': 7, 'learning_rate': 0.11, 'subsample': 0.6590611117724917, 'min_samples_split': 14, 'min_samples_leaf': 7}. Best is trial 23 with value: 0.15597251322282066.\n",
      "[I 2025-01-12 10:30:14,106] Trial 26 finished with value: 0.15841932188816377 and parameters: {'n_estimators': 408, 'max_depth': 9, 'learning_rate': 0.04, 'subsample': 0.5001050669399258, 'min_samples_split': 4, 'min_samples_leaf': 15}. Best is trial 23 with value: 0.15597251322282066.\n",
      "[I 2025-01-12 10:30:23,707] Trial 27 finished with value: 0.16480557424737385 and parameters: {'n_estimators': 409, 'max_depth': 9, 'learning_rate': 0.08, 'subsample': 0.5015056624407932, 'min_samples_split': 11, 'min_samples_leaf': 15}. Best is trial 23 with value: 0.15597251322282066.\n",
      "[I 2025-01-12 10:30:28,786] Trial 28 finished with value: 0.1624650711100228 and parameters: {'n_estimators': 461, 'max_depth': 3, 'learning_rate': 0.14, 'subsample': 0.5478431678184628, 'min_samples_split': 4, 'min_samples_leaf': 13}. Best is trial 23 with value: 0.15597251322282066.\n",
      "[I 2025-01-12 10:30:37,475] Trial 29 finished with value: 0.15894039791764134 and parameters: {'n_estimators': 442, 'max_depth': 4, 'learning_rate': 0.25, 'subsample': 0.7671889659475281, 'min_samples_split': 6, 'min_samples_leaf': 19}. Best is trial 23 with value: 0.15597251322282066.\n",
      "[I 2025-01-12 10:30:46,781] Trial 30 finished with value: 0.1582617693389695 and parameters: {'n_estimators': 500, 'max_depth': 6, 'learning_rate': 0.05, 'subsample': 0.5304378005782965, 'min_samples_split': 8, 'min_samples_leaf': 16}. Best is trial 23 with value: 0.15597251322282066.\n",
      "[I 2025-01-12 10:30:55,730] Trial 31 finished with value: 0.15967395369340803 and parameters: {'n_estimators': 490, 'max_depth': 6, 'learning_rate': 0.04, 'subsample': 0.5283129971908976, 'min_samples_split': 8, 'min_samples_leaf': 16}. Best is trial 23 with value: 0.15597251322282066.\n",
      "[I 2025-01-12 10:31:05,777] Trial 32 finished with value: 0.1620028811102097 and parameters: {'n_estimators': 464, 'max_depth': 7, 'learning_rate': 0.060000000000000005, 'subsample': 0.5703891313378493, 'min_samples_split': 5, 'min_samples_leaf': 20}. Best is trial 23 with value: 0.15597251322282066.\n",
      "[I 2025-01-12 10:31:15,130] Trial 33 finished with value: 0.17166170968461728 and parameters: {'n_estimators': 410, 'max_depth': 8, 'learning_rate': 0.17, 'subsample': 0.5279392352970751, 'min_samples_split': 8, 'min_samples_leaf': 12}. Best is trial 23 with value: 0.15597251322282066.\n",
      "[I 2025-01-12 10:31:21,759] Trial 34 finished with value: 0.16261820970298957 and parameters: {'n_estimators': 377, 'max_depth': 6, 'learning_rate': 0.09, 'subsample': 0.5009582540623079, 'min_samples_split': 4, 'min_samples_leaf': 15}. Best is trial 23 with value: 0.15597251322282066.\n",
      "[I 2025-01-12 10:31:24,144] Trial 35 finished with value: 0.17270248092880308 and parameters: {'n_estimators': 107, 'max_depth': 9, 'learning_rate': 0.03, 'subsample': 0.5752649665420091, 'min_samples_split': 10, 'min_samples_leaf': 18}. Best is trial 23 with value: 0.15597251322282066.\n",
      "[I 2025-01-12 10:31:37,567] Trial 36 finished with value: 0.15635498330385966 and parameters: {'n_estimators': 438, 'max_depth': 5, 'learning_rate': 0.060000000000000005, 'subsample': 0.980975214775141, 'min_samples_split': 7, 'min_samples_leaf': 17}. Best is trial 23 with value: 0.15597251322282066.\n",
      "[I 2025-01-12 10:31:52,653] Trial 37 finished with value: 0.16304418963197134 and parameters: {'n_estimators': 494, 'max_depth': 5, 'learning_rate': 0.17, 'subsample': 0.9732709746222247, 'min_samples_split': 12, 'min_samples_leaf': 18}. Best is trial 23 with value: 0.15597251322282066.\n",
      "[I 2025-01-12 10:31:58,385] Trial 38 finished with value: 0.16062800365294258 and parameters: {'n_estimators': 249, 'max_depth': 4, 'learning_rate': 0.060000000000000005, 'subsample': 0.9158518493785144, 'min_samples_split': 7, 'min_samples_leaf': 17}. Best is trial 23 with value: 0.15597251322282066.\n",
      "[I 2025-01-12 10:32:07,418] Trial 39 finished with value: 0.15937372789216472 and parameters: {'n_estimators': 443, 'max_depth': 4, 'learning_rate': 0.08, 'subsample': 0.7912493416550591, 'min_samples_split': 8, 'min_samples_leaf': 10}. Best is trial 23 with value: 0.15597251322282066.\n",
      "[I 2025-01-12 10:32:19,512] Trial 40 finished with value: 0.16567874998167612 and parameters: {'n_estimators': 472, 'max_depth': 5, 'learning_rate': 0.11, 'subsample': 0.8244811489476258, 'min_samples_split': 18, 'min_samples_leaf': 12}. Best is trial 23 with value: 0.15597251322282066.\n",
      "[I 2025-01-12 10:32:34,655] Trial 41 finished with value: 0.159338145989579 and parameters: {'n_estimators': 427, 'max_depth': 6, 'learning_rate': 0.03, 'subsample': 0.9958185875627611, 'min_samples_split': 5, 'min_samples_leaf': 16}. Best is trial 23 with value: 0.15597251322282066.\n",
      "[I 2025-01-12 10:32:54,752] Trial 42 finished with value: 0.16209245533758487 and parameters: {'n_estimators': 395, 'max_depth': 10, 'learning_rate': 0.05, 'subsample': 0.9054565468293831, 'min_samples_split': 3, 'min_samples_leaf': 15}. Best is trial 23 with value: 0.15597251322282066.\n",
      "[I 2025-01-12 10:33:01,402] Trial 43 finished with value: 0.17100803501835007 and parameters: {'n_estimators': 363, 'max_depth': 7, 'learning_rate': 0.01, 'subsample': 0.5379020886159296, 'min_samples_split': 6, 'min_samples_leaf': 19}. Best is trial 23 with value: 0.15597251322282066.\n",
      "[I 2025-01-12 10:33:10,874] Trial 44 finished with value: 0.16014023164584826 and parameters: {'n_estimators': 500, 'max_depth': 5, 'learning_rate': 0.06999999999999999, 'subsample': 0.6226567496212037, 'min_samples_split': 7, 'min_samples_leaf': 14}. Best is trial 23 with value: 0.15597251322282066.\n",
      "[I 2025-01-12 10:33:14,971] Trial 45 finished with value: 0.17925230386516228 and parameters: {'n_estimators': 222, 'max_depth': 4, 'learning_rate': 0.02, 'subsample': 0.7402869174571334, 'min_samples_split': 3, 'min_samples_leaf': 17}. Best is trial 23 with value: 0.15597251322282066.\n",
      "[I 2025-01-12 10:33:24,167] Trial 46 finished with value: 0.16037934408602447 and parameters: {'n_estimators': 457, 'max_depth': 6, 'learning_rate': 0.05, 'subsample': 0.5769004994403303, 'min_samples_split': 10, 'min_samples_leaf': 11}. Best is trial 23 with value: 0.15597251322282066.\n",
      "[I 2025-01-12 10:33:34,360] Trial 47 finished with value: 0.16360218017558462 and parameters: {'n_estimators': 478, 'max_depth': 7, 'learning_rate': 0.09999999999999999, 'subsample': 0.526737730367679, 'min_samples_split': 6, 'min_samples_leaf': 13}. Best is trial 23 with value: 0.15597251322282066.\n",
      "[I 2025-01-12 10:33:47,415] Trial 48 finished with value: 0.15957836361261932 and parameters: {'n_estimators': 420, 'max_depth': 6, 'learning_rate': 0.06999999999999999, 'subsample': 0.8575893223992019, 'min_samples_split': 10, 'min_samples_leaf': 19}. Best is trial 23 with value: 0.15597251322282066.\n",
      "[I 2025-01-12 10:34:00,738] Trial 49 finished with value: 0.17477592280080123 and parameters: {'n_estimators': 395, 'max_depth': 9, 'learning_rate': 0.21000000000000002, 'subsample': 0.6774118261755271, 'min_samples_split': 20, 'min_samples_leaf': 10}. Best is trial 23 with value: 0.15597251322282066.\n"
     ]
    },
    {
     "name": "stdout",
     "output_type": "stream",
     "text": [
      "Best parameters for Gradient Boosting:\n",
      "{'n_estimators': 457, 'max_depth': 6, 'learning_rate': 0.03, 'subsample': 0.5386899569864505, 'min_samples_split': 15, 'min_samples_leaf': 11}\n",
      "Best RMSE for Gradient Boosting: 0.15597\n"
     ]
    }
   ],
   "source": [
    "# Create study with TPESampler and fixed seed\n",
    "study_gbr = optuna.create_study(\n",
    "    direction='minimize', \n",
    "    sampler=optuna.samplers.TPESampler(seed=42)  # Set seed here\n",
    ")\n",
    "\n",
    "# Run Optuna for Gradient Boosting\n",
    "study_gbr.optimize(objective_gbr, n_trials=50)\n",
    "\n",
    "# Best results for Gradient Boosting\n",
    "print(\"Best parameters for Gradient Boosting:\")\n",
    "print(study_gbr.best_trial.params)\n",
    "print(\"Best RMSE for Gradient Boosting: {:.5f}\".format(study_gbr.best_value))\n"
   ]
  },
  {
   "cell_type": "code",
   "execution_count": 48,
   "id": "34d6f0df-514d-4ca8-b7dc-567fee3a4a3a",
   "metadata": {},
   "outputs": [],
   "source": [
    "def objective_random_forest(trial):\n",
    "    params = {\n",
    "        'n_estimators': trial.suggest_int('n_estimators', 100, 1000),\n",
    "        'max_depth': trial.suggest_int('max_depth', 4, 30),\n",
    "        'min_samples_split': trial.suggest_int('min_samples_split', 2, 20),\n",
    "        'min_samples_leaf': trial.suggest_int('min_samples_leaf', 1, 20),\n",
    "        'max_features': trial.suggest_categorical('max_features', ['sqrt', 'log2', None]),\n",
    "        'random_state': 42\n",
    "    }\n",
    "\n",
    "    # Create the Random Forest model with the given parameters\n",
    "    model = RandomForestRegressor(**params)\n",
    "    model.fit(X_train, y_train)\n",
    "\n",
    "    # Predict on the validation data\n",
    "    y_pred = model.predict(X_val)\n",
    "\n",
    "    # Calculate RMSE\n",
    "    rmse = np.sqrt(mean_squared_error(y_val, y_pred))\n",
    "    return rmse\n"
   ]
  },
  {
   "cell_type": "code",
   "execution_count": 49,
   "id": "f56a19d1-36c1-4b15-90e9-5f6bc432e3c9",
   "metadata": {},
   "outputs": [
    {
     "name": "stderr",
     "output_type": "stream",
     "text": [
      "[I 2025-01-12 10:34:00,752] A new study created in memory with name: no-name-07d65c02-7c7c-42e8-b281-c72089d28b4c\n",
      "[I 2025-01-12 10:34:01,787] Trial 0 finished with value: 0.2740400271694096 and parameters: {'n_estimators': 437, 'max_depth': 29, 'min_samples_split': 15, 'min_samples_leaf': 12, 'max_features': 'sqrt'}. Best is trial 0 with value: 0.2740400271694096.\n",
      "[I 2025-01-12 10:34:05,527] Trial 1 finished with value: 0.2033823883903862 and parameters: {'n_estimators': 880, 'max_depth': 20, 'min_samples_split': 15, 'min_samples_leaf': 1, 'max_features': 'sqrt'}. Best is trial 1 with value: 0.2033823883903862.\n",
      "[I 2025-01-12 10:34:11,693] Trial 2 finished with value: 0.2000868558959225 and parameters: {'n_estimators': 263, 'max_depth': 8, 'min_samples_split': 7, 'min_samples_leaf': 11, 'max_features': None}. Best is trial 2 with value: 0.2000868558959225.\n",
      "[I 2025-01-12 10:34:12,258] Trial 3 finished with value: 0.26804490191020164 and parameters: {'n_estimators': 225, 'max_depth': 11, 'min_samples_split': 8, 'min_samples_leaf': 10, 'max_features': 'sqrt'}. Best is trial 2 with value: 0.2000868558959225.\n",
      "[I 2025-01-12 10:34:23,707] Trial 4 finished with value: 0.22596966376269984 and parameters: {'n_estimators': 633, 'max_depth': 5, 'min_samples_split': 13, 'min_samples_leaf': 4, 'max_features': None}. Best is trial 2 with value: 0.2000868558959225.\n",
      "[I 2025-01-12 10:34:44,559] Trial 5 finished with value: 0.19804648940435252 and parameters: {'n_estimators': 828, 'max_depth': 12, 'min_samples_split': 3, 'min_samples_leaf': 14, 'max_features': None}. Best is trial 5 with value: 0.19804648940435252.\n",
      "[I 2025-01-12 10:34:47,932] Trial 6 finished with value: 0.19793659101099317 and parameters: {'n_estimators': 130, 'max_depth': 28, 'min_samples_split': 6, 'min_samples_leaf': 14, 'max_features': None}. Best is trial 6 with value: 0.19793659101099317.\n",
      "[I 2025-01-12 10:34:54,154] Trial 7 finished with value: 0.205475330098225 and parameters: {'n_estimators': 266, 'max_depth': 30, 'min_samples_split': 16, 'min_samples_leaf': 19, 'max_features': None}. Best is trial 6 with value: 0.19793659101099317.\n",
      "[I 2025-01-12 10:34:58,854] Trial 8 finished with value: 0.19503543794361347 and parameters: {'n_estimators': 179, 'max_depth': 9, 'min_samples_split': 2, 'min_samples_leaf': 7, 'max_features': None}. Best is trial 8 with value: 0.19503543794361347.\n",
      "[I 2025-01-12 10:35:11,054] Trial 9 finished with value: 0.18843933543627145 and parameters: {'n_estimators': 421, 'max_depth': 11, 'min_samples_split': 12, 'min_samples_leaf': 3, 'max_features': None}. Best is trial 9 with value: 0.18843933543627145.\n",
      "[I 2025-01-12 10:35:12,473] Trial 10 finished with value: 0.2437703145281148 and parameters: {'n_estimators': 524, 'max_depth': 19, 'min_samples_split': 20, 'min_samples_leaf': 1, 'max_features': 'log2'}. Best is trial 9 with value: 0.18843933543627145.\n",
      "[I 2025-01-12 10:35:13,082] Trial 11 finished with value: 0.3507679539867344 and parameters: {'n_estimators': 409, 'max_depth': 14, 'min_samples_split': 2, 'min_samples_leaf': 6, 'max_features': 'log2'}. Best is trial 9 with value: 0.18843933543627145.\n",
      "[I 2025-01-12 10:35:23,124] Trial 12 finished with value: 0.2381190906141195 and parameters: {'n_estimators': 654, 'max_depth': 4, 'min_samples_split': 10, 'min_samples_leaf': 6, 'max_features': None}. Best is trial 9 with value: 0.18843933543627145.\n",
      "[I 2025-01-12 10:35:34,234] Trial 13 finished with value: 0.18816612478086212 and parameters: {'n_estimators': 386, 'max_depth': 16, 'min_samples_split': 11, 'min_samples_leaf': 7, 'max_features': None}. Best is trial 13 with value: 0.18816612478086212.\n",
      "[I 2025-01-12 10:35:46,466] Trial 14 finished with value: 0.18417947633113682 and parameters: {'n_estimators': 381, 'max_depth': 16, 'min_samples_split': 12, 'min_samples_leaf': 3, 'max_features': None}. Best is trial 14 with value: 0.18417947633113682.\n",
      "[I 2025-01-12 10:35:46,969] Trial 15 finished with value: 0.3594400746865671 and parameters: {'n_estimators': 344, 'max_depth': 24, 'min_samples_split': 10, 'min_samples_leaf': 8, 'max_features': 'log2'}. Best is trial 14 with value: 0.18417947633113682.\n",
      "[I 2025-01-12 10:36:17,346] Trial 16 finished with value: 0.1870505263142287 and parameters: {'n_estimators': 1000, 'max_depth': 16, 'min_samples_split': 17, 'min_samples_leaf': 4, 'max_features': None}. Best is trial 14 with value: 0.18417947633113682.\n",
      "[I 2025-01-12 10:36:47,181] Trial 17 finished with value: 0.18807170068427528 and parameters: {'n_estimators': 999, 'max_depth': 22, 'min_samples_split': 20, 'min_samples_leaf': 4, 'max_features': None}. Best is trial 14 with value: 0.18417947633113682.\n",
      "[I 2025-01-12 10:36:49,746] Trial 18 finished with value: 0.22989304295297316 and parameters: {'n_estimators': 769, 'max_depth': 16, 'min_samples_split': 18, 'min_samples_leaf': 3, 'max_features': 'sqrt'}. Best is trial 14 with value: 0.18417947633113682.\n",
      "[I 2025-01-12 10:36:50,469] Trial 19 finished with value: 0.37461641350479685 and parameters: {'n_estimators': 544, 'max_depth': 25, 'min_samples_split': 17, 'min_samples_leaf': 19, 'max_features': 'log2'}. Best is trial 14 with value: 0.18417947633113682.\n",
      "[I 2025-01-12 10:37:17,414] Trial 20 finished with value: 0.1909161564104504 and parameters: {'n_estimators': 985, 'max_depth': 18, 'min_samples_split': 14, 'min_samples_leaf': 9, 'max_features': None}. Best is trial 14 with value: 0.18417947633113682.\n",
      "[I 2025-01-12 10:37:45,655] Trial 21 finished with value: 0.1880926067709163 and parameters: {'n_estimators': 934, 'max_depth': 24, 'min_samples_split': 20, 'min_samples_leaf': 4, 'max_features': None}. Best is trial 14 with value: 0.18417947633113682.\n",
      "[I 2025-01-12 10:38:15,244] Trial 22 finished with value: 0.1883147885805161 and parameters: {'n_estimators': 997, 'max_depth': 21, 'min_samples_split': 19, 'min_samples_leaf': 5, 'max_features': None}. Best is trial 14 with value: 0.18417947633113682.\n",
      "[I 2025-01-12 10:38:39,334] Trial 23 finished with value: 0.18401557745465502 and parameters: {'n_estimators': 729, 'max_depth': 22, 'min_samples_split': 18, 'min_samples_leaf': 2, 'max_features': None}. Best is trial 23 with value: 0.18401557745465502.\n",
      "[I 2025-01-12 10:39:02,692] Trial 24 finished with value: 0.18490452549938438 and parameters: {'n_estimators': 733, 'max_depth': 14, 'min_samples_split': 17, 'min_samples_leaf': 2, 'max_features': None}. Best is trial 23 with value: 0.18401557745465502.\n",
      "[I 2025-01-12 10:39:28,276] Trial 25 finished with value: 0.18564872345437655 and parameters: {'n_estimators': 769, 'max_depth': 14, 'min_samples_split': 18, 'min_samples_leaf': 1, 'max_features': None}. Best is trial 23 with value: 0.18401557745465502.\n",
      "[I 2025-01-12 10:39:50,293] Trial 26 finished with value: 0.1839057913779358 and parameters: {'n_estimators': 677, 'max_depth': 14, 'min_samples_split': 13, 'min_samples_leaf': 2, 'max_features': None}. Best is trial 26 with value: 0.1839057913779358.\n",
      "[I 2025-01-12 10:40:12,408] Trial 27 finished with value: 0.18236214433094652 and parameters: {'n_estimators': 644, 'max_depth': 22, 'min_samples_split': 13, 'min_samples_leaf': 2, 'max_features': None}. Best is trial 27 with value: 0.18236214433094652.\n",
      "[I 2025-01-12 10:40:14,805] Trial 28 finished with value: 0.21590646426797197 and parameters: {'n_estimators': 640, 'max_depth': 22, 'min_samples_split': 13, 'min_samples_leaf': 2, 'max_features': 'sqrt'}. Best is trial 27 with value: 0.18236214433094652.\n",
      "[I 2025-01-12 10:40:15,873] Trial 29 finished with value: 0.3748040948549471 and parameters: {'n_estimators': 702, 'max_depth': 27, 'min_samples_split': 15, 'min_samples_leaf': 16, 'max_features': 'log2'}. Best is trial 27 with value: 0.18236214433094652.\n",
      "[I 2025-01-12 10:40:17,251] Trial 30 finished with value: 0.24768041348408898 and parameters: {'n_estimators': 480, 'max_depth': 26, 'min_samples_split': 9, 'min_samples_leaf': 6, 'max_features': 'sqrt'}. Best is trial 27 with value: 0.18236214433094652.\n",
      "[I 2025-01-12 10:40:36,933] Trial 31 finished with value: 0.18236609938749399 and parameters: {'n_estimators': 579, 'max_depth': 18, 'min_samples_split': 12, 'min_samples_leaf': 2, 'max_features': None}. Best is trial 27 with value: 0.18236214433094652.\n",
      "[I 2025-01-12 10:40:58,738] Trial 32 finished with value: 0.18261435675941692 and parameters: {'n_estimators': 607, 'max_depth': 20, 'min_samples_split': 15, 'min_samples_leaf': 1, 'max_features': None}. Best is trial 27 with value: 0.18236214433094652.\n",
      "[I 2025-01-12 10:41:19,824] Trial 33 finished with value: 0.18220271632725363 and parameters: {'n_estimators': 585, 'max_depth': 20, 'min_samples_split': 14, 'min_samples_leaf': 1, 'max_features': None}. Best is trial 33 with value: 0.18220271632725363.\n",
      "[I 2025-01-12 10:41:40,883] Trial 34 finished with value: 0.18220493745900748 and parameters: {'n_estimators': 586, 'max_depth': 20, 'min_samples_split': 14, 'min_samples_leaf': 1, 'max_features': None}. Best is trial 33 with value: 0.18220271632725363.\n",
      "[I 2025-01-12 10:41:43,195] Trial 35 finished with value: 0.20409084723255927 and parameters: {'n_estimators': 587, 'max_depth': 18, 'min_samples_split': 14, 'min_samples_leaf': 1, 'max_features': 'sqrt'}. Best is trial 33 with value: 0.18220271632725363.\n",
      "[I 2025-01-12 10:41:55,630] Trial 36 finished with value: 0.1945929542917628 and parameters: {'n_estimators': 491, 'max_depth': 20, 'min_samples_split': 12, 'min_samples_leaf': 12, 'max_features': None}. Best is trial 33 with value: 0.18220271632725363.\n",
      "[I 2025-01-12 10:42:13,497] Trial 37 finished with value: 0.1873100725268064 and parameters: {'n_estimators': 589, 'max_depth': 23, 'min_samples_split': 14, 'min_samples_leaf': 5, 'max_features': None}. Best is trial 33 with value: 0.18220271632725363.\n",
      "[I 2025-01-12 10:42:42,642] Trial 38 finished with value: 0.1831512472516856 and parameters: {'n_estimators': 835, 'max_depth': 18, 'min_samples_split': 7, 'min_samples_leaf': 3, 'max_features': None}. Best is trial 33 with value: 0.18220271632725363.\n",
      "[I 2025-01-12 10:42:57,250] Trial 39 finished with value: 0.1864119723429816 and parameters: {'n_estimators': 473, 'max_depth': 20, 'min_samples_split': 11, 'min_samples_leaf': 5, 'max_features': None}. Best is trial 33 with value: 0.18220271632725363.\n",
      "[I 2025-01-12 10:43:12,346] Trial 40 finished with value: 0.1922593128901554 and parameters: {'n_estimators': 561, 'max_depth': 24, 'min_samples_split': 16, 'min_samples_leaf': 10, 'max_features': None}. Best is trial 33 with value: 0.18220271632725363.\n",
      "[I 2025-01-12 10:43:34,036] Trial 41 finished with value: 0.1825918368443155 and parameters: {'n_estimators': 606, 'max_depth': 21, 'min_samples_split': 15, 'min_samples_leaf': 1, 'max_features': None}. Best is trial 33 with value: 0.18220271632725363.\n",
      "[I 2025-01-12 10:43:53,237] Trial 42 finished with value: 0.1824837278541387 and parameters: {'n_estimators': 535, 'max_depth': 19, 'min_samples_split': 14, 'min_samples_leaf': 1, 'max_features': None}. Best is trial 33 with value: 0.18220271632725363.\n",
      "[I 2025-01-12 10:44:11,046] Trial 43 finished with value: 0.18254282653516998 and parameters: {'n_estimators': 524, 'max_depth': 19, 'min_samples_split': 13, 'min_samples_leaf': 2, 'max_features': None}. Best is trial 33 with value: 0.18220271632725363.\n",
      "[I 2025-01-12 10:44:26,590] Trial 44 finished with value: 0.18396724539013584 and parameters: {'n_estimators': 467, 'max_depth': 17, 'min_samples_split': 11, 'min_samples_leaf': 3, 'max_features': None}. Best is trial 33 with value: 0.18220271632725363.\n",
      "[I 2025-01-12 10:44:38,948] Trial 45 finished with value: 0.18253085591022336 and parameters: {'n_estimators': 326, 'max_depth': 19, 'min_samples_split': 14, 'min_samples_leaf': 1, 'max_features': None}. Best is trial 33 with value: 0.18220271632725363.\n",
      "[I 2025-01-12 10:44:59,669] Trial 46 finished with value: 0.18696168780211972 and parameters: {'n_estimators': 657, 'max_depth': 21, 'min_samples_split': 16, 'min_samples_leaf': 4, 'max_features': None}. Best is trial 33 with value: 0.18220271632725363.\n",
      "[I 2025-01-12 10:45:00,912] Trial 47 finished with value: 0.3017005786212952 and parameters: {'n_estimators': 530, 'max_depth': 12, 'min_samples_split': 12, 'min_samples_leaf': 2, 'max_features': 'log2'}. Best is trial 33 with value: 0.18220271632725363.\n",
      "[I 2025-01-12 10:45:03,474] Trial 48 finished with value: 0.2246246967933412 and parameters: {'n_estimators': 697, 'max_depth': 28, 'min_samples_split': 5, 'min_samples_leaf': 3, 'max_features': 'sqrt'}. Best is trial 33 with value: 0.18220271632725363.\n",
      "[I 2025-01-12 10:45:16,358] Trial 49 finished with value: 0.18834463688413566 and parameters: {'n_estimators': 442, 'max_depth': 17, 'min_samples_split': 9, 'min_samples_leaf': 7, 'max_features': None}. Best is trial 33 with value: 0.18220271632725363.\n"
     ]
    },
    {
     "name": "stdout",
     "output_type": "stream",
     "text": [
      "Best parameters for Random Forest:\n",
      "{'n_estimators': 585, 'max_depth': 20, 'min_samples_split': 14, 'min_samples_leaf': 1, 'max_features': None}\n",
      "Best RMSE for Random Forest: 0.18220\n"
     ]
    }
   ],
   "source": [
    "# Create study with TPESampler and fixed seed\n",
    "study_rf = optuna.create_study(\n",
    "    direction='minimize', \n",
    "    sampler=optuna.samplers.TPESampler(seed=42)  # Set seed here\n",
    ")\n",
    "\n",
    "# Run Optuna for Random Forest\n",
    "study_rf.optimize(objective_random_forest, n_trials=50)\n",
    "\n",
    "# Best results for Random Forest\n",
    "print(\"Best parameters for Random Forest:\")\n",
    "print(study_rf.best_trial.params)\n",
    "print(\"Best RMSE for Random Forest: {:.5f}\".format(study_rf.best_value))\n"
   ]
  },
  {
   "cell_type": "markdown",
   "id": "a4cf7668-ac86-4d31-9efe-06d2eb39868f",
   "metadata": {},
   "source": [
    "## Choose the Best Model"
   ]
  },
  {
   "cell_type": "code",
   "execution_count": 50,
   "id": "4811d665-fabb-4d22-b9fa-1a07a61cc560",
   "metadata": {},
   "outputs": [
    {
     "name": "stdout",
     "output_type": "stream",
     "text": [
      "CatBoost R² score: 0.86144\n",
      "Final RMSE for CatBoost: 0.15167\n"
     ]
    }
   ],
   "source": [
    "best_params_catboost = study_catboost.best_trial.params\n",
    "final_catboost = CatBoostRegressor(**best_params_catboost, verbose=0)\n",
    "final_catboost.fit(X_train, y_train)\n",
    "\n",
    "y_pred_catboost = final_catboost.predict(X_val)\n",
    "final_rmse_catboost = np.sqrt(mean_squared_error(y_val, y_pred_catboost))\n",
    "print(\"CatBoost R² score: {:.5}\".format(final_catboost.score(X_val, y_val)))\n",
    "print(\"Final RMSE for CatBoost: {:.5}\".format(final_rmse_catboost))\n"
   ]
  },
  {
   "cell_type": "code",
   "execution_count": 51,
   "id": "fc320429-744d-4633-a7f0-395108420a98",
   "metadata": {},
   "outputs": [
    {
     "name": "stdout",
     "output_type": "stream",
     "text": [
      "Gradient Boosting R² score: 0.85454\n",
      "Final RMSE for Gradient Boosting: 0.1554\n"
     ]
    }
   ],
   "source": [
    "best_params_gbr = study_gbr.best_trial.params\n",
    "final_gbr = GradientBoostingRegressor(**best_params_gbr)\n",
    "final_gbr.fit(X_train, y_train)\n",
    "\n",
    "y_pred_gbr = final_gbr.predict(X_val)\n",
    "final_rmse_gbr = np.sqrt(mean_squared_error(y_val, y_pred_gbr))\n",
    "print(\"Gradient Boosting R² score: {:.5}\".format(final_gbr.score(X_val, y_val)))\n",
    "print(\"Final RMSE for Gradient Boosting: {:.5}\".format(final_rmse_gbr))\n"
   ]
  },
  {
   "cell_type": "code",
   "execution_count": 52,
   "id": "7ee1fbe0-3c47-4f26-9b52-eb2d5ceabfe7",
   "metadata": {},
   "outputs": [
    {
     "name": "stdout",
     "output_type": "stream",
     "text": [
      "Random Forest R² score: 0.79889\n",
      "Final RMSE for Random Forest: 0.18272\n"
     ]
    }
   ],
   "source": [
    "best_params_rf = study_rf.best_trial.params\n",
    "final_rf = RandomForestRegressor(**best_params_rf)\n",
    "final_rf.fit(X_train, y_train)\n",
    "\n",
    "y_pred_rf = final_rf.predict(X_val)\n",
    "final_rmse_rf = np.sqrt(mean_squared_error(y_val, y_pred_rf))\n",
    "print(\"Random Forest R² score: {:.5}\".format(final_rf.score(X_val, y_val)))\n",
    "print(\"Final RMSE for Random Forest: {:.5}\".format(final_rmse_rf))"
   ]
  },
  {
   "cell_type": "markdown",
   "id": "cda2e223-3910-4d5a-8370-8ca2ba88c728",
   "metadata": {},
   "source": [
    "### CatBoost Regressor is the best model for this data"
   ]
  },
  {
   "cell_type": "markdown",
   "id": "a8fdae2c-5c29-4216-b81b-135df4030f49",
   "metadata": {},
   "source": [
    "## Validate the Model"
   ]
  },
  {
   "cell_type": "code",
   "execution_count": 53,
   "id": "f4838e48-cccd-45d3-9b72-ff632d7cf841",
   "metadata": {},
   "outputs": [
    {
     "name": "stdout",
     "output_type": "stream",
     "text": [
      "Smallest RMSE: 0.15167 is model CatBoost\n",
      "Biggest Score: 0.86144 is model CatBoost\n"
     ]
    }
   ],
   "source": [
    "# Identify the model with the smallest RMSE and biggest score\n",
    "#models = ['CustomXGB', 'CatBoost', 'Random Forest', 'Gradient Boosting']\n",
    "models = ['CatBoost', 'Random Forest', 'Gradient Boosting']\n",
    "#rmse_values = [final_rmse, final_rmse_catboost, final_rmse_rf, final_rmse_gbr]\n",
    "all_rmse = [final_rmse_catboost, final_rmse_rf, final_rmse_gbr]\n",
    "all_scores = [\n",
    "    #final_model.score(X_val, y_val),\n",
    "    final_catboost.score(X_val, y_val),\n",
    "    final_rf.score(X_val, y_val),\n",
    "    final_gbr.score(X_val, y_val)\n",
    "]\n",
    "\n",
    "smallest_rmse = min(all_rmse)\n",
    "biggest_score = max(all_scores)\n",
    "\n",
    "# Find the model with smallest RMSE and biggest score\n",
    "smallest_rmse_index = all_rmse.index(smallest_rmse)\n",
    "biggest_score_index = all_scores.index(biggest_score)\n",
    "\n",
    "# Print smallest RMSE and biggest score with model names\n",
    "print(\"Smallest RMSE: {:.5} is model {}\".format(smallest_rmse, models[smallest_rmse_index]))\n",
    "print(\"Biggest Score: {:.5} is model {}\".format(biggest_score, models[biggest_score_index]))\n"
   ]
  },
  {
   "cell_type": "markdown",
   "id": "9610bc41-b550-4a31-bb50-8a4b9a840ccb",
   "metadata": {},
   "source": [
    "## Do cross-validation"
   ]
  },
  {
   "cell_type": "code",
   "execution_count": 54,
   "id": "71b1c898-97c2-4616-849e-9d58a7f77e80",
   "metadata": {},
   "outputs": [
    {
     "name": "stdout",
     "output_type": "stream",
     "text": [
      "Cross-Validation Results:\n",
      "CatBoost: Average RMSE = 0.16420\n",
      "Random Forest: Average RMSE = 0.18962\n",
      "Gradient Boosting: Average RMSE = 0.17629\n",
      "\n",
      "Smallest RMSE: 0.16420 is model CatBoost\n",
      "Biggest Score: 0.86144 is model CatBoost\n"
     ]
    }
   ],
   "source": [
    "# Define models for cross-validation\n",
    "models = {\n",
    "    #'CustomXGBoost': final_model,\n",
    "    'CatBoost': final_catboost,\n",
    "    'Random Forest': final_rf,\n",
    "    'Gradient Boosting': final_gbr\n",
    "}\n",
    "\n",
    "# Initialize lists to store results\n",
    "cv_scores = {}\n",
    "rmse_values = {}\n",
    "\n",
    "# Perform cross-validation for each model\n",
    "for model_name, model in models.items():\n",
    "    # Perform cross-validation using negative mean squared error (to get positive RMSE)\n",
    "    neg_mse_scores = cross_val_score(model, X_val, y_val, scoring='neg_mean_squared_error', cv=5)\n",
    "    rmse_scores = np.sqrt(-neg_mse_scores)  # Convert negative MSE to RMSE\n",
    "    cv_scores[model_name] = np.mean(rmse_scores)  # Store average RMSE for each model\n",
    "    rmse_values[model_name] = rmse_scores  # Store RMSE values for each fold\n",
    "\n",
    "# Find the model with smallest RMSE and biggest score\n",
    "smallest_rmse_model = min(cv_scores, key=cv_scores.get)\n",
    "biggest_score_model = max(models, key=lambda model: models[model].score(X_val, y_val))\n",
    "\n",
    "# Print the results\n",
    "print(\"Cross-Validation Results:\")\n",
    "for model_name, avg_rmse in cv_scores.items():\n",
    "    print(f\"{model_name}: Average RMSE = {avg_rmse:.5f}\")\n",
    "\n",
    "print(\"\\nSmallest RMSE: {:.5f} is model {}\".format(cv_scores[smallest_rmse_model], smallest_rmse_model))\n",
    "print(\"Biggest Score: {:.5f} is model {}\".format(models[biggest_score_model].score(X_val, y_val), biggest_score_model))\n"
   ]
  },
  {
   "cell_type": "markdown",
   "id": "d3d893a9-fa5d-4415-b302-0ae5603065af",
   "metadata": {},
   "source": [
    "## Save the Model"
   ]
  },
  {
   "cell_type": "code",
   "execution_count": 55,
   "id": "62be5b84-e514-431d-acac-a4dcf5e35b44",
   "metadata": {},
   "outputs": [],
   "source": [
    "# Save the trained model and DictVectorizer\n",
    "output_file = 'model_catboost.bin'\n"
   ]
  },
  {
   "cell_type": "code",
   "execution_count": 56,
   "id": "e3eef4d7-2dc3-4caa-a470-a565c683896c",
   "metadata": {},
   "outputs": [],
   "source": [
    "with open(output_file, 'wb') as f_out:\n",
    "    pickle.dump((dv, final_catboost), f_out)"
   ]
  },
  {
   "cell_type": "code",
   "execution_count": null,
   "id": "422728ee-31ee-46e7-9ebe-a1b7d335de36",
   "metadata": {},
   "outputs": [],
   "source": []
  }
 ],
 "metadata": {
  "kernelspec": {
   "display_name": "Python 3 (ipykernel)",
   "language": "python",
   "name": "python3"
  },
  "language_info": {
   "codemirror_mode": {
    "name": "ipython",
    "version": 3
   },
   "file_extension": ".py",
   "mimetype": "text/x-python",
   "name": "python",
   "nbconvert_exporter": "python",
   "pygments_lexer": "ipython3",
   "version": "3.12.1"
  }
 },
 "nbformat": 4,
 "nbformat_minor": 5
}
