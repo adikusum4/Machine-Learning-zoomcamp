{
 "cells": [
  {
   "cell_type": "code",
   "execution_count": 1,
   "metadata": {
    "id": "ECAHBvpkIMvG"
   },
   "outputs": [],
   "source": [
    "#@ IMPORTING LIBRARIES AND DEPENDENCIES:\n",
    "import pandas as pd\n",
    "import numpy as np\n",
    "\n",
    "import matplotlib.pyplot as plt\n",
    "import seaborn as sns\n",
    "\n",
    "# from sklearn.preprocessing import LabelEncoder\n",
    "from sklearn.model_selection import train_test_split\n",
    "\n",
    "from sklearn.metrics import roc_auc_score\n",
    "from sklearn.metrics import roc_curve\n",
    "\n",
    "from sklearn.feature_extraction import DictVectorizer\n",
    "from sklearn.linear_model import LogisticRegression\n",
    "from sklearn.model_selection import KFold\n",
    "\n",
    "%matplotlib inline"
   ]
  },
  {
   "cell_type": "code",
   "execution_count": 2,
   "metadata": {},
   "outputs": [],
   "source": [
    "import os\n",
    "import requests\n",
    "import zipfile"
   ]
  },
  {
   "cell_type": "code",
   "execution_count": 3,
   "metadata": {},
   "outputs": [],
   "source": [
    "# Define the URL of the CSV file\n",
    "url = \"https://archive.ics.uci.edu/static/public/222/bank+marketing.zip\""
   ]
  },
  {
   "cell_type": "code",
   "execution_count": 4,
   "metadata": {},
   "outputs": [
    {
     "name": "stdout",
     "output_type": "stream",
     "text": [
      "bank_marketing.zip downloaded successfully!\n"
     ]
    }
   ],
   "source": [
    "# Check if the file already exists\n",
    "if os.path.exists(\"bank_marketing.zip\"):\n",
    "    print(\"bank_marketing.zip already exists. Download canceled.\")\n",
    "else:\n",
    "    # Download the file using requests (more secure and integrated)  \n",
    "    response = requests.get(url)\n",
    "\n",
    "    # Check for successful download\n",
    "    if response.status_code == 200:\n",
    "        # Write the data to a local ZIP file\n",
    "        with open(\"bank_marketing.zip\", \"wb\") as f:\n",
    "            f.write(response.content)\n",
    "        print(\"bank_marketing.zip downloaded successfully!\")\n",
    "    else:\n",
    "        print(f\"Error downloading file: {response.status_code}\")"
   ]
  },
  {
   "cell_type": "code",
   "execution_count": 5,
   "metadata": {},
   "outputs": [
    {
     "name": "stdout",
     "output_type": "stream",
     "text": [
      "Files extracted to 'bank_marketing' directory.\n",
      "Files extracted: ['bank.zip', 'bank-additional.zip']\n"
     ]
    }
   ],
   "source": [
    "# Define the directory where the files will be extracted\n",
    "extract_dir = \"bank_marketing\"\n",
    "\n",
    "# Check if the directory already exists\n",
    "if not os.path.exists(extract_dir):\n",
    "    # Unzip the file only if the directory doesn't exist\n",
    "    with zipfile.ZipFile(\"bank_marketing.zip\", \"r\") as zip_ref:\n",
    "        zip_ref.extractall(extract_dir)\n",
    "        print(f\"Files extracted to '{extract_dir}' directory.\")\n",
    "        print(\"Files extracted:\", zip_ref.namelist())\n",
    "else:\n",
    "    print(f\"Directory '{extract_dir}' already exists. Skipping extraction.\")"
   ]
  },
  {
   "cell_type": "code",
   "execution_count": 6,
   "metadata": {},
   "outputs": [
    {
     "name": "stdout",
     "output_type": "stream",
     "text": [
      "bank.zip extracted to 'bank_marketing' directory.\n",
      "Files extracted: ['bank-full.csv', 'bank-names.txt', 'bank.csv']\n"
     ]
    }
   ],
   "source": [
    "# Path to the bank.zip file\n",
    "zip_path = \"bank_marketing/bank.zip\"\n",
    "#extract_dir = \"bank_marketing\"\n",
    "\n",
    "# Check if the bank.zip file exists\n",
    "if os.path.exists(zip_path):\n",
    "    # Open the zip file to check its contents\n",
    "    with zipfile.ZipFile(zip_path, \"r\") as zip_ref:\n",
    "        # Get the list of files in the zip\n",
    "        extracted_files = zip_ref.namelist()\n",
    "\n",
    "        # Check if the first file from the zip already exists in the extract directory\n",
    "        first_file_path = os.path.join(extract_dir, extracted_files[0])\n",
    "        if os.path.exists(first_file_path):\n",
    "            print(\"Files already exist. Skipping extraction.\")\n",
    "        else:\n",
    "            # If files don't exist, proceed with extraction\n",
    "            zip_ref.extractall(extract_dir)\n",
    "            print(f\"bank.zip extracted to '{extract_dir}' directory.\")\n",
    "            print(\"Files extracted:\", extracted_files)\n",
    "else:\n",
    "    print(\"bank.zip does not exist.\")"
   ]
  },
  {
   "cell_type": "code",
   "execution_count": 33,
   "metadata": {},
   "outputs": [],
   "source": [
    "# Load the bank-full.csv file into a DataFrame\n",
    "bank_data = pd.read_csv(\"bank_marketing/bank-full.csv\", sep=';')  # Use the correct separator"
   ]
  },
  {
   "cell_type": "code",
   "execution_count": 34,
   "metadata": {},
   "outputs": [
    {
     "data": {
      "text/html": [
       "<div>\n",
       "<style scoped>\n",
       "    .dataframe tbody tr th:only-of-type {\n",
       "        vertical-align: middle;\n",
       "    }\n",
       "\n",
       "    .dataframe tbody tr th {\n",
       "        vertical-align: top;\n",
       "    }\n",
       "\n",
       "    .dataframe thead th {\n",
       "        text-align: right;\n",
       "    }\n",
       "</style>\n",
       "<table border=\"1\" class=\"dataframe\">\n",
       "  <thead>\n",
       "    <tr style=\"text-align: right;\">\n",
       "      <th></th>\n",
       "      <th>age</th>\n",
       "      <th>job</th>\n",
       "      <th>marital</th>\n",
       "      <th>education</th>\n",
       "      <th>default</th>\n",
       "      <th>balance</th>\n",
       "      <th>housing</th>\n",
       "      <th>loan</th>\n",
       "      <th>contact</th>\n",
       "      <th>day</th>\n",
       "      <th>month</th>\n",
       "      <th>duration</th>\n",
       "      <th>campaign</th>\n",
       "      <th>pdays</th>\n",
       "      <th>previous</th>\n",
       "      <th>poutcome</th>\n",
       "      <th>y</th>\n",
       "    </tr>\n",
       "  </thead>\n",
       "  <tbody>\n",
       "    <tr>\n",
       "      <th>0</th>\n",
       "      <td>58</td>\n",
       "      <td>management</td>\n",
       "      <td>married</td>\n",
       "      <td>tertiary</td>\n",
       "      <td>no</td>\n",
       "      <td>2143</td>\n",
       "      <td>yes</td>\n",
       "      <td>no</td>\n",
       "      <td>unknown</td>\n",
       "      <td>5</td>\n",
       "      <td>may</td>\n",
       "      <td>261</td>\n",
       "      <td>1</td>\n",
       "      <td>-1</td>\n",
       "      <td>0</td>\n",
       "      <td>unknown</td>\n",
       "      <td>no</td>\n",
       "    </tr>\n",
       "    <tr>\n",
       "      <th>1</th>\n",
       "      <td>44</td>\n",
       "      <td>technician</td>\n",
       "      <td>single</td>\n",
       "      <td>secondary</td>\n",
       "      <td>no</td>\n",
       "      <td>29</td>\n",
       "      <td>yes</td>\n",
       "      <td>no</td>\n",
       "      <td>unknown</td>\n",
       "      <td>5</td>\n",
       "      <td>may</td>\n",
       "      <td>151</td>\n",
       "      <td>1</td>\n",
       "      <td>-1</td>\n",
       "      <td>0</td>\n",
       "      <td>unknown</td>\n",
       "      <td>no</td>\n",
       "    </tr>\n",
       "    <tr>\n",
       "      <th>2</th>\n",
       "      <td>33</td>\n",
       "      <td>entrepreneur</td>\n",
       "      <td>married</td>\n",
       "      <td>secondary</td>\n",
       "      <td>no</td>\n",
       "      <td>2</td>\n",
       "      <td>yes</td>\n",
       "      <td>yes</td>\n",
       "      <td>unknown</td>\n",
       "      <td>5</td>\n",
       "      <td>may</td>\n",
       "      <td>76</td>\n",
       "      <td>1</td>\n",
       "      <td>-1</td>\n",
       "      <td>0</td>\n",
       "      <td>unknown</td>\n",
       "      <td>no</td>\n",
       "    </tr>\n",
       "    <tr>\n",
       "      <th>3</th>\n",
       "      <td>47</td>\n",
       "      <td>blue-collar</td>\n",
       "      <td>married</td>\n",
       "      <td>unknown</td>\n",
       "      <td>no</td>\n",
       "      <td>1506</td>\n",
       "      <td>yes</td>\n",
       "      <td>no</td>\n",
       "      <td>unknown</td>\n",
       "      <td>5</td>\n",
       "      <td>may</td>\n",
       "      <td>92</td>\n",
       "      <td>1</td>\n",
       "      <td>-1</td>\n",
       "      <td>0</td>\n",
       "      <td>unknown</td>\n",
       "      <td>no</td>\n",
       "    </tr>\n",
       "    <tr>\n",
       "      <th>4</th>\n",
       "      <td>33</td>\n",
       "      <td>unknown</td>\n",
       "      <td>single</td>\n",
       "      <td>unknown</td>\n",
       "      <td>no</td>\n",
       "      <td>1</td>\n",
       "      <td>no</td>\n",
       "      <td>no</td>\n",
       "      <td>unknown</td>\n",
       "      <td>5</td>\n",
       "      <td>may</td>\n",
       "      <td>198</td>\n",
       "      <td>1</td>\n",
       "      <td>-1</td>\n",
       "      <td>0</td>\n",
       "      <td>unknown</td>\n",
       "      <td>no</td>\n",
       "    </tr>\n",
       "  </tbody>\n",
       "</table>\n",
       "</div>"
      ],
      "text/plain": [
       "   age           job  marital  education default  balance housing loan  \\\n",
       "0   58    management  married   tertiary      no     2143     yes   no   \n",
       "1   44    technician   single  secondary      no       29     yes   no   \n",
       "2   33  entrepreneur  married  secondary      no        2     yes  yes   \n",
       "3   47   blue-collar  married    unknown      no     1506     yes   no   \n",
       "4   33       unknown   single    unknown      no        1      no   no   \n",
       "\n",
       "   contact  day month  duration  campaign  pdays  previous poutcome   y  \n",
       "0  unknown    5   may       261         1     -1         0  unknown  no  \n",
       "1  unknown    5   may       151         1     -1         0  unknown  no  \n",
       "2  unknown    5   may        76         1     -1         0  unknown  no  \n",
       "3  unknown    5   may        92         1     -1         0  unknown  no  \n",
       "4  unknown    5   may       198         1     -1         0  unknown  no  "
      ]
     },
     "execution_count": 34,
     "metadata": {},
     "output_type": "execute_result"
    }
   ],
   "source": [
    "bank_data.head()"
   ]
  },
  {
   "cell_type": "code",
   "execution_count": 35,
   "metadata": {},
   "outputs": [
    {
     "name": "stdout",
     "output_type": "stream",
     "text": [
      "<class 'pandas.core.frame.DataFrame'>\n",
      "RangeIndex: 45211 entries, 0 to 45210\n",
      "Data columns (total 17 columns):\n",
      " #   Column     Non-Null Count  Dtype \n",
      "---  ------     --------------  ----- \n",
      " 0   age        45211 non-null  int64 \n",
      " 1   job        45211 non-null  object\n",
      " 2   marital    45211 non-null  object\n",
      " 3   education  45211 non-null  object\n",
      " 4   default    45211 non-null  object\n",
      " 5   balance    45211 non-null  int64 \n",
      " 6   housing    45211 non-null  object\n",
      " 7   loan       45211 non-null  object\n",
      " 8   contact    45211 non-null  object\n",
      " 9   day        45211 non-null  int64 \n",
      " 10  month      45211 non-null  object\n",
      " 11  duration   45211 non-null  int64 \n",
      " 12  campaign   45211 non-null  int64 \n",
      " 13  pdays      45211 non-null  int64 \n",
      " 14  previous   45211 non-null  int64 \n",
      " 15  poutcome   45211 non-null  object\n",
      " 16  y          45211 non-null  object\n",
      "dtypes: int64(7), object(10)\n",
      "memory usage: 5.9+ MB\n"
     ]
    }
   ],
   "source": [
    "bank_data.info()"
   ]
  },
  {
   "cell_type": "code",
   "execution_count": 36,
   "metadata": {},
   "outputs": [
    {
     "data": {
      "text/plain": [
       "Index(['age', 'job', 'marital', 'education', 'default', 'balance', 'housing',\n",
       "       'loan', 'contact', 'day', 'month', 'duration', 'campaign', 'pdays',\n",
       "       'previous', 'poutcome', 'y'],\n",
       "      dtype='object')"
      ]
     },
     "execution_count": 36,
     "metadata": {},
     "output_type": "execute_result"
    }
   ],
   "source": [
    "bank_data.columns"
   ]
  },
  {
   "cell_type": "code",
   "execution_count": 37,
   "metadata": {},
   "outputs": [],
   "source": [
    "# Remove the 'default' and 'loan' columns\n",
    "bank_data = bank_data.drop(columns=['default', 'loan'])"
   ]
  },
  {
   "cell_type": "code",
   "execution_count": 39,
   "metadata": {},
   "outputs": [],
   "source": [
    "nunique_values = bank_data.nunique()\n",
    "\n",
    "# Create a list of unique values ​​for each column\n",
    "#unique_values = [', '.join(map(str, bank_data[col].unique()[:5])) + ('...' if nunique_values[col] > 5 else '') \n",
    "#                 for col in bank_data.columns]\n",
    "unique_values = [', '.join(map(str, bank_data[col].unique()))\n",
    "                 for col in bank_data.columns]\n",
    "\n",
    "# Create a new DataFrame with columns 'columns', 'nunique', and 'unique'\n",
    "df_summary = pd.DataFrame({\n",
    "    'columns': nunique_values.index,\n",
    "    'nunique': nunique_values.values,\n",
    "    'unique': unique_values\n",
    "})"
   ]
  },
  {
   "cell_type": "code",
   "execution_count": 40,
   "metadata": {},
   "outputs": [
    {
     "data": {
      "text/html": [
       "<div>\n",
       "<style scoped>\n",
       "    .dataframe tbody tr th:only-of-type {\n",
       "        vertical-align: middle;\n",
       "    }\n",
       "\n",
       "    .dataframe tbody tr th {\n",
       "        vertical-align: top;\n",
       "    }\n",
       "\n",
       "    .dataframe thead th {\n",
       "        text-align: right;\n",
       "    }\n",
       "</style>\n",
       "<table border=\"1\" class=\"dataframe\">\n",
       "  <thead>\n",
       "    <tr style=\"text-align: right;\">\n",
       "      <th></th>\n",
       "      <th>columns</th>\n",
       "      <th>nunique</th>\n",
       "      <th>unique</th>\n",
       "    </tr>\n",
       "  </thead>\n",
       "  <tbody>\n",
       "    <tr>\n",
       "      <th>0</th>\n",
       "      <td>age</td>\n",
       "      <td>77</td>\n",
       "      <td>58, 44, 33, 47, 35, 28, 42, 43, 41, 29, 53, 57...</td>\n",
       "    </tr>\n",
       "    <tr>\n",
       "      <th>1</th>\n",
       "      <td>job</td>\n",
       "      <td>12</td>\n",
       "      <td>management, technician, entrepreneur, blue-col...</td>\n",
       "    </tr>\n",
       "    <tr>\n",
       "      <th>2</th>\n",
       "      <td>marital</td>\n",
       "      <td>3</td>\n",
       "      <td>married, single, divorced</td>\n",
       "    </tr>\n",
       "    <tr>\n",
       "      <th>3</th>\n",
       "      <td>education</td>\n",
       "      <td>4</td>\n",
       "      <td>tertiary, secondary, unknown, primary</td>\n",
       "    </tr>\n",
       "    <tr>\n",
       "      <th>4</th>\n",
       "      <td>balance</td>\n",
       "      <td>7168</td>\n",
       "      <td>2143, 29, 2, 1506, 1, 231, 447, 121, 593, 270,...</td>\n",
       "    </tr>\n",
       "    <tr>\n",
       "      <th>5</th>\n",
       "      <td>housing</td>\n",
       "      <td>2</td>\n",
       "      <td>yes, no</td>\n",
       "    </tr>\n",
       "    <tr>\n",
       "      <th>6</th>\n",
       "      <td>contact</td>\n",
       "      <td>3</td>\n",
       "      <td>unknown, cellular, telephone</td>\n",
       "    </tr>\n",
       "    <tr>\n",
       "      <th>7</th>\n",
       "      <td>day</td>\n",
       "      <td>31</td>\n",
       "      <td>5, 6, 7, 8, 9, 12, 13, 14, 15, 16, 19, 20, 21,...</td>\n",
       "    </tr>\n",
       "    <tr>\n",
       "      <th>8</th>\n",
       "      <td>month</td>\n",
       "      <td>12</td>\n",
       "      <td>may, jun, jul, aug, oct, nov, dec, jan, feb, m...</td>\n",
       "    </tr>\n",
       "    <tr>\n",
       "      <th>9</th>\n",
       "      <td>duration</td>\n",
       "      <td>1573</td>\n",
       "      <td>261, 151, 76, 92, 198, 139, 217, 380, 50, 55, ...</td>\n",
       "    </tr>\n",
       "    <tr>\n",
       "      <th>10</th>\n",
       "      <td>campaign</td>\n",
       "      <td>48</td>\n",
       "      <td>1, 2, 3, 5, 4, 6, 7, 8, 9, 10, 11, 12, 13, 19,...</td>\n",
       "    </tr>\n",
       "    <tr>\n",
       "      <th>11</th>\n",
       "      <td>pdays</td>\n",
       "      <td>559</td>\n",
       "      <td>-1, 151, 166, 91, 86, 143, 147, 89, 140, 176, ...</td>\n",
       "    </tr>\n",
       "    <tr>\n",
       "      <th>12</th>\n",
       "      <td>previous</td>\n",
       "      <td>41</td>\n",
       "      <td>0, 3, 1, 4, 2, 11, 16, 6, 5, 10, 12, 7, 18, 9,...</td>\n",
       "    </tr>\n",
       "    <tr>\n",
       "      <th>13</th>\n",
       "      <td>poutcome</td>\n",
       "      <td>4</td>\n",
       "      <td>unknown, failure, other, success</td>\n",
       "    </tr>\n",
       "    <tr>\n",
       "      <th>14</th>\n",
       "      <td>y</td>\n",
       "      <td>2</td>\n",
       "      <td>no, yes</td>\n",
       "    </tr>\n",
       "  </tbody>\n",
       "</table>\n",
       "</div>"
      ],
      "text/plain": [
       "      columns  nunique                                             unique\n",
       "0         age       77  58, 44, 33, 47, 35, 28, 42, 43, 41, 29, 53, 57...\n",
       "1         job       12  management, technician, entrepreneur, blue-col...\n",
       "2     marital        3                          married, single, divorced\n",
       "3   education        4              tertiary, secondary, unknown, primary\n",
       "4     balance     7168  2143, 29, 2, 1506, 1, 231, 447, 121, 593, 270,...\n",
       "5     housing        2                                            yes, no\n",
       "6     contact        3                       unknown, cellular, telephone\n",
       "7         day       31  5, 6, 7, 8, 9, 12, 13, 14, 15, 16, 19, 20, 21,...\n",
       "8       month       12  may, jun, jul, aug, oct, nov, dec, jan, feb, m...\n",
       "9    duration     1573  261, 151, 76, 92, 198, 139, 217, 380, 50, 55, ...\n",
       "10   campaign       48  1, 2, 3, 5, 4, 6, 7, 8, 9, 10, 11, 12, 13, 19,...\n",
       "11      pdays      559  -1, 151, 166, 91, 86, 143, 147, 89, 140, 176, ...\n",
       "12   previous       41  0, 3, 1, 4, 2, 11, 16, 6, 5, 10, 12, 7, 18, 9,...\n",
       "13   poutcome        4                   unknown, failure, other, success\n",
       "14          y        2                                            no, yes"
      ]
     },
     "execution_count": 40,
     "metadata": {},
     "output_type": "execute_result"
    }
   ],
   "source": [
    "df_summary"
   ]
  },
  {
   "cell_type": "code",
   "execution_count": 41,
   "metadata": {
    "colab": {
     "base_uri": "https://localhost:8080/",
     "height": 363
    },
    "id": "Cv8HlcfQ8yMf",
    "outputId": "0ceefd98-c63f-4fc9-9efb-be7400daabb6"
   },
   "outputs": [
    {
     "data": {
      "text/html": [
       "<div>\n",
       "<style scoped>\n",
       "    .dataframe tbody tr th:only-of-type {\n",
       "        vertical-align: middle;\n",
       "    }\n",
       "\n",
       "    .dataframe tbody tr th {\n",
       "        vertical-align: top;\n",
       "    }\n",
       "\n",
       "    .dataframe thead th {\n",
       "        text-align: right;\n",
       "    }\n",
       "</style>\n",
       "<table border=\"1\" class=\"dataframe\">\n",
       "  <thead>\n",
       "    <tr style=\"text-align: right;\">\n",
       "      <th></th>\n",
       "      <th>age</th>\n",
       "      <th>job</th>\n",
       "      <th>marital</th>\n",
       "      <th>education</th>\n",
       "      <th>balance</th>\n",
       "      <th>housing</th>\n",
       "      <th>contact</th>\n",
       "      <th>day</th>\n",
       "      <th>month</th>\n",
       "      <th>duration</th>\n",
       "      <th>campaign</th>\n",
       "      <th>pdays</th>\n",
       "      <th>previous</th>\n",
       "      <th>poutcome</th>\n",
       "      <th>y</th>\n",
       "    </tr>\n",
       "  </thead>\n",
       "  <tbody>\n",
       "    <tr>\n",
       "      <th>5796</th>\n",
       "      <td>55</td>\n",
       "      <td>blue-collar</td>\n",
       "      <td>married</td>\n",
       "      <td>secondary</td>\n",
       "      <td>-473</td>\n",
       "      <td>yes</td>\n",
       "      <td>unknown</td>\n",
       "      <td>26</td>\n",
       "      <td>may</td>\n",
       "      <td>233</td>\n",
       "      <td>1</td>\n",
       "      <td>-1</td>\n",
       "      <td>0</td>\n",
       "      <td>unknown</td>\n",
       "      <td>0</td>\n",
       "    </tr>\n",
       "    <tr>\n",
       "      <th>15541</th>\n",
       "      <td>36</td>\n",
       "      <td>entrepreneur</td>\n",
       "      <td>married</td>\n",
       "      <td>tertiary</td>\n",
       "      <td>99</td>\n",
       "      <td>yes</td>\n",
       "      <td>cellular</td>\n",
       "      <td>21</td>\n",
       "      <td>jul</td>\n",
       "      <td>165</td>\n",
       "      <td>2</td>\n",
       "      <td>-1</td>\n",
       "      <td>0</td>\n",
       "      <td>unknown</td>\n",
       "      <td>0</td>\n",
       "    </tr>\n",
       "    <tr>\n",
       "      <th>26746</th>\n",
       "      <td>31</td>\n",
       "      <td>self-employed</td>\n",
       "      <td>single</td>\n",
       "      <td>secondary</td>\n",
       "      <td>148</td>\n",
       "      <td>yes</td>\n",
       "      <td>cellular</td>\n",
       "      <td>20</td>\n",
       "      <td>nov</td>\n",
       "      <td>1145</td>\n",
       "      <td>4</td>\n",
       "      <td>-1</td>\n",
       "      <td>0</td>\n",
       "      <td>unknown</td>\n",
       "      <td>0</td>\n",
       "    </tr>\n",
       "    <tr>\n",
       "      <th>25252</th>\n",
       "      <td>32</td>\n",
       "      <td>housemaid</td>\n",
       "      <td>married</td>\n",
       "      <td>tertiary</td>\n",
       "      <td>357</td>\n",
       "      <td>yes</td>\n",
       "      <td>cellular</td>\n",
       "      <td>18</td>\n",
       "      <td>nov</td>\n",
       "      <td>175</td>\n",
       "      <td>2</td>\n",
       "      <td>-1</td>\n",
       "      <td>0</td>\n",
       "      <td>unknown</td>\n",
       "      <td>0</td>\n",
       "    </tr>\n",
       "    <tr>\n",
       "      <th>24188</th>\n",
       "      <td>58</td>\n",
       "      <td>technician</td>\n",
       "      <td>married</td>\n",
       "      <td>secondary</td>\n",
       "      <td>-942</td>\n",
       "      <td>yes</td>\n",
       "      <td>cellular</td>\n",
       "      <td>17</td>\n",
       "      <td>nov</td>\n",
       "      <td>131</td>\n",
       "      <td>1</td>\n",
       "      <td>-1</td>\n",
       "      <td>0</td>\n",
       "      <td>unknown</td>\n",
       "      <td>0</td>\n",
       "    </tr>\n",
       "    <tr>\n",
       "      <th>29712</th>\n",
       "      <td>54</td>\n",
       "      <td>admin.</td>\n",
       "      <td>single</td>\n",
       "      <td>secondary</td>\n",
       "      <td>1178</td>\n",
       "      <td>yes</td>\n",
       "      <td>telephone</td>\n",
       "      <td>3</td>\n",
       "      <td>feb</td>\n",
       "      <td>41</td>\n",
       "      <td>6</td>\n",
       "      <td>264</td>\n",
       "      <td>2</td>\n",
       "      <td>failure</td>\n",
       "      <td>0</td>\n",
       "    </tr>\n",
       "    <tr>\n",
       "      <th>19904</th>\n",
       "      <td>33</td>\n",
       "      <td>management</td>\n",
       "      <td>married</td>\n",
       "      <td>tertiary</td>\n",
       "      <td>2604</td>\n",
       "      <td>no</td>\n",
       "      <td>cellular</td>\n",
       "      <td>8</td>\n",
       "      <td>aug</td>\n",
       "      <td>167</td>\n",
       "      <td>2</td>\n",
       "      <td>-1</td>\n",
       "      <td>0</td>\n",
       "      <td>unknown</td>\n",
       "      <td>0</td>\n",
       "    </tr>\n",
       "    <tr>\n",
       "      <th>7415</th>\n",
       "      <td>34</td>\n",
       "      <td>technician</td>\n",
       "      <td>married</td>\n",
       "      <td>secondary</td>\n",
       "      <td>149</td>\n",
       "      <td>yes</td>\n",
       "      <td>unknown</td>\n",
       "      <td>29</td>\n",
       "      <td>may</td>\n",
       "      <td>153</td>\n",
       "      <td>2</td>\n",
       "      <td>-1</td>\n",
       "      <td>0</td>\n",
       "      <td>unknown</td>\n",
       "      <td>0</td>\n",
       "    </tr>\n",
       "    <tr>\n",
       "      <th>11409</th>\n",
       "      <td>42</td>\n",
       "      <td>blue-collar</td>\n",
       "      <td>married</td>\n",
       "      <td>primary</td>\n",
       "      <td>692</td>\n",
       "      <td>no</td>\n",
       "      <td>unknown</td>\n",
       "      <td>19</td>\n",
       "      <td>jun</td>\n",
       "      <td>207</td>\n",
       "      <td>1</td>\n",
       "      <td>-1</td>\n",
       "      <td>0</td>\n",
       "      <td>unknown</td>\n",
       "      <td>0</td>\n",
       "    </tr>\n",
       "    <tr>\n",
       "      <th>14377</th>\n",
       "      <td>32</td>\n",
       "      <td>management</td>\n",
       "      <td>married</td>\n",
       "      <td>tertiary</td>\n",
       "      <td>2</td>\n",
       "      <td>yes</td>\n",
       "      <td>cellular</td>\n",
       "      <td>14</td>\n",
       "      <td>jul</td>\n",
       "      <td>79</td>\n",
       "      <td>3</td>\n",
       "      <td>-1</td>\n",
       "      <td>0</td>\n",
       "      <td>unknown</td>\n",
       "      <td>0</td>\n",
       "    </tr>\n",
       "  </tbody>\n",
       "</table>\n",
       "</div>"
      ],
      "text/plain": [
       "       age            job  marital  education  balance housing    contact  \\\n",
       "5796    55    blue-collar  married  secondary     -473     yes    unknown   \n",
       "15541   36   entrepreneur  married   tertiary       99     yes   cellular   \n",
       "26746   31  self-employed   single  secondary      148     yes   cellular   \n",
       "25252   32      housemaid  married   tertiary      357     yes   cellular   \n",
       "24188   58     technician  married  secondary     -942     yes   cellular   \n",
       "29712   54         admin.   single  secondary     1178     yes  telephone   \n",
       "19904   33     management  married   tertiary     2604      no   cellular   \n",
       "7415    34     technician  married  secondary      149     yes    unknown   \n",
       "11409   42    blue-collar  married    primary      692      no    unknown   \n",
       "14377   32     management  married   tertiary        2     yes   cellular   \n",
       "\n",
       "       day month  duration  campaign  pdays  previous poutcome  y  \n",
       "5796    26   may       233         1     -1         0  unknown  0  \n",
       "15541   21   jul       165         2     -1         0  unknown  0  \n",
       "26746   20   nov      1145         4     -1         0  unknown  0  \n",
       "25252   18   nov       175         2     -1         0  unknown  0  \n",
       "24188   17   nov       131         1     -1         0  unknown  0  \n",
       "29712    3   feb        41         6    264         2  failure  0  \n",
       "19904    8   aug       167         2     -1         0  unknown  0  \n",
       "7415    29   may       153         2     -1         0  unknown  0  \n",
       "11409   19   jun       207         1     -1         0  unknown  0  \n",
       "14377   14   jul        79         3     -1         0  unknown  0  "
      ]
     },
     "execution_count": 41,
     "metadata": {},
     "output_type": "execute_result"
    }
   ],
   "source": [
    "# Creating the target variable:\n",
    "y_values = {\n",
    "    \"yes\": 1,\n",
    "    \"no\": 0\n",
    "}\n",
    "bank_data[\"y\"] = bank_data.y.map(y_values)\n",
    "bank_data.sample(10)"
   ]
  },
  {
   "cell_type": "code",
   "execution_count": 81,
   "metadata": {},
   "outputs": [
    {
     "name": "stdout",
     "output_type": "stream",
     "text": [
      "Numerical columns: ['age', 'balance', 'day', 'duration', 'campaign', 'pdays', 'previous']\n",
      "Non-numerical columns: ['job', 'marital', 'education', 'housing', 'contact', 'month', 'poutcome']\n"
     ]
    }
   ],
   "source": [
    "numerical = bank_data.select_dtypes(include=['number']).columns.tolist()\n",
    "categorical = bank_data.select_dtypes(exclude=['number']).columns.tolist()\n",
    "\n",
    "# Remove column 'y' from the numerical list\n",
    "numerical.remove('y')\n",
    "\n",
    "print(\"Numerical columns:\", numerical)\n",
    "print(\"Non-numerical columns:\", categorical)"
   ]
  },
  {
   "cell_type": "code",
   "execution_count": 69,
   "metadata": {
    "id": "DFH1e1dP73t9"
   },
   "outputs": [],
   "source": [
    "# Splitting the dataset:\n",
    "df_full_train, df_test = train_test_split(bank_data, test_size=0.2, random_state=1)\n",
    "df_train, df_val = train_test_split(df_full_train, test_size=0.25, random_state=1)\n",
    "\n",
    "df_train = df_train.reset_index(drop=True)\n",
    "df_val = df_val.reset_index(drop=True)\n",
    "df_test = df_test.reset_index(drop=True)\n",
    "\n",
    "y_train = df_train.y\n",
    "y_val = df_val.y\n",
    "y_test = df_test.y\n",
    "\n",
    "del df_train['y']\n",
    "del df_val['y']\n",
    "del df_test['y']"
   ]
  },
  {
   "cell_type": "markdown",
   "metadata": {},
   "source": [
    "## Question 1: ROC AUC feature importance"
   ]
  },
  {
   "cell_type": "code",
   "execution_count": 54,
   "metadata": {
    "scrolled": true
   },
   "outputs": [
    {
     "name": "stdout",
     "output_type": "stream",
     "text": [
      "     Column    AUC\n",
      "3  duration  0.815\n",
      "6  previous  0.599\n",
      "5     pdays  0.590\n",
      "1   balance  0.589\n",
      "4  campaign  0.571\n",
      "2       day  0.526\n",
      "0       age  0.512\n",
      "\n",
      "The numerical variable with the highest AUC is `duration` with an AUC of 0.815.\n"
     ]
    }
   ],
   "source": [
    "roc_auc_results = []\n",
    "\n",
    "for c in numerical:\n",
    "    auc = roc_auc_score(y_train, df_train[c])\n",
    "    if auc < 0.5:\n",
    "        auc = roc_auc_score(y_train, -df_train[c])\n",
    "    \n",
    "    # Format the AUC score to three decimal places\n",
    "    formatted_auc = '%.3f' % auc\n",
    "    roc_auc_results.append((c, formatted_auc))  # Store column name and formatted AUC score\n",
    "\n",
    "# Convert results to a DataFrame\n",
    "roc_auc_df = pd.DataFrame(roc_auc_results, columns=['Column', 'AUC'])\n",
    "\n",
    "# Sort the DataFrame by AUC in descending order\n",
    "roc_auc_df = roc_auc_df.sort_values(by='AUC', ascending=False)\n",
    "\n",
    "# Get the column with the highest AUC\n",
    "highest_auc_column = roc_auc_df.iloc[0]\n",
    "\n",
    "print(roc_auc_df)\n",
    "# Print the result\n",
    "print(f\"\\nThe numerical variable with the highest AUC is `{highest_auc_column['Column']}` with an AUC of {highest_auc_column['AUC']}.\")\n"
   ]
  },
  {
   "cell_type": "markdown",
   "metadata": {
    "id": "PFwijne6E1q9"
   },
   "source": [
    "- Answer for Question1: duration"
   ]
  },
  {
   "cell_type": "code",
   "execution_count": 56,
   "metadata": {
    "colab": {
     "base_uri": "https://localhost:8080/",
     "height": 320
    },
    "id": "Grw27ZjXBxJR",
    "outputId": "0bc255ca-1c8d-4505-9e1f-fdfeb60ba911"
   },
   "outputs": [
    {
     "data": {
      "image/png": "[encoded data removed]",
      "text/plain": [
       "<Figure size 500x500 with 1 Axes>"
      ]
     },
     "metadata": {},
     "output_type": "display_data"
    }
   ],
   "source": [
    "# Plotting the ROC Curve:\n",
    "plt.figure(figsize=(5, 5))\n",
    "\n",
    "fpr, tpr, _ = roc_curve(y_train, df_train.duration)\n",
    "plt.plot(fpr, tpr, label='+duration')\n",
    "\n",
    "fpr, tpr, _ = roc_curve(y_train, -df_train.duration)\n",
    "plt.plot(fpr, tpr, label='-duration')\n",
    "\n",
    "plt.plot([0, 1], [0, 1], color='grey', linestyle='--')\n",
    "\n",
    "plt.legend()\n",
    "plt.show()"
   ]
  },
  {
   "cell_type": "markdown",
   "metadata": {},
   "source": [
    "## Question 2: Training the model"
   ]
  },
  {
   "cell_type": "code",
   "execution_count": 111,
   "metadata": {
    "id": "HkaRbbupDBQj"
   },
   "outputs": [],
   "source": [
    "# Training Logistic Regression Model:\n",
    "columns = categorical + numerical\n",
    "\n",
    "train_dicts = df_train[columns].to_dict(orient='records')\n",
    "dv = DictVectorizer(sparse=False)\n",
    "X_train = dv.fit_transform(train_dicts)\n",
    "\n",
    "model = LogisticRegression(solver='liblinear', C=1.0, max_iter=1000)\n",
    "model.fit(X_train, y_train)\n",
    "\n",
    "val_dicts = df_val[columns].to_dict(orient='records')\n",
    "X_val = dv.transform(val_dicts)\n",
    "\n",
    "y_pred = model.predict_proba(X_val)[:, 1]"
   ]
  },
  {
   "cell_type": "code",
   "execution_count": 112,
   "metadata": {
    "colab": {
     "base_uri": "https://localhost:8080/"
    },
    "id": "ZiLlLqWBEuK4",
    "outputId": "b2d7866e-7fd8-44f5-a539-7d1d932a7fb9"
   },
   "outputs": [
    {
     "data": {
      "text/plain": [
       "np.float64(0.9)"
      ]
     },
     "execution_count": 112,
     "metadata": {},
     "output_type": "execute_result"
    }
   ],
   "source": [
    "# Inspecting ROC AUC Score:\n",
    "round((roc_auc_score(y_val, y_pred)), 2)"
   ]
  },
  {
   "cell_type": "markdown",
   "metadata": {
    "id": "PFwijne6E1q9"
   },
   "source": [
    "- Answer for Question2: ~0.89"
   ]
  },
  {
   "cell_type": "code",
   "execution_count": 113,
   "metadata": {
    "colab": {
     "base_uri": "https://localhost:8080/"
    },
    "id": "wF7B4VPYEy93",
    "outputId": "fea03d5d-85a1-4b59-f473-4f9ba5435239"
   },
   "outputs": [
    {
     "data": {
      "text/plain": [
       "np.float64(0.6577696883650032)"
      ]
     },
     "execution_count": 113,
     "metadata": {},
     "output_type": "execute_result"
    }
   ],
   "source": [
    "#@ INSPECTING THE ROC AUC SCORE:\n",
    "y_pred_bin = model.predict(X_val)\n",
    "roc_auc_score(y_val, y_pred_bin)"
   ]
  },
  {
   "cell_type": "code",
   "execution_count": 114,
   "metadata": {
    "colab": {
     "base_uri": "https://localhost:8080/",
     "height": 320
    },
    "id": "io7CXh0IFJiO",
    "outputId": "c320ea33-6c75-4648-9173-622681799d7a"
   },
   "outputs": [
    {
     "data": {
      "image/png": "[encoded data removed]",
      "text/plain": [
       "<Figure size 500x500 with 1 Axes>"
      ]
     },
     "metadata": {},
     "output_type": "display_data"
    }
   ],
   "source": [
    "#@ INSPECTING THE ROC CURVE:\n",
    "plt.figure(figsize=(5, 5))\n",
    "\n",
    "fpr, tpr, _ = roc_curve(y_val, y_pred)\n",
    "plt.plot(fpr, tpr, label='probability')\n",
    "\n",
    "fpr, tpr, _ = roc_curve(y_val, y_pred_bin)\n",
    "plt.plot(fpr, tpr, label='hard prediction')\n",
    "\n",
    "plt.plot([0, 1], [0, 1], color='grey', linestyle='--')\n",
    "\n",
    "plt.legend()\n",
    "plt.show()"
   ]
  },
  {
   "cell_type": "code",
   "execution_count": 115,
   "metadata": {
    "colab": {
     "base_uri": "https://localhost:8080/",
     "height": 394
    },
    "id": "XBBnC2UdFqN9",
    "outputId": "da5d1b49-e20e-4fca-b735-82d8e4df5d8e"
   },
   "outputs": [
    {
     "data": {
      "text/html": [
       "<div>\n",
       "<style scoped>\n",
       "    .dataframe tbody tr th:only-of-type {\n",
       "        vertical-align: middle;\n",
       "    }\n",
       "\n",
       "    .dataframe tbody tr th {\n",
       "        vertical-align: top;\n",
       "    }\n",
       "\n",
       "    .dataframe thead th {\n",
       "        text-align: right;\n",
       "    }\n",
       "</style>\n",
       "<table border=\"1\" class=\"dataframe\">\n",
       "  <thead>\n",
       "    <tr style=\"text-align: right;\">\n",
       "      <th></th>\n",
       "      <th>threshold</th>\n",
       "      <th>tp</th>\n",
       "      <th>fp</th>\n",
       "      <th>fn</th>\n",
       "      <th>tn</th>\n",
       "    </tr>\n",
       "  </thead>\n",
       "  <tbody>\n",
       "    <tr>\n",
       "      <th>0</th>\n",
       "      <td>0.0</td>\n",
       "      <td>1098</td>\n",
       "      <td>7944</td>\n",
       "      <td>0</td>\n",
       "      <td>0</td>\n",
       "    </tr>\n",
       "    <tr>\n",
       "      <th>10</th>\n",
       "      <td>0.1</td>\n",
       "      <td>926</td>\n",
       "      <td>1493</td>\n",
       "      <td>172</td>\n",
       "      <td>6451</td>\n",
       "    </tr>\n",
       "    <tr>\n",
       "      <th>20</th>\n",
       "      <td>0.2</td>\n",
       "      <td>712</td>\n",
       "      <td>693</td>\n",
       "      <td>386</td>\n",
       "      <td>7251</td>\n",
       "    </tr>\n",
       "    <tr>\n",
       "      <th>30</th>\n",
       "      <td>0.3</td>\n",
       "      <td>566</td>\n",
       "      <td>407</td>\n",
       "      <td>532</td>\n",
       "      <td>7537</td>\n",
       "    </tr>\n",
       "    <tr>\n",
       "      <th>40</th>\n",
       "      <td>0.4</td>\n",
       "      <td>462</td>\n",
       "      <td>272</td>\n",
       "      <td>636</td>\n",
       "      <td>7672</td>\n",
       "    </tr>\n",
       "    <tr>\n",
       "      <th>50</th>\n",
       "      <td>0.5</td>\n",
       "      <td>373</td>\n",
       "      <td>192</td>\n",
       "      <td>725</td>\n",
       "      <td>7752</td>\n",
       "    </tr>\n",
       "    <tr>\n",
       "      <th>60</th>\n",
       "      <td>0.6</td>\n",
       "      <td>290</td>\n",
       "      <td>137</td>\n",
       "      <td>808</td>\n",
       "      <td>7807</td>\n",
       "    </tr>\n",
       "    <tr>\n",
       "      <th>70</th>\n",
       "      <td>0.7</td>\n",
       "      <td>225</td>\n",
       "      <td>101</td>\n",
       "      <td>873</td>\n",
       "      <td>7843</td>\n",
       "    </tr>\n",
       "    <tr>\n",
       "      <th>80</th>\n",
       "      <td>0.8</td>\n",
       "      <td>148</td>\n",
       "      <td>67</td>\n",
       "      <td>950</td>\n",
       "      <td>7877</td>\n",
       "    </tr>\n",
       "    <tr>\n",
       "      <th>90</th>\n",
       "      <td>0.9</td>\n",
       "      <td>76</td>\n",
       "      <td>27</td>\n",
       "      <td>1022</td>\n",
       "      <td>7917</td>\n",
       "    </tr>\n",
       "    <tr>\n",
       "      <th>100</th>\n",
       "      <td>1.0</td>\n",
       "      <td>0</td>\n",
       "      <td>0</td>\n",
       "      <td>1098</td>\n",
       "      <td>7944</td>\n",
       "    </tr>\n",
       "  </tbody>\n",
       "</table>\n",
       "</div>"
      ],
      "text/plain": [
       "     threshold    tp    fp    fn    tn\n",
       "0          0.0  1098  7944     0     0\n",
       "10         0.1   926  1493   172  6451\n",
       "20         0.2   712   693   386  7251\n",
       "30         0.3   566   407   532  7537\n",
       "40         0.4   462   272   636  7672\n",
       "50         0.5   373   192   725  7752\n",
       "60         0.6   290   137   808  7807\n",
       "70         0.7   225   101   873  7843\n",
       "80         0.8   148    67   950  7877\n",
       "90         0.9    76    27  1022  7917\n",
       "100        1.0     0     0  1098  7944"
      ]
     },
     "execution_count": 115,
     "metadata": {},
     "output_type": "execute_result"
    }
   ],
   "source": [
    "#@ CREATING CONFUSION MATRIX:\n",
    "def confusion_matrix_dataframe(y_val, y_pred):\n",
    "    scores = []\n",
    "\n",
    "    thresholds = np.linspace(0, 1, 101)\n",
    "\n",
    "    for t in thresholds:\n",
    "        actual_positive = (y_val == 1)\n",
    "        actual_negative = (y_val == 0)\n",
    "\n",
    "        predict_positive = (y_pred >= t)\n",
    "        predict_negative = (y_pred < t)\n",
    "\n",
    "        tp = (predict_positive & actual_positive).sum()\n",
    "        tn = (predict_negative & actual_negative).sum()\n",
    "\n",
    "        fp = (predict_positive & actual_negative).sum()\n",
    "        fn = (predict_negative & actual_positive).sum()\n",
    "\n",
    "        scores.append((t, tp, fp, fn, tn))\n",
    "\n",
    "    columns = ['threshold', 'tp', 'fp', 'fn', 'tn']\n",
    "    df_scores = pd.DataFrame(scores, columns=columns)\n",
    "    \n",
    "    return df_scores\n",
    "\n",
    "\n",
    "#@ IMPLEMENTATION OF FUNCTION:\n",
    "df_scores = confusion_matrix_dataframe(y_val, y_pred)\n",
    "df_scores[::10]"
   ]
  },
  {
   "cell_type": "code",
   "execution_count": 116,
   "metadata": {
    "id": "Xz7FM-2-KHPB"
   },
   "outputs": [],
   "source": [
    "#@ ADDING THE COLUMNS:\n",
    "df_scores['p'] = df_scores.tp / (df_scores.tp + df_scores.fp)\n",
    "df_scores['r'] = df_scores.tp / (df_scores.tp + df_scores.fn)"
   ]
  },
  {
   "cell_type": "code",
   "execution_count": 117,
   "metadata": {
    "colab": {
     "base_uri": "https://localhost:8080/",
     "height": 265
    },
    "id": "9nNXk0HtKkBC",
    "outputId": "d0289fe5-ac95-41fd-b036-440a25159431"
   },
   "outputs": [
    {
     "data": {
      "image/png": "[encoded data removed]",
      "text/plain": [
       "<Figure size 640x480 with 1 Axes>"
      ]
     },
     "metadata": {},
     "output_type": "display_data"
    }
   ],
   "source": [
    "#@ INSPECTING THE CURVES:\n",
    "plt.plot(df_scores.threshold, df_scores.p, label='precision')\n",
    "plt.plot(df_scores.threshold, df_scores.r, label='recall')\n",
    "\n",
    "plt.legend()\n",
    "plt.show()"
   ]
  },
  {
   "cell_type": "code",
   "execution_count": 153,
   "metadata": {
    "scrolled": true
   },
   "outputs": [
    {
     "data": {
      "image/png": "[encoded data removed]",
      "text/plain": [
       "<Figure size 640x480 with 1 Axes>"
      ]
     },
     "metadata": {},
     "output_type": "display_data"
    }
   ],
   "source": [
    "# Calculate the intersection points\n",
    "intersection = np.isclose(df_scores.p, df_scores.r, atol=0.01)  # Adjust tolerance as needed\n",
    "thresholds_intersection = df_scores.threshold[intersection]\n",
    "precision_intersection = df_scores.p[intersection]\n",
    "recall_intersection = df_scores.r[intersection]\n",
    "\n",
    "# Plotting\n",
    "#plt.figure(figsize=(8, 4))\n",
    "plt.plot(df_scores.threshold, df_scores.p, label='Precision', color='blue')\n",
    "plt.plot(df_scores.threshold, df_scores.r, label='Recall', color='orange')\n",
    "\n",
    "# Marking the intersection points\n",
    "for t, p, r in zip(thresholds_intersection, precision_intersection, recall_intersection):\n",
    "    plt.plot(t, p, 'ro')  # Mark with red dot\n",
    "    plt.annotate(f'({t:.3f}, {p:.3f})', xy=(t, p), xytext=(t + 0.05, p + 0.05), color='red', rotation=25,\n",
    "                 arrowprops=dict(facecolor='grey', shrink=0.05))\n",
    "\n",
    "plt.title('Precision and Recall Curves')\n",
    "plt.xlabel('Threshold')\n",
    "plt.ylabel('Score')\n",
    "plt.legend()\n",
    "#plt.grid()\n",
    "plt.show()\n"
   ]
  },
  {
   "cell_type": "code",
   "execution_count": 154,
   "metadata": {},
   "outputs": [
    {
     "name": "stdout",
     "output_type": "stream",
     "text": [
      "Threshold: 0.260, Precision: 0.556, Recall: 0.564 curves intersect\n"
     ]
    }
   ],
   "source": [
    "# Print intersection points\n",
    "for t, p, r in zip(thresholds_intersection, precision_intersection, recall_intersection):\n",
    "    print(f\"Threshold: {t:.3f}, Precision: {p:.3f}, Recall: {r:.3f} curves intersect\")"
   ]
  },
  {
   "cell_type": "markdown",
   "metadata": {
    "id": "ZFMJZ8fWLV3a"
   },
   "source": [
    "- Answer for Question3: ~0.265"
   ]
  },
  {
   "cell_type": "code",
   "execution_count": 133,
   "metadata": {
    "id": "WwBzhzngK8QI"
   },
   "outputs": [],
   "source": [
    "#@ GETTING F1 SCORES:\n",
    "df_scores['f1'] = 2 * df_scores.p * df_scores.r / (df_scores.p + df_scores.r)"
   ]
  },
  {
   "cell_type": "code",
   "execution_count": 134,
   "metadata": {
    "colab": {
     "base_uri": "https://localhost:8080/",
     "height": 265
    },
    "id": "XUZYKM99MD5-",
    "outputId": "b5c2f0e4-c972-4615-e8aa-732c6a40acd4"
   },
   "outputs": [
    {
     "data": {
      "image/png": "[encoded data removed]",
      "text/plain": [
       "<Figure size 640x480 with 1 Axes>"
      ]
     },
     "metadata": {},
     "output_type": "display_data"
    }
   ],
   "source": [
    "#@ INSPECTING F1 SCORE:\n",
    "plt.plot(df_scores.threshold, df_scores.f1)\n",
    "plt.xticks(np.linspace(0, 1, 11))\n",
    "plt.show()"
   ]
  },
  {
   "cell_type": "code",
   "execution_count": 146,
   "metadata": {},
   "outputs": [
    {
     "data": {
      "image/png": "[encoded data removed]",
      "text/plain": [
       "<Figure size 640x480 with 1 Axes>"
      ]
     },
     "metadata": {},
     "output_type": "display_data"
    }
   ],
   "source": [
    "#import numpy as np\n",
    "#import matplotlib.pyplot as plt\n",
    "\n",
    "# Find the maximum F1 score and its corresponding threshold\n",
    "max_f1 = df_scores['f1'].max()\n",
    "max_f1_index = df_scores['f1'].idxmax()\n",
    "max_threshold = df_scores['threshold'][max_f1_index]\n",
    "\n",
    "# Plotting the F1 scores\n",
    "#plt.figure(figsize=(10, 6))\n",
    "plt.plot(df_scores.threshold, df_scores.f1, label='F1 Score')\n",
    "\n",
    "# Mark the maximum F1 score\n",
    "plt.scatter(max_threshold, max_f1, color='red', zorder=5)  # Add a red marker\n",
    "plt.annotate(f'Max F1: {max_f1:.2f}\\nThreshold: {max_threshold:.2f}', \n",
    "             xy=(max_threshold, max_f1), color='red',\n",
    "             xytext=(max_threshold + 0.05, max_f1 - 0.05),  # Position the text\n",
    "             arrowprops=dict(arrowstyle='->', color='black'))\n",
    "\n",
    "# Formatting the plot\n",
    "plt.title('F1 Score vs. Threshold')\n",
    "plt.xlabel('Threshold')\n",
    "plt.ylabel('F1 Score')\n",
    "plt.xticks(np.linspace(0, 1, 11))\n",
    "plt.legend()\n",
    "#plt.grid()\n",
    "plt.show()\n"
   ]
  },
  {
   "cell_type": "code",
   "execution_count": 147,
   "metadata": {},
   "outputs": [
    {
     "name": "stdout",
     "output_type": "stream",
     "text": [
      "Threshold is 0.22 with F1 maximal 0.57\n"
     ]
    }
   ],
   "source": [
    "print(f\"Threshold is {max_threshold:.2f} with F1 maximal {max_f1:.2f}\")"
   ]
  },
  {
   "cell_type": "markdown",
   "metadata": {
    "id": "FN9QStJpMtip"
   },
   "source": [
    "- Answer for Question4: 0.22"
   ]
  },
  {
   "cell_type": "code",
   "execution_count": 148,
   "metadata": {
    "id": "7BUnlQQSMTHE"
   },
   "outputs": [],
   "source": [
    "#@ DEFINING TRAIN AND PREDICT FUNCTION:\n",
    "def train(df_train, y_train, C=1.0):\n",
    "    dicts = df_train[columns].to_dict(orient='records')\n",
    "\n",
    "    dv = DictVectorizer(sparse=False)\n",
    "    X_train = dv.fit_transform(dicts)\n",
    "\n",
    "    model = LogisticRegression(solver='liblinear', C=C)\n",
    "    model.fit(X_train, y_train)\n",
    "\n",
    "    return dv, model\n",
    "\n",
    "def predict(df, dv, model):\n",
    "    dicts = df[columns].to_dict(orient='records')\n",
    "\n",
    "    X = dv.transform(dicts)\n",
    "    y_pred = model.predict_proba(X)[:, 1]\n",
    "\n",
    "    return y_pred"
   ]
  },
  {
   "cell_type": "code",
   "execution_count": 150,
   "metadata": {
    "colab": {
     "base_uri": "https://localhost:8080/"
    },
    "id": "scPilB8sNQkF",
    "outputId": "9f184d71-4546-4472-e519-d8af21204c60"
   },
   "outputs": [
    {
     "name": "stdout",
     "output_type": "stream",
     "text": [
      "0.906 +- 0.006\n"
     ]
    }
   ],
   "source": [
    "#@ INITIALIZING KFOLD CROSS VALIDATION:\n",
    "scores = []\n",
    "\n",
    "kfold = KFold(n_splits=5, shuffle=True, random_state=1)\n",
    "\n",
    "for train_idx, val_idx in kfold.split(df_full_train):\n",
    "    df_train = df_full_train.iloc[train_idx]\n",
    "    df_val = df_full_train.iloc[val_idx]\n",
    "\n",
    "    y_train = df_train.y\n",
    "    y_val = df_val.y\n",
    "\n",
    "    dv, model = train(df_train, y_train, C=1.0)\n",
    "    y_pred = predict(df_val, dv, model)\n",
    "\n",
    "    auc = roc_auc_score(y_val, y_pred)\n",
    "    scores.append(auc)\n",
    "\n",
    "print('%.3f +- %.3f' % (np.mean(scores), np.std(scores)))"
   ]
  },
  {
   "cell_type": "markdown",
   "metadata": {
    "id": "9I6Txx8dNtAG"
   },
   "source": [
    "- Answer for Question5: 0.006"
   ]
  },
  {
   "cell_type": "code",
   "execution_count": 155,
   "metadata": {
    "colab": {
     "base_uri": "https://localhost:8080/"
    },
    "id": "TPfZn98TNh3Q",
    "outputId": "a56cd3a9-9efe-480b-ae57-b93d2099a11a"
   },
   "outputs": [
    {
     "name": "stdout",
     "output_type": "stream",
     "text": [
      "C=1e-06, 0.701 +- 0.009\n",
      "C=0.001, 0.861 +- 0.007\n",
      "C=   1, 0.906 +- 0.006\n"
     ]
    }
   ],
   "source": [
    "#@ INSPECTING KFOLD CROSS VALIDATION:\n",
    "kfold = KFold(n_splits=5, shuffle=True, random_state=1)\n",
    "\n",
    "for C in [0.000001, 0.001, 1]:\n",
    "    scores = []\n",
    "\n",
    "    for train_idx, val_idx in kfold.split(df_full_train):\n",
    "        df_train = df_full_train.iloc[train_idx]\n",
    "        df_val = df_full_train.iloc[val_idx]\n",
    "\n",
    "        y_train = df_train.y\n",
    "        y_val = df_val.y\n",
    "\n",
    "        dv, model = train(df_train, y_train, C=C)\n",
    "        y_pred = predict(df_val, dv, model)\n",
    "\n",
    "        auc = roc_auc_score(y_val, y_pred)\n",
    "        scores.append(auc)\n",
    "\n",
    "    print('C=%4s, %.3f +- %.3f' % (C, np.mean(scores), np.std(scores)))"
   ]
  },
  {
   "cell_type": "markdown",
   "metadata": {
    "id": "CIa3rZUZONzY"
   },
   "source": [
    "- Answer for Question6: 1"
   ]
  }
 ],
 "metadata": {
  "colab": {
   "provenance": []
  },
  "kernelspec": {
   "display_name": "Python 3 (ipykernel)",
   "language": "python",
   "name": "python3"
  },
  "language_info": {
   "codemirror_mode": {
    "name": "ipython",
    "version": 3
   },
   "file_extension": ".py",
   "mimetype": "text/x-python",
   "name": "python",
   "nbconvert_exporter": "python",
   "pygments_lexer": "ipython3",
   "version": "3.12.1"
  },
  "vscode": {
   "interpreter": {
    "hash": "4cbf2951cde2f569b578b1df868513fa15c696ba1c73b34f313a3fcf610bb9ca"
   }
  }
 },
 "nbformat": 4,
 "nbformat_minor": 4
}
