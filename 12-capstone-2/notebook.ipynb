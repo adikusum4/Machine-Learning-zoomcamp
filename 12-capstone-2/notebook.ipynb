{
 "cells": [
  {
   "cell_type": "markdown",
   "metadata": {
    "id": "UfJt2qsnGwJa"
   },
   "source": [
    "# Estimating Obesity Levels Based on Eating Habits and Physical Activity  \r\n",
    "**Capstone Project 2 by [Adi Kusuma] - [DataTalks.Club](https://datatalks.club)**  \r\n",
    "\r\n",
    "Obesity is a growing global health issue. Understanding an individual's eating habits and physical activity levels can provide valuable insights into their overall health. Poor diet and lack of exercise are significant factors contributing to severe obesity, which can lead to serious health risks.  \r\n",
    "\r\n",
    "In this project, I analyzed data from individuals in Colombia, Peru, and Mexico. The dataset, sourced from the [UC Irvine Machine Learning Repository](https://archive.ics.uci.edu/dataset/544/estimation+of+obesity+levels+based+on+eating+habits+and+physical+condition), includes 17 features and 2,111 records. Each record is labeled with the class variable `NObesity` (Obesity Level), which categorizes individuals into the following groups:  \r\n",
    "- Insufficient Weight  \r\n",
    "- Normal Weight  \r\n",
    "- Overweight Level I  \r\n",
    "- Overweight Level II  \r\n",
    "- Obesity Type I  \r\n",
    "- Obesity Type II  \r\n",
    "- Obesity Type III  \r\n",
    "\r\n",
    "Notably, **77% of the dataset was synthetically generated** using the Weka tool with the SMOTE filter, while **23% of the data was collected directly** from users via an online platform.  \r\n",
    "\r\n",
    "This project aims to explore how eating habits and physical activity can help estimate obesity levels and provide actionable insights to improve health outcomes."
   ]
  },
  {
   "cell_type": "code",
   "execution_count": 1,
   "metadata": {},
   "outputs": [],
   "source": [
    "#@ IMPORTING LIBRARIES AND DEPENDENCIES:\n",
    "import os\n",
    "import re\n",
    "import numpy as np\n",
    "import pandas as pd"
   ]
  },
  {
   "cell_type": "code",
   "execution_count": 2,
   "metadata": {},
   "outputs": [],
   "source": [
    "import os\n",
    "import requests\n",
    "import zipfile"
   ]
  },
  {
   "cell_type": "code",
   "execution_count": 3,
   "metadata": {
    "executionInfo": {
     "elapsed": 5482,
     "status": "ok",
     "timestamp": 1732544236342,
     "user": {
      "displayName": "Alexander Rios",
      "userId": "10235043470082329050"
     },
     "user_tz": 180
    },
    "id": "qCW1hwTUzLzr"
   },
   "outputs": [],
   "source": [
    "import seaborn as sns\n",
    "import matplotlib.pyplot as plt\n",
    "from matplotlib.cm import viridis\n",
    "from matplotlib.cm import inferno\n",
    "from matplotlib.cm import plasma\n",
    "#import mplcyberpunk\n",
    "\n",
    "#plt.style.use(\"cyberpunk\")"
   ]
  },
  {
   "cell_type": "code",
   "execution_count": 4,
   "metadata": {},
   "outputs": [],
   "source": [
    "from sklearn.preprocessing import LabelEncoder"
   ]
  },
  {
   "cell_type": "code",
   "execution_count": 5,
   "metadata": {},
   "outputs": [],
   "source": [
    "import optuna\n",
    "import warnings\n",
    "\n",
    "from sklearn.metrics import log_loss"
   ]
  },
  {
   "cell_type": "code",
   "execution_count": 6,
   "metadata": {},
   "outputs": [],
   "source": [
    "## Set Optuna logging level to WARNING to suppress logs\n",
    "optuna.logging.set_verbosity(optuna.logging.WARNING)\n",
    "\n",
    "warnings.filterwarnings(\"ignore\")"
   ]
  },
  {
   "cell_type": "code",
   "execution_count": 7,
   "metadata": {},
   "outputs": [],
   "source": [
    "# Function to filter positive correlations\n",
    "#def filter_positive_corr(df, threshold=0.5):\n",
    "def filter_positive_corr(df, threshold):\n",
    "    \"\"\"\n",
    "    Calculate the correlations between numerical columns in the DataFrame and\n",
    "    display column pairs with positive correlations greater than the threshold.\n",
    "\n",
    "    Parameters:\n",
    "        df (pd.DataFrame): The DataFrame containing the data.\n",
    "        threshold (float): The positive correlation threshold (default: 0.5).\n",
    "\n",
    "    Returns:\n",
    "        pd.DataFrame: DataFrame containing column pairs with positive correlation > threshold.\n",
    "    \"\"\"\n",
    "    # Select numerical columns\n",
    "    numeric_df = df.select_dtypes(include=['number'])\n",
    "\n",
    "    # Compute the correlation matrix\n",
    "    corr_matrix = numeric_df.corr()\n",
    "\n",
    "    # Create a DataFrame for column pairs with positive correlation > threshold\n",
    "    corr_pairs = (\n",
    "        corr_matrix\n",
    "        .where(lambda x: x > threshold)  # Select positive correlations > threshold\n",
    "        .stack()                         # Convert the matrix into column pairs\n",
    "        .reset_index()                   # Reset index to create a DataFrame\n",
    "        .rename(columns={0: 'Correlation', 'level_0': 'Feature 1', 'level_1': 'Feature 2'})\n",
    "    )\n",
    "\n",
    "    # Remove correlations between the same columns\n",
    "    corr_pairs = corr_pairs[corr_pairs['Feature 1'] != corr_pairs['Feature 2']]\n",
    "\n",
    "    # Remove duplicate column pairs (Feature 1, Feature 2) and (Feature 2, Feature 1)\n",
    "    corr_pairs['Ordered Pair'] = corr_pairs[['Feature 1', 'Feature 2']].apply(lambda x: tuple(sorted(x)), axis=1)\n",
    "    corr_pairs = corr_pairs.drop_duplicates(subset='Ordered Pair').drop(columns='Ordered Pair')\n",
    "\n",
    "    return corr_pairs.sort_values(by='Correlation', ascending=False)\n",
    "\n",
    "# Function to filter negative correlations\n",
    "#def filter_negative_corr(df, threshold=-0.5):\n",
    "def filter_negative_corr(df, threshold):\n",
    "    \"\"\"\n",
    "    Calculate the correlations between numerical columns in the DataFrame and\n",
    "    display column pairs with negative correlations smaller than the threshold.\n",
    "\n",
    "    Parameters:\n",
    "        df (pd.DataFrame): The DataFrame containing the data.\n",
    "        threshold (float): The negative correlation threshold (default: -0.5).\n",
    "\n",
    "    Returns:\n",
    "        pd.DataFrame: DataFrame containing column pairs with negative correlation < threshold.\n",
    "    \"\"\"\n",
    "    # Select numerical columns\n",
    "    numeric_df = df.select_dtypes(include=['number'])\n",
    "\n",
    "    # Compute the correlation matrix\n",
    "    corr_matrix = numeric_df.corr()\n",
    "\n",
    "    # Create a DataFrame for column pairs with negative correlation < threshold\n",
    "    corr_pairs = (\n",
    "        corr_matrix\n",
    "        .where(lambda x: x < threshold)  # Select negative correlations < threshold\n",
    "        .stack()                         # Convert the matrix into column pairs\n",
    "        .reset_index()                   # Reset index to create a DataFrame\n",
    "        .rename(columns={0: 'Correlation', 'level_0': 'Feature 1', 'level_1': 'Feature 2'})\n",
    "    )\n",
    "\n",
    "    # Remove correlations between the same columns\n",
    "    corr_pairs = corr_pairs[corr_pairs['Feature 1'] != corr_pairs['Feature 2']]\n",
    "\n",
    "    # Remove duplicate column pairs (Feature 1, Feature 2) and (Feature 2, Feature 1)\n",
    "    corr_pairs['Ordered Pair'] = corr_pairs[['Feature 1', 'Feature 2']].apply(lambda x: tuple(sorted(x)), axis=1)\n",
    "    corr_pairs = corr_pairs.drop_duplicates(subset='Ordered Pair').drop(columns='Ordered Pair')\n",
    "\n",
    "    return corr_pairs.sort_values(by='Correlation')"
   ]
  },
  {
   "cell_type": "code",
   "execution_count": 8,
   "metadata": {},
   "outputs": [],
   "source": [
    "def positive_correlations(df, target_column, threshold):\n",
    "    \"\"\"\n",
    "    Displays positive correlations greater than the threshold with the target_column, only for numeric columns\n",
    "    and ignoring correlations with the column itself.\n",
    "\n",
    "    Parameters:\n",
    "        df (pd.DataFrame): The input DataFrame.\n",
    "        target_column (str): The target column to calculate correlations with.\n",
    "        threshold (float): The minimum correlation threshold for positive correlations.\n",
    "\n",
    "    Returns:\n",
    "        pd.Series: Positive correlations greater than the threshold.\n",
    "    \"\"\"\n",
    "    # Ensure the target column exists and is numeric\n",
    "    if target_column not in df.columns:\n",
    "        raise ValueError(f\"Column '{target_column}' not found in the DataFrame.\")\n",
    "    if not pd.api.types.is_numeric_dtype(df[target_column]):\n",
    "        raise TypeError(f\"Column '{target_column}' must be numeric.\")\n",
    "    \n",
    "    # Filter numeric columns and calculate correlations\n",
    "    numeric_df = df.select_dtypes(include=['number'])  # Only numeric columns\n",
    "    correlations = numeric_df.corr()[target_column].sort_values(ascending=False)\n",
    "    \n",
    "    # Filter positive correlations greater than the threshold (excluding the column itself)\n",
    "    return correlations[(correlations > threshold) & (correlations.index != target_column)]\n"
   ]
  },
  {
   "cell_type": "code",
   "execution_count": 9,
   "metadata": {},
   "outputs": [],
   "source": [
    "def negative_correlations(df, target_column, threshold):\n",
    "    \"\"\"\n",
    "    Displays negative correlations less than the threshold with the target_column, only for numeric columns\n",
    "    and ignoring correlations with the column itself.\n",
    "\n",
    "    Parameters:\n",
    "        df (pd.DataFrame): The input DataFrame.\n",
    "        target_column (str): The target column to calculate correlations with.\n",
    "        threshold (float): The maximum correlation threshold for negative correlations.\n",
    "\n",
    "    Returns:\n",
    "        pd.Series: Negative correlations less than the threshold.\n",
    "    \"\"\"\n",
    "    # Ensure the target column exists and is numeric\n",
    "    if target_column not in df.columns:\n",
    "        raise ValueError(f\"Column '{target_column}' not found in the DataFrame.\")\n",
    "    if not pd.api.types.is_numeric_dtype(df[target_column]):\n",
    "        raise TypeError(f\"Column '{target_column}' must be numeric.\")\n",
    "    \n",
    "    # Filter numeric columns and calculate correlations\n",
    "    numeric_df = df.select_dtypes(include=['number'])  # Only numeric columns\n",
    "    correlations = numeric_df.corr()[target_column].sort_values(ascending=True)\n",
    "    \n",
    "    # Filter negative correlations less than the threshold (excluding the column itself)\n",
    "    return correlations[(correlations < threshold) & (correlations.index != target_column)]\n"
   ]
  },
  {
   "cell_type": "code",
   "execution_count": 10,
   "metadata": {},
   "outputs": [],
   "source": [
    "def summarize_dataframe_20(df):\n",
    "    \"\"\"\n",
    "    Membuat ringkasan informasi untuk DataFrame.\n",
    "    \n",
    "    Parameter:\n",
    "        df (pd.DataFrame): DataFrame yang akan dirangkum.\n",
    "    \n",
    "    Returns:\n",
    "        pd.DataFrame: DataFrame berisi ringkasan kolom, jumlah nilai unik, daftar nilai unik\n",
    "                      (maksimum 20 nilai), jumlah NaN, persentase NaN, dan statistik value counts.\n",
    "    \"\"\"\n",
    "    # Hitung jumlah nilai unik untuk setiap kolom\n",
    "    nunique_values = df.nunique()\n",
    "\n",
    "    # Buat daftar nilai unik (maksimum 20 nilai) untuk setiap kolom\n",
    "    unique_values = [\n",
    "        ', '.join(map(str, df[col].unique()[:20])) + ('...' if nunique_values[col] > 20 else '')\n",
    "        for col in df.columns\n",
    "    ]\n",
    "\n",
    "    # Hitung jumlah nilai NaN untuk setiap kolom\n",
    "    count_nan = df.isna().sum()\n",
    "\n",
    "    # Hitung persentase nilai NaN untuk setiap kolom\n",
    "    nan_percentage = (count_nan / len(df)) * 100\n",
    "    \n",
    "    # Ambil tipe data untuk setiap kolom\n",
    "    dtype_values = df.dtypes\n",
    "\n",
    "    # Hitung value_counts (maksimum 20 nilai) dan value_counts(normalize=True)\n",
    "    value_counts_dict = {\n",
    "        col: {k: v for k, v in list(df[col].value_counts().items())[:20]} for col in df.columns\n",
    "    }\n",
    "    value_counts_norm_dict = {\n",
    "        col: {k: round(v, 3) for k, v in list(df[col].value_counts(normalize=True).items())[:20]} for col in df.columns\n",
    "    }\n",
    "\n",
    "    # Buat DataFrame ringkasan\n",
    "    df_summary = pd.DataFrame({\n",
    "        'columns': df.columns,\n",
    "        'nunique': nunique_values.values,\n",
    "        'unique (max 20)': unique_values,\n",
    "        'len_value_counts': [len(df[col].value_counts()) for col in df.columns],  # Jumlah unique values per kolom\n",
    "        'value_counts (max 20)': [value_counts_dict[col] for col in df.columns],\n",
    "        'value_counts_norm (max 20)': [value_counts_norm_dict[col] for col in df.columns],\n",
    "        'dtype': dtype_values.values,\n",
    "        'count_nan': count_nan.values,\n",
    "        'nan_percentage': nan_percentage.values,\n",
    "    })\n",
    "    \n",
    "    return df_summary\n"
   ]
  },
  {
   "cell_type": "code",
   "execution_count": 11,
   "metadata": {},
   "outputs": [],
   "source": [
    "def set_pandas_display_options():\n",
    "    \"\"\"\n",
    "    Set pandas display options to show full text in columns, \n",
    "    display all columns, prevent line wrapping, and show all rows.\n",
    "    \"\"\"\n",
    "    pd.set_option('display.max_colwidth', None)\n",
    "    pd.set_option('display.max_columns', None)\n",
    "    pd.set_option('display.width', None)\n",
    "    pd.set_option('display.max_rows', None)\n",
    "    print(\"Pandas display options set all.\")\n",
    "\n",
    "def reset_pandas_display_options():\n",
    "    \"\"\"\n",
    "    Reset pandas display options to their default values.\n",
    "    \"\"\"\n",
    "    pd.reset_option('display.max_colwidth')\n",
    "    pd.reset_option('display.max_columns')\n",
    "    pd.reset_option('display.width')\n",
    "    pd.reset_option('display.max_rows')\n",
    "    print(\"Pandas display options reset all to default.\")\n"
   ]
  },
  {
   "cell_type": "markdown",
   "metadata": {
    "id": "yjK2IziRHq-f"
   },
   "source": [
    "# Download dataset"
   ]
  },
  {
   "cell_type": "code",
   "execution_count": 12,
   "metadata": {},
   "outputs": [],
   "source": [
    "# Define the URL of the CSV file\n",
    "url = \"https://archive.ics.uci.edu/static/public/544/estimation+of+obesity+levels+based+on+eating+habits+and+physical+condition.zip\""
   ]
  },
  {
   "cell_type": "code",
   "execution_count": 13,
   "metadata": {},
   "outputs": [
    {
     "name": "stdout",
     "output_type": "stream",
     "text": [
      "estimation_of_obesity_levels_based_on_eating_habits_and_physical_condition.zip already exists. Download canceled.\n"
     ]
    }
   ],
   "source": [
    "# Check if the file already exists\n",
    "if os.path.exists(\"estimation_of_obesity_levels_based_on_eating_habits_and_physical_condition.zip\"):\n",
    "    print(\"estimation_of_obesity_levels_based_on_eating_habits_and_physical_condition.zip already exists. Download canceled.\")\n",
    "else:\n",
    "    # Download the file using requests (more secure and integrated)  \n",
    "    response = requests.get(url)\n",
    "\n",
    "    # Check for successful download\n",
    "    if response.status_code == 200:\n",
    "        # Write the data to a local ZIP file\n",
    "        with open(\"estimation_of_obesity_levels_based_on_eating_habits_and_physical_condition.zip\", \"wb\") as f:\n",
    "            f.write(response.content)\n",
    "        print(\"estimation_of_obesity_levels_based_on_eating_habits_and_physical_condition.zip downloaded successfully!\")\n",
    "    else:\n",
    "        print(f\"Error downloading file: {response.status_code}\")"
   ]
  },
  {
   "cell_type": "code",
   "execution_count": 14,
   "metadata": {},
   "outputs": [
    {
     "name": "stdout",
     "output_type": "stream",
     "text": [
      "Directory 'estimation_of_obesity_levels_based_on_eating_habits_and_physical_condition' already exists. Skipping extraction.\n"
     ]
    }
   ],
   "source": [
    "# Define the directory where the files will be extracted\n",
    "extract_dir = \"estimation_of_obesity_levels_based_on_eating_habits_and_physical_condition\"\n",
    "\n",
    "# Check if the directory already exists\n",
    "if not os.path.exists(extract_dir):\n",
    "    # Unzip the file only if the directory doesn't exist\n",
    "    with zipfile.ZipFile(\"estimation_of_obesity_levels_based_on_eating_habits_and_physical_condition.zip\", \"r\") as zip_ref:\n",
    "        zip_ref.extractall(extract_dir)\n",
    "        print(f\"Files extracted to '{extract_dir}' directory.\")\n",
    "        print(\"Files extracted:\", zip_ref.namelist())\n",
    "else:\n",
    "    print(f\"Directory '{extract_dir}' already exists. Skipping extraction.\")"
   ]
  },
  {
   "cell_type": "markdown",
   "metadata": {
    "id": "9Dr30_uBziZA"
   },
   "source": [
    "# Feature description"
   ]
  },
  {
   "cell_type": "markdown",
   "metadata": {},
   "source": [
    "| Variable Name                 | Role     | Type         | Demographic    | Description                                                                                 | Units | Missing Values |\n",
    "|-------------------------------|----------|--------------|----------------|---------------------------------------------------------------------------------------------|-------|----------------|\n",
    "| Gender                        | Feature  | Categorical  | Gender         |                                                                                             |       | no             |\n",
    "| Age                           | Feature  | Continuous   | Age            |                                                                                             |       | no             |\n",
    "| Height                        | Feature  | Continuous   |                |                                                                                             |       | no             |\n",
    "| Weight                        | Feature  | Continuous   |                |                                                                                             |       | no             |\n",
    "| family_history_with_overweight| Feature  | Binary       |                | Has a family member suffered or suffers from overweight?                                    |       | no             |\n",
    "| FAVC                          | Feature  | Binary       |                | Do you eat high caloric food frequently?                                                   |       | no             |\n",
    "| FCVC                          | Feature  | Integer      |                | Do you usually eat vegetables in your meals?                                               |       | no             |\n",
    "| NCP                           | Feature  | Continuous   |                | How many main meals do you have daily?                                                     |       | no             |\n",
    "| CAEC                          | Feature  | Categorical  |                | Do you eat any food between meals?                                                         |       | no             |\n",
    "| SMOKE                         | Feature  | Binary       |                | Do you smoke?                                                                               |       | no             |\n",
    "| CH2O                          | Feature  | Continuous   |                | How much water do you drink daily?                                                         |       | no             |\n",
    "| SCC                           | Feature  | Binary       |                | Do you monitor the calories you eat daily?                                                 |       | no             |\n",
    "| FAF                           | Feature  | Continuous   |                | How often do you have physical activity?                                                   |       | no             |\n",
    "| TUE                           | Feature  | Integer      |                | How much time do you use technological devices such as cell phone, videogames, television, computer and others? |       | no             |\n",
    "| CALC                          | Feature  | Categorical  |                | How often do you drink alcohol?                                                            |       | no             |\n",
    "| MTRANS                        | Feature  | Categorical  |                | Which transportation do you usually use?                                                   |       | no             |\n",
    "| NObeyesdad                    | Target   | Categorical  |                | Obesity level                                                                              |       | no             |\n"
   ]
  },
  {
   "cell_type": "markdown",
   "metadata": {
    "id": "SmXjyHf1WPwT"
   },
   "source": [
    "# Loading the dataset"
   ]
  },
  {
   "cell_type": "code",
   "execution_count": 15,
   "metadata": {
    "colab": {
     "base_uri": "https://localhost:8080/",
     "height": 206
    },
    "executionInfo": {
     "elapsed": 1048,
     "status": "ok",
     "timestamp": 1732544230259,
     "user": {
      "displayName": "Alexander Rios",
      "userId": "10235043470082329050"
     },
     "user_tz": 180
    },
    "id": "Yz-1BKMFyhUT",
    "outputId": "8ff01228-b849-4248-8a9e-730d5e36e120"
   },
   "outputs": [
    {
     "data": {
      "text/html": [
       "<div>\n",
       "<style scoped>\n",
       "    .dataframe tbody tr th:only-of-type {\n",
       "        vertical-align: middle;\n",
       "    }\n",
       "\n",
       "    .dataframe tbody tr th {\n",
       "        vertical-align: top;\n",
       "    }\n",
       "\n",
       "    .dataframe thead th {\n",
       "        text-align: right;\n",
       "    }\n",
       "</style>\n",
       "<table border=\"1\" class=\"dataframe\">\n",
       "  <thead>\n",
       "    <tr style=\"text-align: right;\">\n",
       "      <th></th>\n",
       "      <th>Gender</th>\n",
       "      <th>Age</th>\n",
       "      <th>Height</th>\n",
       "      <th>Weight</th>\n",
       "      <th>family_history_with_overweight</th>\n",
       "      <th>FAVC</th>\n",
       "      <th>FCVC</th>\n",
       "      <th>NCP</th>\n",
       "      <th>CAEC</th>\n",
       "      <th>SMOKE</th>\n",
       "      <th>CH2O</th>\n",
       "      <th>SCC</th>\n",
       "      <th>FAF</th>\n",
       "      <th>TUE</th>\n",
       "      <th>CALC</th>\n",
       "      <th>MTRANS</th>\n",
       "      <th>NObeyesdad</th>\n",
       "    </tr>\n",
       "  </thead>\n",
       "  <tbody>\n",
       "    <tr>\n",
       "      <th>1917</th>\n",
       "      <td>Female</td>\n",
       "      <td>21.768153</td>\n",
       "      <td>1.764160</td>\n",
       "      <td>133.888629</td>\n",
       "      <td>yes</td>\n",
       "      <td>yes</td>\n",
       "      <td>3.0</td>\n",
       "      <td>3.0</td>\n",
       "      <td>Sometimes</td>\n",
       "      <td>no</td>\n",
       "      <td>2.325020</td>\n",
       "      <td>no</td>\n",
       "      <td>1.441791</td>\n",
       "      <td>0.918468</td>\n",
       "      <td>Sometimes</td>\n",
       "      <td>Public_Transportation</td>\n",
       "      <td>Obesity_Type_III</td>\n",
       "    </tr>\n",
       "    <tr>\n",
       "      <th>1970</th>\n",
       "      <td>Female</td>\n",
       "      <td>25.908829</td>\n",
       "      <td>1.607734</td>\n",
       "      <td>102.305767</td>\n",
       "      <td>yes</td>\n",
       "      <td>yes</td>\n",
       "      <td>3.0</td>\n",
       "      <td>3.0</td>\n",
       "      <td>Sometimes</td>\n",
       "      <td>no</td>\n",
       "      <td>1.030501</td>\n",
       "      <td>no</td>\n",
       "      <td>0.065820</td>\n",
       "      <td>0.991473</td>\n",
       "      <td>Sometimes</td>\n",
       "      <td>Public_Transportation</td>\n",
       "      <td>Obesity_Type_III</td>\n",
       "    </tr>\n",
       "    <tr>\n",
       "      <th>1928</th>\n",
       "      <td>Female</td>\n",
       "      <td>26.000000</td>\n",
       "      <td>1.652674</td>\n",
       "      <td>111.919155</td>\n",
       "      <td>yes</td>\n",
       "      <td>yes</td>\n",
       "      <td>3.0</td>\n",
       "      <td>3.0</td>\n",
       "      <td>Sometimes</td>\n",
       "      <td>no</td>\n",
       "      <td>2.814517</td>\n",
       "      <td>no</td>\n",
       "      <td>0.000000</td>\n",
       "      <td>0.101598</td>\n",
       "      <td>Sometimes</td>\n",
       "      <td>Public_Transportation</td>\n",
       "      <td>Obesity_Type_III</td>\n",
       "    </tr>\n",
       "    <tr>\n",
       "      <th>1913</th>\n",
       "      <td>Female</td>\n",
       "      <td>26.000000</td>\n",
       "      <td>1.631547</td>\n",
       "      <td>111.588625</td>\n",
       "      <td>yes</td>\n",
       "      <td>yes</td>\n",
       "      <td>3.0</td>\n",
       "      <td>3.0</td>\n",
       "      <td>Sometimes</td>\n",
       "      <td>no</td>\n",
       "      <td>2.554007</td>\n",
       "      <td>no</td>\n",
       "      <td>0.000000</td>\n",
       "      <td>0.252635</td>\n",
       "      <td>Sometimes</td>\n",
       "      <td>Public_Transportation</td>\n",
       "      <td>Obesity_Type_III</td>\n",
       "    </tr>\n",
       "    <tr>\n",
       "      <th>495</th>\n",
       "      <td>Male</td>\n",
       "      <td>19.000000</td>\n",
       "      <td>1.800000</td>\n",
       "      <td>60.000000</td>\n",
       "      <td>yes</td>\n",
       "      <td>yes</td>\n",
       "      <td>3.0</td>\n",
       "      <td>1.0</td>\n",
       "      <td>Always</td>\n",
       "      <td>no</td>\n",
       "      <td>1.000000</td>\n",
       "      <td>yes</td>\n",
       "      <td>0.000000</td>\n",
       "      <td>0.000000</td>\n",
       "      <td>no</td>\n",
       "      <td>Motorbike</td>\n",
       "      <td>Normal_Weight</td>\n",
       "    </tr>\n",
       "  </tbody>\n",
       "</table>\n",
       "</div>"
      ],
      "text/plain": [
       "      Gender        Age    Height      Weight family_history_with_overweight  \\\n",
       "1917  Female  21.768153  1.764160  133.888629                            yes   \n",
       "1970  Female  25.908829  1.607734  102.305767                            yes   \n",
       "1928  Female  26.000000  1.652674  111.919155                            yes   \n",
       "1913  Female  26.000000  1.631547  111.588625                            yes   \n",
       "495     Male  19.000000  1.800000   60.000000                            yes   \n",
       "\n",
       "     FAVC  FCVC  NCP       CAEC SMOKE      CH2O  SCC       FAF       TUE  \\\n",
       "1917  yes   3.0  3.0  Sometimes    no  2.325020   no  1.441791  0.918468   \n",
       "1970  yes   3.0  3.0  Sometimes    no  1.030501   no  0.065820  0.991473   \n",
       "1928  yes   3.0  3.0  Sometimes    no  2.814517   no  0.000000  0.101598   \n",
       "1913  yes   3.0  3.0  Sometimes    no  2.554007   no  0.000000  0.252635   \n",
       "495   yes   3.0  1.0     Always    no  1.000000  yes  0.000000  0.000000   \n",
       "\n",
       "           CALC                 MTRANS        NObeyesdad  \n",
       "1917  Sometimes  Public_Transportation  Obesity_Type_III  \n",
       "1970  Sometimes  Public_Transportation  Obesity_Type_III  \n",
       "1928  Sometimes  Public_Transportation  Obesity_Type_III  \n",
       "1913  Sometimes  Public_Transportation  Obesity_Type_III  \n",
       "495          no              Motorbike     Normal_Weight  "
      ]
     },
     "execution_count": 15,
     "metadata": {},
     "output_type": "execute_result"
    }
   ],
   "source": [
    "df = pd.read_csv(\"estimation_of_obesity_levels_based_on_eating_habits_and_physical_condition/ObesityDataSet_raw_and_data_sinthetic.csv\")\n",
    "df.sample(5)"
   ]
  },
  {
   "cell_type": "markdown",
   "metadata": {
    "id": "c5sDBCJiJBhs"
   },
   "source": [
    "# Exploratory data analysis (EDA)"
   ]
  },
  {
   "cell_type": "markdown",
   "metadata": {
    "id": "uLGxdqtDIa1u"
   },
   "source": [
    "## Renaming the columns"
   ]
  },
  {
   "cell_type": "code",
   "execution_count": 16,
   "metadata": {},
   "outputs": [
    {
     "data": {
      "text/plain": [
       "Index(['Gender', 'Age', 'Height', 'Weight', 'family_history_with_overweight',\n",
       "       'FAVC', 'FCVC', 'NCP', 'CAEC', 'SMOKE', 'CH2O', 'SCC', 'FAF', 'TUE',\n",
       "       'CALC', 'MTRANS', 'NObeyesdad'],\n",
       "      dtype='object')"
      ]
     },
     "execution_count": 16,
     "metadata": {},
     "output_type": "execute_result"
    }
   ],
   "source": [
    "df.columns"
   ]
  },
  {
   "cell_type": "code",
   "execution_count": 17,
   "metadata": {},
   "outputs": [],
   "source": [
    "df.rename(columns={\n",
    "    'family_history_with_overweight': 'Family_History_Overweight',\n",
    "    'FAVC': 'High_Caloric_Food',\n",
    "    'FCVC': 'Vegetable_Consumption',\n",
    "    'NCP': 'Main_Meals_Per_Day',\n",
    "    'CAEC': 'Snacking_Between_Meals',\n",
    "    'SMOKE': 'Smoking',\n",
    "    'CH2O': 'Water_Intake',\n",
    "    'SCC': 'Calorie_Monitoring',\n",
    "    'FAF': 'Physical_Activity_Frequency',\n",
    "    'TUE': 'Tech_Usage_Hours',\n",
    "    'CALC': 'Alcohol_Consumption',\n",
    "    'MTRANS': 'Transportation_Mode',\n",
    "    'NObeyesdad': 'Obesity_Level'\n",
    "}, inplace=True)\n"
   ]
  },
  {
   "cell_type": "code",
   "execution_count": 18,
   "metadata": {},
   "outputs": [
    {
     "data": {
      "text/plain": [
       "Index(['Gender', 'Age', 'Height', 'Weight', 'Family_History_Overweight',\n",
       "       'High_Caloric_Food', 'Vegetable_Consumption', 'Main_Meals_Per_Day',\n",
       "       'Snacking_Between_Meals', 'Smoking', 'Water_Intake',\n",
       "       'Calorie_Monitoring', 'Physical_Activity_Frequency', 'Tech_Usage_Hours',\n",
       "       'Alcohol_Consumption', 'Transportation_Mode', 'Obesity_Level'],\n",
       "      dtype='object')"
      ]
     },
     "execution_count": 18,
     "metadata": {},
     "output_type": "execute_result"
    }
   ],
   "source": [
    "df.columns"
   ]
  },
  {
   "cell_type": "code",
   "execution_count": 19,
   "metadata": {},
   "outputs": [],
   "source": [
    "df.columns = df.columns.str.lower()\n"
   ]
  },
  {
   "cell_type": "code",
   "execution_count": 20,
   "metadata": {},
   "outputs": [
    {
     "data": {
      "text/plain": [
       "Index(['gender', 'age', 'height', 'weight', 'family_history_overweight',\n",
       "       'high_caloric_food', 'vegetable_consumption', 'main_meals_per_day',\n",
       "       'snacking_between_meals', 'smoking', 'water_intake',\n",
       "       'calorie_monitoring', 'physical_activity_frequency', 'tech_usage_hours',\n",
       "       'alcohol_consumption', 'transportation_mode', 'obesity_level'],\n",
       "      dtype='object')"
      ]
     },
     "execution_count": 20,
     "metadata": {},
     "output_type": "execute_result"
    }
   ],
   "source": [
    "df.columns"
   ]
  },
  {
   "cell_type": "code",
   "execution_count": 21,
   "metadata": {},
   "outputs": [
    {
     "name": "stdout",
     "output_type": "stream",
     "text": [
      "<class 'pandas.core.frame.DataFrame'>\n",
      "RangeIndex: 2111 entries, 0 to 2110\n",
      "Data columns (total 17 columns):\n",
      " #   Column                       Non-Null Count  Dtype  \n",
      "---  ------                       --------------  -----  \n",
      " 0   gender                       2111 non-null   object \n",
      " 1   age                          2111 non-null   float64\n",
      " 2   height                       2111 non-null   float64\n",
      " 3   weight                       2111 non-null   float64\n",
      " 4   family_history_overweight    2111 non-null   object \n",
      " 5   high_caloric_food            2111 non-null   object \n",
      " 6   vegetable_consumption        2111 non-null   float64\n",
      " 7   main_meals_per_day           2111 non-null   float64\n",
      " 8   snacking_between_meals       2111 non-null   object \n",
      " 9   smoking                      2111 non-null   object \n",
      " 10  water_intake                 2111 non-null   float64\n",
      " 11  calorie_monitoring           2111 non-null   object \n",
      " 12  physical_activity_frequency  2111 non-null   float64\n",
      " 13  tech_usage_hours             2111 non-null   float64\n",
      " 14  alcohol_consumption          2111 non-null   object \n",
      " 15  transportation_mode          2111 non-null   object \n",
      " 16  obesity_level                2111 non-null   object \n",
      "dtypes: float64(8), object(9)\n",
      "memory usage: 280.5+ KB\n"
     ]
    }
   ],
   "source": [
    "df.info()"
   ]
  },
  {
   "cell_type": "markdown",
   "metadata": {
    "id": "eHXuk2HxXxE_"
   },
   "source": [
    "## Dropping duplicated"
   ]
  },
  {
   "cell_type": "code",
   "execution_count": 22,
   "metadata": {
    "colab": {
     "base_uri": "https://localhost:8080/"
    },
    "executionInfo": {
     "elapsed": 6,
     "status": "ok",
     "timestamp": 1732544230260,
     "user": {
      "displayName": "Alexander Rios",
      "userId": "10235043470082329050"
     },
     "user_tz": 180
    },
    "id": "NhTgGhdJW97d",
    "outputId": "a517b6bb-3e74-4957-b6e2-fc78b7096eff"
   },
   "outputs": [
    {
     "data": {
      "text/plain": [
       "24"
      ]
     },
     "execution_count": 22,
     "metadata": {},
     "output_type": "execute_result"
    }
   ],
   "source": [
    "df.duplicated().sum()"
   ]
  },
  {
   "cell_type": "code",
   "execution_count": 23,
   "metadata": {
    "colab": {
     "base_uri": "https://localhost:8080/"
    },
    "executionInfo": {
     "elapsed": 5,
     "status": "ok",
     "timestamp": 1732544230260,
     "user": {
      "displayName": "Alexander Rios",
      "userId": "10235043470082329050"
     },
     "user_tz": 180
    },
    "id": "ntoJRxe3XjpK",
    "outputId": "f56c2da0-1643-4cdd-81d0-40c92d1d533f"
   },
   "outputs": [
    {
     "data": {
      "text/plain": [
       "0"
      ]
     },
     "execution_count": 23,
     "metadata": {},
     "output_type": "execute_result"
    }
   ],
   "source": [
    "df = df.drop_duplicates()\n",
    "df.duplicated().sum()"
   ]
  },
  {
   "cell_type": "markdown",
   "metadata": {
    "id": "oaYlv0klxcDW"
   },
   "source": [
    "## Summary dataframe"
   ]
  },
  {
   "cell_type": "code",
   "execution_count": 24,
   "metadata": {},
   "outputs": [
    {
     "name": "stdout",
     "output_type": "stream",
     "text": [
      "Pandas display options set all.\n"
     ]
    }
   ],
   "source": [
    "set_pandas_display_options()"
   ]
  },
  {
   "cell_type": "code",
   "execution_count": 25,
   "metadata": {},
   "outputs": [],
   "source": [
    "# Contoh penggunaan\n",
    "df_summary = summarize_dataframe_20(df)\n",
    "# Hapus baris dengan nilai 'ID' pada kolom 'columns'\n",
    "#df_summary = df_summary[df_summary['columns'] != 'ID']\n",
    "# Menyaring DataFrame agar kolom 'columns' tidak mengandung nilai tertentu\n",
    "#df_summary = df_summary[~df_summary['columns'].isin(['efs_time', 'donor_age', 'age_at_hct'])]\n",
    "# print(df_summary)\n",
    "#df_summary"
   ]
  },
  {
   "cell_type": "code",
   "execution_count": 26,
   "metadata": {},
   "outputs": [
    {
     "data": {
      "text/html": [
       "<div>\n",
       "<style scoped>\n",
       "    .dataframe tbody tr th:only-of-type {\n",
       "        vertical-align: middle;\n",
       "    }\n",
       "\n",
       "    .dataframe tbody tr th {\n",
       "        vertical-align: top;\n",
       "    }\n",
       "\n",
       "    .dataframe thead th {\n",
       "        text-align: right;\n",
       "    }\n",
       "</style>\n",
       "<table border=\"1\" class=\"dataframe\">\n",
       "  <thead>\n",
       "    <tr style=\"text-align: right;\">\n",
       "      <th></th>\n",
       "      <th>columns</th>\n",
       "      <th>nunique</th>\n",
       "      <th>unique (max 20)</th>\n",
       "      <th>len_value_counts</th>\n",
       "      <th>value_counts (max 20)</th>\n",
       "      <th>value_counts_norm (max 20)</th>\n",
       "      <th>dtype</th>\n",
       "      <th>count_nan</th>\n",
       "      <th>nan_percentage</th>\n",
       "    </tr>\n",
       "  </thead>\n",
       "  <tbody>\n",
       "    <tr>\n",
       "      <th>1</th>\n",
       "      <td>age</td>\n",
       "      <td>1402</td>\n",
       "      <td>21.0, 23.0, 27.0, 22.0, 29.0, 24.0, 26.0, 41.0, 30.0, 52.0, 20.0, 19.0, 31.0, 39.0, 17.0, 25.0, 55.0, 38.0, 18.0, 15.0...</td>\n",
       "      <td>1402</td>\n",
       "      <td>{18.0: 126, 26.0: 101, 23.0: 89, 21.0: 78, 19.0: 59, 20.0: 48, 22.0: 37, 17.0: 30, 24.0: 18, 25.0: 15, 27.0: 14, 33.0: 13, 29.0: 11, 16.0: 8, 30.0: 8, 41.0: 7, 38.0: 7, 40.0: 6, 34.0: 5, 31.0: 4}</td>\n",
       "      <td>{18.0: 0.06, 26.0: 0.048, 23.0: 0.043, 21.0: 0.037, 19.0: 0.028, 20.0: 0.023, 22.0: 0.018, 17.0: 0.014, 24.0: 0.009, 25.0: 0.007, 27.0: 0.007, 33.0: 0.006, 29.0: 0.005, 16.0: 0.004, 30.0: 0.004, 41.0: 0.003, 38.0: 0.003, 40.0: 0.003, 34.0: 0.002, 31.0: 0.002}</td>\n",
       "      <td>float64</td>\n",
       "      <td>0</td>\n",
       "      <td>0.0</td>\n",
       "    </tr>\n",
       "    <tr>\n",
       "      <th>2</th>\n",
       "      <td>height</td>\n",
       "      <td>1574</td>\n",
       "      <td>1.62, 1.52, 1.8, 1.78, 1.5, 1.64, 1.72, 1.85, 1.65, 1.77, 1.7, 1.93, 1.53, 1.71, 1.69, 1.6, 1.75, 1.68, 1.58, 1.79...</td>\n",
       "      <td>1574</td>\n",
       "      <td>{1.7: 60, 1.65: 50, 1.6: 43, 1.75: 39, 1.8: 28, 1.62: 21, 1.72: 18, 1.63: 17, 1.67: 16, 1.78: 15, 1.56: 14, 1.74: 14, 1.55: 14, 1.66: 13, 1.68: 13, 1.76: 13, 1.85: 13, 1.5: 13, 1.64: 10, 1.69: 9}</td>\n",
       "      <td>{1.7: 0.029, 1.65: 0.024, 1.6: 0.021, 1.75: 0.019, 1.8: 0.013, 1.62: 0.01, 1.72: 0.009, 1.63: 0.008, 1.67: 0.008, 1.78: 0.007, 1.56: 0.007, 1.74: 0.007, 1.55: 0.007, 1.66: 0.006, 1.68: 0.006, 1.76: 0.006, 1.85: 0.006, 1.5: 0.006, 1.64: 0.005, 1.69: 0.004}</td>\n",
       "      <td>float64</td>\n",
       "      <td>0</td>\n",
       "      <td>0.0</td>\n",
       "    </tr>\n",
       "    <tr>\n",
       "      <th>3</th>\n",
       "      <td>weight</td>\n",
       "      <td>1525</td>\n",
       "      <td>64.0, 56.0, 77.0, 87.0, 89.8, 53.0, 55.0, 68.0, 105.0, 80.0, 99.0, 60.0, 66.0, 102.0, 78.0, 82.0, 70.0, 50.0, 65.0, 52.0...</td>\n",
       "      <td>1525</td>\n",
       "      <td>{80.0: 59, 50.0: 42, 75.0: 39, 60.0: 37, 70.0: 29, 65.0: 25, 90.0: 20, 78.0: 19, 45.0: 18, 85.0: 18, 42.0: 18, 82.0: 17, 56.0: 15, 58.0: 14, 68.0: 14, 55.0: 14, 53.0: 13, 62.0: 11, 83.0: 10, 72.0: 10}</td>\n",
       "      <td>{80.0: 0.028, 50.0: 0.02, 75.0: 0.019, 60.0: 0.018, 70.0: 0.014, 65.0: 0.012, 90.0: 0.01, 78.0: 0.009, 45.0: 0.009, 85.0: 0.009, 42.0: 0.009, 82.0: 0.008, 56.0: 0.007, 58.0: 0.007, 68.0: 0.007, 55.0: 0.007, 53.0: 0.006, 62.0: 0.005, 83.0: 0.005, 72.0: 0.005}</td>\n",
       "      <td>float64</td>\n",
       "      <td>0</td>\n",
       "      <td>0.0</td>\n",
       "    </tr>\n",
       "    <tr>\n",
       "      <th>13</th>\n",
       "      <td>tech_usage_hours</td>\n",
       "      <td>1129</td>\n",
       "      <td>1.0, 0.0, 2.0, 0.29499, 0.838957, 0.479221, 0.62535, 0.26579, 0.555468, 0.928972, 1.340107, 0.58998, 1.37465, 1.283673, 0.062488, 0.9974, 0.738269, 0.860497, 0.478676, 0.555967...</td>\n",
       "      <td>1129</td>\n",
       "      <td>{0.0: 537, 1.0: 289, 2.0: 108, 0.630866: 4, 1.119877: 3, 0.0026: 3, 0.009254: 2, 0.8324: 2, 1.36595: 2, 0.828549: 2, 1.59257: 2, 0.369134: 2, 1.875023: 2, 0.469735: 2, 0.677909: 2, 0.105895: 2, 1.339232: 2, 0.37465: 2, 1.415536: 2, 0.371941: 2}</td>\n",
       "      <td>{0.0: 0.257, 1.0: 0.138, 2.0: 0.052, 0.630866: 0.002, 1.119877: 0.001, 0.0026: 0.001, 0.009254: 0.001, 0.8324: 0.001, 1.36595: 0.001, 0.828549: 0.001, 1.59257: 0.001, 0.369134: 0.001, 1.875023: 0.001, 0.469735: 0.001, 0.677909: 0.001, 0.105895: 0.001, 1.339232: 0.001, 0.37465: 0.001, 1.415536: 0.001, 0.371941: 0.001}</td>\n",
       "      <td>float64</td>\n",
       "      <td>0</td>\n",
       "      <td>0.0</td>\n",
       "    </tr>\n",
       "    <tr>\n",
       "      <th>6</th>\n",
       "      <td>vegetable_consumption</td>\n",
       "      <td>810</td>\n",
       "      <td>2.0, 3.0, 1.0, 2.450218, 2.880161, 2.00876, 2.596579, 2.591439, 2.392665, 1.123939, 2.027574, 2.658112, 2.88626, 2.714447, 2.750715, 1.4925, 2.205439, 2.059138, 2.310423, 2.823179...</td>\n",
       "      <td>810</td>\n",
       "      <td>{3.0: 647, 2.0: 581, 1.0: 33, 2.823179: 2, 2.21498: 2, 2.795086: 2, 2.442536: 2, 2.81646: 2, 2.938031: 2, 2.954996: 2, 2.903545: 2, 2.39728: 2, 2.204914: 2, 2.758394: 2, 2.971574: 2, 2.568063: 2, 2.407817: 2, 2.392665: 2, 2.13683: 2, 2.630137: 2}</td>\n",
       "      <td>{3.0: 0.31, 2.0: 0.278, 1.0: 0.016, 2.823179: 0.001, 2.21498: 0.001, 2.795086: 0.001, 2.442536: 0.001, 2.81646: 0.001, 2.938031: 0.001, 2.954996: 0.001, 2.903545: 0.001, 2.39728: 0.001, 2.204914: 0.001, 2.758394: 0.001, 2.971574: 0.001, 2.568063: 0.001, 2.407817: 0.001, 2.392665: 0.001, 2.13683: 0.001, 2.630137: 0.001}</td>\n",
       "      <td>float64</td>\n",
       "      <td>0</td>\n",
       "      <td>0.0</td>\n",
       "    </tr>\n",
       "    <tr>\n",
       "      <th>7</th>\n",
       "      <td>main_meals_per_day</td>\n",
       "      <td>635</td>\n",
       "      <td>3.0, 1.0, 4.0, 3.28926, 3.995147, 1.72626, 2.581015, 1.600812, 1.73762, 1.10548, 2.0846, 1.894384, 2.857787, 3.765526, 3.285167, 3.691226, 3.156153, 1.07976, 3.559841, 3.891994...</td>\n",
       "      <td>635</td>\n",
       "      <td>{3.0: 1199, 1.0: 179, 4.0: 69, 2.77684: 2, 3.985442: 2, 1.73762: 2, 1.894384: 2, 1.104642: 2, 2.644692: 2, 3.559841: 2, 3.691226: 2, 2.988539: 1, 1.508685: 1, 2.209314: 1, 1.114564: 1, 2.036794: 1, 2.733077: 1, 1.630506: 1, 2.977999: 1, 2.427137: 1}</td>\n",
       "      <td>{3.0: 0.575, 1.0: 0.086, 4.0: 0.033, 2.77684: 0.001, 3.985442: 0.001, 1.73762: 0.001, 1.894384: 0.001, 1.104642: 0.001, 2.644692: 0.001, 3.559841: 0.001, 3.691226: 0.001, 2.988539: 0.0, 1.508685: 0.0, 2.209314: 0.0, 1.114564: 0.0, 2.036794: 0.0, 2.733077: 0.0, 1.630506: 0.0, 2.977999: 0.0, 2.427137: 0.0}</td>\n",
       "      <td>float64</td>\n",
       "      <td>0</td>\n",
       "      <td>0.0</td>\n",
       "    </tr>\n",
       "    <tr>\n",
       "      <th>12</th>\n",
       "      <td>physical_activity_frequency</td>\n",
       "      <td>1190</td>\n",
       "      <td>0.0, 3.0, 2.0, 1.0, 0.319156, 1.541072, 1.978631, 0.10032, 1.586525, 1.399183, 1.680844, 2.206738, 1.31817, 0.902095, 0.600817, 0.119643, 0.345684, 1.679935, 2.539762, 0.196152...</td>\n",
       "      <td>1190</td>\n",
       "      <td>{0.0: 405, 1.0: 217, 2.0: 182, 3.0: 75, 0.110174: 2, 1.661556: 2, 0.245354: 2, 1.067817: 2, 0.288032: 2, 1.252472: 2, 0.01586: 2, 2.892922: 2, 1.596576: 2, 0.00705: 2, 0.029728: 2, 0.026033: 2, 0.520407: 2, 0.210351: 2, 1.228136: 2, 0.143955: 2}</td>\n",
       "      <td>{0.0: 0.194, 1.0: 0.104, 2.0: 0.087, 3.0: 0.036, 0.110174: 0.001, 1.661556: 0.001, 0.245354: 0.001, 1.067817: 0.001, 0.288032: 0.001, 1.252472: 0.001, 0.01586: 0.001, 2.892922: 0.001, 1.596576: 0.001, 0.00705: 0.001, 0.029728: 0.001, 0.026033: 0.001, 0.520407: 0.001, 0.210351: 0.001, 1.228136: 0.001, 0.143955: 0.001}</td>\n",
       "      <td>float64</td>\n",
       "      <td>0</td>\n",
       "      <td>0.0</td>\n",
       "    </tr>\n",
       "    <tr>\n",
       "      <th>10</th>\n",
       "      <td>water_intake</td>\n",
       "      <td>1268</td>\n",
       "      <td>2.0, 3.0, 1.0, 1.152736, 1.115967, 2.704507, 2.184707, 2.406541, 2.984323, 2.444125, 2.654702, 2.825629, 2.847264, 2.884033, 2.147746, 2.815293, 2.593459, 1.031354, 2.651258, 1.792022...</td>\n",
       "      <td>1268</td>\n",
       "      <td>{2.0: 445, 1.0: 204, 3.0: 148, 2.825629: 3, 1.636326: 3, 2.115967: 2, 2.174248: 2, 2.530035: 2, 2.450069: 2, 1.439962: 2, 1.179942: 2, 1.490613: 2, 2.426465: 2, 2.371015: 2, 1.229915: 2, 2.843777: 2, 1.656082: 2, 2.13755: 2, 1.876915: 2, 1.984323: 2}</td>\n",
       "      <td>{2.0: 0.213, 1.0: 0.098, 3.0: 0.071, 2.825629: 0.001, 1.636326: 0.001, 2.115967: 0.001, 2.174248: 0.001, 2.530035: 0.001, 2.450069: 0.001, 1.439962: 0.001, 1.179942: 0.001, 1.490613: 0.001, 2.426465: 0.001, 2.371015: 0.001, 1.229915: 0.001, 2.843777: 0.001, 1.656082: 0.001, 2.13755: 0.001, 1.876915: 0.001, 1.984323: 0.001}</td>\n",
       "      <td>float64</td>\n",
       "      <td>0</td>\n",
       "      <td>0.0</td>\n",
       "    </tr>\n",
       "    <tr>\n",
       "      <th>0</th>\n",
       "      <td>gender</td>\n",
       "      <td>2</td>\n",
       "      <td>Female, Male</td>\n",
       "      <td>2</td>\n",
       "      <td>{'Male': 1052, 'Female': 1035}</td>\n",
       "      <td>{'Male': 0.504, 'Female': 0.496}</td>\n",
       "      <td>object</td>\n",
       "      <td>0</td>\n",
       "      <td>0.0</td>\n",
       "    </tr>\n",
       "    <tr>\n",
       "      <th>14</th>\n",
       "      <td>alcohol_consumption</td>\n",
       "      <td>4</td>\n",
       "      <td>no, Sometimes, Frequently, Always</td>\n",
       "      <td>4</td>\n",
       "      <td>{'Sometimes': 1380, 'no': 636, 'Frequently': 70, 'Always': 1}</td>\n",
       "      <td>{'Sometimes': 0.661, 'no': 0.305, 'Frequently': 0.034, 'Always': 0.0}</td>\n",
       "      <td>object</td>\n",
       "      <td>0</td>\n",
       "      <td>0.0</td>\n",
       "    </tr>\n",
       "    <tr>\n",
       "      <th>11</th>\n",
       "      <td>calorie_monitoring</td>\n",
       "      <td>2</td>\n",
       "      <td>no, yes</td>\n",
       "      <td>2</td>\n",
       "      <td>{'no': 1991, 'yes': 96}</td>\n",
       "      <td>{'no': 0.954, 'yes': 0.046}</td>\n",
       "      <td>object</td>\n",
       "      <td>0</td>\n",
       "      <td>0.0</td>\n",
       "    </tr>\n",
       "    <tr>\n",
       "      <th>8</th>\n",
       "      <td>snacking_between_meals</td>\n",
       "      <td>4</td>\n",
       "      <td>Sometimes, Frequently, Always, no</td>\n",
       "      <td>4</td>\n",
       "      <td>{'Sometimes': 1761, 'Frequently': 236, 'Always': 53, 'no': 37}</td>\n",
       "      <td>{'Sometimes': 0.844, 'Frequently': 0.113, 'Always': 0.025, 'no': 0.018}</td>\n",
       "      <td>object</td>\n",
       "      <td>0</td>\n",
       "      <td>0.0</td>\n",
       "    </tr>\n",
       "    <tr>\n",
       "      <th>15</th>\n",
       "      <td>transportation_mode</td>\n",
       "      <td>5</td>\n",
       "      <td>Public_Transportation, Walking, Automobile, Motorbike, Bike</td>\n",
       "      <td>5</td>\n",
       "      <td>{'Public_Transportation': 1558, 'Automobile': 456, 'Walking': 55, 'Motorbike': 11, 'Bike': 7}</td>\n",
       "      <td>{'Public_Transportation': 0.747, 'Automobile': 0.218, 'Walking': 0.026, 'Motorbike': 0.005, 'Bike': 0.003}</td>\n",
       "      <td>object</td>\n",
       "      <td>0</td>\n",
       "      <td>0.0</td>\n",
       "    </tr>\n",
       "    <tr>\n",
       "      <th>5</th>\n",
       "      <td>high_caloric_food</td>\n",
       "      <td>2</td>\n",
       "      <td>no, yes</td>\n",
       "      <td>2</td>\n",
       "      <td>{'yes': 1844, 'no': 243}</td>\n",
       "      <td>{'yes': 0.884, 'no': 0.116}</td>\n",
       "      <td>object</td>\n",
       "      <td>0</td>\n",
       "      <td>0.0</td>\n",
       "    </tr>\n",
       "    <tr>\n",
       "      <th>4</th>\n",
       "      <td>family_history_overweight</td>\n",
       "      <td>2</td>\n",
       "      <td>yes, no</td>\n",
       "      <td>2</td>\n",
       "      <td>{'yes': 1722, 'no': 365}</td>\n",
       "      <td>{'yes': 0.825, 'no': 0.175}</td>\n",
       "      <td>object</td>\n",
       "      <td>0</td>\n",
       "      <td>0.0</td>\n",
       "    </tr>\n",
       "    <tr>\n",
       "      <th>9</th>\n",
       "      <td>smoking</td>\n",
       "      <td>2</td>\n",
       "      <td>no, yes</td>\n",
       "      <td>2</td>\n",
       "      <td>{'no': 2043, 'yes': 44}</td>\n",
       "      <td>{'no': 0.979, 'yes': 0.021}</td>\n",
       "      <td>object</td>\n",
       "      <td>0</td>\n",
       "      <td>0.0</td>\n",
       "    </tr>\n",
       "    <tr>\n",
       "      <th>16</th>\n",
       "      <td>obesity_level</td>\n",
       "      <td>7</td>\n",
       "      <td>Normal_Weight, Overweight_Level_I, Overweight_Level_II, Obesity_Type_I, Insufficient_Weight, Obesity_Type_II, Obesity_Type_III</td>\n",
       "      <td>7</td>\n",
       "      <td>{'Obesity_Type_I': 351, 'Obesity_Type_III': 324, 'Obesity_Type_II': 297, 'Overweight_Level_II': 290, 'Normal_Weight': 282, 'Overweight_Level_I': 276, 'Insufficient_Weight': 267}</td>\n",
       "      <td>{'Obesity_Type_I': 0.168, 'Obesity_Type_III': 0.155, 'Obesity_Type_II': 0.142, 'Overweight_Level_II': 0.139, 'Normal_Weight': 0.135, 'Overweight_Level_I': 0.132, 'Insufficient_Weight': 0.128}</td>\n",
       "      <td>object</td>\n",
       "      <td>0</td>\n",
       "      <td>0.0</td>\n",
       "    </tr>\n",
       "  </tbody>\n",
       "</table>\n",
       "</div>"
      ],
      "text/plain": [
       "                        columns  nunique  \\\n",
       "1                           age     1402   \n",
       "2                        height     1574   \n",
       "3                        weight     1525   \n",
       "13             tech_usage_hours     1129   \n",
       "6         vegetable_consumption      810   \n",
       "7            main_meals_per_day      635   \n",
       "12  physical_activity_frequency     1190   \n",
       "10                 water_intake     1268   \n",
       "0                        gender        2   \n",
       "14          alcohol_consumption        4   \n",
       "11           calorie_monitoring        2   \n",
       "8        snacking_between_meals        4   \n",
       "15          transportation_mode        5   \n",
       "5             high_caloric_food        2   \n",
       "4     family_history_overweight        2   \n",
       "9                       smoking        2   \n",
       "16                obesity_level        7   \n",
       "\n",
       "                                                                                                                                                                               unique (max 20)  \\\n",
       "1                                                                    21.0, 23.0, 27.0, 22.0, 29.0, 24.0, 26.0, 41.0, 30.0, 52.0, 20.0, 19.0, 31.0, 39.0, 17.0, 25.0, 55.0, 38.0, 18.0, 15.0...   \n",
       "2                                                                        1.62, 1.52, 1.8, 1.78, 1.5, 1.64, 1.72, 1.85, 1.65, 1.77, 1.7, 1.93, 1.53, 1.71, 1.69, 1.6, 1.75, 1.68, 1.58, 1.79...   \n",
       "3                                                                  64.0, 56.0, 77.0, 87.0, 89.8, 53.0, 55.0, 68.0, 105.0, 80.0, 99.0, 60.0, 66.0, 102.0, 78.0, 82.0, 70.0, 50.0, 65.0, 52.0...   \n",
       "13         1.0, 0.0, 2.0, 0.29499, 0.838957, 0.479221, 0.62535, 0.26579, 0.555468, 0.928972, 1.340107, 0.58998, 1.37465, 1.283673, 0.062488, 0.9974, 0.738269, 0.860497, 0.478676, 0.555967...   \n",
       "6       2.0, 3.0, 1.0, 2.450218, 2.880161, 2.00876, 2.596579, 2.591439, 2.392665, 1.123939, 2.027574, 2.658112, 2.88626, 2.714447, 2.750715, 1.4925, 2.205439, 2.059138, 2.310423, 2.823179...   \n",
       "7          3.0, 1.0, 4.0, 3.28926, 3.995147, 1.72626, 2.581015, 1.600812, 1.73762, 1.10548, 2.0846, 1.894384, 2.857787, 3.765526, 3.285167, 3.691226, 3.156153, 1.07976, 3.559841, 3.891994...   \n",
       "12         0.0, 3.0, 2.0, 1.0, 0.319156, 1.541072, 1.978631, 0.10032, 1.586525, 1.399183, 1.680844, 2.206738, 1.31817, 0.902095, 0.600817, 0.119643, 0.345684, 1.679935, 2.539762, 0.196152...   \n",
       "10  2.0, 3.0, 1.0, 1.152736, 1.115967, 2.704507, 2.184707, 2.406541, 2.984323, 2.444125, 2.654702, 2.825629, 2.847264, 2.884033, 2.147746, 2.815293, 2.593459, 1.031354, 2.651258, 1.792022...   \n",
       "0                                                                                                                                                                                 Female, Male   \n",
       "14                                                                                                                                                           no, Sometimes, Frequently, Always   \n",
       "11                                                                                                                                                                                     no, yes   \n",
       "8                                                                                                                                                            Sometimes, Frequently, Always, no   \n",
       "15                                                                                                                                 Public_Transportation, Walking, Automobile, Motorbike, Bike   \n",
       "5                                                                                                                                                                                      no, yes   \n",
       "4                                                                                                                                                                                      yes, no   \n",
       "9                                                                                                                                                                                      no, yes   \n",
       "16                                                              Normal_Weight, Overweight_Level_I, Overweight_Level_II, Obesity_Type_I, Insufficient_Weight, Obesity_Type_II, Obesity_Type_III   \n",
       "\n",
       "    len_value_counts  \\\n",
       "1               1402   \n",
       "2               1574   \n",
       "3               1525   \n",
       "13              1129   \n",
       "6                810   \n",
       "7                635   \n",
       "12              1190   \n",
       "10              1268   \n",
       "0                  2   \n",
       "14                 4   \n",
       "11                 2   \n",
       "8                  4   \n",
       "15                 5   \n",
       "5                  2   \n",
       "4                  2   \n",
       "9                  2   \n",
       "16                 7   \n",
       "\n",
       "                                                                                                                                                                                                                                         value_counts (max 20)  \\\n",
       "1                                                          {18.0: 126, 26.0: 101, 23.0: 89, 21.0: 78, 19.0: 59, 20.0: 48, 22.0: 37, 17.0: 30, 24.0: 18, 25.0: 15, 27.0: 14, 33.0: 13, 29.0: 11, 16.0: 8, 30.0: 8, 41.0: 7, 38.0: 7, 40.0: 6, 34.0: 5, 31.0: 4}   \n",
       "2                                                          {1.7: 60, 1.65: 50, 1.6: 43, 1.75: 39, 1.8: 28, 1.62: 21, 1.72: 18, 1.63: 17, 1.67: 16, 1.78: 15, 1.56: 14, 1.74: 14, 1.55: 14, 1.66: 13, 1.68: 13, 1.76: 13, 1.85: 13, 1.5: 13, 1.64: 10, 1.69: 9}   \n",
       "3                                                     {80.0: 59, 50.0: 42, 75.0: 39, 60.0: 37, 70.0: 29, 65.0: 25, 90.0: 20, 78.0: 19, 45.0: 18, 85.0: 18, 42.0: 18, 82.0: 17, 56.0: 15, 58.0: 14, 68.0: 14, 55.0: 14, 53.0: 13, 62.0: 11, 83.0: 10, 72.0: 10}   \n",
       "13        {0.0: 537, 1.0: 289, 2.0: 108, 0.630866: 4, 1.119877: 3, 0.0026: 3, 0.009254: 2, 0.8324: 2, 1.36595: 2, 0.828549: 2, 1.59257: 2, 0.369134: 2, 1.875023: 2, 0.469735: 2, 0.677909: 2, 0.105895: 2, 1.339232: 2, 0.37465: 2, 1.415536: 2, 0.371941: 2}   \n",
       "6       {3.0: 647, 2.0: 581, 1.0: 33, 2.823179: 2, 2.21498: 2, 2.795086: 2, 2.442536: 2, 2.81646: 2, 2.938031: 2, 2.954996: 2, 2.903545: 2, 2.39728: 2, 2.204914: 2, 2.758394: 2, 2.971574: 2, 2.568063: 2, 2.407817: 2, 2.392665: 2, 2.13683: 2, 2.630137: 2}   \n",
       "7    {3.0: 1199, 1.0: 179, 4.0: 69, 2.77684: 2, 3.985442: 2, 1.73762: 2, 1.894384: 2, 1.104642: 2, 2.644692: 2, 3.559841: 2, 3.691226: 2, 2.988539: 1, 1.508685: 1, 2.209314: 1, 1.114564: 1, 2.036794: 1, 2.733077: 1, 1.630506: 1, 2.977999: 1, 2.427137: 1}   \n",
       "12       {0.0: 405, 1.0: 217, 2.0: 182, 3.0: 75, 0.110174: 2, 1.661556: 2, 0.245354: 2, 1.067817: 2, 0.288032: 2, 1.252472: 2, 0.01586: 2, 2.892922: 2, 1.596576: 2, 0.00705: 2, 0.029728: 2, 0.026033: 2, 0.520407: 2, 0.210351: 2, 1.228136: 2, 0.143955: 2}   \n",
       "10  {2.0: 445, 1.0: 204, 3.0: 148, 2.825629: 3, 1.636326: 3, 2.115967: 2, 2.174248: 2, 2.530035: 2, 2.450069: 2, 1.439962: 2, 1.179942: 2, 1.490613: 2, 2.426465: 2, 2.371015: 2, 1.229915: 2, 2.843777: 2, 1.656082: 2, 2.13755: 2, 1.876915: 2, 1.984323: 2}   \n",
       "0                                                                                                                                                                                                                               {'Male': 1052, 'Female': 1035}   \n",
       "14                                                                                                                                                                                               {'Sometimes': 1380, 'no': 636, 'Frequently': 70, 'Always': 1}   \n",
       "11                                                                                                                                                                                                                                     {'no': 1991, 'yes': 96}   \n",
       "8                                                                                                                                                                                               {'Sometimes': 1761, 'Frequently': 236, 'Always': 53, 'no': 37}   \n",
       "15                                                                                                                                                               {'Public_Transportation': 1558, 'Automobile': 456, 'Walking': 55, 'Motorbike': 11, 'Bike': 7}   \n",
       "5                                                                                                                                                                                                                                     {'yes': 1844, 'no': 243}   \n",
       "4                                                                                                                                                                                                                                     {'yes': 1722, 'no': 365}   \n",
       "9                                                                                                                                                                                                                                      {'no': 2043, 'yes': 44}   \n",
       "16                                                                           {'Obesity_Type_I': 351, 'Obesity_Type_III': 324, 'Obesity_Type_II': 297, 'Overweight_Level_II': 290, 'Normal_Weight': 282, 'Overweight_Level_I': 276, 'Insufficient_Weight': 267}   \n",
       "\n",
       "                                                                                                                                                                                                                                                                                                              value_counts_norm (max 20)  \\\n",
       "1                                                                    {18.0: 0.06, 26.0: 0.048, 23.0: 0.043, 21.0: 0.037, 19.0: 0.028, 20.0: 0.023, 22.0: 0.018, 17.0: 0.014, 24.0: 0.009, 25.0: 0.007, 27.0: 0.007, 33.0: 0.006, 29.0: 0.005, 16.0: 0.004, 30.0: 0.004, 41.0: 0.003, 38.0: 0.003, 40.0: 0.003, 34.0: 0.002, 31.0: 0.002}   \n",
       "2                                                                        {1.7: 0.029, 1.65: 0.024, 1.6: 0.021, 1.75: 0.019, 1.8: 0.013, 1.62: 0.01, 1.72: 0.009, 1.63: 0.008, 1.67: 0.008, 1.78: 0.007, 1.56: 0.007, 1.74: 0.007, 1.55: 0.007, 1.66: 0.006, 1.68: 0.006, 1.76: 0.006, 1.85: 0.006, 1.5: 0.006, 1.64: 0.005, 1.69: 0.004}   \n",
       "3                                                                     {80.0: 0.028, 50.0: 0.02, 75.0: 0.019, 60.0: 0.018, 70.0: 0.014, 65.0: 0.012, 90.0: 0.01, 78.0: 0.009, 45.0: 0.009, 85.0: 0.009, 42.0: 0.009, 82.0: 0.008, 56.0: 0.007, 58.0: 0.007, 68.0: 0.007, 55.0: 0.007, 53.0: 0.006, 62.0: 0.005, 83.0: 0.005, 72.0: 0.005}   \n",
       "13        {0.0: 0.257, 1.0: 0.138, 2.0: 0.052, 0.630866: 0.002, 1.119877: 0.001, 0.0026: 0.001, 0.009254: 0.001, 0.8324: 0.001, 1.36595: 0.001, 0.828549: 0.001, 1.59257: 0.001, 0.369134: 0.001, 1.875023: 0.001, 0.469735: 0.001, 0.677909: 0.001, 0.105895: 0.001, 1.339232: 0.001, 0.37465: 0.001, 1.415536: 0.001, 0.371941: 0.001}   \n",
       "6       {3.0: 0.31, 2.0: 0.278, 1.0: 0.016, 2.823179: 0.001, 2.21498: 0.001, 2.795086: 0.001, 2.442536: 0.001, 2.81646: 0.001, 2.938031: 0.001, 2.954996: 0.001, 2.903545: 0.001, 2.39728: 0.001, 2.204914: 0.001, 2.758394: 0.001, 2.971574: 0.001, 2.568063: 0.001, 2.407817: 0.001, 2.392665: 0.001, 2.13683: 0.001, 2.630137: 0.001}   \n",
       "7                      {3.0: 0.575, 1.0: 0.086, 4.0: 0.033, 2.77684: 0.001, 3.985442: 0.001, 1.73762: 0.001, 1.894384: 0.001, 1.104642: 0.001, 2.644692: 0.001, 3.559841: 0.001, 3.691226: 0.001, 2.988539: 0.0, 1.508685: 0.0, 2.209314: 0.0, 1.114564: 0.0, 2.036794: 0.0, 2.733077: 0.0, 1.630506: 0.0, 2.977999: 0.0, 2.427137: 0.0}   \n",
       "12        {0.0: 0.194, 1.0: 0.104, 2.0: 0.087, 3.0: 0.036, 0.110174: 0.001, 1.661556: 0.001, 0.245354: 0.001, 1.067817: 0.001, 0.288032: 0.001, 1.252472: 0.001, 0.01586: 0.001, 2.892922: 0.001, 1.596576: 0.001, 0.00705: 0.001, 0.029728: 0.001, 0.026033: 0.001, 0.520407: 0.001, 0.210351: 0.001, 1.228136: 0.001, 0.143955: 0.001}   \n",
       "10  {2.0: 0.213, 1.0: 0.098, 3.0: 0.071, 2.825629: 0.001, 1.636326: 0.001, 2.115967: 0.001, 2.174248: 0.001, 2.530035: 0.001, 2.450069: 0.001, 1.439962: 0.001, 1.179942: 0.001, 1.490613: 0.001, 2.426465: 0.001, 2.371015: 0.001, 1.229915: 0.001, 2.843777: 0.001, 1.656082: 0.001, 2.13755: 0.001, 1.876915: 0.001, 1.984323: 0.001}   \n",
       "0                                                                                                                                                                                                                                                                                                       {'Male': 0.504, 'Female': 0.496}   \n",
       "14                                                                                                                                                                                                                                                                 {'Sometimes': 0.661, 'no': 0.305, 'Frequently': 0.034, 'Always': 0.0}   \n",
       "11                                                                                                                                                                                                                                                                                                           {'no': 0.954, 'yes': 0.046}   \n",
       "8                                                                                                                                                                                                                                                                {'Sometimes': 0.844, 'Frequently': 0.113, 'Always': 0.025, 'no': 0.018}   \n",
       "15                                                                                                                                                                                                                            {'Public_Transportation': 0.747, 'Automobile': 0.218, 'Walking': 0.026, 'Motorbike': 0.005, 'Bike': 0.003}   \n",
       "5                                                                                                                                                                                                                                                                                                            {'yes': 0.884, 'no': 0.116}   \n",
       "4                                                                                                                                                                                                                                                                                                            {'yes': 0.825, 'no': 0.175}   \n",
       "9                                                                                                                                                                                                                                                                                                            {'no': 0.979, 'yes': 0.021}   \n",
       "16                                                                                                                                       {'Obesity_Type_I': 0.168, 'Obesity_Type_III': 0.155, 'Obesity_Type_II': 0.142, 'Overweight_Level_II': 0.139, 'Normal_Weight': 0.135, 'Overweight_Level_I': 0.132, 'Insufficient_Weight': 0.128}   \n",
       "\n",
       "      dtype  count_nan  nan_percentage  \n",
       "1   float64          0             0.0  \n",
       "2   float64          0             0.0  \n",
       "3   float64          0             0.0  \n",
       "13  float64          0             0.0  \n",
       "6   float64          0             0.0  \n",
       "7   float64          0             0.0  \n",
       "12  float64          0             0.0  \n",
       "10  float64          0             0.0  \n",
       "0    object          0             0.0  \n",
       "14   object          0             0.0  \n",
       "11   object          0             0.0  \n",
       "8    object          0             0.0  \n",
       "15   object          0             0.0  \n",
       "5    object          0             0.0  \n",
       "4    object          0             0.0  \n",
       "9    object          0             0.0  \n",
       "16   object          0             0.0  "
      ]
     },
     "execution_count": 26,
     "metadata": {},
     "output_type": "execute_result"
    }
   ],
   "source": [
    "# Sort df_summary by the 'dtype' column in ascending order\n",
    "df_summary = df_summary.sort_values(by='dtype', ascending=True)\n",
    "df_summary"
   ]
  },
  {
   "cell_type": "code",
   "execution_count": 27,
   "metadata": {},
   "outputs": [
    {
     "name": "stdout",
     "output_type": "stream",
     "text": [
      "Pandas display options reset all to default.\n"
     ]
    }
   ],
   "source": [
    "reset_pandas_display_options()"
   ]
  },
  {
   "cell_type": "markdown",
   "metadata": {
    "id": "L8Qvcu6szMZv"
   },
   "source": [
    "## Data visualization"
   ]
  },
  {
   "cell_type": "markdown",
   "metadata": {
    "id": "h1hS7gYxtl2K"
   },
   "source": [
    "### Balance of the target variable"
   ]
  },
  {
   "cell_type": "code",
   "execution_count": 28,
   "metadata": {},
   "outputs": [
    {
     "data": {
      "text/plain": [
       "obesity_level\n",
       "Obesity_Type_I         351\n",
       "Obesity_Type_III       324\n",
       "Obesity_Type_II        297\n",
       "Overweight_Level_II    290\n",
       "Normal_Weight          282\n",
       "Overweight_Level_I     276\n",
       "Insufficient_Weight    267\n",
       "Name: count, dtype: int64"
      ]
     },
     "execution_count": 28,
     "metadata": {},
     "output_type": "execute_result"
    }
   ],
   "source": [
    "df['obesity_level'].value_counts()"
   ]
  },
  {
   "cell_type": "code",
   "execution_count": 29,
   "metadata": {},
   "outputs": [],
   "source": [
    "obesity_counts = df['obesity_level'].value_counts()\n"
   ]
  },
  {
   "cell_type": "code",
   "execution_count": 30,
   "metadata": {},
   "outputs": [
    {
     "data": {
      "image/png": "[encoded data removed]",
      "text/plain": [
       "<Figure size 800x400 with 1 Axes>"
      ]
     },
     "metadata": {},
     "output_type": "display_data"
    }
   ],
   "source": [
    "# Use the 'viridis' color palette with reversed colors\n",
    "#colors = viridis(1 - obesity_counts / max(obesity_counts))\n",
    "colors = plasma(1 - obesity_counts / max(obesity_counts))\n",
    "\n",
    "# Create a horizontal bar chart\n",
    "plt.figure(figsize=(8, 4))\n",
    "bars = plt.barh(obesity_counts.index, obesity_counts, color=colors)\n",
    "\n",
    "# Add value and rank inside each bar\n",
    "for bar, count, color, street_name in zip(bars, obesity_counts, colors, obesity_counts.index):\n",
    "    xval = bar.get_width()\n",
    "    rank = obesity_counts.index.get_loc(street_name) + 1\n",
    "    \n",
    "    # Add value inside each bar\n",
    "    plt.text(xval / 2, bar.get_y() + bar.get_height() / 2, f'{count}', ha='center', va='top', color='white', fontsize=12, fontweight=200)\n",
    "\n",
    "    # Add rank text to the right of each bar\n",
    "    plt.text(xval / 2 + 12, bar.get_y() + bar.get_height() / 2, f'rank {rank}', ha='left', va='center', color='white', fontsize=9, fontweight=200)\n",
    "\n",
    "    # Set text color on the y-axis the same as the bar color\n",
    "    plt.gca().yaxis.get_ticklabels()[list(obesity_counts.index).index(street_name)].set_color(color)\n",
    "\n",
    "# Remove spines on the x and y axes\n",
    "plt.gca().spines['top'].set_visible(False)\n",
    "plt.gca().spines['right'].set_visible(False)\n",
    "plt.gca().spines['bottom'].set_visible(False)\n",
    "plt.gca().spines['left'].set_visible(False)\n",
    "\n",
    "# Remove x-axis labels\n",
    "plt.tick_params(axis='x', which='both', bottom=False, labelbottom=False)\n",
    "\n",
    "# Add title\n",
    "plt.title('Rank Obesity Level', color='gray')\n",
    "\n",
    "# Show the horizontal bar chart\n",
    "plt.show()\n"
   ]
  },
  {
   "cell_type": "markdown",
   "metadata": {
    "id": "_duuaMm6cfjp"
   },
   "source": [
    "### The relationship in dataframe"
   ]
  },
  {
   "cell_type": "code",
   "execution_count": 31,
   "metadata": {},
   "outputs": [],
   "source": [
    "# Pisahkan kolom numerik dan kategorikal\n",
    "numerical_columns = df.select_dtypes(include=['number'])\n",
    "categorical_columns = df.select_dtypes(exclude=['number'])\n",
    "\n",
    "# One-hot encoding untuk kolom kategorikal\n",
    "categorical_columns = pd.get_dummies(categorical_columns, drop_first=True)\n",
    "\n",
    "# Gabungkan kembali kolom numerik dan kategorikal\n",
    "all_columns_corr = pd.concat([numerical_columns, categorical_columns], axis=1)\n",
    "\n",
    "# Konversi kolom boolean menjadi integer\n",
    "for column in all_columns_corr.select_dtypes(include=['bool']).columns:\n",
    "    all_columns_corr[column] = all_columns_corr[column].astype(int)\n"
   ]
  },
  {
   "cell_type": "code",
   "execution_count": 32,
   "metadata": {},
   "outputs": [
    {
     "data": {
      "text/html": [
       "<div>\n",
       "<style scoped>\n",
       "    .dataframe tbody tr th:only-of-type {\n",
       "        vertical-align: middle;\n",
       "    }\n",
       "\n",
       "    .dataframe tbody tr th {\n",
       "        vertical-align: top;\n",
       "    }\n",
       "\n",
       "    .dataframe thead th {\n",
       "        text-align: right;\n",
       "    }\n",
       "</style>\n",
       "<table border=\"1\" class=\"dataframe\">\n",
       "  <thead>\n",
       "    <tr style=\"text-align: right;\">\n",
       "      <th></th>\n",
       "      <th>Feature 1</th>\n",
       "      <th>Feature 2</th>\n",
       "      <th>Correlation</th>\n",
       "    </tr>\n",
       "  </thead>\n",
       "  <tbody>\n",
       "    <tr>\n",
       "      <th>8</th>\n",
       "      <td>height</td>\n",
       "      <td>gender_Male</td>\n",
       "      <td>0.626748</td>\n",
       "    </tr>\n",
       "    <tr>\n",
       "      <th>20</th>\n",
       "      <td>weight</td>\n",
       "      <td>obesity_level_Obesity_Type_III</td>\n",
       "      <td>0.557996</td>\n",
       "    </tr>\n",
       "    <tr>\n",
       "      <th>15</th>\n",
       "      <td>weight</td>\n",
       "      <td>family_history_overweight_yes</td>\n",
       "      <td>0.492969</td>\n",
       "    </tr>\n",
       "    <tr>\n",
       "      <th>23</th>\n",
       "      <td>vegetable_consumption</td>\n",
       "      <td>obesity_level_Obesity_Type_III</td>\n",
       "      <td>0.463916</td>\n",
       "    </tr>\n",
       "    <tr>\n",
       "      <th>4</th>\n",
       "      <td>height</td>\n",
       "      <td>weight</td>\n",
       "      <td>0.457468</td>\n",
       "    </tr>\n",
       "    <tr>\n",
       "      <th>19</th>\n",
       "      <td>weight</td>\n",
       "      <td>obesity_level_Obesity_Type_II</td>\n",
       "      <td>0.442523</td>\n",
       "    </tr>\n",
       "    <tr>\n",
       "      <th>17</th>\n",
       "      <td>weight</td>\n",
       "      <td>snacking_between_meals_Sometimes</td>\n",
       "      <td>0.406347</td>\n",
       "    </tr>\n",
       "    <tr>\n",
       "      <th>34</th>\n",
       "      <td>gender_Male</td>\n",
       "      <td>obesity_level_Obesity_Type_II</td>\n",
       "      <td>0.398544</td>\n",
       "    </tr>\n",
       "    <tr>\n",
       "      <th>40</th>\n",
       "      <td>family_history_overweight_yes</td>\n",
       "      <td>snacking_between_meals_Sometimes</td>\n",
       "      <td>0.316112</td>\n",
       "    </tr>\n",
       "    <tr>\n",
       "      <th>57</th>\n",
       "      <td>alcohol_consumption_Sometimes</td>\n",
       "      <td>obesity_level_Obesity_Type_III</td>\n",
       "      <td>0.304048</td>\n",
       "    </tr>\n",
       "    <tr>\n",
       "      <th>10</th>\n",
       "      <td>height</td>\n",
       "      <td>obesity_level_Obesity_Type_II</td>\n",
       "      <td>0.302215</td>\n",
       "    </tr>\n",
       "    <tr>\n",
       "      <th>7</th>\n",
       "      <td>height</td>\n",
       "      <td>physical_activity_frequency</td>\n",
       "      <td>0.293584</td>\n",
       "    </tr>\n",
       "    <tr>\n",
       "      <th>16</th>\n",
       "      <td>weight</td>\n",
       "      <td>high_caloric_food_yes</td>\n",
       "      <td>0.274655</td>\n",
       "    </tr>\n",
       "    <tr>\n",
       "      <th>18</th>\n",
       "      <td>weight</td>\n",
       "      <td>alcohol_consumption_Sometimes</td>\n",
       "      <td>0.266804</td>\n",
       "    </tr>\n",
       "    <tr>\n",
       "      <th>2</th>\n",
       "      <td>age</td>\n",
       "      <td>obesity_level_Obesity_Type_II</td>\n",
       "      <td>0.248261</td>\n",
       "    </tr>\n",
       "    <tr>\n",
       "      <th>62</th>\n",
       "      <td>transportation_mode_Public_Transportation</td>\n",
       "      <td>obesity_level_Obesity_Type_III</td>\n",
       "      <td>0.246757</td>\n",
       "    </tr>\n",
       "    <tr>\n",
       "      <th>9</th>\n",
       "      <td>height</td>\n",
       "      <td>family_history_overweight_yes</td>\n",
       "      <td>0.232258</td>\n",
       "    </tr>\n",
       "    <tr>\n",
       "      <th>5</th>\n",
       "      <td>height</td>\n",
       "      <td>main_meals_per_day</td>\n",
       "      <td>0.227806</td>\n",
       "    </tr>\n",
       "    <tr>\n",
       "      <th>6</th>\n",
       "      <td>height</td>\n",
       "      <td>water_intake</td>\n",
       "      <td>0.220487</td>\n",
       "    </tr>\n",
       "    <tr>\n",
       "      <th>46</th>\n",
       "      <td>snacking_between_meals_Frequently</td>\n",
       "      <td>obesity_level_Normal_Weight</td>\n",
       "      <td>0.217360</td>\n",
       "    </tr>\n",
       "    <tr>\n",
       "      <th>13</th>\n",
       "      <td>weight</td>\n",
       "      <td>vegetable_consumption</td>\n",
       "      <td>0.216574</td>\n",
       "    </tr>\n",
       "    <tr>\n",
       "      <th>39</th>\n",
       "      <td>family_history_overweight_yes</td>\n",
       "      <td>high_caloric_food_yes</td>\n",
       "      <td>0.214329</td>\n",
       "    </tr>\n",
       "    <tr>\n",
       "      <th>64</th>\n",
       "      <td>transportation_mode_Walking</td>\n",
       "      <td>obesity_level_Normal_Weight</td>\n",
       "      <td>0.206226</td>\n",
       "    </tr>\n",
       "    <tr>\n",
       "      <th>14</th>\n",
       "      <td>weight</td>\n",
       "      <td>water_intake</td>\n",
       "      <td>0.203823</td>\n",
       "    </tr>\n",
       "    <tr>\n",
       "      <th>44</th>\n",
       "      <td>high_caloric_food_yes</td>\n",
       "      <td>snacking_between_meals_Sometimes</td>\n",
       "      <td>0.201799</td>\n",
       "    </tr>\n",
       "    <tr>\n",
       "      <th>1</th>\n",
       "      <td>age</td>\n",
       "      <td>family_history_overweight_yes</td>\n",
       "      <td>0.200379</td>\n",
       "    </tr>\n",
       "  </tbody>\n",
       "</table>\n",
       "</div>"
      ],
      "text/plain": [
       "                                    Feature 1  \\\n",
       "8                                      height   \n",
       "20                                     weight   \n",
       "15                                     weight   \n",
       "23                      vegetable_consumption   \n",
       "4                                      height   \n",
       "19                                     weight   \n",
       "17                                     weight   \n",
       "34                                gender_Male   \n",
       "40              family_history_overweight_yes   \n",
       "57              alcohol_consumption_Sometimes   \n",
       "10                                     height   \n",
       "7                                      height   \n",
       "16                                     weight   \n",
       "18                                     weight   \n",
       "2                                         age   \n",
       "62  transportation_mode_Public_Transportation   \n",
       "9                                      height   \n",
       "5                                      height   \n",
       "6                                      height   \n",
       "46          snacking_between_meals_Frequently   \n",
       "13                                     weight   \n",
       "39              family_history_overweight_yes   \n",
       "64                transportation_mode_Walking   \n",
       "14                                     weight   \n",
       "44                      high_caloric_food_yes   \n",
       "1                                         age   \n",
       "\n",
       "                           Feature 2  Correlation  \n",
       "8                        gender_Male     0.626748  \n",
       "20    obesity_level_Obesity_Type_III     0.557996  \n",
       "15     family_history_overweight_yes     0.492969  \n",
       "23    obesity_level_Obesity_Type_III     0.463916  \n",
       "4                             weight     0.457468  \n",
       "19     obesity_level_Obesity_Type_II     0.442523  \n",
       "17  snacking_between_meals_Sometimes     0.406347  \n",
       "34     obesity_level_Obesity_Type_II     0.398544  \n",
       "40  snacking_between_meals_Sometimes     0.316112  \n",
       "57    obesity_level_Obesity_Type_III     0.304048  \n",
       "10     obesity_level_Obesity_Type_II     0.302215  \n",
       "7        physical_activity_frequency     0.293584  \n",
       "16             high_caloric_food_yes     0.274655  \n",
       "18     alcohol_consumption_Sometimes     0.266804  \n",
       "2      obesity_level_Obesity_Type_II     0.248261  \n",
       "62    obesity_level_Obesity_Type_III     0.246757  \n",
       "9      family_history_overweight_yes     0.232258  \n",
       "5                 main_meals_per_day     0.227806  \n",
       "6                       water_intake     0.220487  \n",
       "46       obesity_level_Normal_Weight     0.217360  \n",
       "13             vegetable_consumption     0.216574  \n",
       "39             high_caloric_food_yes     0.214329  \n",
       "64       obesity_level_Normal_Weight     0.206226  \n",
       "14                      water_intake     0.203823  \n",
       "44  snacking_between_meals_Sometimes     0.201799  \n",
       "1      family_history_overweight_yes     0.200379  "
      ]
     },
     "execution_count": 32,
     "metadata": {},
     "output_type": "execute_result"
    }
   ],
   "source": [
    "# Contoh penggunaan:\n",
    "positive_corr_df = filter_positive_corr(all_columns_corr, threshold=0.2)\n",
    "positive_corr_df\n"
   ]
  },
  {
   "cell_type": "code",
   "execution_count": 33,
   "metadata": {
    "scrolled": true
   },
   "outputs": [
    {
     "data": {
      "text/html": [
       "<div>\n",
       "<style scoped>\n",
       "    .dataframe tbody tr th:only-of-type {\n",
       "        vertical-align: middle;\n",
       "    }\n",
       "\n",
       "    .dataframe tbody tr th {\n",
       "        vertical-align: top;\n",
       "    }\n",
       "\n",
       "    .dataframe thead th {\n",
       "        text-align: right;\n",
       "    }\n",
       "</style>\n",
       "<table border=\"1\" class=\"dataframe\">\n",
       "  <thead>\n",
       "    <tr style=\"text-align: right;\">\n",
       "      <th></th>\n",
       "      <th>Feature 1</th>\n",
       "      <th>Feature 2</th>\n",
       "      <th>Correlation</th>\n",
       "    </tr>\n",
       "  </thead>\n",
       "  <tbody>\n",
       "    <tr>\n",
       "      <th>22</th>\n",
       "      <td>alcohol_consumption_Sometimes</td>\n",
       "      <td>alcohol_consumption_no</td>\n",
       "      <td>-0.924964</td>\n",
       "    </tr>\n",
       "    <tr>\n",
       "      <th>14</th>\n",
       "      <td>snacking_between_meals_Frequently</td>\n",
       "      <td>snacking_between_meals_Sometimes</td>\n",
       "      <td>-0.829896</td>\n",
       "    </tr>\n",
       "    <tr>\n",
       "      <th>1</th>\n",
       "      <td>age</td>\n",
       "      <td>transportation_mode_Public_Transportation</td>\n",
       "      <td>-0.555532</td>\n",
       "    </tr>\n",
       "    <tr>\n",
       "      <th>9</th>\n",
       "      <td>gender_Male</td>\n",
       "      <td>obesity_level_Obesity_Type_III</td>\n",
       "      <td>-0.429553</td>\n",
       "    </tr>\n",
       "    <tr>\n",
       "      <th>2</th>\n",
       "      <td>weight</td>\n",
       "      <td>snacking_between_meals_Frequently</td>\n",
       "      <td>-0.378262</td>\n",
       "    </tr>\n",
       "    <tr>\n",
       "      <th>5</th>\n",
       "      <td>weight</td>\n",
       "      <td>obesity_level_Normal_Weight</td>\n",
       "      <td>-0.372760</td>\n",
       "    </tr>\n",
       "    <tr>\n",
       "      <th>17</th>\n",
       "      <td>snacking_between_meals_Sometimes</td>\n",
       "      <td>obesity_level_Normal_Weight</td>\n",
       "      <td>-0.316388</td>\n",
       "    </tr>\n",
       "    <tr>\n",
       "      <th>16</th>\n",
       "      <td>snacking_between_meals_Sometimes</td>\n",
       "      <td>snacking_between_meals_no</td>\n",
       "      <td>-0.312245</td>\n",
       "    </tr>\n",
       "    <tr>\n",
       "      <th>0</th>\n",
       "      <td>age</td>\n",
       "      <td>tech_usage_hours</td>\n",
       "      <td>-0.302927</td>\n",
       "    </tr>\n",
       "    <tr>\n",
       "      <th>11</th>\n",
       "      <td>family_history_overweight_yes</td>\n",
       "      <td>obesity_level_Normal_Weight</td>\n",
       "      <td>-0.297690</td>\n",
       "    </tr>\n",
       "    <tr>\n",
       "      <th>27</th>\n",
       "      <td>transportation_mode_Public_Transportation</td>\n",
       "      <td>transportation_mode_Walking</td>\n",
       "      <td>-0.282342</td>\n",
       "    </tr>\n",
       "    <tr>\n",
       "      <th>25</th>\n",
       "      <td>alcohol_consumption_no</td>\n",
       "      <td>obesity_level_Obesity_Type_III</td>\n",
       "      <td>-0.280944</td>\n",
       "    </tr>\n",
       "    <tr>\n",
       "      <th>10</th>\n",
       "      <td>family_history_overweight_yes</td>\n",
       "      <td>snacking_between_meals_Frequently</td>\n",
       "      <td>-0.273727</td>\n",
       "    </tr>\n",
       "    <tr>\n",
       "      <th>6</th>\n",
       "      <td>vegetable_consumption</td>\n",
       "      <td>gender_Male</td>\n",
       "      <td>-0.271575</td>\n",
       "    </tr>\n",
       "    <tr>\n",
       "      <th>20</th>\n",
       "      <td>alcohol_consumption_Frequently</td>\n",
       "      <td>alcohol_consumption_Sometimes</td>\n",
       "      <td>-0.260271</td>\n",
       "    </tr>\n",
       "    <tr>\n",
       "      <th>4</th>\n",
       "      <td>weight</td>\n",
       "      <td>alcohol_consumption_no</td>\n",
       "      <td>-0.256268</td>\n",
       "    </tr>\n",
       "    <tr>\n",
       "      <th>3</th>\n",
       "      <td>weight</td>\n",
       "      <td>calorie_monitoring_yes</td>\n",
       "      <td>-0.205409</td>\n",
       "    </tr>\n",
       "  </tbody>\n",
       "</table>\n",
       "</div>"
      ],
      "text/plain": [
       "                                    Feature 1  \\\n",
       "22              alcohol_consumption_Sometimes   \n",
       "14          snacking_between_meals_Frequently   \n",
       "1                                         age   \n",
       "9                                 gender_Male   \n",
       "2                                      weight   \n",
       "5                                      weight   \n",
       "17           snacking_between_meals_Sometimes   \n",
       "16           snacking_between_meals_Sometimes   \n",
       "0                                         age   \n",
       "11              family_history_overweight_yes   \n",
       "27  transportation_mode_Public_Transportation   \n",
       "25                     alcohol_consumption_no   \n",
       "10              family_history_overweight_yes   \n",
       "6                       vegetable_consumption   \n",
       "20             alcohol_consumption_Frequently   \n",
       "4                                      weight   \n",
       "3                                      weight   \n",
       "\n",
       "                                    Feature 2  Correlation  \n",
       "22                     alcohol_consumption_no    -0.924964  \n",
       "14           snacking_between_meals_Sometimes    -0.829896  \n",
       "1   transportation_mode_Public_Transportation    -0.555532  \n",
       "9              obesity_level_Obesity_Type_III    -0.429553  \n",
       "2           snacking_between_meals_Frequently    -0.378262  \n",
       "5                 obesity_level_Normal_Weight    -0.372760  \n",
       "17                obesity_level_Normal_Weight    -0.316388  \n",
       "16                  snacking_between_meals_no    -0.312245  \n",
       "0                            tech_usage_hours    -0.302927  \n",
       "11                obesity_level_Normal_Weight    -0.297690  \n",
       "27                transportation_mode_Walking    -0.282342  \n",
       "25             obesity_level_Obesity_Type_III    -0.280944  \n",
       "10          snacking_between_meals_Frequently    -0.273727  \n",
       "6                                 gender_Male    -0.271575  \n",
       "20              alcohol_consumption_Sometimes    -0.260271  \n",
       "4                      alcohol_consumption_no    -0.256268  \n",
       "3                      calorie_monitoring_yes    -0.205409  "
      ]
     },
     "execution_count": 33,
     "metadata": {},
     "output_type": "execute_result"
    }
   ],
   "source": [
    "negative_corr_df = filter_negative_corr(all_columns_corr, threshold=-0.2)\n",
    "negative_corr_df"
   ]
  },
  {
   "cell_type": "markdown",
   "metadata": {
    "id": "_duuaMm6cfjp"
   },
   "source": [
    "### The relationship with `obesity_level_Obesity_Type_I`"
   ]
  },
  {
   "cell_type": "code",
   "execution_count": 34,
   "metadata": {},
   "outputs": [
    {
     "name": "stdout",
     "output_type": "stream",
     "text": [
      "\n",
      "Positive correlations greater than 0.05:\n",
      " family_history_overweight_yes       0.183412\n",
      "alcohol_consumption_no              0.161518\n",
      "snacking_between_meals_Sometimes    0.147595\n",
      "high_caloric_food_yes               0.119296\n",
      "age                                 0.108179\n",
      "weight                              0.103232\n",
      "water_intake                        0.079462\n",
      "Name: obesity_level_Obesity_Type_I, dtype: float64\n"
     ]
    }
   ],
   "source": [
    "# Set the threshold for positive correlations\n",
    "threshold = 0.05\n",
    "\n",
    "# Find positive correlations with the specified threshold\n",
    "positive_corrs1 = positive_correlations(all_columns_corr, 'obesity_level_Obesity_Type_I', threshold)\n",
    "print(f\"\\nPositive correlations greater than {threshold}:\\n\", positive_corrs1)"
   ]
  },
  {
   "cell_type": "code",
   "execution_count": 35,
   "metadata": {},
   "outputs": [
    {
     "name": "stdout",
     "output_type": "stream",
     "text": [
      "Negative correlations less than -0.05:\n",
      " vegetable_consumption                       -0.198006\n",
      "obesity_level_Obesity_Type_III              -0.192764\n",
      "obesity_level_Obesity_Type_II               -0.183160\n",
      "obesity_level_Overweight_Level_II           -0.180636\n",
      "obesity_level_Normal_Weight                 -0.177732\n",
      "obesity_level_Overweight_Level_I            -0.175539\n",
      "alcohol_consumption_Sometimes               -0.162658\n",
      "main_meals_per_day                          -0.158418\n",
      "snacking_between_meals_Frequently           -0.136287\n",
      "calorie_monitoring_yes                      -0.086506\n",
      "transportation_mode_Public_Transportation   -0.076660\n",
      "transportation_mode_Walking                 -0.057982\n",
      "snacking_between_meals_no                   -0.050701\n",
      "Name: obesity_level_Obesity_Type_I, dtype: float64\n"
     ]
    }
   ],
   "source": [
    "# Set the threshold for negative correlations\n",
    "threshold = -0.05\n",
    "\n",
    "# Find negative correlations with the specified threshold\n",
    "negative_corrs1 = negative_correlations(all_columns_corr, 'obesity_level_Obesity_Type_I', threshold)\n",
    "print(f\"Negative correlations less than {threshold}:\\n\", negative_corrs1)"
   ]
  },
  {
   "cell_type": "markdown",
   "metadata": {
    "id": "DpguRKW7a17k"
   },
   "source": [
    "# Splitting the dataset"
   ]
  },
  {
   "cell_type": "markdown",
   "metadata": {
    "id": "DDqDaI2Rwj81"
   },
   "source": [
    "## Setting seeds for reproducibility"
   ]
  },
  {
   "cell_type": "code",
   "execution_count": 36,
   "metadata": {
    "executionInfo": {
     "elapsed": 8051,
     "status": "ok",
     "timestamp": 1732544264776,
     "user": {
      "displayName": "Alexander Rios",
      "userId": "10235043470082329050"
     },
     "user_tz": 180
    },
    "id": "xB4yoqXSSyb2"
   },
   "outputs": [],
   "source": [
    "import random\n",
    "import os\n",
    "#import keras\n",
    "\n",
    "seed_value = 42\n",
    "os.environ['PYTHONHASHSEED'] = str(seed_value)\n",
    "random.seed(seed_value)\n",
    "np.random.seed(seed_value)"
   ]
  },
  {
   "cell_type": "markdown",
   "metadata": {
    "id": "mA5L_BKEw2Jd"
   },
   "source": [
    "## Setting the validation framework"
   ]
  },
  {
   "cell_type": "code",
   "execution_count": 37,
   "metadata": {
    "colab": {
     "base_uri": "https://localhost:8080/"
    },
    "executionInfo": {
     "elapsed": 1569,
     "status": "ok",
     "timestamp": 1732544266336,
     "user": {
      "displayName": "Alexander Rios",
      "userId": "10235043470082329050"
     },
     "user_tz": 180
    },
    "id": "nE3p7duUPAQd",
    "outputId": "2f9dc618-a8bd-4e71-c951-e87feeeee5b5"
   },
   "outputs": [
    {
     "data": {
      "text/plain": [
       "(1507, 314, 266)"
      ]
     },
     "execution_count": 37,
     "metadata": {},
     "output_type": "execute_result"
    }
   ],
   "source": [
    "from sklearn.model_selection import train_test_split\n",
    "\n",
    "df_full_train, df_test = train_test_split(df, test_size=0.15, random_state=seed_value, stratify=df[\"obesity_level\"])\n",
    "df_train, df_val = train_test_split(df_full_train, test_size=0.15, random_state=seed_value, stratify=df_full_train[\"obesity_level\"])\n",
    "len(df_train), len(df_test), len(df_val)"
   ]
  },
  {
   "cell_type": "markdown",
   "metadata": {
    "id": "e8PaNBJaw-1w"
   },
   "source": [
    "## Removing specific columns and separating features from the target column\n",
    "\n",
    "According to [the dataset's article](https://doi.org/10.1016/j.dib.2019.104344), the data was labeled using the following equation:\n",
    "\n",
    "$Mass\\ body\\ index = \\frac{weight}{{height}^2}$\n",
    "\n",
    "Therefore, we need to delete at least a feature into previous equation."
   ]
  },
  {
   "cell_type": "markdown",
   "metadata": {
    "executionInfo": {
     "elapsed": 6,
     "status": "ok",
     "timestamp": 1732544266337,
     "user": {
      "displayName": "Alexander Rios",
      "userId": "10235043470082329050"
     },
     "user_tz": 180
    },
    "id": "oMO6D3EoYaGx"
   },
   "source": [
    "cols_drop = [\"obesity_level\", \"weight\"]\n",
    "X_full_train, y_full_train = df_full_train.drop(cols_drop, axis=1), df_full_train[\"obesity_level\"]\n",
    "X_train, y_train =  df_train.drop(cols_drop, axis=1), df_train[\"obesity_level\"]\n",
    "X_val, y_val =  df_val.drop(cols_drop, axis=1), df_val[\"obesity_level\"]\n",
    "X_test, y_test =  df_test.drop(cols_drop, axis=1), df_test[\"obesity_level\"]"
   ]
  },
  {
   "cell_type": "code",
   "execution_count": 38,
   "metadata": {
    "executionInfo": {
     "elapsed": 6,
     "status": "ok",
     "timestamp": 1732544266337,
     "user": {
      "displayName": "Alexander Rios",
      "userId": "10235043470082329050"
     },
     "user_tz": 180
    },
    "id": "oMO6D3EoYaGx"
   },
   "outputs": [],
   "source": [
    "#cols_drop = [\"obesity_level\", \"weight\"]\n",
    "cols_drop = [\"obesity_level\"]\n",
    "X_full_train, y_full_train = df_full_train.drop(cols_drop, axis=1), df_full_train[\"obesity_level\"]\n",
    "X_train, y_train =  df_train.drop(cols_drop, axis=1), df_train[\"obesity_level\"]\n",
    "X_val, y_val =  df_val.drop(cols_drop, axis=1), df_val[\"obesity_level\"]\n",
    "X_test, y_test =  df_test.drop(cols_drop, axis=1), df_test[\"obesity_level\"]"
   ]
  },
  {
   "cell_type": "markdown",
   "metadata": {
    "id": "qCN6Ot2ofHpE"
   },
   "source": [
    "# Standardization"
   ]
  },
  {
   "cell_type": "code",
   "execution_count": 39,
   "metadata": {
    "colab": {
     "base_uri": "https://localhost:8080/",
     "height": 423
    },
    "executionInfo": {
     "elapsed": 5,
     "status": "ok",
     "timestamp": 1732544266337,
     "user": {
      "displayName": "Alexander Rios",
      "userId": "10235043470082329050"
     },
     "user_tz": 180
    },
    "id": "JfryxK4UfGg3",
    "outputId": "2f5d4c24-74af-47c0-91f4-7dbac4187286"
   },
   "outputs": [
    {
     "data": {
      "text/html": [
       "<div>\n",
       "<style scoped>\n",
       "    .dataframe tbody tr th:only-of-type {\n",
       "        vertical-align: middle;\n",
       "    }\n",
       "\n",
       "    .dataframe tbody tr th {\n",
       "        vertical-align: top;\n",
       "    }\n",
       "\n",
       "    .dataframe thead th {\n",
       "        text-align: right;\n",
       "    }\n",
       "</style>\n",
       "<table border=\"1\" class=\"dataframe\">\n",
       "  <thead>\n",
       "    <tr style=\"text-align: right;\">\n",
       "      <th></th>\n",
       "      <th>age</th>\n",
       "      <th>height</th>\n",
       "      <th>weight</th>\n",
       "      <th>vegetable_consumption</th>\n",
       "      <th>main_meals_per_day</th>\n",
       "      <th>water_intake</th>\n",
       "      <th>physical_activity_frequency</th>\n",
       "      <th>tech_usage_hours</th>\n",
       "    </tr>\n",
       "  </thead>\n",
       "  <tbody>\n",
       "    <tr>\n",
       "      <th>2071</th>\n",
       "      <td>-0.859706</td>\n",
       "      <td>0.482798</td>\n",
       "      <td>1.583541</td>\n",
       "      <td>1.091725</td>\n",
       "      <td>0.378982</td>\n",
       "      <td>0.667080</td>\n",
       "      <td>-0.024754</td>\n",
       "      <td>0.010910</td>\n",
       "    </tr>\n",
       "    <tr>\n",
       "      <th>190</th>\n",
       "      <td>-0.679409</td>\n",
       "      <td>-1.084919</td>\n",
       "      <td>-1.165974</td>\n",
       "      <td>-0.803418</td>\n",
       "      <td>0.378982</td>\n",
       "      <td>-0.005343</td>\n",
       "      <td>-0.007330</td>\n",
       "      <td>-1.100719</td>\n",
       "    </tr>\n",
       "    <tr>\n",
       "      <th>1361</th>\n",
       "      <td>-0.996350</td>\n",
       "      <td>-0.153529</td>\n",
       "      <td>0.119958</td>\n",
       "      <td>0.593585</td>\n",
       "      <td>0.378982</td>\n",
       "      <td>-0.009926</td>\n",
       "      <td>0.410323</td>\n",
       "      <td>-0.329281</td>\n",
       "    </tr>\n",
       "    <tr>\n",
       "      <th>2109</th>\n",
       "      <td>0.011829</td>\n",
       "      <td>0.409630</td>\n",
       "      <td>1.759045</td>\n",
       "      <td>1.091725</td>\n",
       "      <td>0.378982</td>\n",
       "      <td>1.387169</td>\n",
       "      <td>0.157412</td>\n",
       "      <td>-0.135712</td>\n",
       "    </tr>\n",
       "    <tr>\n",
       "      <th>325</th>\n",
       "      <td>-0.520938</td>\n",
       "      <td>-1.620791</td>\n",
       "      <td>-1.090340</td>\n",
       "      <td>-0.803418</td>\n",
       "      <td>-2.235837</td>\n",
       "      <td>-1.639098</td>\n",
       "      <td>-0.007330</td>\n",
       "      <td>-1.100719</td>\n",
       "    </tr>\n",
       "    <tr>\n",
       "      <th>...</th>\n",
       "      <td>...</td>\n",
       "      <td>...</td>\n",
       "      <td>...</td>\n",
       "      <td>...</td>\n",
       "      <td>...</td>\n",
       "      <td>...</td>\n",
       "      <td>...</td>\n",
       "      <td>...</td>\n",
       "    </tr>\n",
       "    <tr>\n",
       "      <th>1357</th>\n",
       "      <td>-0.996350</td>\n",
       "      <td>0.891401</td>\n",
       "      <td>0.816134</td>\n",
       "      <td>-0.803418</td>\n",
       "      <td>-0.306828</td>\n",
       "      <td>1.066065</td>\n",
       "      <td>-0.007330</td>\n",
       "      <td>-0.820984</td>\n",
       "    </tr>\n",
       "    <tr>\n",
       "      <th>1013</th>\n",
       "      <td>4.906080</td>\n",
       "      <td>0.729214</td>\n",
       "      <td>-0.239784</td>\n",
       "      <td>-0.803418</td>\n",
       "      <td>0.378982</td>\n",
       "      <td>-0.005343</td>\n",
       "      <td>-0.007330</td>\n",
       "      <td>-1.100719</td>\n",
       "    </tr>\n",
       "    <tr>\n",
       "      <th>1971</th>\n",
       "      <td>-0.790813</td>\n",
       "      <td>1.243673</td>\n",
       "      <td>2.083181</td>\n",
       "      <td>1.091725</td>\n",
       "      <td>0.378982</td>\n",
       "      <td>1.137754</td>\n",
       "      <td>0.609467</td>\n",
       "      <td>0.157322</td>\n",
       "    </tr>\n",
       "    <tr>\n",
       "      <th>1265</th>\n",
       "      <td>-1.048027</td>\n",
       "      <td>0.399074</td>\n",
       "      <td>0.391538</td>\n",
       "      <td>-0.803418</td>\n",
       "      <td>0.378982</td>\n",
       "      <td>-0.005343</td>\n",
       "      <td>-1.191614</td>\n",
       "      <td>-0.716527</td>\n",
       "    </tr>\n",
       "    <tr>\n",
       "      <th>1881</th>\n",
       "      <td>0.029785</td>\n",
       "      <td>-0.069697</td>\n",
       "      <td>0.981148</td>\n",
       "      <td>1.091725</td>\n",
       "      <td>0.378982</td>\n",
       "      <td>1.177656</td>\n",
       "      <td>-0.792753</td>\n",
       "      <td>-0.848017</td>\n",
       "    </tr>\n",
       "  </tbody>\n",
       "</table>\n",
       "<p>1507 rows × 8 columns</p>\n",
       "</div>"
      ],
      "text/plain": [
       "           age    height    weight  vegetable_consumption  main_meals_per_day  \\\n",
       "2071 -0.859706  0.482798  1.583541               1.091725            0.378982   \n",
       "190  -0.679409 -1.084919 -1.165974              -0.803418            0.378982   \n",
       "1361 -0.996350 -0.153529  0.119958               0.593585            0.378982   \n",
       "2109  0.011829  0.409630  1.759045               1.091725            0.378982   \n",
       "325  -0.520938 -1.620791 -1.090340              -0.803418           -2.235837   \n",
       "...        ...       ...       ...                    ...                 ...   \n",
       "1357 -0.996350  0.891401  0.816134              -0.803418           -0.306828   \n",
       "1013  4.906080  0.729214 -0.239784              -0.803418            0.378982   \n",
       "1971 -0.790813  1.243673  2.083181               1.091725            0.378982   \n",
       "1265 -1.048027  0.399074  0.391538              -0.803418            0.378982   \n",
       "1881  0.029785 -0.069697  0.981148               1.091725            0.378982   \n",
       "\n",
       "      water_intake  physical_activity_frequency  tech_usage_hours  \n",
       "2071      0.667080                    -0.024754          0.010910  \n",
       "190      -0.005343                    -0.007330         -1.100719  \n",
       "1361     -0.009926                     0.410323         -0.329281  \n",
       "2109      1.387169                     0.157412         -0.135712  \n",
       "325      -1.639098                    -0.007330         -1.100719  \n",
       "...            ...                          ...               ...  \n",
       "1357      1.066065                    -0.007330         -0.820984  \n",
       "1013     -0.005343                    -0.007330         -1.100719  \n",
       "1971      1.137754                     0.609467          0.157322  \n",
       "1265     -0.005343                    -1.191614         -0.716527  \n",
       "1881      1.177656                    -0.792753         -0.848017  \n",
       "\n",
       "[1507 rows x 8 columns]"
      ]
     },
     "execution_count": 39,
     "metadata": {},
     "output_type": "execute_result"
    }
   ],
   "source": [
    "from sklearn.preprocessing import StandardScaler\n",
    "\n",
    "numeric_cols = X_train.select_dtypes(exclude=[\"object\"]).columns\n",
    "\n",
    "ss = StandardScaler().set_output(transform=\"pandas\")\n",
    "\n",
    "ss.fit(X_train[numeric_cols])\n",
    "ss.transform(X_train[numeric_cols])"
   ]
  },
  {
   "cell_type": "markdown",
   "metadata": {
    "id": "w0MKFMa7bEJD"
   },
   "source": [
    "# One-hot encoding of features"
   ]
  },
  {
   "cell_type": "code",
   "execution_count": 40,
   "metadata": {
    "colab": {
     "base_uri": "https://localhost:8080/",
     "height": 255
    },
    "executionInfo": {
     "elapsed": 439,
     "status": "ok",
     "timestamp": 1732544266772,
     "user": {
      "displayName": "Alexander Rios",
      "userId": "10235043470082329050"
     },
     "user_tz": 180
    },
    "id": "tTblbUBXXRL_",
    "outputId": "36ea10da-253e-4b48-edf7-cdbdc02aaade"
   },
   "outputs": [
    {
     "data": {
      "text/html": [
       "<div>\n",
       "<style scoped>\n",
       "    .dataframe tbody tr th:only-of-type {\n",
       "        vertical-align: middle;\n",
       "    }\n",
       "\n",
       "    .dataframe tbody tr th {\n",
       "        vertical-align: top;\n",
       "    }\n",
       "\n",
       "    .dataframe thead th {\n",
       "        text-align: right;\n",
       "    }\n",
       "</style>\n",
       "<table border=\"1\" class=\"dataframe\">\n",
       "  <thead>\n",
       "    <tr style=\"text-align: right;\">\n",
       "      <th></th>\n",
       "      <th>age</th>\n",
       "      <th>alcohol_consumption=Always</th>\n",
       "      <th>alcohol_consumption=Frequently</th>\n",
       "      <th>alcohol_consumption=Sometimes</th>\n",
       "      <th>alcohol_consumption=no</th>\n",
       "      <th>calorie_monitoring=no</th>\n",
       "      <th>calorie_monitoring=yes</th>\n",
       "      <th>family_history_overweight=no</th>\n",
       "      <th>family_history_overweight=yes</th>\n",
       "      <th>gender=Female</th>\n",
       "      <th>...</th>\n",
       "      <th>snacking_between_meals=no</th>\n",
       "      <th>tech_usage_hours</th>\n",
       "      <th>transportation_mode=Automobile</th>\n",
       "      <th>transportation_mode=Bike</th>\n",
       "      <th>transportation_mode=Motorbike</th>\n",
       "      <th>transportation_mode=Public_Transportation</th>\n",
       "      <th>transportation_mode=Walking</th>\n",
       "      <th>vegetable_consumption</th>\n",
       "      <th>water_intake</th>\n",
       "      <th>weight</th>\n",
       "    </tr>\n",
       "  </thead>\n",
       "  <tbody>\n",
       "    <tr>\n",
       "      <th>0</th>\n",
       "      <td>18.862264</td>\n",
       "      <td>0.0</td>\n",
       "      <td>0.0</td>\n",
       "      <td>1.0</td>\n",
       "      <td>0.0</td>\n",
       "      <td>1.0</td>\n",
       "      <td>0.0</td>\n",
       "      <td>0.0</td>\n",
       "      <td>1.0</td>\n",
       "      <td>1.0</td>\n",
       "      <td>...</td>\n",
       "      <td>0.0</td>\n",
       "      <td>0.675076</td>\n",
       "      <td>0.0</td>\n",
       "      <td>0.0</td>\n",
       "      <td>0.0</td>\n",
       "      <td>1.0</td>\n",
       "      <td>0.0</td>\n",
       "      <td>3.000000</td>\n",
       "      <td>2.411582</td>\n",
       "      <td>128.705761</td>\n",
       "    </tr>\n",
       "    <tr>\n",
       "      <th>1</th>\n",
       "      <td>20.000000</td>\n",
       "      <td>0.0</td>\n",
       "      <td>0.0</td>\n",
       "      <td>1.0</td>\n",
       "      <td>0.0</td>\n",
       "      <td>1.0</td>\n",
       "      <td>0.0</td>\n",
       "      <td>1.0</td>\n",
       "      <td>0.0</td>\n",
       "      <td>0.0</td>\n",
       "      <td>...</td>\n",
       "      <td>0.0</td>\n",
       "      <td>0.000000</td>\n",
       "      <td>0.0</td>\n",
       "      <td>0.0</td>\n",
       "      <td>0.0</td>\n",
       "      <td>1.0</td>\n",
       "      <td>0.0</td>\n",
       "      <td>2.000000</td>\n",
       "      <td>2.000000</td>\n",
       "      <td>56.000000</td>\n",
       "    </tr>\n",
       "    <tr>\n",
       "      <th>2</th>\n",
       "      <td>18.000000</td>\n",
       "      <td>0.0</td>\n",
       "      <td>0.0</td>\n",
       "      <td>1.0</td>\n",
       "      <td>0.0</td>\n",
       "      <td>1.0</td>\n",
       "      <td>0.0</td>\n",
       "      <td>0.0</td>\n",
       "      <td>1.0</td>\n",
       "      <td>1.0</td>\n",
       "      <td>...</td>\n",
       "      <td>0.0</td>\n",
       "      <td>0.468483</td>\n",
       "      <td>0.0</td>\n",
       "      <td>0.0</td>\n",
       "      <td>0.0</td>\n",
       "      <td>1.0</td>\n",
       "      <td>0.0</td>\n",
       "      <td>2.737149</td>\n",
       "      <td>1.997195</td>\n",
       "      <td>90.004046</td>\n",
       "    </tr>\n",
       "    <tr>\n",
       "      <th>3</th>\n",
       "      <td>24.361936</td>\n",
       "      <td>0.0</td>\n",
       "      <td>0.0</td>\n",
       "      <td>1.0</td>\n",
       "      <td>0.0</td>\n",
       "      <td>1.0</td>\n",
       "      <td>0.0</td>\n",
       "      <td>0.0</td>\n",
       "      <td>1.0</td>\n",
       "      <td>1.0</td>\n",
       "      <td>...</td>\n",
       "      <td>0.0</td>\n",
       "      <td>0.586035</td>\n",
       "      <td>0.0</td>\n",
       "      <td>0.0</td>\n",
       "      <td>0.0</td>\n",
       "      <td>1.0</td>\n",
       "      <td>0.0</td>\n",
       "      <td>3.000000</td>\n",
       "      <td>2.852339</td>\n",
       "      <td>133.346641</td>\n",
       "    </tr>\n",
       "    <tr>\n",
       "      <th>4</th>\n",
       "      <td>21.000000</td>\n",
       "      <td>0.0</td>\n",
       "      <td>0.0</td>\n",
       "      <td>1.0</td>\n",
       "      <td>0.0</td>\n",
       "      <td>1.0</td>\n",
       "      <td>0.0</td>\n",
       "      <td>1.0</td>\n",
       "      <td>0.0</td>\n",
       "      <td>1.0</td>\n",
       "      <td>...</td>\n",
       "      <td>0.0</td>\n",
       "      <td>0.000000</td>\n",
       "      <td>0.0</td>\n",
       "      <td>0.0</td>\n",
       "      <td>0.0</td>\n",
       "      <td>1.0</td>\n",
       "      <td>0.0</td>\n",
       "      <td>2.000000</td>\n",
       "      <td>1.000000</td>\n",
       "      <td>58.000000</td>\n",
       "    </tr>\n",
       "  </tbody>\n",
       "</table>\n",
       "<p>5 rows × 31 columns</p>\n",
       "</div>"
      ],
      "text/plain": [
       "         age  alcohol_consumption=Always  alcohol_consumption=Frequently  \\\n",
       "0  18.862264                         0.0                             0.0   \n",
       "1  20.000000                         0.0                             0.0   \n",
       "2  18.000000                         0.0                             0.0   \n",
       "3  24.361936                         0.0                             0.0   \n",
       "4  21.000000                         0.0                             0.0   \n",
       "\n",
       "   alcohol_consumption=Sometimes  alcohol_consumption=no  \\\n",
       "0                            1.0                     0.0   \n",
       "1                            1.0                     0.0   \n",
       "2                            1.0                     0.0   \n",
       "3                            1.0                     0.0   \n",
       "4                            1.0                     0.0   \n",
       "\n",
       "   calorie_monitoring=no  calorie_monitoring=yes  \\\n",
       "0                    1.0                     0.0   \n",
       "1                    1.0                     0.0   \n",
       "2                    1.0                     0.0   \n",
       "3                    1.0                     0.0   \n",
       "4                    1.0                     0.0   \n",
       "\n",
       "   family_history_overweight=no  family_history_overweight=yes  gender=Female  \\\n",
       "0                           0.0                            1.0            1.0   \n",
       "1                           1.0                            0.0            0.0   \n",
       "2                           0.0                            1.0            1.0   \n",
       "3                           0.0                            1.0            1.0   \n",
       "4                           1.0                            0.0            1.0   \n",
       "\n",
       "   ...  snacking_between_meals=no  tech_usage_hours  \\\n",
       "0  ...                        0.0          0.675076   \n",
       "1  ...                        0.0          0.000000   \n",
       "2  ...                        0.0          0.468483   \n",
       "3  ...                        0.0          0.586035   \n",
       "4  ...                        0.0          0.000000   \n",
       "\n",
       "   transportation_mode=Automobile  transportation_mode=Bike  \\\n",
       "0                             0.0                       0.0   \n",
       "1                             0.0                       0.0   \n",
       "2                             0.0                       0.0   \n",
       "3                             0.0                       0.0   \n",
       "4                             0.0                       0.0   \n",
       "\n",
       "   transportation_mode=Motorbike  transportation_mode=Public_Transportation  \\\n",
       "0                            0.0                                        1.0   \n",
       "1                            0.0                                        1.0   \n",
       "2                            0.0                                        1.0   \n",
       "3                            0.0                                        1.0   \n",
       "4                            0.0                                        1.0   \n",
       "\n",
       "   transportation_mode=Walking  vegetable_consumption  water_intake  \\\n",
       "0                          0.0               3.000000      2.411582   \n",
       "1                          0.0               2.000000      2.000000   \n",
       "2                          0.0               2.737149      1.997195   \n",
       "3                          0.0               3.000000      2.852339   \n",
       "4                          0.0               2.000000      1.000000   \n",
       "\n",
       "       weight  \n",
       "0  128.705761  \n",
       "1   56.000000  \n",
       "2   90.004046  \n",
       "3  133.346641  \n",
       "4   58.000000  \n",
       "\n",
       "[5 rows x 31 columns]"
      ]
     },
     "execution_count": 40,
     "metadata": {},
     "output_type": "execute_result"
    }
   ],
   "source": [
    "from sklearn.feature_extraction import DictVectorizer\n",
    "\n",
    "dict_X_full_train = X_full_train.to_dict(\"records\")\n",
    "dict_X_train = X_train.to_dict(\"records\")\n",
    "dict_X_val = X_val.to_dict(\"records\")\n",
    "dict_X_test = X_test.to_dict(\"records\")\n",
    "\n",
    "dv = DictVectorizer(sparse=False).set_output(transform=\"pandas\")\n",
    "dv.fit(dict_X_train)\n",
    "\n",
    "dv.transform(dict_X_train).head()"
   ]
  },
  {
   "cell_type": "markdown",
   "metadata": {
    "id": "EDsFkPhUMp5r"
   },
   "source": [
    "# Creating a Pipeline"
   ]
  },
  {
   "cell_type": "code",
   "execution_count": 41,
   "metadata": {
    "executionInfo": {
     "elapsed": 428,
     "status": "ok",
     "timestamp": 1732544267197,
     "user": {
      "displayName": "Alexander Rios",
      "userId": "10235043470082329050"
     },
     "user_tz": 180
    },
    "id": "xmPM0HRF7mKT"
   },
   "outputs": [],
   "source": [
    "from sklearn.base import BaseEstimator, TransformerMixin\n",
    "from sklearn.pipeline import Pipeline\n",
    "\n",
    "class MyStandardScaler(BaseEstimator, TransformerMixin):\n",
    "    def __init__(self, numeric_cols):\n",
    "        self.ss = StandardScaler().set_output(transform=\"pandas\")\n",
    "        self.numeric_cols = numeric_cols\n",
    "        return\n",
    "\n",
    "    def fit(self, X):\n",
    "        self.ss.fit(X[self.numeric_cols])\n",
    "        return self\n",
    "\n",
    "    def transform(self, X):\n",
    "        X[self.numeric_cols] = self.ss.transform(X[self.numeric_cols])\n",
    "        return X.to_dict(\"records\")\n",
    "\n",
    "numeric_cols = X_train.select_dtypes(exclude=[\"object\"]).columns\n",
    "pipe = Pipeline([('ss', MyStandardScaler(numeric_cols=numeric_cols)), ('dv', DictVectorizer(sparse=False).set_output(transform=\"pandas\"))])\n",
    "\n",
    "X_train = pipe.fit_transform(X_train)\n",
    "X_full_train = pipe.transform(X_full_train)\n",
    "X_val = pipe.transform(X_val)\n",
    "X_test = pipe.transform(X_test)"
   ]
  },
  {
   "cell_type": "markdown",
   "metadata": {
    "id": "mqf-Oz8IbBiv"
   },
   "source": [
    "# Label encoding"
   ]
  },
  {
   "cell_type": "code",
   "execution_count": 42,
   "metadata": {
    "executionInfo": {
     "elapsed": 4,
     "status": "ok",
     "timestamp": 1732544267198,
     "user": {
      "displayName": "Alexander Rios",
      "userId": "10235043470082329050"
     },
     "user_tz": 180
    },
    "id": "HPhUq6i_a-ib"
   },
   "outputs": [],
   "source": [
    "from sklearn.preprocessing import LabelEncoder\n",
    "\n",
    "le = LabelEncoder()\n",
    "le.fit(y_train)\n",
    "y_full_train = le.transform(y_full_train)\n",
    "y_train = le.transform(y_train)\n",
    "y_val = le.transform(y_val)\n",
    "y_test = le.transform(y_test)"
   ]
  },
  {
   "cell_type": "markdown",
   "metadata": {
    "id": "4HC_w3xC0svF"
   },
   "source": [
    "# Computing weigths for classes and samples"
   ]
  },
  {
   "cell_type": "code",
   "execution_count": 43,
   "metadata": {
    "executionInfo": {
     "elapsed": 4,
     "status": "ok",
     "timestamp": 1732544267198,
     "user": {
      "displayName": "Alexander Rios",
      "userId": "10235043470082329050"
     },
     "user_tz": 180
    },
    "id": "b5Bq4uXC0Srv"
   },
   "outputs": [],
   "source": [
    "from sklearn.utils.class_weight import compute_sample_weight, compute_class_weight\n",
    "\n",
    "class_full_weight = compute_class_weight(class_weight=\"balanced\", classes=np.unique(y_full_train), y=y_full_train)\n",
    "class_full_weight = dict(zip(np.unique(y_full_train), class_full_weight))\n",
    "\n",
    "class_weight = compute_class_weight(class_weight=\"balanced\", classes=np.unique(y_train), y=y_train)\n",
    "class_weight = dict(zip(np.unique(y_train), class_weight))\n",
    "\n",
    "sample_full_weights = compute_sample_weight(\n",
    "    class_weight=class_full_weight,\n",
    "    y=y_full_train\n",
    ")\n",
    "\n",
    "sample_weights = compute_sample_weight(\n",
    "    class_weight=class_weight,\n",
    "    y=y_train\n",
    ")"
   ]
  },
  {
   "cell_type": "code",
   "execution_count": 44,
   "metadata": {},
   "outputs": [],
   "source": [
    "from sklearn.model_selection import train_test_split\n",
    "from sklearn.preprocessing import LabelEncoder\n",
    "from sklearn.utils.class_weight import compute_class_weight\n",
    "from sklearn.feature_extraction import DictVectorizer\n",
    "from sklearn.metrics import accuracy_score, precision_score, recall_score, f1_score, classification_report\n",
    "from sklearn.linear_model import LogisticRegression, RidgeClassifier\n",
    "from sklearn.tree import DecisionTreeClassifier\n",
    "from sklearn.ensemble import (\n",
    "    RandomForestClassifier,\n",
    "    GradientBoostingClassifier,\n",
    "    AdaBoostClassifier,\n",
    "    ExtraTreesClassifier,\n",
    ")\n",
    "from sklearn.svm import SVC\n",
    "from sklearn.neighbors import KNeighborsClassifier\n",
    "from sklearn.naive_bayes import GaussianNB\n",
    "from xgboost import XGBClassifier\n",
    "from lightgbm import LGBMClassifier\n",
    "from catboost import CatBoostClassifier\n",
    "import numpy as np"
   ]
  },
  {
   "cell_type": "markdown",
   "metadata": {
    "id": "mhN8aY3eg_j8"
   },
   "source": [
    "# Training the models"
   ]
  },
  {
   "cell_type": "code",
   "execution_count": 45,
   "metadata": {},
   "outputs": [],
   "source": [
    "from sklearn.metrics import accuracy_score, precision_score, recall_score, f1_score, log_loss #, roc_auc_score\n",
    "#from sklearn.metrics import accuracy_score, precision_score, recall_score, f1_score\n"
   ]
  },
  {
   "cell_type": "code",
   "execution_count": 46,
   "metadata": {},
   "outputs": [],
   "source": [
    "# 7. List of models\n",
    "models = {\n",
    "    \"Logistic Regression\": LogisticRegression(max_iter=1000, class_weight=\"balanced\"),\n",
    "    \"Decision Tree\": DecisionTreeClassifier(class_weight=\"balanced\"),\n",
    "    \"Random Forest\": RandomForestClassifier(class_weight=\"balanced\"),\n",
    "    \"XGBoost\": XGBClassifier(use_label_encoder=False, eval_metric=\"mlogloss\"),\n",
    "    \"Gradient Boosting\": GradientBoostingClassifier(),\n",
    "    \"AdaBoost\": AdaBoostClassifier(),\n",
    "    \"K-Neighbors\": KNeighborsClassifier(),\n",
    "    \"Support Vector Machine\": SVC(probability=True, class_weight=\"balanced\"),\n",
    "    \"Naive Bayes\": GaussianNB(),\n",
    "    \"Ridge Classifier\": RidgeClassifier(class_weight=\"balanced\"),\n",
    "    \"Extra Trees\": ExtraTreesClassifier(class_weight=\"balanced\"),\n",
    "    \"CatBoost\": CatBoostClassifier(verbose=0),\n",
    "    \"LightGBM\": LGBMClassifier(class_weight=\"balanced\"),\n",
    "}"
   ]
  },
  {
   "cell_type": "code",
   "execution_count": 47,
   "metadata": {},
   "outputs": [],
   "source": [
    "# Fungsi untuk melatih model dan menghitung skor\n",
    "def train_and_evaluate_model(model, X_train, y_train, X_val, y_val):\n",
    "    model.fit(X_train, y_train)\n",
    "    predictions = model.predict(X_val)\n",
    "    \n",
    "    # Evaluasi metrik\n",
    "    accuracy = accuracy_score(y_val, predictions)\n",
    "    precision = precision_score(y_val, predictions, average='weighted')\n",
    "    recall = recall_score(y_val, predictions, average='weighted')\n",
    "    f1 = f1_score(y_val, predictions, average='weighted')\n",
    "    \n",
    "    # Log Loss untuk multi-class\n",
    "    try:\n",
    "        # Menggunakan predict_proba untuk mendapatkan probabilitas dan menghitung log loss\n",
    "        log_loss_value = log_loss(y_val, model.predict_proba(X_val))\n",
    "    except Exception as e:\n",
    "        log_loss_value = 'N/A'\n",
    "    \n",
    "    return accuracy, precision, recall, f1, log_loss_value\n"
   ]
  },
  {
   "cell_type": "code",
   "execution_count": 48,
   "metadata": {},
   "outputs": [
    {
     "name": "stdout",
     "output_type": "stream",
     "text": [
      "Logistic Regression - Accuracy: 0.84962, Precision: 0.85248, Recall: 0.84962, F1: 0.84915, Log Loss: 0.42225767576105244\n",
      "Decision Tree - Accuracy: 0.94361, Precision: 0.94490, Recall: 0.94361, F1: 0.94395, Log Loss: 2.032536845250968\n",
      "Random Forest - Accuracy: 0.89098, Precision: 0.90225, Recall: 0.89098, F1: 0.89332, Log Loss: 0.3432898419477639\n",
      "XGBoost - Accuracy: 0.96992, Precision: 0.97178, Recall: 0.96992, F1: 0.97014, Log Loss: 0.1323508561033439\n",
      "Gradient Boosting - Accuracy: 0.95113, Precision: 0.95464, Recall: 0.95113, F1: 0.95197, Log Loss: 0.13539605415610922\n",
      "AdaBoost - Accuracy: 0.43609, Precision: 0.28704, Recall: 0.43609, F1: 0.32386, Log Loss: 1.9216186086397493\n",
      "K-Neighbors - Accuracy: 0.85338, Precision: 0.84547, Recall: 0.85338, F1: 0.83956, Log Loss: 2.396005369616483\n",
      "Support Vector Machine - Accuracy: 0.89098, Precision: 0.89281, Recall: 0.89098, F1: 0.89161, Log Loss: 0.24345943258436636\n",
      "Naive Bayes - Accuracy: 0.56391, Precision: 0.60190, Recall: 0.56391, F1: 0.51407, Log Loss: 9.115300128635523\n",
      "Ridge Classifier - Accuracy: 0.65038, Precision: 0.64214, Recall: 0.65038, F1: 0.62602, Log Loss: N/A\n",
      "Extra Trees - Accuracy: 0.86466, Precision: 0.87088, Recall: 0.86466, F1: 0.86640, Log Loss: 0.3788304895385562\n",
      "CatBoost - Accuracy: 0.95113, Precision: 0.95485, Recall: 0.95113, F1: 0.95191, Log Loss: 0.13115455411502702\n",
      "[LightGBM] [Info] Auto-choosing row-wise multi-threading, the overhead of testing was 0.000219 seconds.\n",
      "You can set `force_row_wise=true` to remove the overhead.\n",
      "And if memory is not enough, you can set `force_col_wise=true`.\n",
      "[LightGBM] [Info] Total Bins 2077\n",
      "[LightGBM] [Info] Number of data points in the train set: 1507, number of used features: 28\n",
      "[LightGBM] [Info] Start training from score -1.945910\n",
      "[LightGBM] [Info] Start training from score -1.945910\n",
      "[LightGBM] [Info] Start training from score -1.945910\n",
      "[LightGBM] [Info] Start training from score -1.945910\n",
      "[LightGBM] [Info] Start training from score -1.945910\n",
      "[LightGBM] [Info] Start training from score -1.945910\n",
      "[LightGBM] [Info] Start training from score -1.945910\n",
      "[LightGBM] [Warning] No further splits with positive gain, best gain: -inf\n",
      "[LightGBM] [Warning] No further splits with positive gain, best gain: -inf\n",
      "[LightGBM] [Warning] No further splits with positive gain, best gain: -inf\n",
      "[LightGBM] [Warning] No further splits with positive gain, best gain: -inf\n",
      "[LightGBM] [Warning] No further splits with positive gain, best gain: -inf\n",
      "[LightGBM] [Warning] No further splits with positive gain, best gain: -inf\n",
      "[LightGBM] [Warning] No further splits with positive gain, best gain: -inf\n",
      "[LightGBM] [Warning] No further splits with positive gain, best gain: -inf\n",
      "[LightGBM] [Warning] No further splits with positive gain, best gain: -inf\n",
      "[LightGBM] [Warning] No further splits with positive gain, best gain: -inf\n",
      "[LightGBM] [Warning] No further splits with positive gain, best gain: -inf\n",
      "[LightGBM] [Warning] No further splits with positive gain, best gain: -inf\n",
      "[LightGBM] [Warning] No further splits with positive gain, best gain: -inf\n",
      "[LightGBM] [Warning] No further splits with positive gain, best gain: -inf\n",
      "[LightGBM] [Warning] No further splits with positive gain, best gain: -inf\n",
      "[LightGBM] [Warning] No further splits with positive gain, best gain: -inf\n",
      "[LightGBM] [Warning] No further splits with positive gain, best gain: -inf\n",
      "[LightGBM] [Warning] No further splits with positive gain, best gain: -inf\n",
      "[LightGBM] [Warning] No further splits with positive gain, best gain: -inf\n",
      "[LightGBM] [Warning] No further splits with positive gain, best gain: -inf\n",
      "[LightGBM] [Warning] No further splits with positive gain, best gain: -inf\n",
      "[LightGBM] [Warning] No further splits with positive gain, best gain: -inf\n",
      "[LightGBM] [Warning] No further splits with positive gain, best gain: -inf\n",
      "[LightGBM] [Warning] No further splits with positive gain, best gain: -inf\n",
      "[LightGBM] [Warning] No further splits with positive gain, best gain: -inf\n",
      "[LightGBM] [Warning] No further splits with positive gain, best gain: -inf\n",
      "[LightGBM] [Warning] No further splits with positive gain, best gain: -inf\n",
      "[LightGBM] [Warning] No further splits with positive gain, best gain: -inf\n",
      "[LightGBM] [Warning] No further splits with positive gain, best gain: -inf\n",
      "[LightGBM] [Warning] No further splits with positive gain, best gain: -inf\n",
      "[LightGBM] [Warning] No further splits with positive gain, best gain: -inf\n",
      "[LightGBM] [Warning] No further splits with positive gain, best gain: -inf\n",
      "[LightGBM] [Warning] No further splits with positive gain, best gain: -inf\n",
      "[LightGBM] [Warning] No further splits with positive gain, best gain: -inf\n",
      "[LightGBM] [Warning] No further splits with positive gain, best gain: -inf\n",
      "[LightGBM] [Warning] No further splits with positive gain, best gain: -inf\n",
      "[LightGBM] [Warning] No further splits with positive gain, best gain: -inf\n",
      "[LightGBM] [Warning] No further splits with positive gain, best gain: -inf\n",
      "[LightGBM] [Warning] No further splits with positive gain, best gain: -inf\n",
      "[LightGBM] [Warning] No further splits with positive gain, best gain: -inf\n",
      "[LightGBM] [Warning] No further splits with positive gain, best gain: -inf\n",
      "[LightGBM] [Warning] No further splits with positive gain, best gain: -inf\n",
      "[LightGBM] [Warning] No further splits with positive gain, best gain: -inf\n",
      "[LightGBM] [Warning] No further splits with positive gain, best gain: -inf\n",
      "[LightGBM] [Warning] No further splits with positive gain, best gain: -inf\n",
      "[LightGBM] [Warning] No further splits with positive gain, best gain: -inf\n",
      "[LightGBM] [Warning] No further splits with positive gain, best gain: -inf\n",
      "[LightGBM] [Warning] No further splits with positive gain, best gain: -inf\n",
      "[LightGBM] [Warning] No further splits with positive gain, best gain: -inf\n",
      "[LightGBM] [Warning] No further splits with positive gain, best gain: -inf\n",
      "[LightGBM] [Warning] No further splits with positive gain, best gain: -inf\n",
      "[LightGBM] [Warning] No further splits with positive gain, best gain: -inf\n",
      "[LightGBM] [Warning] No further splits with positive gain, best gain: -inf\n",
      "[LightGBM] [Warning] No further splits with positive gain, best gain: -inf\n",
      "[LightGBM] [Warning] No further splits with positive gain, best gain: -inf\n",
      "[LightGBM] [Warning] No further splits with positive gain, best gain: -inf\n",
      "[LightGBM] [Warning] No further splits with positive gain, best gain: -inf\n",
      "[LightGBM] [Warning] No further splits with positive gain, best gain: -inf\n",
      "[LightGBM] [Warning] No further splits with positive gain, best gain: -inf\n",
      "[LightGBM] [Warning] No further splits with positive gain, best gain: -inf\n",
      "[LightGBM] [Warning] No further splits with positive gain, best gain: -inf\n",
      "[LightGBM] [Warning] No further splits with positive gain, best gain: -inf\n",
      "[LightGBM] [Warning] No further splits with positive gain, best gain: -inf\n",
      "[LightGBM] [Warning] No further splits with positive gain, best gain: -inf\n",
      "[LightGBM] [Warning] No further splits with positive gain, best gain: -inf\n",
      "[LightGBM] [Warning] No further splits with positive gain, best gain: -inf\n",
      "[LightGBM] [Warning] No further splits with positive gain, best gain: -inf\n",
      "[LightGBM] [Warning] No further splits with positive gain, best gain: -inf\n",
      "[LightGBM] [Warning] No further splits with positive gain, best gain: -inf\n",
      "[LightGBM] [Warning] No further splits with positive gain, best gain: -inf\n",
      "[LightGBM] [Warning] No further splits with positive gain, best gain: -inf\n",
      "[LightGBM] [Warning] No further splits with positive gain, best gain: -inf\n",
      "[LightGBM] [Warning] No further splits with positive gain, best gain: -inf\n",
      "[LightGBM] [Warning] No further splits with positive gain, best gain: -inf\n",
      "[LightGBM] [Warning] No further splits with positive gain, best gain: -inf\n",
      "[LightGBM] [Warning] No further splits with positive gain, best gain: -inf\n",
      "[LightGBM] [Warning] No further splits with positive gain, best gain: -inf\n",
      "[LightGBM] [Warning] No further splits with positive gain, best gain: -inf\n",
      "[LightGBM] [Warning] No further splits with positive gain, best gain: -inf\n",
      "[LightGBM] [Warning] No further splits with positive gain, best gain: -inf\n",
      "[LightGBM] [Warning] No further splits with positive gain, best gain: -inf\n",
      "[LightGBM] [Warning] No further splits with positive gain, best gain: -inf\n",
      "[LightGBM] [Warning] No further splits with positive gain, best gain: -inf\n",
      "[LightGBM] [Warning] No further splits with positive gain, best gain: -inf\n",
      "[LightGBM] [Warning] No further splits with positive gain, best gain: -inf\n",
      "[LightGBM] [Warning] No further splits with positive gain, best gain: -inf\n",
      "[LightGBM] [Warning] No further splits with positive gain, best gain: -inf\n",
      "[LightGBM] [Warning] No further splits with positive gain, best gain: -inf\n",
      "[LightGBM] [Warning] No further splits with positive gain, best gain: -inf\n",
      "[LightGBM] [Warning] No further splits with positive gain, best gain: -inf\n",
      "[LightGBM] [Warning] No further splits with positive gain, best gain: -inf\n",
      "[LightGBM] [Warning] No further splits with positive gain, best gain: -inf\n",
      "[LightGBM] [Warning] No further splits with positive gain, best gain: -inf\n",
      "[LightGBM] [Warning] No further splits with positive gain, best gain: -inf\n",
      "[LightGBM] [Warning] No further splits with positive gain, best gain: -inf\n",
      "[LightGBM] [Warning] No further splits with positive gain, best gain: -inf\n",
      "[LightGBM] [Warning] No further splits with positive gain, best gain: -inf\n",
      "[LightGBM] [Warning] No further splits with positive gain, best gain: -inf\n",
      "[LightGBM] [Warning] No further splits with positive gain, best gain: -inf\n",
      "[LightGBM] [Warning] No further splits with positive gain, best gain: -inf\n",
      "[LightGBM] [Warning] No further splits with positive gain, best gain: -inf\n",
      "[LightGBM] [Warning] No further splits with positive gain, best gain: -inf\n",
      "[LightGBM] [Warning] No further splits with positive gain, best gain: -inf\n",
      "[LightGBM] [Warning] No further splits with positive gain, best gain: -inf\n",
      "[LightGBM] [Warning] No further splits with positive gain, best gain: -inf\n",
      "[LightGBM] [Warning] No further splits with positive gain, best gain: -inf\n",
      "[LightGBM] [Warning] No further splits with positive gain, best gain: -inf\n",
      "[LightGBM] [Warning] No further splits with positive gain, best gain: -inf\n",
      "[LightGBM] [Warning] No further splits with positive gain, best gain: -inf\n",
      "[LightGBM] [Warning] No further splits with positive gain, best gain: -inf\n",
      "[LightGBM] [Warning] No further splits with positive gain, best gain: -inf\n",
      "[LightGBM] [Warning] No further splits with positive gain, best gain: -inf\n",
      "[LightGBM] [Warning] No further splits with positive gain, best gain: -inf\n",
      "[LightGBM] [Warning] No further splits with positive gain, best gain: -inf\n",
      "[LightGBM] [Warning] No further splits with positive gain, best gain: -inf\n",
      "[LightGBM] [Warning] No further splits with positive gain, best gain: -inf\n",
      "[LightGBM] [Warning] No further splits with positive gain, best gain: -inf\n",
      "[LightGBM] [Warning] No further splits with positive gain, best gain: -inf\n",
      "[LightGBM] [Warning] No further splits with positive gain, best gain: -inf\n",
      "[LightGBM] [Warning] No further splits with positive gain, best gain: -inf\n",
      "[LightGBM] [Warning] No further splits with positive gain, best gain: -inf\n",
      "[LightGBM] [Warning] No further splits with positive gain, best gain: -inf\n",
      "[LightGBM] [Warning] No further splits with positive gain, best gain: -inf\n",
      "[LightGBM] [Warning] No further splits with positive gain, best gain: -inf\n",
      "[LightGBM] [Warning] No further splits with positive gain, best gain: -inf\n",
      "[LightGBM] [Warning] No further splits with positive gain, best gain: -inf\n",
      "[LightGBM] [Warning] No further splits with positive gain, best gain: -inf\n",
      "[LightGBM] [Warning] No further splits with positive gain, best gain: -inf\n",
      "[LightGBM] [Warning] No further splits with positive gain, best gain: -inf\n",
      "[LightGBM] [Warning] No further splits with positive gain, best gain: -inf\n",
      "[LightGBM] [Warning] No further splits with positive gain, best gain: -inf\n",
      "[LightGBM] [Warning] No further splits with positive gain, best gain: -inf\n",
      "[LightGBM] [Warning] No further splits with positive gain, best gain: -inf\n",
      "[LightGBM] [Warning] No further splits with positive gain, best gain: -inf\n",
      "[LightGBM] [Warning] No further splits with positive gain, best gain: -inf\n",
      "[LightGBM] [Warning] No further splits with positive gain, best gain: -inf\n",
      "[LightGBM] [Warning] No further splits with positive gain, best gain: -inf\n",
      "[LightGBM] [Warning] No further splits with positive gain, best gain: -inf\n",
      "[LightGBM] [Warning] No further splits with positive gain, best gain: -inf\n",
      "[LightGBM] [Warning] No further splits with positive gain, best gain: -inf\n",
      "[LightGBM] [Warning] No further splits with positive gain, best gain: -inf\n",
      "[LightGBM] [Warning] No further splits with positive gain, best gain: -inf\n",
      "[LightGBM] [Warning] No further splits with positive gain, best gain: -inf\n",
      "[LightGBM] [Warning] No further splits with positive gain, best gain: -inf\n",
      "[LightGBM] [Warning] No further splits with positive gain, best gain: -inf\n",
      "[LightGBM] [Warning] No further splits with positive gain, best gain: -inf\n",
      "[LightGBM] [Warning] No further splits with positive gain, best gain: -inf\n",
      "[LightGBM] [Warning] No further splits with positive gain, best gain: -inf\n",
      "[LightGBM] [Warning] No further splits with positive gain, best gain: -inf\n",
      "[LightGBM] [Warning] No further splits with positive gain, best gain: -inf\n",
      "[LightGBM] [Warning] No further splits with positive gain, best gain: -inf\n",
      "[LightGBM] [Warning] No further splits with positive gain, best gain: -inf\n",
      "[LightGBM] [Warning] No further splits with positive gain, best gain: -inf\n",
      "[LightGBM] [Warning] No further splits with positive gain, best gain: -inf\n",
      "[LightGBM] [Warning] No further splits with positive gain, best gain: -inf\n",
      "[LightGBM] [Warning] No further splits with positive gain, best gain: -inf\n",
      "[LightGBM] [Warning] No further splits with positive gain, best gain: -inf\n",
      "[LightGBM] [Warning] No further splits with positive gain, best gain: -inf\n",
      "[LightGBM] [Warning] No further splits with positive gain, best gain: -inf\n",
      "[LightGBM] [Warning] No further splits with positive gain, best gain: -inf\n",
      "[LightGBM] [Warning] No further splits with positive gain, best gain: -inf\n",
      "[LightGBM] [Warning] No further splits with positive gain, best gain: -inf\n",
      "[LightGBM] [Warning] No further splits with positive gain, best gain: -inf\n",
      "[LightGBM] [Warning] No further splits with positive gain, best gain: -inf\n",
      "[LightGBM] [Warning] No further splits with positive gain, best gain: -inf\n",
      "[LightGBM] [Warning] No further splits with positive gain, best gain: -inf\n",
      "[LightGBM] [Warning] No further splits with positive gain, best gain: -inf\n",
      "[LightGBM] [Warning] No further splits with positive gain, best gain: -inf\n",
      "[LightGBM] [Warning] No further splits with positive gain, best gain: -inf\n",
      "[LightGBM] [Warning] No further splits with positive gain, best gain: -inf\n",
      "[LightGBM] [Warning] No further splits with positive gain, best gain: -inf\n",
      "[LightGBM] [Warning] No further splits with positive gain, best gain: -inf\n",
      "LightGBM - Accuracy: 0.95865, Precision: 0.96349, Recall: 0.95865, F1: 0.95900, Log Loss: 0.1673883909529022\n"
     ]
    }
   ],
   "source": [
    "# Mengumpulkan hasil evaluasi model\n",
    "results = {}\n",
    "\n",
    "# Evaluasi setiap model\n",
    "for name, model in models.items():\n",
    "    try:\n",
    "        accuracy, precision, recall, f1, log_loss_value = train_and_evaluate_model(model, X_train, y_train, X_val, y_val)\n",
    "        results[name] = (accuracy, precision, recall, f1, log_loss_value)\n",
    "        print(f\"{name} - Accuracy: {accuracy:.5f}, Precision: {precision:.5f}, Recall: {recall:.5f}, F1: {f1:.5f}, Log Loss: {log_loss_value}\")\n",
    "    except Exception as e:\n",
    "        print(f\"Error in {name}: {e}\")\n",
    "\n"
   ]
  },
  {
   "cell_type": "code",
   "execution_count": 49,
   "metadata": {},
   "outputs": [
    {
     "name": "stdout",
     "output_type": "stream",
     "text": [
      "\n",
      "Top 3 Models in Accuracy:\n",
      "1. XGBoost - Accuracy: 0.96992, Precision: 0.97178, Recall: 0.96992, F1: 0.97014, Log Loss: 0.13235\n",
      "2. LightGBM - Accuracy: 0.95865, Precision: 0.96349, Recall: 0.95865, F1: 0.95900, Log Loss: 0.16739\n",
      "3. Gradient Boosting - Accuracy: 0.95113, Precision: 0.95464, Recall: 0.95113, F1: 0.95197, Log Loss: 0.13540\n",
      "\n",
      "Top 3 Models in Log Loss:\n",
      "1. CatBoost - Log Loss: 0.13115, Precision: 0.95485, Recall: 0.95113, F1: 0.95191, Accuracy: 0.95113\n",
      "2. XGBoost - Log Loss: 0.13235, Precision: 0.97178, Recall: 0.96992, F1: 0.97014, Accuracy: 0.96992\n",
      "3. Gradient Boosting - Log Loss: 0.13540, Precision: 0.95464, Recall: 0.95113, F1: 0.95197, Accuracy: 0.95113\n"
     ]
    }
   ],
   "source": [
    "# Mengurutkan model berdasarkan accuracy\n",
    "sorted_results_accuracy = sorted(results.items(), key=lambda x: x[1][0], reverse=True)\n",
    "\n",
    "# Menampilkan 3 model terbaik berdasarkan accuracy\n",
    "print(\"\\nTop 3 Models in Accuracy:\")\n",
    "for i in range(3):\n",
    "    name, metrics = sorted_results_accuracy[i]\n",
    "    print(f\"{i+1}. {name} - Accuracy: {metrics[0]:.5f}, Precision: {metrics[1]:.5f}, Recall: {metrics[2]:.5f}, F1: {metrics[3]:.5f}, Log Loss: {metrics[4]:.5f}\")\n",
    "\n",
    "# Memfilter hasil dengan Log Loss yang valid (numerik)\n",
    "valid_results_log_loss = {name: metrics for name, metrics in results.items() if isinstance(metrics[4], (int, float))}\n",
    "\n",
    "# Mengurutkan model berdasarkan Log Loss (nilai lebih rendah lebih baik)\n",
    "sorted_results_log_loss = sorted(valid_results_log_loss.items(), key=lambda x: x[1][4])\n",
    "\n",
    "# Menampilkan 3 model terbaik berdasarkan Log Loss\n",
    "print(\"\\nTop 3 Models in Log Loss:\")\n",
    "for i in range(3):\n",
    "    name, metrics = sorted_results_log_loss[i]\n",
    "    print(f\"{i+1}. {name} - Log Loss: {metrics[4]:.5f}, Precision: {metrics[1]:.5f}, Recall: {metrics[2]:.5f}, F1: {metrics[3]:.5f}, Accuracy: {metrics[0]:.5f}\")\n"
   ]
  },
  {
   "cell_type": "markdown",
   "metadata": {},
   "source": [
    "## Find best parameter for Top 3 Models in Log Loss"
   ]
  },
  {
   "cell_type": "markdown",
   "metadata": {
    "id": "nAipLvIZhC_4"
   },
   "source": [
    "## CatBoost Classifier"
   ]
  },
  {
   "cell_type": "code",
   "execution_count": 50,
   "metadata": {},
   "outputs": [
    {
     "name": "stdout",
     "output_type": "stream",
     "text": [
      "Best parameters for CatBoostClassifier:\n",
      "{'iterations': 434, 'depth': 4, 'learning_rate': 0.15000000000000002, 'l2_leaf_reg': 0.002473403654859812, 'random_strength': 0.006477967147195818, 'bagging_temperature': 0.7573147661433607, 'border_count': 220}\n",
      "Best Log Loss for CatBoostClassifier: 0.08668\n"
     ]
    }
   ],
   "source": [
    "# Objective function for CatBoostClassifier (Multiclass)\n",
    "def objective_catboost(trial):\n",
    "    params = {\n",
    "        'iterations': trial.suggest_int('iterations', 100, 1000),\n",
    "        'depth': trial.suggest_int('depth', 4, 10),\n",
    "        'learning_rate': trial.suggest_float('learning_rate', 0.01, 0.3, step=0.01),\n",
    "        'l2_leaf_reg': trial.suggest_float('l2_leaf_reg', 1e-3, 10.0, log=True),\n",
    "        'random_strength': trial.suggest_float('random_strength', 1e-3, 10.0, log=True),\n",
    "        'bagging_temperature': trial.suggest_float('bagging_temperature', 0.0, 1.0),\n",
    "        'border_count': trial.suggest_int('border_count', 1, 255),\n",
    "        'loss_function': 'MultiClass',  # Menggunakan MultiClass untuk klasifikasi multikelas\n",
    "        'random_state': 42\n",
    "    }\n",
    "\n",
    "    # Create a CatBoostClassifier model with the specified parameters\n",
    "    model = CatBoostClassifier(**params, verbose=0)\n",
    "    model.fit(X_train, y_train)\n",
    "\n",
    "    # Predict on the validation data\n",
    "    y_pred_proba = model.predict_proba(X_val)  # Get probabilities for all classes\n",
    "\n",
    "    # Calculate the log loss or any other appropriate evaluation metric for multiclass\n",
    "    log_loss_value = log_loss(y_val, y_pred_proba)\n",
    "    return log_loss_value\n",
    "\n",
    "# Create study with TPESampler and fixed seed\n",
    "study_catboost = optuna.create_study(\n",
    "    direction='minimize', \n",
    "    sampler=optuna.samplers.TPESampler(seed=42)  # Set seed here\n",
    ")\n",
    "\n",
    "# Run Optuna for CatBoostClassifier\n",
    "study_catboost.optimize(objective_catboost, n_trials=50)\n",
    "\n",
    "# Best results for CatBoostClassifier\n",
    "print(\"Best parameters for CatBoostClassifier:\")\n",
    "print(study_catboost.best_trial.params)\n",
    "print(\"Best Log Loss for CatBoostClassifier: {:.5f}\".format(study_catboost.best_value))\n"
   ]
  },
  {
   "cell_type": "markdown",
   "metadata": {
    "id": "nAipLvIZhC_4"
   },
   "source": [
    "## XGB Classifier"
   ]
  },
  {
   "cell_type": "code",
   "execution_count": 51,
   "metadata": {
    "scrolled": true
   },
   "outputs": [
    {
     "name": "stdout",
     "output_type": "stream",
     "text": [
      "Best parameters for XGBoost:\n",
      "{'n_estimators': 951, 'max_depth': 3, 'learning_rate': 0.11, 'subsample': 0.8911773706382694, 'colsample_bytree': 0.9489169222926844, 'gamma': 0.045198786459039825, 'reg_alpha': 0.001761075078473816, 'reg_lambda': 0.1555280160733892}\n",
      "Best Log Loss for XGBoost: 0.10310\n"
     ]
    }
   ],
   "source": [
    "# Objective function for XGBoost (Multiclass)\n",
    "def objective_xgboost(trial):\n",
    "    params = {\n",
    "        'n_estimators': trial.suggest_int('n_estimators', 100, 1000),\n",
    "        'max_depth': trial.suggest_int('max_depth', 3, 10),\n",
    "        'learning_rate': trial.suggest_float('learning_rate', 0.01, 0.3, step=0.01),\n",
    "        'subsample': trial.suggest_float('subsample', 0.5, 1.0),\n",
    "        'colsample_bytree': trial.suggest_float('colsample_bytree', 0.5, 1.0),\n",
    "        'gamma': trial.suggest_float('gamma', 0.0, 1.0),\n",
    "        'reg_alpha': trial.suggest_float('reg_alpha', 1e-5, 1.0, log=True),\n",
    "        'reg_lambda': trial.suggest_float('reg_lambda', 1e-5, 1.0, log=True),\n",
    "        'objective': 'multi:softmax',  # Multiclass classification\n",
    "        'num_class': len(np.unique(y_train)),  # Number of classes\n",
    "        'random_state': 42\n",
    "    }\n",
    "\n",
    "    # Create XGBClassifier with the specified parameters\n",
    "    model = XGBClassifier(**params)\n",
    "    model.fit(X_train, y_train)\n",
    "\n",
    "    # Predict on the validation data\n",
    "    y_pred_proba = model.predict_proba(X_val)  # Get probabilities for all classes\n",
    "\n",
    "    # Calculate log loss for multiclass classification\n",
    "    log_loss_value = log_loss(y_val, y_pred_proba)\n",
    "    return log_loss_value\n",
    "\n",
    "# Create study with TPESampler and fixed seed\n",
    "study_xgboost = optuna.create_study(\n",
    "    direction='minimize', \n",
    "    sampler=optuna.samplers.TPESampler(seed=42)  # Set seed here\n",
    ")\n",
    "\n",
    "# Run Optuna for XGBoost\n",
    "study_xgboost.optimize(objective_xgboost, n_trials=50)\n",
    "\n",
    "# Best results for XGBoost\n",
    "print(\"Best parameters for XGBoost:\")\n",
    "print(study_xgboost.best_trial.params)\n",
    "print(\"Best Log Loss for XGBoost: {:.5f}\".format(study_xgboost.best_value))\n"
   ]
  },
  {
   "cell_type": "markdown",
   "metadata": {
    "id": "nAipLvIZhC_4"
   },
   "source": [
    "## Gradient Boosting (Multiclass)"
   ]
  },
  {
   "cell_type": "code",
   "execution_count": 52,
   "metadata": {},
   "outputs": [
    {
     "name": "stdout",
     "output_type": "stream",
     "text": [
      "Best parameters for Gradient Boosting:\n",
      "{'n_estimators': 408, 'max_depth': 4, 'learning_rate': 0.02, 'subsample': 0.5545328448543362, 'min_samples_split': 9, 'min_samples_leaf': 1}\n",
      "Best Log Loss for Gradient Boosting: 0.14589\n"
     ]
    }
   ],
   "source": [
    "# Objective function for Gradient Boosting (Multiclass)\n",
    "def objective_gradient_boosting(trial):\n",
    "    params = {\n",
    "        'n_estimators': trial.suggest_int('n_estimators', 100, 1000),\n",
    "        'max_depth': trial.suggest_int('max_depth', 3, 10),\n",
    "        'learning_rate': trial.suggest_float('learning_rate', 0.01, 0.3, step=0.01),\n",
    "        'subsample': trial.suggest_float('subsample', 0.5, 1.0),\n",
    "        'min_samples_split': trial.suggest_int('min_samples_split', 2, 10),\n",
    "        'min_samples_leaf': trial.suggest_int('min_samples_leaf', 1, 10),\n",
    "        'random_state': 42\n",
    "    }\n",
    "\n",
    "    # Create GradientBoostingClassifier with the specified parameters\n",
    "    model = GradientBoostingClassifier(**params)\n",
    "    model.fit(X_train, y_train)\n",
    "\n",
    "    # Predict on the validation data\n",
    "    y_pred_proba = model.predict_proba(X_val)  # Get probabilities for all classes\n",
    "\n",
    "    # Calculate log loss for multiclass classification\n",
    "    log_loss_value = log_loss(y_val, y_pred_proba)\n",
    "    return log_loss_value\n",
    "\n",
    "# Create study with TPESampler and fixed seed\n",
    "study_gradient_boosting = optuna.create_study(\n",
    "    direction='minimize', \n",
    "    sampler=optuna.samplers.TPESampler(seed=42)  # Set seed here\n",
    ")\n",
    "\n",
    "# Run Optuna for Gradient Boosting\n",
    "study_gradient_boosting.optimize(objective_gradient_boosting, n_trials=50)\n",
    "\n",
    "# Best results for Gradient Boosting\n",
    "print(\"Best parameters for Gradient Boosting:\")\n",
    "print(study_gradient_boosting.best_trial.params)\n",
    "print(\"Best Log Loss for Gradient Boosting: {:.5f}\".format(study_gradient_boosting.best_value))\n"
   ]
  },
  {
   "cell_type": "markdown",
   "metadata": {},
   "source": [
    "## Choose the Best Model"
   ]
  },
  {
   "cell_type": "code",
   "execution_count": 53,
   "metadata": {},
   "outputs": [
    {
     "name": "stdout",
     "output_type": "stream",
     "text": [
      "CatBoost Accuracy: 0.96617\n",
      "Final Log Loss for CatBoost: 0.09900\n"
     ]
    }
   ],
   "source": [
    "#from sklearn.metrics import accuracy_score, log_loss\n",
    "\n",
    "# Ambil parameter terbaik dari studi Optuna\n",
    "best_params_catboost = study_catboost.best_trial.params\n",
    "\n",
    "# Buat model CatBoostClassifier dengan parameter terbaik\n",
    "final_catboost = CatBoostClassifier(**best_params_catboost, verbose=0)\n",
    "\n",
    "# Latih model dengan data training\n",
    "final_catboost.fit(X_train, y_train)\n",
    "\n",
    "# Prediksi pada data validasi\n",
    "y_pred_proba_catboost = final_catboost.predict_proba(X_val)  # Mendapatkan probabilitas untuk semua kelas\n",
    "\n",
    "# Evaluasi dengan Log Loss untuk klasifikasi multiclass\n",
    "final_log_loss_catboost = log_loss(y_val, y_pred_proba_catboost)\n",
    "\n",
    "# Menghitung akurasi untuk evaluasi klasifikasi\n",
    "y_pred_catboost = final_catboost.predict(X_val)\n",
    "final_accuracy_catboost = accuracy_score(y_val, y_pred_catboost)\n",
    "\n",
    "# Output hasil\n",
    "print(\"CatBoost Accuracy: {:.5f}\".format(final_accuracy_catboost))\n",
    "print(\"Final Log Loss for CatBoost: {:.5f}\".format(final_log_loss_catboost))\n"
   ]
  },
  {
   "cell_type": "code",
   "execution_count": 54,
   "metadata": {},
   "outputs": [
    {
     "name": "stdout",
     "output_type": "stream",
     "text": [
      "XGBoost Accuracy: 0.95865\n",
      "Final Log Loss for XGBoost: 0.11697\n"
     ]
    }
   ],
   "source": [
    "# Ambil parameter terbaik dari studi Optuna\n",
    "best_params_xgboost = study_xgboost.best_trial.params\n",
    "\n",
    "# Buat model XGBClassifier dengan parameter terbaik\n",
    "final_xgboost = XGBClassifier(**best_params_xgboost, objective='multi:softmax', num_class=len(np.unique(y_train)), use_label_encoder=False)\n",
    "\n",
    "# Latih model dengan data training\n",
    "final_xgboost.fit(X_train, y_train)\n",
    "\n",
    "# Prediksi pada data validasi\n",
    "y_pred_proba_xgboost = final_xgboost.predict_proba(X_val)  # Mendapatkan probabilitas untuk semua kelas\n",
    "\n",
    "# Evaluasi dengan Log Loss untuk klasifikasi multiclass\n",
    "final_log_loss_xgboost = log_loss(y_val, y_pred_proba_xgboost)\n",
    "\n",
    "# Menghitung akurasi untuk evaluasi klasifikasi\n",
    "y_pred_xgboost = final_xgboost.predict(X_val)\n",
    "final_accuracy_xgboost = accuracy_score(y_val, y_pred_xgboost)\n",
    "\n",
    "# Output hasil\n",
    "print(\"XGBoost Accuracy: {:.5f}\".format(final_accuracy_xgboost))\n",
    "print(\"Final Log Loss for XGBoost: {:.5f}\".format(final_log_loss_xgboost))\n"
   ]
  },
  {
   "cell_type": "code",
   "execution_count": 55,
   "metadata": {},
   "outputs": [
    {
     "name": "stdout",
     "output_type": "stream",
     "text": [
      "Gradient Boosting Accuracy: 0.94737\n",
      "Final Log Loss for Gradient Boosting: 0.14723\n"
     ]
    }
   ],
   "source": [
    "# Ambil parameter terbaik dari studi Optuna untuk Gradient Boosting\n",
    "best_params_gradient_boosting = study_gradient_boosting.best_trial.params\n",
    "\n",
    "# Buat model GradientBoostingClassifier dengan parameter terbaik\n",
    "final_gradient_boosting = GradientBoostingClassifier(**best_params_gradient_boosting)\n",
    "\n",
    "# Latih model dengan data training\n",
    "final_gradient_boosting.fit(X_train, y_train)\n",
    "\n",
    "# Prediksi pada data validasi\n",
    "y_pred_proba_gradient_boosting = final_gradient_boosting.predict_proba(X_val)  # Mendapatkan probabilitas untuk semua kelas\n",
    "\n",
    "# Evaluasi dengan Log Loss untuk klasifikasi multiclass\n",
    "final_log_loss_gradient_boosting = log_loss(y_val, y_pred_proba_gradient_boosting)\n",
    "\n",
    "# Menghitung akurasi untuk evaluasi klasifikasi\n",
    "y_pred_gradient_boosting = final_gradient_boosting.predict(X_val)\n",
    "final_accuracy_gradient_boosting = accuracy_score(y_val, y_pred_gradient_boosting)\n",
    "\n",
    "# Output hasil\n",
    "print(\"Gradient Boosting Accuracy: {:.5f}\".format(final_accuracy_gradient_boosting))\n",
    "print(\"Final Log Loss for Gradient Boosting: {:.5f}\".format(final_log_loss_gradient_boosting))\n"
   ]
  },
  {
   "cell_type": "code",
   "execution_count": 56,
   "metadata": {},
   "outputs": [
    {
     "name": "stdout",
     "output_type": "stream",
     "text": [
      "Smallest log_loss: 0.09900 is model CatBoost\n",
      "Biggest Score (Accuracy): 0.96617 is model CatBoost\n"
     ]
    }
   ],
   "source": [
    "models = ['CatBoost', 'XGBoost', 'Gradient Boosting']\n",
    "\n",
    "# Log loss values for each model\n",
    "all_log_loss = [final_log_loss_catboost, final_log_loss_xgboost, final_log_loss_gradient_boosting]\n",
    "\n",
    "# Accuracy scores for each model\n",
    "all_scores = [\n",
    "    final_catboost.score(X_val, y_val),\n",
    "    final_xgboost.score(X_val, y_val),\n",
    "    final_gradient_boosting.score(X_val, y_val)\n",
    "]\n",
    "\n",
    "# Find the smallest log loss (lower is better) and the biggest accuracy score (higher is better)\n",
    "smallest_log_loss = min(all_log_loss)\n",
    "biggest_score = max(all_scores)\n",
    "\n",
    "# Find the index of the smallest log loss and the biggest score\n",
    "smallest_log_loss_index = all_log_loss.index(smallest_log_loss)\n",
    "biggest_score_index = all_scores.index(biggest_score)\n",
    "\n",
    "# Print the model names with the smallest log loss and the biggest accuracy score\n",
    "print(\"Smallest log_loss: {:.5f} is model {}\".format(smallest_log_loss, models[smallest_log_loss_index]))\n",
    "print(\"Biggest Score (Accuracy): {:.5f} is model {}\".format(biggest_score, models[biggest_score_index]))\n"
   ]
  },
  {
   "cell_type": "code",
   "execution_count": 57,
   "metadata": {},
   "outputs": [],
   "source": [
    "from sklearn.model_selection import cross_val_score\n",
    "from sklearn.model_selection import cross_validate\n",
    "from sklearn.model_selection import KFold\n"
   ]
  },
  {
   "cell_type": "markdown",
   "metadata": {},
   "source": [
    "## Do Cross-Validation"
   ]
  },
  {
   "cell_type": "code",
   "execution_count": 58,
   "metadata": {},
   "outputs": [
    {
     "name": "stdout",
     "output_type": "stream",
     "text": [
      "Cross-Validation Results:\n",
      "CatBoost: Average log_loss = 0.49407\n",
      "XGBoost: Average log_loss = 0.51192\n",
      "Gradient Boosting: Average log_loss = 0.49576\n",
      "\n",
      "Smallest log_loss: 0.49407 is model CatBoost\n",
      "Biggest Score: 0.98872 is model CatBoost\n"
     ]
    }
   ],
   "source": [
    "# Define models for cross-validation (use actual models, not log loss values)\n",
    "models = {\n",
    "    'CatBoost': final_catboost,\n",
    "    'XGBoost': final_xgboost,\n",
    "    'Gradient Boosting': final_gradient_boosting\n",
    "}\n",
    "\n",
    "# Initialize dictionaries to store results\n",
    "cv_scores = {}\n",
    "log_loss_values = {}\n",
    "\n",
    "# Perform manual cross-validation for each model\n",
    "kf = KFold(n_splits=5, shuffle=True, random_state=42)\n",
    "\n",
    "for model_name, model in models.items():\n",
    "    fold_log_losses = []\n",
    "    \n",
    "    # Loop through each fold\n",
    "    for train_index, val_index in kf.split(X_val):\n",
    "        # Use .iloc[] to select rows based on indices for X and standard indexing for y\n",
    "        X_train, X_val_fold = X_val.iloc[train_index], X_val.iloc[val_index]\n",
    "        y_train, y_val_fold = y_val[train_index], y_val[val_index]  # Use array indexing here\n",
    "        \n",
    "        # Fit the model\n",
    "        model.fit(X_train, y_train)\n",
    "        \n",
    "        # Predict probabilities (needed for log loss)\n",
    "        y_val_pred_proba = model.predict_proba(X_val_fold)\n",
    "        \n",
    "        # Calculate log loss for this fold\n",
    "        # Get all possible class labels (union of train and validation labels)\n",
    "        all_classes = np.unique(np.concatenate((y_train, y_val_fold)))\n",
    "        # Calculate log loss for this fold\n",
    "        fold_log_loss = log_loss(y_val_fold, y_val_pred_proba, labels=all_classes)\n",
    "        #fold_log_loss = log_loss(y_val_fold, y_val_pred_proba)\n",
    "        fold_log_losses.append(fold_log_loss)\n",
    "    \n",
    "    # Average log loss across all folds\n",
    "    cv_scores[model_name] = np.mean(fold_log_losses)\n",
    "    log_loss_values[model_name] = fold_log_losses\n",
    "\n",
    "# Find the model with smallest log_loss (lower is better)\n",
    "smallest_log_loss_model = min(cv_scores, key=cv_scores.get)\n",
    "\n",
    "# For model with the biggest score, use the `score()` method on actual models\n",
    "biggest_score_model = max(models, key=lambda model_name: models[model_name].score(X_val, y_val))\n",
    "\n",
    "# Print the results\n",
    "print(\"Cross-Validation Results:\")\n",
    "for model_name, avg_log_loss in cv_scores.items():\n",
    "    print(f\"{model_name}: Average log_loss = {avg_log_loss:.5f}\")\n",
    "\n",
    "print(\"\\nSmallest log_loss: {:.5f} is model {}\".format(cv_scores[smallest_log_loss_model], smallest_log_loss_model))\n",
    "print(\"Biggest Score: {:.5f} is model {}\".format(models[biggest_score_model].score(X_val, y_val), biggest_score_model))\n"
   ]
  },
  {
   "cell_type": "markdown",
   "metadata": {},
   "source": [
    "### CatBoost Classifier is the best model for this data"
   ]
  },
  {
   "cell_type": "markdown",
   "metadata": {},
   "source": [
    "## Save the Model"
   ]
  },
  {
   "cell_type": "code",
   "execution_count": 61,
   "metadata": {
    "id": "KPGmtHfXwfqf"
   },
   "outputs": [],
   "source": [
    "import cloudpickle\n",
    "\n",
    "with open('obesity-levels-model_catboost.bin', 'wb') as f_out:\n",
    "    cloudpickle.dump((pipe, le, final_catboost), f_out)"
   ]
  },
  {
   "cell_type": "code",
   "execution_count": null,
   "metadata": {},
   "outputs": [],
   "source": []
  }
 ],
 "metadata": {
  "colab": {
   "authorship_tag": "ABX9TyNigPNtvlOqUAlXXoShMJWA",
   "provenance": []
  },
  "kernelspec": {
   "display_name": "Python 3 (ipykernel)",
   "language": "python",
   "name": "python3"
  },
  "language_info": {
   "codemirror_mode": {
    "name": "ipython",
    "version": 3
   },
   "file_extension": ".py",
   "mimetype": "text/x-python",
   "name": "python",
   "nbconvert_exporter": "python",
   "pygments_lexer": "ipython3",
   "version": "3.12.1"
  }
 },
 "nbformat": 4,
 "nbformat_minor": 4
}
