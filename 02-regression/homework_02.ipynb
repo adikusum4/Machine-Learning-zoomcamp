{
 "cells": [
  {
   "cell_type": "code",
   "execution_count": 1,
   "id": "16689379-5e5c-4500-9803-931e24cc4b1c",
   "metadata": {},
   "outputs": [],
   "source": [
    "import pandas as pd\n",
    "import numpy as np\n",
    "import requests\n",
    "import os"
   ]
  },
  {
   "cell_type": "code",
   "execution_count": 24,
   "id": "95708428-af83-4170-ac82-a9cc34d6880b",
   "metadata": {},
   "outputs": [],
   "source": [
    "import matplotlib.pyplot as plt\n",
    "import seaborn as sns"
   ]
  },
  {
   "cell_type": "code",
   "execution_count": 25,
   "id": "5b2948a1-22d1-4264-9876-13c071a21d67",
   "metadata": {},
   "outputs": [],
   "source": [
    "from sklearn.linear_model import Ridge\n",
    "from sklearn.linear_model import LinearRegression\n",
    "from sklearn.metrics import mean_squared_error, root_mean_squared_error\n",
    "from sklearn.model_selection import train_test_split"
   ]
  },
  {
   "cell_type": "code",
   "execution_count": 2,
   "id": "d5da424a-e52a-49d5-b3cd-50812199a3b6",
   "metadata": {},
   "outputs": [],
   "source": [
    "# Define the URL of the CSV file\n",
    "url = \"https://raw.githubusercontent.com/alexeygrigorev/datasets/master/laptops.csv\""
   ]
  },
  {
   "cell_type": "code",
   "execution_count": 3,
   "id": "78fe0362-b191-42bd-88f8-b61657e5d14e",
   "metadata": {},
   "outputs": [
    {
     "name": "stdout",
     "output_type": "stream",
     "text": [
      "laptops.csv already exists. Download canceled.\n"
     ]
    }
   ],
   "source": [
    "# Check if the file already exists\n",
    "if os.path.exists(\"laptops.csv\"):\n",
    "  print(\"laptops.csv already exists. Download canceled.\")\n",
    "else:\n",
    "  # Download the file using requests (more secure and integrated)  \n",
    "  response = requests.get(url)\n",
    "\n",
    "  # Check for successful download\n",
    "  if response.status_code == 200:\n",
    "    # Write the data to a local CSV file\n",
    "    with open(\"laptops.csv\", \"wb\") as f:\n",
    "      f.write(response.content)\n",
    "    print(\"laptops.csv downloaded successfully!\")\n",
    "  else:\n",
    "    print(f\"Error downloading file: {response.status_code}\")"
   ]
  },
  {
   "cell_type": "code",
   "execution_count": 4,
   "id": "54fe94c4-a6eb-40a3-87be-8f964ea1d55d",
   "metadata": {},
   "outputs": [],
   "source": [
    "df = pd.read_csv('laptops.csv')"
   ]
  },
  {
   "cell_type": "code",
   "execution_count": 5,
   "id": "e740a1cf-64e1-4b6d-a1fc-9d8fb7de08e1",
   "metadata": {},
   "outputs": [
    {
     "data": {
      "text/plain": [
       "Index(['Laptop', 'Status', 'Brand', 'Model', 'CPU', 'RAM', 'Storage',\n",
       "       'Storage type', 'GPU', 'Screen', 'Touch', 'Final Price'],\n",
       "      dtype='object')"
      ]
     },
     "execution_count": 5,
     "metadata": {},
     "output_type": "execute_result"
    }
   ],
   "source": [
    "df.columns"
   ]
  },
  {
   "cell_type": "code",
   "execution_count": 6,
   "id": "d497b8ee-c50f-4dc6-adf4-9ad26c7d8ada",
   "metadata": {},
   "outputs": [],
   "source": [
    "df.columns = df.columns.str.lower().str.replace(' ', '_')"
   ]
  },
  {
   "cell_type": "code",
   "execution_count": 7,
   "id": "c956ec51-cb1e-4d79-8e74-5da9cc772c9c",
   "metadata": {},
   "outputs": [
    {
     "data": {
      "text/plain": [
       "Index(['laptop', 'status', 'brand', 'model', 'cpu', 'ram', 'storage',\n",
       "       'storage_type', 'gpu', 'screen', 'touch', 'final_price'],\n",
       "      dtype='object')"
      ]
     },
     "execution_count": 7,
     "metadata": {},
     "output_type": "execute_result"
    }
   ],
   "source": [
    "df.columns"
   ]
  },
  {
   "cell_type": "code",
   "execution_count": 8,
   "id": "fcea9c83-5d2f-4cbb-9755-60a24bd5a36d",
   "metadata": {},
   "outputs": [],
   "source": [
    "# Use only the specified columns\n",
    "df = df[['ram', 'storage', 'screen', 'final_price']]"
   ]
  },
  {
   "cell_type": "markdown",
   "id": "c4b386c9-b870-4216-ae7a-eae275ecdae2",
   "metadata": {},
   "source": [
    "# EDA"
   ]
  },
  {
   "cell_type": "code",
   "execution_count": 9,
   "id": "5b932741-1dcb-4d13-b7bd-6e36bfd9f452",
   "metadata": {
    "scrolled": true
   },
   "outputs": [
    {
     "data": {
      "image/png": "[encoded data removed]",
      "text/plain": [
       "<Figure size 500x300 with 1 Axes>"
      ]
     },
     "metadata": {},
     "output_type": "display_data"
    },
    {
     "name": "stdout",
     "output_type": "stream",
     "text": [
      "Skewness: 1.6495877663192549\n"
     ]
    }
   ],
   "source": [
    "# Create a histogram\n",
    "plt.figure(figsize=(5, 3))\n",
    "sns.histplot(df['final_price'], bins=50)\n",
    "plt.title('Distribution of Final Price')\n",
    "plt.xlabel('Final Price')\n",
    "plt.ylabel('Count')\n",
    "plt.show()\n",
    "\n",
    "# Calculate skewness\n",
    "skewness = df['final_price'].skew()\n",
    "print(f'Skewness: {skewness}')"
   ]
  },
  {
   "cell_type": "code",
   "execution_count": null,
   "id": "0413a6bf-633d-4a6d-ab65-94cdaa49774e",
   "metadata": {},
   "outputs": [],
   "source": []
  },
  {
   "cell_type": "markdown",
   "id": "fa3c5648-2efb-4815-98a9-19e883a935a5",
   "metadata": {},
   "source": [
    "The provided histogram shows the distribution of the `final_price` variable. As you can see, the distribution has a clear **long tail** extending to the right. This indicates that there are a few very high-priced laptops (the tail), while most laptops are priced within a certain range (the main body of the distribution).\n",
    "\n",
    "The skewness value of 1.6496 further confirms this observation. A positive skewness indicates a long tail to the right, which is consistent with the histogram.\n",
    "\n",
    "This long-tailed distribution might suggest that there are some premium or luxury laptops that are significantly more expensive than the majority of laptops in the dataset.\n"
   ]
  },
  {
   "cell_type": "code",
   "execution_count": 27,
   "id": "5439c2b3-163e-4bd0-9d63-50ddfde87f0b",
   "metadata": {},
   "outputs": [],
   "source": [
    "df['final_price_log'] = np.log1p(df['final_price'])  # log(1 + x) to handle 0 values"
   ]
  },
  {
   "cell_type": "code",
   "execution_count": 28,
   "id": "34cf65fb-baa3-468d-975c-87c09ec7375d",
   "metadata": {},
   "outputs": [
    {
     "name": "stdout",
     "output_type": "stream",
     "text": [
      "Skewness after log transformation: 0.11418208788673762\n"
     ]
    }
   ],
   "source": [
    "skewness_log = df['final_price_log'].skew()\n",
    "print(f'Skewness after log transformation: {skewness_log}')"
   ]
  },
  {
   "cell_type": "code",
   "execution_count": 29,
   "id": "7e2ac4cb-6d6f-4e51-b803-afb1690e0de6",
   "metadata": {},
   "outputs": [
    {
     "data": {
      "image/png": "[encoded data removed]",
      "text/plain": [
       "<Figure size 1000x500 with 2 Axes>"
      ]
     },
     "metadata": {},
     "output_type": "display_data"
    }
   ],
   "source": [
    "# Before log transformation\n",
    "plt.figure(figsize=(10,5))\n",
    "plt.subplot(1, 2, 1)\n",
    "sns.histplot(df['final_price'], kde=True)\n",
    "plt.title('Before Log Transformation')\n",
    "\n",
    "# After log transformation\n",
    "plt.subplot(1, 2, 2)\n",
    "sns.histplot(df['final_price_log'], kde=True)\n",
    "plt.title('After Log Transformation')\n",
    "\n",
    "plt.show()\n"
   ]
  },
  {
   "cell_type": "markdown",
   "id": "c865db0f-06ec-4ddf-88b0-9bf784bd3f12",
   "metadata": {},
   "source": [
    "#Q1 There's one column with missing values. What is it?"
   ]
  },
  {
   "cell_type": "code",
   "execution_count": 10,
   "id": "be4faf5d-9fb2-45d1-95ac-b67bc645dce6",
   "metadata": {},
   "outputs": [
    {
     "data": {
      "text/plain": [
       "ram            0\n",
       "storage        0\n",
       "screen         4\n",
       "final_price    0\n",
       "dtype: int64"
      ]
     },
     "execution_count": 10,
     "metadata": {},
     "output_type": "execute_result"
    }
   ],
   "source": [
    "df.isnull().sum()"
   ]
  },
  {
   "cell_type": "code",
   "execution_count": 11,
   "id": "25f97cb3-4680-403e-a7c4-49ed16462152",
   "metadata": {},
   "outputs": [
    {
     "name": "stdout",
     "output_type": "stream",
     "text": [
      "Columns with missing values are: ['screen']\n"
     ]
    }
   ],
   "source": [
    "# Count the number of empty values in each column\n",
    "missing_values = df.isnull().sum()\n",
    "\n",
    "# Display columns with more than 0\n",
    "columns_with_missing_values = missing_values[missing_values > 0]\n",
    "\n",
    "# Print the results with a better format\n",
    "print(f\"Columns with missing values are: {columns_with_missing_values.index.tolist()}\")"
   ]
  },
  {
   "cell_type": "markdown",
   "id": "3f5aad18-b2c7-40be-9026-5c8140c4ec84",
   "metadata": {},
   "source": [
    "#Q2 What's the median (50% percentile) for variable 'ram'?"
   ]
  },
  {
   "cell_type": "code",
   "execution_count": 12,
   "id": "38d54f2e-c518-4797-97e0-190f2e078d3c",
   "metadata": {},
   "outputs": [
    {
     "data": {
      "text/html": [
       "<div>\n",
       "<style scoped>\n",
       "    .dataframe tbody tr th:only-of-type {\n",
       "        vertical-align: middle;\n",
       "    }\n",
       "\n",
       "    .dataframe tbody tr th {\n",
       "        vertical-align: top;\n",
       "    }\n",
       "\n",
       "    .dataframe thead th {\n",
       "        text-align: right;\n",
       "    }\n",
       "</style>\n",
       "<table border=\"1\" class=\"dataframe\">\n",
       "  <thead>\n",
       "    <tr style=\"text-align: right;\">\n",
       "      <th></th>\n",
       "      <th>ram</th>\n",
       "      <th>storage</th>\n",
       "      <th>screen</th>\n",
       "      <th>final_price</th>\n",
       "    </tr>\n",
       "  </thead>\n",
       "  <tbody>\n",
       "    <tr>\n",
       "      <th>count</th>\n",
       "      <td>2160.000000</td>\n",
       "      <td>2160.000000</td>\n",
       "      <td>2156.000000</td>\n",
       "      <td>2160.000000</td>\n",
       "    </tr>\n",
       "    <tr>\n",
       "      <th>mean</th>\n",
       "      <td>15.413889</td>\n",
       "      <td>596.294444</td>\n",
       "      <td>15.168112</td>\n",
       "      <td>1312.638509</td>\n",
       "    </tr>\n",
       "    <tr>\n",
       "      <th>std</th>\n",
       "      <td>9.867815</td>\n",
       "      <td>361.220506</td>\n",
       "      <td>1.203329</td>\n",
       "      <td>911.475417</td>\n",
       "    </tr>\n",
       "    <tr>\n",
       "      <th>min</th>\n",
       "      <td>4.000000</td>\n",
       "      <td>0.000000</td>\n",
       "      <td>10.100000</td>\n",
       "      <td>201.050000</td>\n",
       "    </tr>\n",
       "    <tr>\n",
       "      <th>25%</th>\n",
       "      <td>8.000000</td>\n",
       "      <td>256.000000</td>\n",
       "      <td>14.000000</td>\n",
       "      <td>661.082500</td>\n",
       "    </tr>\n",
       "    <tr>\n",
       "      <th>50%</th>\n",
       "      <td>16.000000</td>\n",
       "      <td>512.000000</td>\n",
       "      <td>15.600000</td>\n",
       "      <td>1031.945000</td>\n",
       "    </tr>\n",
       "    <tr>\n",
       "      <th>75%</th>\n",
       "      <td>16.000000</td>\n",
       "      <td>1000.000000</td>\n",
       "      <td>15.600000</td>\n",
       "      <td>1708.970000</td>\n",
       "    </tr>\n",
       "    <tr>\n",
       "      <th>max</th>\n",
       "      <td>128.000000</td>\n",
       "      <td>4000.000000</td>\n",
       "      <td>18.000000</td>\n",
       "      <td>7150.470000</td>\n",
       "    </tr>\n",
       "  </tbody>\n",
       "</table>\n",
       "</div>"
      ],
      "text/plain": [
       "               ram      storage       screen  final_price\n",
       "count  2160.000000  2160.000000  2156.000000  2160.000000\n",
       "mean     15.413889   596.294444    15.168112  1312.638509\n",
       "std       9.867815   361.220506     1.203329   911.475417\n",
       "min       4.000000     0.000000    10.100000   201.050000\n",
       "25%       8.000000   256.000000    14.000000   661.082500\n",
       "50%      16.000000   512.000000    15.600000  1031.945000\n",
       "75%      16.000000  1000.000000    15.600000  1708.970000\n",
       "max     128.000000  4000.000000    18.000000  7150.470000"
      ]
     },
     "execution_count": 12,
     "metadata": {},
     "output_type": "execute_result"
    }
   ],
   "source": [
    "df.describe()"
   ]
  },
  {
   "cell_type": "code",
   "execution_count": 13,
   "id": "21dc193d-ca7c-4ca9-abfb-d625c089dc63",
   "metadata": {},
   "outputs": [
    {
     "name": "stdout",
     "output_type": "stream",
     "text": [
      "The median (50% percentile) for variable 'ram' is 16.0\n"
     ]
    }
   ],
   "source": [
    "print(f\"The median (50% percentile) for variable 'ram' is {df['ram'].median()}\")"
   ]
  },
  {
   "cell_type": "markdown",
   "id": "fbcd979a-dfa6-4f14-9743-ad544198a7c3",
   "metadata": {},
   "source": [
    "#Prepare and split the dataset"
   ]
  },
  {
   "cell_type": "code",
   "execution_count": 14,
   "id": "64ab458b-bcd5-40f8-bd5e-8a3f38ea6f1f",
   "metadata": {},
   "outputs": [
    {
     "data": {
      "text/plain": [
       "(2160, 4)"
      ]
     },
     "execution_count": 14,
     "metadata": {},
     "output_type": "execute_result"
    }
   ],
   "source": [
    "df.shape"
   ]
  },
  {
   "cell_type": "code",
   "execution_count": 16,
   "id": "fae799a1-43d6-456c-9438-9df1d69302ec",
   "metadata": {
    "scrolled": true
   },
   "outputs": [
    {
     "name": "stdout",
     "output_type": "stream",
     "text": [
      "Train dataset shape: (1296, 4)\n",
      "Validation dataset shape: (432, 4)\n",
      "Test dataset shape: (432, 4)\n"
     ]
    }
   ],
   "source": [
    "# Shuffle the dataset with seed 42 for reproducibility\n",
    "df_shuffled = df.sample(frac=1, random_state=42)\n",
    "\n",
    "# Split the dataset into train, validation, and test sets with proportions 60%, 20%, 20%\n",
    "train_df, val_test_df = train_test_split(df_shuffled, test_size=0.4, random_state=42)\n",
    "val_df, test_df = train_test_split(val_test_df, test_size=0.5, random_state=42)\n",
    "\n",
    "# Print the shapes of each dataset for verification\n",
    "print(\"Train dataset shape:\", train_df.shape)\n",
    "print(\"Validation dataset shape:\", val_df.shape)\n",
    "print(\"Test dataset shape:\", test_df.shape)"
   ]
  },
  {
   "cell_type": "code",
   "execution_count": 32,
   "id": "422f8724-6985-49e4-a245-82cc31cdbb4f",
   "metadata": {
    "scrolled": true
   },
   "outputs": [
    {
     "name": "stdout",
     "output_type": "stream",
     "text": [
      "Train dataset shape: (1296, 5)\n",
      "Validation dataset shape: (432, 5)\n",
      "Test dataset shape: (432, 5)\n"
     ]
    }
   ],
   "source": [
    "# Shuffle the dataset with seed 42 for reproducibility\n",
    "df_shuffled = df.sample(frac=1, random_state=42)\n",
    "\n",
    "# Split the dataset into train, validation, and test sets with proportions 60%, 20%, 20%\n",
    "train_df, val_test_df = train_test_split(df_shuffled, test_size=0.4)\n",
    "val_df, test_df = train_test_split(val_test_df, test_size=0.5)\n",
    "\n",
    "# Print the shapes of each dataset for verification\n",
    "print(\"Train dataset shape:\", train_df.shape)\n",
    "print(\"Validation dataset shape:\", val_df.shape)\n",
    "print(\"Test dataset shape:\", test_df.shape)"
   ]
  },
  {
   "cell_type": "markdown",
   "id": "da369af8-0145-40d1-a56f-2c9fba5ed587",
   "metadata": {},
   "source": [
    "#Q3"
   ]
  },
  {
   "cell_type": "code",
   "execution_count": 20,
   "id": "5dbb2fc5-5a8c-419c-b2ef-e7bdeb7cd404",
   "metadata": {
    "scrolled": true
   },
   "outputs": [
    {
     "name": "stdout",
     "output_type": "stream",
     "text": [
      "RMSE with 0: 541.52\n",
      "RMSE with mean: 541.75\n"
     ]
    }
   ],
   "source": [
    "# Option 1: Fill missing values with 0\n",
    "train_df_0 = train_df.fillna(0)\n",
    "val_df_0 = val_df.fillna(0)\n",
    "\n",
    "# Train linear regression model without regularization\n",
    "model_0 = LinearRegression()\n",
    "model_0.fit(train_df_0[['ram', 'storage', 'screen']], train_df_0['final_price'])\n",
    "\n",
    "# Make predictions on validation set\n",
    "y_pred_0 = model_0.predict(val_df_0[['ram', 'storage', 'screen']])\n",
    "\n",
    "# Calculate RMSE\n",
    "#rmse_0 = mean_squared_error(val_df_0['final_price'], y_pred_0, squared=False)\n",
    "rmse_0 = root_mean_squared_error(val_df_0['final_price'], y_pred_0)\n",
    "\n",
    "# Option 2: Fill missing values with mean\n",
    "mean_ram = train_df['ram'].mean()\n",
    "mean_storage = train_df['storage'].mean()\n",
    "mean_screen = train_df['screen'].mean()\n",
    "\n",
    "train_df_mean = train_df.fillna({'ram': mean_ram, 'storage': mean_storage, 'screen': mean_screen})\n",
    "val_df_mean = val_df.fillna({'ram': mean_ram, 'storage': mean_storage, 'screen': mean_screen})\n",
    "\n",
    "# Train linear regression model without regularization\n",
    "model_mean = LinearRegression()\n",
    "model_mean.fit(train_df_mean[['ram', 'storage', 'screen']], train_df_mean['final_price'])\n",
    "\n",
    "# Make predictions on validation set\n",
    "y_pred_mean = model_mean.predict(val_df_mean[['ram', 'storage', 'screen']])\n",
    "\n",
    "# Calculate RMSE\n",
    "#rmse_mean = mean_squared_error(val_df_mean['final_price'], y_pred_mean, squared=False)\n",
    "rmse_mean = root_mean_squared_error(val_df_mean['final_price'], y_pred_mean)\n",
    "\n",
    "# Compare RMSE\n",
    "print(\"RMSE with 0:\", round(rmse_0, 2))\n",
    "print(\"RMSE with mean:\", round(rmse_mean, 2))"
   ]
  },
  {
   "cell_type": "code",
   "execution_count": 33,
   "id": "bf4bff3e-e5c8-4f1e-bd80-000ced07ec91",
   "metadata": {
    "jupyter": {
     "source_hidden": true
    },
    "scrolled": true
   },
   "outputs": [
    {
     "name": "stdout",
     "output_type": "stream",
     "text": [
      "RMSE with 0: 0.45\n",
      "RMSE with mean: 0.46\n"
     ]
    }
   ],
   "source": [
    "# Option 1: Fill missing values with 0\n",
    "train_df_0 = train_df.fillna(0)\n",
    "val_df_0 = val_df.fillna(0)\n",
    "\n",
    "# Train linear regression model without regularization\n",
    "model_0 = LinearRegression()\n",
    "model_0.fit(train_df_0[['ram', 'storage', 'screen']], train_df_0['final_price_log'])\n",
    "\n",
    "# Make predictions on validation set\n",
    "y_pred_0 = model_0.predict(val_df_0[['ram', 'storage', 'screen']])\n",
    "\n",
    "# Calculate RMSE\n",
    "#rmse_0 = mean_squared_error(val_df_0['final_price'], y_pred_0, squared=False)\n",
    "rmse_0 = root_mean_squared_error(val_df_0['final_price_log'], y_pred_0)\n",
    "\n",
    "# Option 2: Fill missing values with mean\n",
    "mean_ram = train_df['ram'].mean()\n",
    "mean_storage = train_df['storage'].mean()\n",
    "mean_screen = train_df['screen'].mean()\n",
    "\n",
    "train_df_mean = train_df.fillna({'ram': mean_ram, 'storage': mean_storage, 'screen': mean_screen})\n",
    "val_df_mean = val_df.fillna({'ram': mean_ram, 'storage': mean_storage, 'screen': mean_screen})\n",
    "\n",
    "# Train linear regression model without regularization\n",
    "model_mean = LinearRegression()\n",
    "model_mean.fit(train_df_mean[['ram', 'storage', 'screen']], train_df_mean['final_price_log'])\n",
    "\n",
    "# Make predictions on validation set\n",
    "y_pred_mean = model_mean.predict(val_df_mean[['ram', 'storage', 'screen']])\n",
    "\n",
    "# Calculate RMSE\n",
    "#rmse_mean = mean_squared_error(val_df_mean['final_price'], y_pred_mean, squared=False)\n",
    "rmse_mean = root_mean_squared_error(val_df_mean['final_price_log'], y_pred_mean)\n",
    "\n",
    "# Compare RMSE\n",
    "print(\"RMSE with 0:\", round(rmse_0, 2))\n",
    "print(\"RMSE with mean:\", round(rmse_mean, 2))"
   ]
  },
  {
   "cell_type": "code",
   "execution_count": 21,
   "id": "e0dd9d3e-6bf8-48a0-a811-1cdcca203053",
   "metadata": {},
   "outputs": [
    {
     "name": "stdout",
     "output_type": "stream",
     "text": [
      "Missing values filled with 0 because it has a smaller RMSE of 541.52.\n"
     ]
    }
   ],
   "source": [
    "if round(rmse_0, 2) < round(rmse_mean, 2):\n",
    "    print(f\"Missing values filled with 0 because it has a smaller RMSE of {round(rmse_0, 2)}.\")\n",
    "else:\n",
    "    print(f\"Missing values filled with the mean because it has a smaller RMSE of {round(rmse_mean, 2)}.\")"
   ]
  },
  {
   "cell_type": "markdown",
   "id": "8098e42f-a300-40aa-ad08-6b68256df9db",
   "metadata": {},
   "source": [
    "#Q4"
   ]
  },
  {
   "cell_type": "code",
   "execution_count": 21,
   "id": "732f7127-8ced-455b-af4c-f3c2dae40d7e",
   "metadata": {},
   "outputs": [
    {
     "name": "stdout",
     "output_type": "stream",
     "text": [
      "0\n",
      "675.0844456600814\n",
      "0.01\n",
      "675.0844370775981\n",
      "0.1\n",
      "675.0843598414332\n",
      "1\n",
      "675.0835880917201\n",
      "5\n",
      "675.0801715097375\n",
      "10\n",
      "675.0759313846438\n",
      "100\n",
      "675.005062673404\n",
      "\n",
      "\n",
      "Best regularization parameter (r): 100\n",
      "Best RMSE: 675.01\n"
     ]
    }
   ],
   "source": [
    "# Fill missing values with 0\n",
    "train_df = train_df.fillna(0)\n",
    "val_df = val_df.fillna(0)\n",
    "\n",
    "# Define the list of regularization parameters (r) to try\n",
    "r_values = [0, 0.01, 0.1, 1, 5, 10, 100]\n",
    "\n",
    "# Train and evaluate models for each r value\n",
    "best_r = None\n",
    "best_rmse = float('inf')\n",
    "for r in r_values:\n",
    "    print(r)\n",
    "    model = Ridge(alpha=r)  # Use Ridge regression for regularization\n",
    "    model.fit(train_df[['ram', 'storage', 'screen']], train_df['final_price'])\n",
    "    y_pred = model.predict(val_df[['ram', 'storage', 'screen']])\n",
    "    #rmse = mean_squared_error(val_df['final_price'], y_pred, squared=False)\n",
    "    rmse = root_mean_squared_error(val_df['final_price'], y_pred)\n",
    "    print(rmse)\n",
    "\n",
    "    # Update best r and RMSE if current RMSE is better\n",
    "    if rmse < best_rmse:\n",
    "        best_r = r\n",
    "        best_rmse = rmse\n",
    "\n",
    "# Print the best r and its corresponding RMSE\n",
    "print('\\n')\n",
    "print(f\"Best regularization parameter (r): {best_r}\")\n",
    "print(f\"Best RMSE: {round(best_rmse, 2)}\")"
   ]
  },
  {
   "cell_type": "code",
   "execution_count": 34,
   "id": "92748231-c757-4419-b0e8-af44d1e2eee6",
   "metadata": {},
   "outputs": [
    {
     "name": "stdout",
     "output_type": "stream",
     "text": [
      "0\n",
      "1648.0041146308497\n",
      "0.01\n",
      "1648.0041146368824\n",
      "0.1\n",
      "1648.0041146911765\n",
      "1\n",
      "1648.0041152342405\n",
      "5\n",
      "1648.0041176505529\n",
      "10\n",
      "1648.004120677098\n",
      "100\n",
      "1648.0041762679214\n",
      "\n",
      "\n",
      "Best regularization parameter (r): 0\n",
      "Best RMSE: 1648.0\n"
     ]
    }
   ],
   "source": [
    "# Fill missing values with 0\n",
    "train_df = train_df.fillna(0)\n",
    "val_df = val_df.fillna(0)\n",
    "\n",
    "# Define the list of regularization parameters (r) to try\n",
    "r_values = [0, 0.01, 0.1, 1, 5, 10, 100]\n",
    "\n",
    "# Train and evaluate models for each r value\n",
    "best_r = None\n",
    "best_rmse = float('inf')\n",
    "for r in r_values:\n",
    "    print(r)\n",
    "    model = Ridge(alpha=r)  # Use Ridge regression for regularization\n",
    "    model.fit(train_df[['ram', 'storage', 'screen']], train_df['final_price_log'])\n",
    "    y_pred = model.predict(val_df[['ram', 'storage', 'screen']])\n",
    "    #rmse = mean_squared_error(val_df['final_price'], y_pred, squared=False)\n",
    "    rmse = root_mean_squared_error(val_df['final_price'], y_pred)\n",
    "    print(rmse)\n",
    "\n",
    "    # Update best r and RMSE if current RMSE is better\n",
    "    if rmse < best_rmse:\n",
    "        best_r = r\n",
    "        best_rmse = rmse\n",
    "\n",
    "# Print the best r and its corresponding RMSE\n",
    "print('\\n')\n",
    "print(f\"Best regularization parameter (r): {best_r}\")\n",
    "print(f\"Best RMSE: {round(best_rmse, 2)}\")"
   ]
  },
  {
   "cell_type": "code",
   "execution_count": 22,
   "id": "df27546a-a038-4427-a997-85eb2ca2e075",
   "metadata": {},
   "outputs": [
    {
     "name": "stdout",
     "output_type": "stream",
     "text": [
      "Best regularization parameter (r) is 100 with smallest RMSE of 675.01\n"
     ]
    }
   ],
   "source": [
    "print(f\"Best regularization parameter (r) is {best_r} with smallest RMSE of {round(best_rmse, 2)}\")"
   ]
  },
  {
   "cell_type": "markdown",
   "id": "1ff04e95-890b-45a3-b93d-45f43c6d947b",
   "metadata": {},
   "source": [
    "#Q5"
   ]
  },
  {
   "cell_type": "code",
   "execution_count": 27,
   "id": "670b4bf1-4615-4aa1-bf77-4bf92e736adf",
   "metadata": {
    "scrolled": true
   },
   "outputs": [
    {
     "name": "stdout",
     "output_type": "stream",
     "text": [
      "Using seed: 0\n",
      "581.0036869562839\n",
      "Using seed: 1\n",
      "596.5264327572179\n",
      "Using seed: 2\n",
      "601.9445076765085\n",
      "Using seed: 3\n",
      "557.9124881388403\n",
      "Using seed: 4\n",
      "597.6306396107956\n",
      "Using seed: 5\n",
      "576.0830300586197\n",
      "Using seed: 6\n",
      "599.3168026551787\n",
      "Using seed: 7\n",
      "627.6996851174064\n",
      "Using seed: 8\n",
      "597.8145384090972\n",
      "Using seed: 9\n",
      "612.8631912877655\n",
      "\n",
      "\n",
      "Standard deviation of RMSE scores: 18.443\n"
     ]
    }
   ],
   "source": [
    "# Define the list of seed values to try\n",
    "seed_values = [0, 1, 2, 3, 4, 5, 6, 7, 8, 9]\n",
    "\n",
    "# Store RMSE scores for each seed\n",
    "rmse_scores = []\n",
    "\n",
    "# Iterate over each seed value\n",
    "for seed in seed_values:\n",
    "    print(f\"Using seed: {seed}\")  # Print the current seed\n",
    "    \n",
    "    # Split the dataset with the current seed\n",
    "    #df_shuffled = df.sample(frac=1, random_state=seed)\n",
    "    #train_df, val_df = train_test_split(df_shuffled, test_size=0.4, random_state=seed)\n",
    "    #train_df, val_df = train_test_split(df_shuffled, test_size=0.4)\n",
    "    train_df, val_df = train_test_split(df, test_size=0.4, random_state=seed)\n",
    "    \n",
    "    # Fill missing values with 0\n",
    "    train_df = train_df.fillna(0)\n",
    "    val_df = val_df.fillna(0)\n",
    "\n",
    "    # Train linear regression model without regularization\n",
    "    model = LinearRegression()\n",
    "    model.fit(train_df[['ram', 'storage', 'screen']], train_df['final_price'])\n",
    "    \n",
    "    # Make predictions on validation set\n",
    "    y_pred = model.predict(val_df[['ram', 'storage', 'screen']])\n",
    "    \n",
    "    # Calculate RMSE\n",
    "    rmse = root_mean_squared_error(val_df['final_price'], y_pred)\n",
    "    print(rmse)\n",
    "\n",
    "    # Append RMSE to the list\n",
    "    rmse_scores.append(rmse)\n",
    "\n",
    "# Calculate standard deviation of RMSE scores\n",
    "std = np.std(rmse_scores)\n",
    "\n",
    "# Print the standard deviation\n",
    "print('\\n')\n",
    "print(f\"Standard deviation of RMSE scores: {round(std, 3)}\")"
   ]
  },
  {
   "cell_type": "code",
   "execution_count": 27,
   "id": "2f42a963-ca4f-4d31-bf51-41d1bcdd729b",
   "metadata": {
    "scrolled": true
   },
   "outputs": [
    {
     "name": "stdout",
     "output_type": "stream",
     "text": [
      "Using seed: 0\n",
      "581.0036869562839\n",
      "Using seed: 1\n",
      "596.5264327572179\n",
      "Using seed: 2\n",
      "601.9445076765085\n",
      "Using seed: 3\n",
      "557.9124881388403\n",
      "Using seed: 4\n",
      "597.6306396107956\n",
      "Using seed: 5\n",
      "576.0830300586197\n",
      "Using seed: 6\n",
      "599.3168026551787\n",
      "Using seed: 7\n",
      "627.6996851174064\n",
      "Using seed: 8\n",
      "597.8145384090972\n",
      "Using seed: 9\n",
      "612.8631912877655\n",
      "\n",
      "\n",
      "Standard deviation of RMSE scores: 18.443\n"
     ]
    }
   ],
   "source": [
    "# Define the list of seed values to try\n",
    "seed_values = [0, 1, 2, 3, 4, 5, 6, 7, 8, 9]\n",
    "\n",
    "# Store RMSE scores for each seed\n",
    "rmse_scores = []\n",
    "\n",
    "# Iterate over each seed value\n",
    "for seed in seed_values:\n",
    "    print(f\"Using seed: {seed}\")  # Print the current seed\n",
    "    \n",
    "    # Split the dataset with the current seed\n",
    "    train_df, val_test_df = train_test_split(df, test_size=0.4, random_state=seed)\n",
    "    val_df, test_df = train_test_split(val_test_df, test_size=0.5, random_state=seed)\n",
    "    \n",
    "    # Fill missing values with 0\n",
    "    train_df = train_df.fillna(0)\n",
    "    val_df = val_df.fillna(0)\n",
    "\n",
    "    # Train linear regression model without regularization\n",
    "    model = LinearRegression()\n",
    "    model.fit(train_df[['ram', 'storage', 'screen']], train_df['final_price'])\n",
    "    \n",
    "    # Make predictions on validation set\n",
    "    y_pred = model.predict(val_df[['ram', 'storage', 'screen']])\n",
    "    \n",
    "    # Calculate RMSE\n",
    "    rmse = root_mean_squared_error(val_df['final_price'], y_pred)\n",
    "    print(rmse)\n",
    "\n",
    "    # Append RMSE to the list\n",
    "    rmse_scores.append(rmse)\n",
    "\n",
    "# Calculate standard deviation of RMSE scores\n",
    "std = np.std(rmse_scores)\n",
    "\n",
    "# Print the standard deviation\n",
    "print('\\n')\n",
    "print(f\"Standard deviation of RMSE scores: {round(std, 3)}\")"
   ]
  },
  {
   "cell_type": "code",
   "execution_count": 32,
   "id": "7b5dcf8f-8791-4cab-aa38-17df39339f93",
   "metadata": {},
   "outputs": [
    {
     "name": "stdout",
     "output_type": "stream",
     "text": [
      "Using seed: 0\n",
      "Validation RMSE: 594.9686798321068\n",
      "Using seed: 1\n",
      "Validation RMSE: 566.0379922963677\n",
      "Using seed: 2\n",
      "Validation RMSE: 634.2058256834987\n",
      "Using seed: 3\n",
      "Validation RMSE: 571.3955969105706\n",
      "Using seed: 4\n",
      "Validation RMSE: 618.2281658884198\n",
      "Using seed: 5\n",
      "Validation RMSE: 534.8495771754366\n",
      "Using seed: 6\n",
      "Validation RMSE: 604.4943997112463\n",
      "Using seed: 7\n",
      "Validation RMSE: 666.1363056498914\n",
      "Using seed: 8\n",
      "Validation RMSE: 586.2399089252502\n",
      "Using seed: 9\n",
      "Validation RMSE: 622.5141205609006\n",
      "\n",
      "\n",
      "Standard deviation of Validation RMSE scores: 35.825\n"
     ]
    }
   ],
   "source": [
    "# Define the list of seed values to try\n",
    "seed_values = [0, 1, 2, 3, 4, 5, 6, 7, 8, 9]\n",
    "\n",
    "# Store RMSE scores for validation and test sets\n",
    "val_rmse_scores = []\n",
    "#test_rmse_scores = []\n",
    "\n",
    "# Iterate over each seed value\n",
    "for seed in seed_values:\n",
    "    print(f\"Using seed: {seed}\")  # Print the current seed\n",
    "    \n",
    "    # Shuffle the dataset using the current seed\n",
    "    #df_shuffled = df.sample(frac=1, random_state=seed)\n",
    "    \n",
    "    # Split the shuffled dataset with the current seed\n",
    "    #train_df, val_test_df = train_test_split(df_shuffled, test_size=0.4, random_state=seed)\n",
    "    train_df, val_test_df = train_test_split(df, test_size=0.4, random_state=seed)\n",
    "    val_df, test_df = train_test_split(val_test_df, test_size=0.5, random_state=seed)\n",
    "    \n",
    "    # Fill missing values with 0\n",
    "    train_df = train_df.fillna(0)\n",
    "    val_df = val_df.fillna(0)\n",
    "    #test_df = test_df.fillna(0)\n",
    "\n",
    "    # Train linear regression model without regularization\n",
    "    model = LinearRegression()\n",
    "    model.fit(train_df[['ram', 'storage', 'screen']], train_df['final_price'])\n",
    "    \n",
    "    # Make predictions on validation set\n",
    "    y_val_pred = model.predict(val_df[['ram', 'storage', 'screen']])\n",
    "    \n",
    "    # Calculate RMSE for validation set\n",
    "    val_rmse = root_mean_squared_error(val_df['final_price'], y_val_pred)\n",
    "    print(f\"Validation RMSE: {val_rmse}\")\n",
    "\n",
    "    # Append validation RMSE to the list\n",
    "    val_rmse_scores.append(val_rmse)\n",
    "    \n",
    "    # Make predictions on test set\n",
    "    #y_test_pred = model.predict(test_df[['ram', 'storage', 'screen']])\n",
    "    \n",
    "    # Calculate RMSE for test set\n",
    "    #test_rmse = root_mean_squared_error(test_df['final_price'], y_test_pred)\n",
    "    #print(f\"Test RMSE: {test_rmse}\")\n",
    "    \n",
    "    # Append test RMSE to the list\n",
    "    #test_rmse_scores.append(test_rmse)\n",
    "\n",
    "# Calculate standard deviation of validation and test RMSE scores\n",
    "val_std = np.std(val_rmse_scores)\n",
    "#test_std = np.std(test_rmse_scores)\n",
    "\n",
    "# Print the standard deviation\n",
    "print('\\n')\n",
    "print(f\"Standard deviation of Validation RMSE scores: {round(val_std, 3)}\")\n",
    "#print(f\"Standard deviation of Test RMSE scores: {round(test_std, 3)}\")\n"
   ]
  },
  {
   "cell_type": "code",
   "execution_count": 32,
   "id": "ddcc5521-910b-4f70-ae1b-230754955bf8",
   "metadata": {},
   "outputs": [
    {
     "name": "stdout",
     "output_type": "stream",
     "text": [
      "Using seed: 0\n",
      "Validation RMSE: 594.9686798321068\n",
      "Using seed: 1\n",
      "Validation RMSE: 566.0379922963677\n",
      "Using seed: 2\n",
      "Validation RMSE: 634.2058256834987\n",
      "Using seed: 3\n",
      "Validation RMSE: 571.3955969105706\n",
      "Using seed: 4\n",
      "Validation RMSE: 618.2281658884198\n",
      "Using seed: 5\n",
      "Validation RMSE: 534.8495771754366\n",
      "Using seed: 6\n",
      "Validation RMSE: 604.4943997112463\n",
      "Using seed: 7\n",
      "Validation RMSE: 666.1363056498914\n",
      "Using seed: 8\n",
      "Validation RMSE: 586.2399089252502\n",
      "Using seed: 9\n",
      "Validation RMSE: 622.5141205609006\n",
      "\n",
      "\n",
      "Standard deviation of Validation RMSE scores: 35.825\n"
     ]
    }
   ],
   "source": [
    "# Define the list of seed values to try\n",
    "seed_values = [0, 1, 2, 3, 4, 5, 6, 7, 8, 9]\n",
    "\n",
    "# Store RMSE scores for validation and test sets\n",
    "val_rmse_scores = []\n",
    "\n",
    "# Iterate over each seed value\n",
    "for seed in seed_values:\n",
    "    print(f\"Using seed: {seed}\")  # Print the current seed\n",
    "    \n",
    "    # Shuffle the dataset using the current seed\n",
    "    #df_shuffled = df.sample(frac=1, random_state=seed)\n",
    "    \n",
    "    # Split the shuffled dataset with the current seed\n",
    "    #train_df, val_test_df = train_test_split(df_shuffled, test_size=0.4, random_state=seed)\n",
    "    train_df, val_test_df = train_test_split(df, test_size=0.4, random_state=seed)\n",
    "    val_df, test_df = train_test_split(val_test_df, test_size=0.5, random_state=seed)\n",
    "    \n",
    "    # Fill missing values with 0\n",
    "    train_df = train_df.fillna(0)\n",
    "    val_df = val_df.fillna(0)\n",
    "    \n",
    "    # Train linear regression model without regularization\n",
    "    model = LinearRegression()\n",
    "    model.fit(train_df[['ram', 'storage', 'screen']], train_df['final_price'])\n",
    "    \n",
    "    # Make predictions on validation set\n",
    "    y_val_pred = model.predict(val_df[['ram', 'storage', 'screen']])\n",
    "    \n",
    "    # Calculate RMSE for validation set\n",
    "    val_rmse = root_mean_squared_error(val_df['final_price'], y_val_pred)\n",
    "    print(f\"Validation RMSE: {val_rmse}\")\n",
    "\n",
    "    # Append validation RMSE to the list\n",
    "    val_rmse_scores.append(val_rmse)\n",
    "\n",
    "# Calculate standard deviation of validation RMSE scores\n",
    "val_std = np.std(val_rmse_scores)\n",
    "\n",
    "# Print the standard deviation\n",
    "print('\\n')\n",
    "print(f\"Standard deviation of Validation RMSE scores: {round(val_std, 3)}\")"
   ]
  },
  {
   "cell_type": "code",
   "execution_count": 37,
   "id": "3973f18f-d2c6-44ed-a7a2-a3349d2599d4",
   "metadata": {},
   "outputs": [
    {
     "name": "stdout",
     "output_type": "stream",
     "text": [
      "Running experiment with shuffling\n",
      "Using seed: 0\n",
      "Validation RMSE: 614.8454332579494\n",
      "Using seed: 1\n",
      "Validation RMSE: 618.6095758134323\n",
      "Using seed: 2\n",
      "Validation RMSE: 597.3567548889578\n",
      "Using seed: 3\n",
      "Validation RMSE: 627.3039515368521\n",
      "Using seed: 4\n",
      "Validation RMSE: 575.7847095764524\n",
      "Using seed: 5\n",
      "Validation RMSE: 558.3407402558893\n",
      "Using seed: 6\n",
      "Validation RMSE: 595.6817784944298\n",
      "Using seed: 7\n",
      "Validation RMSE: 562.8379817455949\n",
      "Using seed: 8\n",
      "Validation RMSE: 575.4870096345064\n",
      "Using seed: 9\n",
      "Validation RMSE: 564.5370166730075\n",
      "\n",
      "Running experiment without shuffling\n",
      "Using seed: 0\n",
      "Validation RMSE: 594.9686798321068\n",
      "Using seed: 1\n",
      "Validation RMSE: 566.0379922963677\n",
      "Using seed: 2\n",
      "Validation RMSE: 634.2058256834987\n",
      "Using seed: 3\n",
      "Validation RMSE: 571.3955969105706\n",
      "Using seed: 4\n",
      "Validation RMSE: 618.2281658884198\n",
      "Using seed: 5\n",
      "Validation RMSE: 534.8495771754366\n",
      "Using seed: 6\n",
      "Validation RMSE: 604.4943997112463\n",
      "Using seed: 7\n",
      "Validation RMSE: 666.1363056498914\n",
      "Using seed: 8\n",
      "Validation RMSE: 586.2399089252502\n",
      "Using seed: 9\n",
      "Validation RMSE: 622.5141205609006\n",
      "\n",
      "\n",
      "Standard deviation of Validation RMSE scores (with shuffle): 23.888\n",
      "Standard deviation of Validation RMSE scores (no shuffle): 35.825\n"
     ]
    }
   ],
   "source": [
    "# Define the list of seed values to try\n",
    "seed_values = [0, 1, 2, 3, 4, 5, 6, 7, 8, 9]\n",
    "\n",
    "# Store RMSE scores for validation sets (with and without shuffling)\n",
    "val_rmse_scores_with_shuffle = []\n",
    "val_rmse_scores_no_shuffle = []\n",
    "\n",
    "# ---- Experiment 1: With shuffling ----\n",
    "#print(\"Running experiment with shuffling\\n\")\n",
    "print(\"Running experiment with shuffling\")\n",
    "for seed in seed_values:\n",
    "    print(f\"Using seed: {seed}\")  # Print the current seed\n",
    "    \n",
    "    # Shuffle the dataset using the current seed\n",
    "    df_shuffled = df.sample(frac=1, random_state=seed)\n",
    "    \n",
    "    # Split the shuffled dataset with the current seed\n",
    "    train_df, val_test_df = train_test_split(df_shuffled, test_size=0.4, random_state=seed)\n",
    "    val_df, test_df = train_test_split(val_test_df, test_size=0.5, random_state=seed)\n",
    "    \n",
    "    # Fill missing values with 0\n",
    "    train_df = train_df.fillna(0)\n",
    "    val_df = val_df.fillna(0)\n",
    "    \n",
    "    # Train linear regression model without regularization\n",
    "    model = LinearRegression()\n",
    "    model.fit(train_df[['ram', 'storage', 'screen']], train_df['final_price'])\n",
    "    \n",
    "    # Make predictions on validation set\n",
    "    y_val_pred = model.predict(val_df[['ram', 'storage', 'screen']])\n",
    "    \n",
    "    # Calculate RMSE for validation set\n",
    "    val_rmse = root_mean_squared_error(val_df['final_price'], y_val_pred)\n",
    "    print(f\"Validation RMSE: {val_rmse}\")\n",
    "\n",
    "    # Append validation RMSE to the list\n",
    "    val_rmse_scores_with_shuffle.append(val_rmse)\n",
    "\n",
    "# Calculate standard deviation of validation RMSE scores (with shuffle)\n",
    "val_std_with_shuffle = np.std(val_rmse_scores_with_shuffle)\n",
    "\n",
    "# ---- Experiment 2: Without shuffling ----\n",
    "#print(\"\\nRunning experiment without shuffling\\n\")\n",
    "print(\"\\nRunning experiment without shuffling\")\n",
    "for seed in seed_values:\n",
    "    print(f\"Using seed: {seed}\")  # Print the current seed\n",
    "    \n",
    "    # Split the dataset without shuffling, using the current seed\n",
    "    train_df, val_test_df = train_test_split(df, test_size=0.4, random_state=seed)\n",
    "    val_df, test_df = train_test_split(val_test_df, test_size=0.5, random_state=seed)\n",
    "    \n",
    "    # Fill missing values with 0\n",
    "    train_df = train_df.fillna(0)\n",
    "    val_df = val_df.fillna(0)\n",
    "    \n",
    "    # Train linear regression model without regularization\n",
    "    model = LinearRegression()\n",
    "    model.fit(train_df[['ram', 'storage', 'screen']], train_df['final_price'])\n",
    "    \n",
    "    # Make predictions on validation set\n",
    "    y_val_pred = model.predict(val_df[['ram', 'storage', 'screen']])\n",
    "    \n",
    "    # Calculate RMSE for validation set\n",
    "    val_rmse = root_mean_squared_error(val_df['final_price'], y_val_pred)\n",
    "    print(f\"Validation RMSE: {val_rmse}\")\n",
    "\n",
    "    # Append validation RMSE to the list\n",
    "    val_rmse_scores_no_shuffle.append(val_rmse)\n",
    "\n",
    "# Calculate standard deviation of validation RMSE scores (no shuffle)\n",
    "val_std_no_shuffle = np.std(val_rmse_scores_no_shuffle)\n",
    "\n",
    "# ---- Print results ----\n",
    "print('\\n')\n",
    "print(f\"Standard deviation of Validation RMSE scores (with shuffle): {round(val_std_with_shuffle, 3)}\")\n",
    "print(f\"Standard deviation of Validation RMSE scores (no shuffle): {round(val_std_no_shuffle, 3)}\")\n"
   ]
  },
  {
   "cell_type": "code",
   "execution_count": 42,
   "id": "986fb630-dca6-4890-860a-b8c9e1a71a41",
   "metadata": {
    "scrolled": true
   },
   "outputs": [
    {
     "name": "stdout",
     "output_type": "stream",
     "text": [
      "Running experiment with shuffling\n",
      "Using seed: 0\n",
      "Validation RMSE: 548.089571620917\n",
      "Using seed: 1\n",
      "Validation RMSE: 606.1570535150005\n",
      "Using seed: 2\n",
      "Validation RMSE: 619.4808289625992\n",
      "Using seed: 3\n",
      "Validation RMSE: 610.424947742588\n",
      "Using seed: 4\n",
      "Validation RMSE: 558.8129025860976\n",
      "Using seed: 5\n",
      "Validation RMSE: 577.1641253342567\n",
      "Using seed: 6\n",
      "Validation RMSE: 546.5019479931227\n",
      "Using seed: 7\n",
      "Validation RMSE: 595.298048486263\n",
      "Using seed: 8\n",
      "Validation RMSE: 579.7440179192881\n",
      "Using seed: 9\n",
      "Validation RMSE: 625.7697908166798\n",
      "\n",
      "Running experiment without shuffling\n",
      "Using seed: 0\n",
      "Validation RMSE: 587.1871064849196\n",
      "Using seed: 1\n",
      "Validation RMSE: 568.0262540449646\n",
      "Using seed: 2\n",
      "Validation RMSE: 543.560229272665\n",
      "Using seed: 3\n",
      "Validation RMSE: 608.5109907007951\n",
      "Using seed: 4\n",
      "Validation RMSE: 627.8301731640372\n",
      "Using seed: 5\n",
      "Validation RMSE: 639.4630952663233\n",
      "Using seed: 6\n",
      "Validation RMSE: 611.698705806228\n",
      "Using seed: 7\n",
      "Validation RMSE: 616.8156636998475\n",
      "Using seed: 8\n",
      "Validation RMSE: 585.430933395559\n",
      "Using seed: 9\n",
      "Validation RMSE: 616.3315046163829\n",
      "\n",
      "\n",
      "Standard deviation of Validation RMSE scores (with shuffle): 27.641\n",
      "Standard deviation of Validation RMSE scores (no shuffle): 27.699\n"
     ]
    }
   ],
   "source": [
    "# Define the list of seed values to try\n",
    "seed_values = [0, 1, 2, 3, 4, 5, 6, 7, 8, 9]\n",
    "\n",
    "# Store RMSE scores for validation sets (with and without shuffling)\n",
    "val_rmse_scores_with_shuffle = []\n",
    "val_rmse_scores_no_shuffle = []\n",
    "\n",
    "# ---- Experiment 1: With shuffling ----\n",
    "#print(\"Running experiment with shuffling\\n\")\n",
    "print(\"Running experiment with shuffling\")\n",
    "for seed in seed_values:\n",
    "    print(f\"Using seed: {seed}\")  # Print the current seed\n",
    "    \n",
    "    # Shuffle the dataset using the current seed\n",
    "    df_shuffled = df.sample(frac=1, random_state=seed)\n",
    "    \n",
    "    # Split the shuffled dataset with the current seed\n",
    "    #train_df, val_test_df = train_test_split(df_shuffled, test_size=0.4, random_state=seed)\n",
    "    train_df, val_test_df = train_test_split(df_shuffled, test_size=0.4)\n",
    "    #val_df, test_df = train_test_split(val_test_df, test_size=0.5, random_state=seed)\n",
    "    val_df, test_df = train_test_split(val_test_df, test_size=0.5)\n",
    "    \n",
    "    # Fill missing values with 0\n",
    "    train_df = train_df.fillna(0)\n",
    "    val_df = val_df.fillna(0)\n",
    "    \n",
    "    # Train linear regression model without regularization\n",
    "    model = LinearRegression()\n",
    "    model.fit(train_df[['ram', 'storage', 'screen']], train_df['final_price'])\n",
    "    \n",
    "    # Make predictions on validation set\n",
    "    y_val_pred = model.predict(val_df[['ram', 'storage', 'screen']])\n",
    "    \n",
    "    # Calculate RMSE for validation set\n",
    "    val_rmse = root_mean_squared_error(val_df['final_price'], y_val_pred)\n",
    "    print(f\"Validation RMSE: {val_rmse}\")\n",
    "\n",
    "    # Append validation RMSE to the list\n",
    "    val_rmse_scores_with_shuffle.append(val_rmse)\n",
    "\n",
    "# Calculate standard deviation of validation RMSE scores (with shuffle)\n",
    "val_std_with_shuffle = np.std(val_rmse_scores_with_shuffle)\n",
    "\n",
    "# ---- Experiment 2: Without shuffling ----\n",
    "#print(\"\\nRunning experiment without shuffling\\n\")\n",
    "print(\"\\nRunning experiment without shuffling\")\n",
    "for seed in seed_values:\n",
    "    print(f\"Using seed: {seed}\")  # Print the current seed\n",
    "    \n",
    "    # Split the dataset without shuffling, using the current seed\n",
    "    #train_df, val_test_df = train_test_split(df, test_size=0.4, random_state=seed)\n",
    "    train_df, val_test_df = train_test_split(df, test_size=0.4)\n",
    "    #val_df, test_df = train_test_split(val_test_df, test_size=0.5, random_state=seed)\n",
    "    val_df, test_df = train_test_split(val_test_df, test_size=0.5)\n",
    "    \n",
    "    # Fill missing values with 0\n",
    "    train_df = train_df.fillna(0)\n",
    "    val_df = val_df.fillna(0)\n",
    "    \n",
    "    # Train linear regression model without regularization\n",
    "    model = LinearRegression()\n",
    "    model.fit(train_df[['ram', 'storage', 'screen']], train_df['final_price'])\n",
    "    \n",
    "    # Make predictions on validation set\n",
    "    y_val_pred = model.predict(val_df[['ram', 'storage', 'screen']])\n",
    "    \n",
    "    # Calculate RMSE for validation set\n",
    "    val_rmse = root_mean_squared_error(val_df['final_price'], y_val_pred)\n",
    "    print(f\"Validation RMSE: {val_rmse}\")\n",
    "\n",
    "    # Append validation RMSE to the list\n",
    "    val_rmse_scores_no_shuffle.append(val_rmse)\n",
    "\n",
    "# Calculate standard deviation of validation RMSE scores (no shuffle)\n",
    "val_std_no_shuffle = np.std(val_rmse_scores_no_shuffle)\n",
    "\n",
    "# ---- Print results ----\n",
    "print('\\n')\n",
    "print(f\"Standard deviation of Validation RMSE scores (with shuffle): {round(val_std_with_shuffle, 3)}\")\n",
    "print(f\"Standard deviation of Validation RMSE scores (no shuffle): {round(val_std_no_shuffle, 3)}\")\n"
   ]
  },
  {
   "cell_type": "code",
   "execution_count": 43,
   "id": "5ac32f08-407b-4401-b9b8-50346bc39a09",
   "metadata": {
    "scrolled": true
   },
   "outputs": [
    {
     "name": "stdout",
     "output_type": "stream",
     "text": [
      "Running experiment with shuffling\n",
      "Using seed: 0\n",
      "Validation RMSE: 584.8808797669498\n",
      "Using seed: 1\n",
      "Validation RMSE: 600.3226074925441\n",
      "Using seed: 2\n",
      "Validation RMSE: 608.7847805500769\n",
      "Using seed: 3\n",
      "Validation RMSE: 599.1373048767723\n",
      "Using seed: 4\n",
      "Validation RMSE: 617.4604539126445\n",
      "Using seed: 5\n",
      "Validation RMSE: 610.0024902458683\n",
      "Using seed: 6\n",
      "Validation RMSE: 552.4798554043808\n",
      "Using seed: 7\n",
      "Validation RMSE: 571.4890309355003\n",
      "Using seed: 8\n",
      "Validation RMSE: 572.3960198690523\n",
      "Using seed: 9\n",
      "Validation RMSE: 569.2009195152623\n",
      "\n",
      "Running experiment without shuffling\n",
      "Using seed: 0\n",
      "Validation RMSE: 582.6046758394106\n",
      "Using seed: 1\n",
      "Validation RMSE: 602.5212989636209\n",
      "Using seed: 2\n",
      "Validation RMSE: 534.5690195874191\n",
      "Using seed: 3\n",
      "Validation RMSE: 539.808663257735\n",
      "Using seed: 4\n",
      "Validation RMSE: 568.7891276310037\n",
      "Using seed: 5\n",
      "Validation RMSE: 559.5863736836318\n",
      "Using seed: 6\n",
      "Validation RMSE: 602.5692137321682\n",
      "Using seed: 7\n",
      "Validation RMSE: 607.3557336748851\n",
      "Using seed: 8\n",
      "Validation RMSE: 559.1288905689701\n",
      "Using seed: 9\n",
      "Validation RMSE: 623.48491577786\n",
      "\n",
      "\n",
      "Standard deviation of Validation RMSE scores (with shuffle): 20.487\n",
      "Standard deviation of Validation RMSE scores (no shuffle): 28.778\n"
     ]
    }
   ],
   "source": [
    "# Define the list of seed values to try\n",
    "seed_values = [0, 1, 2, 3, 4, 5, 6, 7, 8, 9]\n",
    "\n",
    "# Store RMSE scores for validation sets (with and without shuffling)\n",
    "val_rmse_scores_with_shuffle = []\n",
    "val_rmse_scores_no_shuffle = []\n",
    "\n",
    "# ---- Experiment 1: With shuffling ----\n",
    "#print(\"Running experiment with shuffling\\n\")\n",
    "print(\"Running experiment with shuffling\")\n",
    "for seed in seed_values:\n",
    "    print(f\"Using seed: {seed}\")  # Print the current seed\n",
    "    \n",
    "    # Shuffle the dataset using the current seed\n",
    "    df_shuffled = df.sample(frac=1, random_state=seed)\n",
    "    \n",
    "    # Split the shuffled dataset with the current seed\n",
    "    train_df, val_test_df = train_test_split(df_shuffled, test_size=0.4, random_state=seed)\n",
    "    #train_df, val_test_df = train_test_split(df_shuffled, test_size=0.4)\n",
    "    #val_df, test_df = train_test_split(val_test_df, test_size=0.5, random_state=seed)\n",
    "    val_df, test_df = train_test_split(val_test_df, test_size=0.5)\n",
    "    \n",
    "    # Fill missing values with 0\n",
    "    train_df = train_df.fillna(0)\n",
    "    val_df = val_df.fillna(0)\n",
    "    \n",
    "    # Train linear regression model without regularization\n",
    "    model = LinearRegression()\n",
    "    model.fit(train_df[['ram', 'storage', 'screen']], train_df['final_price'])\n",
    "    \n",
    "    # Make predictions on validation set\n",
    "    y_val_pred = model.predict(val_df[['ram', 'storage', 'screen']])\n",
    "    \n",
    "    # Calculate RMSE for validation set\n",
    "    val_rmse = root_mean_squared_error(val_df['final_price'], y_val_pred)\n",
    "    print(f\"Validation RMSE: {val_rmse}\")\n",
    "\n",
    "    # Append validation RMSE to the list\n",
    "    val_rmse_scores_with_shuffle.append(val_rmse)\n",
    "\n",
    "# Calculate standard deviation of validation RMSE scores (with shuffle)\n",
    "val_std_with_shuffle = np.std(val_rmse_scores_with_shuffle)\n",
    "\n",
    "# ---- Experiment 2: Without shuffling ----\n",
    "#print(\"\\nRunning experiment without shuffling\\n\")\n",
    "print(\"\\nRunning experiment without shuffling\")\n",
    "for seed in seed_values:\n",
    "    print(f\"Using seed: {seed}\")  # Print the current seed\n",
    "    \n",
    "    # Split the dataset without shuffling, using the current seed\n",
    "    train_df, val_test_df = train_test_split(df, test_size=0.4, random_state=seed)\n",
    "    #train_df, val_test_df = train_test_split(df, test_size=0.4)\n",
    "    #val_df, test_df = train_test_split(val_test_df, test_size=0.5, random_state=seed)\n",
    "    val_df, test_df = train_test_split(val_test_df, test_size=0.5)\n",
    "    \n",
    "    # Fill missing values with 0\n",
    "    train_df = train_df.fillna(0)\n",
    "    val_df = val_df.fillna(0)\n",
    "    \n",
    "    # Train linear regression model without regularization\n",
    "    model = LinearRegression()\n",
    "    model.fit(train_df[['ram', 'storage', 'screen']], train_df['final_price'])\n",
    "    \n",
    "    # Make predictions on validation set\n",
    "    y_val_pred = model.predict(val_df[['ram', 'storage', 'screen']])\n",
    "    \n",
    "    # Calculate RMSE for validation set\n",
    "    val_rmse = root_mean_squared_error(val_df['final_price'], y_val_pred)\n",
    "    print(f\"Validation RMSE: {val_rmse}\")\n",
    "\n",
    "    # Append validation RMSE to the list\n",
    "    val_rmse_scores_no_shuffle.append(val_rmse)\n",
    "\n",
    "# Calculate standard deviation of validation RMSE scores (no shuffle)\n",
    "val_std_no_shuffle = np.std(val_rmse_scores_no_shuffle)\n",
    "\n",
    "# ---- Print results ----\n",
    "print('\\n')\n",
    "print(f\"Standard deviation of Validation RMSE scores (with shuffle): {round(val_std_with_shuffle, 3)}\")\n",
    "print(f\"Standard deviation of Validation RMSE scores (no shuffle): {round(val_std_no_shuffle, 3)}\")\n"
   ]
  },
  {
   "cell_type": "code",
   "execution_count": 22,
   "id": "475c8f1b-fc60-4ec4-aeb2-3526b0bd899a",
   "metadata": {
    "scrolled": true
   },
   "outputs": [
    {
     "name": "stdout",
     "output_type": "stream",
     "text": [
      "Running experiment with shuffling\n",
      "Using seed: 0\n",
      "Validation RMSE: 560.0912457319675\n",
      "Using seed: 1\n",
      "Validation RMSE: 629.429088493284\n",
      "Using seed: 2\n",
      "Validation RMSE: 643.8726115503048\n",
      "Using seed: 3\n",
      "Validation RMSE: 555.1393381652089\n",
      "Using seed: 4\n",
      "Validation RMSE: 607.1374368749734\n",
      "Using seed: 5\n",
      "Validation RMSE: 605.6013111857058\n",
      "Using seed: 6\n",
      "Validation RMSE: 558.5535828906944\n",
      "Using seed: 7\n",
      "Validation RMSE: 612.6348693187219\n",
      "Using seed: 8\n",
      "Validation RMSE: 588.9676670348616\n",
      "Using seed: 9\n",
      "Validation RMSE: 615.6059811833753\n",
      "\n",
      "Running experiment without shuffling\n",
      "Using seed: 0\n",
      "Validation RMSE: 594.9686798321068\n",
      "Using seed: 1\n",
      "Validation RMSE: 566.0379922963677\n",
      "Using seed: 2\n",
      "Validation RMSE: 634.2058256834987\n",
      "Using seed: 3\n",
      "Validation RMSE: 571.3955969105706\n",
      "Using seed: 4\n",
      "Validation RMSE: 618.2281658884198\n",
      "Using seed: 5\n",
      "Validation RMSE: 534.8495771754366\n",
      "Using seed: 6\n",
      "Validation RMSE: 604.4943997112463\n",
      "Using seed: 7\n",
      "Validation RMSE: 666.1363056498914\n",
      "Using seed: 8\n",
      "Validation RMSE: 586.2399089252502\n",
      "Using seed: 9\n",
      "Validation RMSE: 622.5141205609006\n",
      "\n",
      "\n",
      "Standard deviation of Validation RMSE scores (with shuffle): 29.442\n",
      "Standard deviation of Validation RMSE scores (no shuffle): 35.825\n"
     ]
    }
   ],
   "source": [
    "# Define the list of seed values to try\n",
    "seed_values = [0, 1, 2, 3, 4, 5, 6, 7, 8, 9]\n",
    "\n",
    "# Store RMSE scores for validation sets (with and without shuffling)\n",
    "val_rmse_scores_with_shuffle = []\n",
    "val_rmse_scores_no_shuffle = []\n",
    "\n",
    "# ---- Experiment 1: With shuffling ----\n",
    "#print(\"Running experiment with shuffling\\n\")\n",
    "print(\"Running experiment with shuffling\")\n",
    "for seed in seed_values:\n",
    "    print(f\"Using seed: {seed}\")  # Print the current seed\n",
    "    \n",
    "    # Shuffle the dataset using the current seed\n",
    "    #df_shuffled = df.sample(frac=1, random_state=seed)\n",
    "    df_shuffled = df.sample(frac=1, random_state=42)\n",
    "    \n",
    "    # Split the shuffled dataset with the current seed\n",
    "    train_df, val_test_df = train_test_split(df_shuffled, test_size=0.4, random_state=seed)\n",
    "    #train_df, val_test_df = train_test_split(df_shuffled, test_size=0.4)\n",
    "    val_df, test_df = train_test_split(val_test_df, test_size=0.5, random_state=seed)\n",
    "    #val_df, test_df = train_test_split(val_test_df, test_size=0.5)\n",
    "    \n",
    "    # Fill missing values with 0\n",
    "    train_df = train_df.fillna(0)\n",
    "    val_df = val_df.fillna(0)\n",
    "    \n",
    "    # Train linear regression model without regularization\n",
    "    model = LinearRegression()\n",
    "    model.fit(train_df[['ram', 'storage', 'screen']], train_df['final_price'])\n",
    "    \n",
    "    # Make predictions on validation set\n",
    "    y_val_pred = model.predict(val_df[['ram', 'storage', 'screen']])\n",
    "    \n",
    "    # Calculate RMSE for validation set\n",
    "    val_rmse = root_mean_squared_error(val_df['final_price'], y_val_pred)\n",
    "    print(f\"Validation RMSE: {val_rmse}\")\n",
    "\n",
    "    # Append validation RMSE to the list\n",
    "    val_rmse_scores_with_shuffle.append(val_rmse)\n",
    "\n",
    "# Calculate standard deviation of validation RMSE scores (with shuffle)\n",
    "val_std_with_shuffle = np.std(val_rmse_scores_with_shuffle)\n",
    "\n",
    "# ---- Experiment 2: Without shuffling ----\n",
    "#print(\"\\nRunning experiment without shuffling\\n\")\n",
    "print(\"\\nRunning experiment without shuffling\")\n",
    "for seed in seed_values:\n",
    "    print(f\"Using seed: {seed}\")  # Print the current seed\n",
    "    \n",
    "    # Split the dataset without shuffling, using the current seed\n",
    "    train_df, val_test_df = train_test_split(df, test_size=0.4, random_state=seed)\n",
    "    #train_df, val_test_df = train_test_split(df, test_size=0.4)\n",
    "    val_df, test_df = train_test_split(val_test_df, test_size=0.5, random_state=seed)\n",
    "    #val_df, test_df = train_test_split(val_test_df, test_size=0.5)\n",
    "        \n",
    "    # Fill missing values with 0\n",
    "    train_df = train_df.fillna(0)\n",
    "    val_df = val_df.fillna(0)\n",
    "    \n",
    "    # Train linear regression model without regularization\n",
    "    model = LinearRegression()\n",
    "    model.fit(train_df[['ram', 'storage', 'screen']], train_df['final_price'])\n",
    "    \n",
    "    # Make predictions on validation set\n",
    "    y_val_pred = model.predict(val_df[['ram', 'storage', 'screen']])\n",
    "    \n",
    "    # Calculate RMSE for validation set\n",
    "    val_rmse = root_mean_squared_error(val_df['final_price'], y_val_pred)\n",
    "    print(f\"Validation RMSE: {val_rmse}\")\n",
    "\n",
    "    # Append validation RMSE to the list\n",
    "    val_rmse_scores_no_shuffle.append(val_rmse)\n",
    "\n",
    "# Calculate standard deviation of validation RMSE scores (no shuffle)\n",
    "val_std_no_shuffle = np.std(val_rmse_scores_no_shuffle)\n",
    "\n",
    "# ---- Print results ----\n",
    "print('\\n')\n",
    "print(f\"Standard deviation of Validation RMSE scores (with shuffle): {round(val_std_with_shuffle, 3)}\")\n",
    "print(f\"Standard deviation of Validation RMSE scores (no shuffle): {round(val_std_no_shuffle, 3)}\")\n"
   ]
  },
  {
   "cell_type": "markdown",
   "id": "b1cc5bfb-fd03-4293-88f8-38a0555ba77f",
   "metadata": {},
   "source": [
    "#Q6"
   ]
  },
  {
   "cell_type": "code",
   "execution_count": 41,
   "id": "3905f969-993d-4ffd-a1e0-1f9af4b43949",
   "metadata": {},
   "outputs": [
    {
     "name": "stdout",
     "output_type": "stream",
     "text": [
      "RMSE on the test dataset (with shuffle) seed=9: 575.95\n",
      "RMSE on the test dataset (without shuffle) seed=9: 535.08\n"
     ]
    }
   ],
   "source": [
    "# ---- Experiment 1: With shuffling ----\n",
    "#print(\"Running experiment with shuffling\\n\")\n",
    "\n",
    "# Shuffle the dataset using the current seed\n",
    "df_shuffled = df.sample(frac=1, random_state=9)\n",
    "\n",
    "# Split the shuffled dataset with seed 9\n",
    "train_val_df, test_df = train_test_split(df_shuffled, test_size=0.2, random_state=9)\n",
    "\n",
    "# Combine train and validation sets\n",
    "train_df = train_val_df.copy()\n",
    "\n",
    "# Fill missing values with 0\n",
    "train_df = train_df.fillna(0)\n",
    "test_df = test_df.fillna(0)\n",
    "\n",
    "# Train regularized linear regression model with alpha=0.001\n",
    "model = Ridge(alpha=0.001)\n",
    "model.fit(train_df[['ram', 'storage', 'screen']], train_df['final_price'])\n",
    "\n",
    "# Make predictions on the test set\n",
    "y_pred = model.predict(test_df[['ram', 'storage', 'screen']])\n",
    "\n",
    "# Calculate RMSE on the test set\n",
    "rmse_test_shuffle = root_mean_squared_error(test_df['final_price'], y_pred)\n",
    "\n",
    "print(\"RMSE on the test dataset (with shuffle) seed=9:\", round(rmse_test_shuffle, 2))\n",
    "\n",
    "\n",
    "# ---- Experiment 2: Without shuffling ----\n",
    "#print(\"\\nRunning experiment without shuffling\\n\")\n",
    "\n",
    "# Split the dataset without shuffling, using seed 9\n",
    "train_val_df, test_df = train_test_split(df, test_size=0.2, random_state=9)\n",
    "\n",
    "# Combine train and validation sets\n",
    "train_df = train_val_df.copy()\n",
    "\n",
    "# Fill missing values with 0\n",
    "train_df = train_df.fillna(0)\n",
    "test_df = test_df.fillna(0)\n",
    "\n",
    "# Train regularized linear regression model with alpha=0.001\n",
    "model = Ridge(alpha=0.001)\n",
    "model.fit(train_df[['ram', 'storage', 'screen']], train_df['final_price'])\n",
    "\n",
    "# Make predictions on the test set\n",
    "y_pred = model.predict(test_df[['ram', 'storage', 'screen']])\n",
    "\n",
    "# Calculate RMSE on the test set\n",
    "rmse_test_no_shuffle = root_mean_squared_error(test_df['final_price'], y_pred)\n",
    "\n",
    "print(\"RMSE on the test dataset (without shuffle) seed=9:\", round(rmse_test_no_shuffle, 2))\n"
   ]
  },
  {
   "cell_type": "code",
   "execution_count": 26,
   "id": "c00ce1b2-1b71-4005-8927-28f3cbd1b278",
   "metadata": {},
   "outputs": [
    {
     "name": "stdout",
     "output_type": "stream",
     "text": [
      "RMSE on the test dataset (with shuffle) seed=9: 549.95\n",
      "RMSE on the test dataset (without shuffle) seed=9: 535.08\n"
     ]
    }
   ],
   "source": [
    "# ---- Experiment 1: With shuffling ----\n",
    "#print(\"Running experiment with shuffling\\n\")\n",
    "\n",
    "# Shuffle the dataset using the current seed\n",
    "df_shuffled = df.sample(frac=1, random_state=42)\n",
    "\n",
    "# Split the shuffled dataset with seed 9\n",
    "train_val_df, test_df = train_test_split(df_shuffled, test_size=0.2, random_state=9)\n",
    "\n",
    "# Combine train and validation sets\n",
    "train_df = train_val_df.copy()\n",
    "\n",
    "# Fill missing values with 0\n",
    "train_df = train_df.fillna(0)\n",
    "test_df = test_df.fillna(0)\n",
    "\n",
    "# Train regularized linear regression model with alpha=0.001\n",
    "model = Ridge(alpha=0.001)\n",
    "model.fit(train_df[['ram', 'storage', 'screen']], train_df['final_price'])\n",
    "\n",
    "# Make predictions on the test set\n",
    "y_pred = model.predict(test_df[['ram', 'storage', 'screen']])\n",
    "\n",
    "# Calculate RMSE on the test set\n",
    "rmse_test_shuffle = root_mean_squared_error(test_df['final_price'], y_pred)\n",
    "\n",
    "print(\"RMSE on the test dataset (with shuffle) seed=9:\", round(rmse_test_shuffle, 2))\n",
    "\n",
    "\n",
    "# ---- Experiment 2: Without shuffling ----\n",
    "#print(\"\\nRunning experiment without shuffling\\n\")\n",
    "\n",
    "# Split the dataset without shuffling, using seed 9\n",
    "train_val_df, test_df = train_test_split(df, test_size=0.2, random_state=9)\n",
    "\n",
    "# Combine train and validation sets\n",
    "train_df = train_val_df.copy()\n",
    "\n",
    "# Fill missing values with 0\n",
    "train_df = train_df.fillna(0)\n",
    "test_df = test_df.fillna(0)\n",
    "\n",
    "# Train regularized linear regression model with alpha=0.001\n",
    "model = Ridge(alpha=0.001)\n",
    "model.fit(train_df[['ram', 'storage', 'screen']], train_df['final_price'])\n",
    "\n",
    "# Make predictions on the test set\n",
    "y_pred = model.predict(test_df[['ram', 'storage', 'screen']])\n",
    "\n",
    "# Calculate RMSE on the test set\n",
    "rmse_test_no_shuffle = root_mean_squared_error(test_df['final_price'], y_pred)\n",
    "\n",
    "print(\"RMSE on the test dataset (without shuffle) seed=9:\", round(rmse_test_no_shuffle, 2))\n"
   ]
  },
  {
   "cell_type": "code",
   "execution_count": null,
   "id": "9302adcf-cbf6-4308-b26c-f612fbed6bcb",
   "metadata": {},
   "outputs": [],
   "source": []
  }
 ],
 "metadata": {
  "kernelspec": {
   "display_name": "Python 3 (ipykernel)",
   "language": "python",
   "name": "python3"
  },
  "language_info": {
   "codemirror_mode": {
    "name": "ipython",
    "version": 3
   },
   "file_extension": ".py",
   "mimetype": "text/x-python",
   "name": "python",
   "nbconvert_exporter": "python",
   "pygments_lexer": "ipython3",
   "version": "3.12.1"
  }
 },
 "nbformat": 4,
 "nbformat_minor": 5
}
