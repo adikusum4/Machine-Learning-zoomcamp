{
 "cells": [
  {
   "cell_type": "code",
   "execution_count": 1,
   "id": "16689379-5e5c-4500-9803-931e24cc4b1c",
   "metadata": {},
   "outputs": [],
   "source": [
    "import pandas as pd\n",
    "import numpy as np\n",
    "import requests\n",
    "import os"
   ]
  },
  {
   "cell_type": "code",
   "execution_count": 2,
   "id": "95708428-af83-4170-ac82-a9cc34d6880b",
   "metadata": {},
   "outputs": [],
   "source": [
    "import matplotlib.pyplot as plt\n",
    "import seaborn as sns"
   ]
  },
  {
   "cell_type": "code",
   "execution_count": 3,
   "id": "cb311c2e-9682-45a0-aded-bb940f9918f4",
   "metadata": {},
   "outputs": [],
   "source": [
    "from scipy.stats import shapiro"
   ]
  },
  {
   "cell_type": "code",
   "execution_count": 4,
   "id": "d5da424a-e52a-49d5-b3cd-50812199a3b6",
   "metadata": {},
   "outputs": [],
   "source": [
    "# Define the URL of the CSV file\n",
    "url = \"https://raw.githubusercontent.com/alexeygrigorev/datasets/master/laptops.csv\""
   ]
  },
  {
   "cell_type": "code",
   "execution_count": 5,
   "id": "78fe0362-b191-42bd-88f8-b61657e5d14e",
   "metadata": {},
   "outputs": [
    {
     "name": "stdout",
     "output_type": "stream",
     "text": [
      "laptops.csv already exists. Download canceled.\n"
     ]
    }
   ],
   "source": [
    "# Check if the file already exists\n",
    "if os.path.exists(\"laptops.csv\"):\n",
    "  print(\"laptops.csv already exists. Download canceled.\")\n",
    "else:\n",
    "  # Download the file using requests (more secure and integrated)  \n",
    "  response = requests.get(url)\n",
    "\n",
    "  # Check for successful download\n",
    "  if response.status_code == 200:\n",
    "    # Write the data to a local CSV file\n",
    "    with open(\"laptops.csv\", \"wb\") as f:\n",
    "      f.write(response.content)\n",
    "    print(\"laptops.csv downloaded successfully!\")\n",
    "  else:\n",
    "    print(f\"Error downloading file: {response.status_code}\")"
   ]
  },
  {
   "cell_type": "code",
   "execution_count": 6,
   "id": "54fe94c4-a6eb-40a3-87be-8f964ea1d55d",
   "metadata": {},
   "outputs": [],
   "source": [
    "df = pd.read_csv('laptops.csv')"
   ]
  },
  {
   "cell_type": "code",
   "execution_count": 7,
   "id": "e740a1cf-64e1-4b6d-a1fc-9d8fb7de08e1",
   "metadata": {},
   "outputs": [
    {
     "data": {
      "text/plain": [
       "Index(['Laptop', 'Status', 'Brand', 'Model', 'CPU', 'RAM', 'Storage',\n",
       "       'Storage type', 'GPU', 'Screen', 'Touch', 'Final Price'],\n",
       "      dtype='object')"
      ]
     },
     "execution_count": 7,
     "metadata": {},
     "output_type": "execute_result"
    }
   ],
   "source": [
    "df.columns"
   ]
  },
  {
   "cell_type": "code",
   "execution_count": 8,
   "id": "d497b8ee-c50f-4dc6-adf4-9ad26c7d8ada",
   "metadata": {},
   "outputs": [],
   "source": [
    "df.columns = df.columns.str.lower().str.replace(' ', '_')"
   ]
  },
  {
   "cell_type": "code",
   "execution_count": 9,
   "id": "c956ec51-cb1e-4d79-8e74-5da9cc772c9c",
   "metadata": {},
   "outputs": [
    {
     "data": {
      "text/plain": [
       "Index(['laptop', 'status', 'brand', 'model', 'cpu', 'ram', 'storage',\n",
       "       'storage_type', 'gpu', 'screen', 'touch', 'final_price'],\n",
       "      dtype='object')"
      ]
     },
     "execution_count": 9,
     "metadata": {},
     "output_type": "execute_result"
    }
   ],
   "source": [
    "df.columns"
   ]
  },
  {
   "cell_type": "code",
   "execution_count": 10,
   "id": "fcea9c83-5d2f-4cbb-9755-60a24bd5a36d",
   "metadata": {},
   "outputs": [],
   "source": [
    "# Use only the specified columns\n",
    "df = df[['ram', 'storage', 'screen', 'final_price']]"
   ]
  },
  {
   "cell_type": "code",
   "execution_count": 11,
   "id": "26289ebb-26cb-4ba9-9e1e-2bf3533440e1",
   "metadata": {},
   "outputs": [
    {
     "name": "stdout",
     "output_type": "stream",
     "text": [
      "<class 'pandas.core.frame.DataFrame'>\n",
      "RangeIndex: 2160 entries, 0 to 2159\n",
      "Data columns (total 4 columns):\n",
      " #   Column       Non-Null Count  Dtype  \n",
      "---  ------       --------------  -----  \n",
      " 0   ram          2160 non-null   int64  \n",
      " 1   storage      2160 non-null   int64  \n",
      " 2   screen       2156 non-null   float64\n",
      " 3   final_price  2160 non-null   float64\n",
      "dtypes: float64(2), int64(2)\n",
      "memory usage: 67.6 KB\n"
     ]
    }
   ],
   "source": [
    "df.info()"
   ]
  },
  {
   "cell_type": "markdown",
   "id": "c4b386c9-b870-4216-ae7a-eae275ecdae2",
   "metadata": {},
   "source": [
    "# EDA"
   ]
  },
  {
   "cell_type": "code",
   "execution_count": 12,
   "id": "5b932741-1dcb-4d13-b7bd-6e36bfd9f452",
   "metadata": {
    "scrolled": true
   },
   "outputs": [
    {
     "data": {
      "image/png": "[encoded data removed]",
      "text/plain": [
       "<Figure size 500x300 with 1 Axes>"
      ]
     },
     "metadata": {},
     "output_type": "display_data"
    },
    {
     "name": "stdout",
     "output_type": "stream",
     "text": [
      "Skewness: 1.6495877663192549\n"
     ]
    }
   ],
   "source": [
    "# Create a histogram\n",
    "plt.figure(figsize=(5, 3))\n",
    "sns.histplot(df['final_price'], bins=50)\n",
    "plt.title('Distribution of Final Price')\n",
    "plt.xlabel('Final Price')\n",
    "plt.ylabel('Count')\n",
    "plt.show()\n",
    "\n",
    "# Calculate skewness\n",
    "skewness = df['final_price'].skew()\n",
    "print(f'Skewness: {skewness}')"
   ]
  },
  {
   "cell_type": "markdown",
   "id": "fa3c5648-2efb-4815-98a9-19e883a935a5",
   "metadata": {},
   "source": [
    "The provided histogram shows the distribution of the `final_price` variable. As you can see, the distribution has a clear **long tail** extending to the right. This indicates that there are a few very high-priced laptops (the tail), while most laptops are priced within a certain range (the main body of the distribution).\n",
    "\n",
    "The skewness value of 1.6496 further confirms this observation. A positive skewness indicates a long tail to the right, which is consistent with the histogram.\n",
    "\n",
    "This long-tailed distribution might suggest that there are some premium or luxury laptops that are significantly more expensive than the majority of laptops in the dataset.\n"
   ]
  },
  {
   "cell_type": "code",
   "execution_count": 13,
   "id": "bffe0168-15ce-4e47-bc0c-5a2b779648b0",
   "metadata": {},
   "outputs": [
    {
     "name": "stdout",
     "output_type": "stream",
     "text": [
      "Statistics=0.8532061559572949, p-value=6.76218720564138e-41\n",
      "Data does not follow normal distribution\n"
     ]
    }
   ],
   "source": [
    "stat, p = shapiro(df['final_price'])\n",
    "print(f'Statistics={stat}, p-value={p}')\n",
    "\n",
    "if p > 0.05:\n",
    "    print(\"Data follows normal distribution\")\n",
    "else:\n",
    "    print(\"Data does not follow normal distribution\")\n"
   ]
  },
  {
   "cell_type": "markdown",
   "id": "c865db0f-06ec-4ddf-88b0-9bf784bd3f12",
   "metadata": {},
   "source": [
    "**Question 1**: Feature with missing values"
   ]
  },
  {
   "cell_type": "code",
   "execution_count": 14,
   "id": "be4faf5d-9fb2-45d1-95ac-b67bc645dce6",
   "metadata": {},
   "outputs": [
    {
     "data": {
      "text/plain": [
       "ram            0\n",
       "storage        0\n",
       "screen         4\n",
       "final_price    0\n",
       "dtype: int64"
      ]
     },
     "execution_count": 14,
     "metadata": {},
     "output_type": "execute_result"
    }
   ],
   "source": [
    "df.isnull().sum()"
   ]
  },
  {
   "cell_type": "code",
   "execution_count": 15,
   "id": "25f97cb3-4680-403e-a7c4-49ed16462152",
   "metadata": {},
   "outputs": [
    {
     "name": "stdout",
     "output_type": "stream",
     "text": [
      "Columns with missing values are: ['screen']\n"
     ]
    }
   ],
   "source": [
    "# Count the number of empty values in each column\n",
    "missing_values = df.isnull().sum()\n",
    "\n",
    "# Display columns with more than 0\n",
    "columns_with_missing_values = missing_values[missing_values > 0]\n",
    "\n",
    "# Print the results with a better format\n",
    "print(f\"Columns with missing values are: {columns_with_missing_values.index.tolist()}\")"
   ]
  },
  {
   "cell_type": "markdown",
   "id": "3f5aad18-b2c7-40be-9026-5c8140c4ec84",
   "metadata": {},
   "source": [
    "**Question 2**: Median for `ram`"
   ]
  },
  {
   "cell_type": "code",
   "execution_count": 16,
   "id": "38d54f2e-c518-4797-97e0-190f2e078d3c",
   "metadata": {},
   "outputs": [
    {
     "data": {
      "text/html": [
       "<div>\n",
       "<style scoped>\n",
       "    .dataframe tbody tr th:only-of-type {\n",
       "        vertical-align: middle;\n",
       "    }\n",
       "\n",
       "    .dataframe tbody tr th {\n",
       "        vertical-align: top;\n",
       "    }\n",
       "\n",
       "    .dataframe thead th {\n",
       "        text-align: right;\n",
       "    }\n",
       "</style>\n",
       "<table border=\"1\" class=\"dataframe\">\n",
       "  <thead>\n",
       "    <tr style=\"text-align: right;\">\n",
       "      <th></th>\n",
       "      <th>ram</th>\n",
       "      <th>storage</th>\n",
       "      <th>screen</th>\n",
       "      <th>final_price</th>\n",
       "    </tr>\n",
       "  </thead>\n",
       "  <tbody>\n",
       "    <tr>\n",
       "      <th>count</th>\n",
       "      <td>2160.000000</td>\n",
       "      <td>2160.000000</td>\n",
       "      <td>2156.000000</td>\n",
       "      <td>2160.000000</td>\n",
       "    </tr>\n",
       "    <tr>\n",
       "      <th>mean</th>\n",
       "      <td>15.413889</td>\n",
       "      <td>596.294444</td>\n",
       "      <td>15.168112</td>\n",
       "      <td>1312.638509</td>\n",
       "    </tr>\n",
       "    <tr>\n",
       "      <th>std</th>\n",
       "      <td>9.867815</td>\n",
       "      <td>361.220506</td>\n",
       "      <td>1.203329</td>\n",
       "      <td>911.475417</td>\n",
       "    </tr>\n",
       "    <tr>\n",
       "      <th>min</th>\n",
       "      <td>4.000000</td>\n",
       "      <td>0.000000</td>\n",
       "      <td>10.100000</td>\n",
       "      <td>201.050000</td>\n",
       "    </tr>\n",
       "    <tr>\n",
       "      <th>25%</th>\n",
       "      <td>8.000000</td>\n",
       "      <td>256.000000</td>\n",
       "      <td>14.000000</td>\n",
       "      <td>661.082500</td>\n",
       "    </tr>\n",
       "    <tr>\n",
       "      <th>50%</th>\n",
       "      <td>16.000000</td>\n",
       "      <td>512.000000</td>\n",
       "      <td>15.600000</td>\n",
       "      <td>1031.945000</td>\n",
       "    </tr>\n",
       "    <tr>\n",
       "      <th>75%</th>\n",
       "      <td>16.000000</td>\n",
       "      <td>1000.000000</td>\n",
       "      <td>15.600000</td>\n",
       "      <td>1708.970000</td>\n",
       "    </tr>\n",
       "    <tr>\n",
       "      <th>max</th>\n",
       "      <td>128.000000</td>\n",
       "      <td>4000.000000</td>\n",
       "      <td>18.000000</td>\n",
       "      <td>7150.470000</td>\n",
       "    </tr>\n",
       "  </tbody>\n",
       "</table>\n",
       "</div>"
      ],
      "text/plain": [
       "               ram      storage       screen  final_price\n",
       "count  2160.000000  2160.000000  2156.000000  2160.000000\n",
       "mean     15.413889   596.294444    15.168112  1312.638509\n",
       "std       9.867815   361.220506     1.203329   911.475417\n",
       "min       4.000000     0.000000    10.100000   201.050000\n",
       "25%       8.000000   256.000000    14.000000   661.082500\n",
       "50%      16.000000   512.000000    15.600000  1031.945000\n",
       "75%      16.000000  1000.000000    15.600000  1708.970000\n",
       "max     128.000000  4000.000000    18.000000  7150.470000"
      ]
     },
     "execution_count": 16,
     "metadata": {},
     "output_type": "execute_result"
    }
   ],
   "source": [
    "df.describe()"
   ]
  },
  {
   "cell_type": "code",
   "execution_count": 17,
   "id": "21dc193d-ca7c-4ca9-abfb-d625c089dc63",
   "metadata": {},
   "outputs": [
    {
     "name": "stdout",
     "output_type": "stream",
     "text": [
      "The median (50% percentile) for variable 'ram' is 16.0\n"
     ]
    }
   ],
   "source": [
    "print(f\"The median (50% percentile) for variable 'ram' is {df['ram'].median()}\")"
   ]
  },
  {
   "cell_type": "markdown",
   "id": "fbcd979a-dfa6-4f14-9743-ad544198a7c3",
   "metadata": {},
   "source": [
    "Prepare and split the dataset"
   ]
  },
  {
   "cell_type": "code",
   "execution_count": 18,
   "id": "64ab458b-bcd5-40f8-bd5e-8a3f38ea6f1f",
   "metadata": {},
   "outputs": [
    {
     "data": {
      "text/plain": [
       "(2160, 4)"
      ]
     },
     "execution_count": 18,
     "metadata": {},
     "output_type": "execute_result"
    }
   ],
   "source": [
    "df.shape"
   ]
  },
  {
   "cell_type": "code",
   "execution_count": 19,
   "id": "63d3debb-b905-4e0b-931c-5901da3eb36e",
   "metadata": {},
   "outputs": [],
   "source": [
    "n = len(df)\n",
    "\n",
    "n_val = int(n * 0.2)\n",
    "n_test = int(n * 0.2)\n",
    "n_train = n - n_val - n_test"
   ]
  },
  {
   "cell_type": "code",
   "execution_count": 20,
   "id": "7c74f796-38df-4a9c-baeb-918a2cb154f3",
   "metadata": {},
   "outputs": [
    {
     "data": {
      "text/plain": [
       "2160"
      ]
     },
     "execution_count": 20,
     "metadata": {},
     "output_type": "execute_result"
    }
   ],
   "source": [
    "n"
   ]
  },
  {
   "cell_type": "code",
   "execution_count": 21,
   "id": "60d79384-c2ec-46c3-810f-6c2a4bc86682",
   "metadata": {},
   "outputs": [
    {
     "data": {
      "text/plain": [
       "(432, 432, 1296)"
      ]
     },
     "execution_count": 21,
     "metadata": {},
     "output_type": "execute_result"
    }
   ],
   "source": [
    "n_val, n_test, n_train"
   ]
  },
  {
   "cell_type": "code",
   "execution_count": 22,
   "id": "6691d9a3-e521-4068-be3a-6484f0420309",
   "metadata": {},
   "outputs": [],
   "source": [
    "df_train = df.iloc[:n_train]\n",
    "df_val = df.iloc[n_train:n_train+n_val]\n",
    "df_test = df.iloc[n_train+n_val:]"
   ]
  },
  {
   "cell_type": "code",
   "execution_count": 23,
   "id": "a481184b-06ba-4e9b-9e5c-0fe170eb638c",
   "metadata": {},
   "outputs": [],
   "source": [
    "idx = np.arange(n)"
   ]
  },
  {
   "cell_type": "code",
   "execution_count": 24,
   "id": "348a924b-4d1e-434e-a7eb-1a148edaf2ff",
   "metadata": {},
   "outputs": [],
   "source": [
    "np.random.seed(42)\n",
    "np.random.shuffle(idx)"
   ]
  },
  {
   "cell_type": "code",
   "execution_count": 25,
   "id": "87947372-c038-4e4a-8d16-b82f90120ba5",
   "metadata": {},
   "outputs": [],
   "source": [
    "df_train = df.iloc[idx[:n_train]]\n",
    "df_val = df.iloc[idx[n_train:n_train+n_val]]\n",
    "df_test = df.iloc[idx[n_train+n_val:]]"
   ]
  },
  {
   "cell_type": "code",
   "execution_count": 26,
   "id": "9b3001c3-9e57-4261-8fa5-e034515a7833",
   "metadata": {},
   "outputs": [
    {
     "data": {
      "text/html": [
       "<div>\n",
       "<style scoped>\n",
       "    .dataframe tbody tr th:only-of-type {\n",
       "        vertical-align: middle;\n",
       "    }\n",
       "\n",
       "    .dataframe tbody tr th {\n",
       "        vertical-align: top;\n",
       "    }\n",
       "\n",
       "    .dataframe thead th {\n",
       "        text-align: right;\n",
       "    }\n",
       "</style>\n",
       "<table border=\"1\" class=\"dataframe\">\n",
       "  <thead>\n",
       "    <tr style=\"text-align: right;\">\n",
       "      <th></th>\n",
       "      <th>ram</th>\n",
       "      <th>storage</th>\n",
       "      <th>screen</th>\n",
       "      <th>final_price</th>\n",
       "    </tr>\n",
       "  </thead>\n",
       "  <tbody>\n",
       "    <tr>\n",
       "      <th>2079</th>\n",
       "      <td>32</td>\n",
       "      <td>1000</td>\n",
       "      <td>15.6</td>\n",
       "      <td>1123.29</td>\n",
       "    </tr>\n",
       "    <tr>\n",
       "      <th>668</th>\n",
       "      <td>4</td>\n",
       "      <td>64</td>\n",
       "      <td>14.1</td>\n",
       "      <td>201.05</td>\n",
       "    </tr>\n",
       "    <tr>\n",
       "      <th>2073</th>\n",
       "      <td>32</td>\n",
       "      <td>1000</td>\n",
       "      <td>14.0</td>\n",
       "      <td>997.74</td>\n",
       "    </tr>\n",
       "    <tr>\n",
       "      <th>1113</th>\n",
       "      <td>16</td>\n",
       "      <td>512</td>\n",
       "      <td>13.3</td>\n",
       "      <td>1016.00</td>\n",
       "    </tr>\n",
       "    <tr>\n",
       "      <th>788</th>\n",
       "      <td>32</td>\n",
       "      <td>1000</td>\n",
       "      <td>16.0</td>\n",
       "      <td>2739.00</td>\n",
       "    </tr>\n",
       "  </tbody>\n",
       "</table>\n",
       "</div>"
      ],
      "text/plain": [
       "      ram  storage  screen  final_price\n",
       "2079   32     1000    15.6      1123.29\n",
       "668     4       64    14.1       201.05\n",
       "2073   32     1000    14.0       997.74\n",
       "1113   16      512    13.3      1016.00\n",
       "788    32     1000    16.0      2739.00"
      ]
     },
     "execution_count": 26,
     "metadata": {},
     "output_type": "execute_result"
    }
   ],
   "source": [
    "df_train.head()"
   ]
  },
  {
   "cell_type": "code",
   "execution_count": 27,
   "id": "5871e2d9-0ae7-4e12-9a78-414ca0bb07c4",
   "metadata": {},
   "outputs": [
    {
     "data": {
      "text/plain": [
       "(1296, 432, 432)"
      ]
     },
     "execution_count": 27,
     "metadata": {},
     "output_type": "execute_result"
    }
   ],
   "source": [
    "len(df_train), len(df_val), len(df_test)"
   ]
  },
  {
   "cell_type": "code",
   "execution_count": 28,
   "id": "ced8de47-8c24-4616-8b6c-d847b6684003",
   "metadata": {},
   "outputs": [],
   "source": [
    "df_train = df_train.reset_index(drop=True)\n",
    "df_val = df_val.reset_index(drop=True)\n",
    "df_test = df_test.reset_index(drop=True)"
   ]
  },
  {
   "cell_type": "code",
   "execution_count": 29,
   "id": "ef57cf71-5c62-49ba-8676-d24e9e673065",
   "metadata": {},
   "outputs": [],
   "source": [
    "# Store the original final_price values\n",
    "y_train_orig = df_train.final_price.values\n",
    "y_val_orig = df_val.final_price.values\n",
    "y_test_orig = df_test.final_price.values\n",
    "\n",
    "# Assign original values to y_train, y_val, and y_test\n",
    "y_train = y_train_orig\n",
    "y_val = y_val_orig\n",
    "y_test = y_test_orig\n",
    "\n",
    "# Remove final_price from DataFrames\n",
    "del df_train['final_price']\n",
    "del df_val['final_price']\n",
    "del df_test['final_price']\n",
    "\n",
    "# Apply log transformation to the target variable\n",
    "y_train_log = np.log1p(y_train_orig)\n",
    "y_val_log = np.log1p(y_val_orig)\n",
    "y_test_log = np.log1p(y_test_orig)"
   ]
  },
  {
   "cell_type": "code",
   "execution_count": 30,
   "id": "64233066-8409-4f88-a842-ce47816c2cdf",
   "metadata": {},
   "outputs": [
    {
     "data": {
      "text/plain": [
       "1296"
      ]
     },
     "execution_count": 30,
     "metadata": {},
     "output_type": "execute_result"
    }
   ],
   "source": [
    "len(y_train)"
   ]
  },
  {
   "cell_type": "code",
   "execution_count": 31,
   "id": "2a0eeb74-70e5-4c6f-a63b-25afc8a558ef",
   "metadata": {},
   "outputs": [
    {
     "data": {
      "text/plain": [
       "1296"
      ]
     },
     "execution_count": 31,
     "metadata": {},
     "output_type": "execute_result"
    }
   ],
   "source": [
    "len(y_train_log)"
   ]
  },
  {
   "cell_type": "markdown",
   "id": "da369af8-0145-40d1-a56f-2c9fba5ed587",
   "metadata": {},
   "source": [
    "**Question 3**: Mean vs zero"
   ]
  },
  {
   "cell_type": "code",
   "execution_count": 32,
   "id": "ac65a384-a329-4ccc-9ba4-14fc146b4073",
   "metadata": {},
   "outputs": [],
   "source": [
    "def train_linear_regression(X, y):\n",
    "    ones = np.ones(X.shape[0])\n",
    "    X = np.column_stack([ones, X])\n",
    "\n",
    "    XTX = X.T.dot(X)\n",
    "    XTX_inv = np.linalg.inv(XTX)\n",
    "    w = XTX_inv.dot(X.T).dot(y)\n",
    "    \n",
    "    return w[0], w[1:]\n",
    "\n",
    "def prepare_X(df, fillna_value):\n",
    "    df = df.fillna(fillna_value)\n",
    "    X = df.values\n",
    "    return X\n",
    "\n",
    "def rmse(y, y_pred):\n",
    "    error = y_pred - y\n",
    "    mse = (error ** 2).mean()\n",
    "    return np.sqrt(mse)"
   ]
  },
  {
   "cell_type": "code",
   "execution_count": 33,
   "id": "a86c886c-1698-4b0d-956d-65259b1520af",
   "metadata": {},
   "outputs": [
    {
     "name": "stdout",
     "output_type": "stream",
     "text": [
      "Filled with mean (no-log): 600.2650313748429\n",
      "Filled with 0 (no-log): 597.3635593619622\n",
      "Missing values 'filled with 0' (no-log) because it has a smaller RMSE of 597.3635593619622.\n",
      "\n",
      "Filled with mean (with-log): 0.4311767801693919\n",
      "Filled with 0 (with-log): 0.4288635315474416\n",
      "Missing values 'filled with 0' (with-log) because it has a smaller RMSE of 0.4288635315474416.\n"
     ]
    }
   ],
   "source": [
    "# Calculate the mean of the 'screen' column\n",
    "mean = df_train.screen.mean()\n",
    "\n",
    "# Prepare the training data and calculate RMSE with fillna_value as mean (no log)\n",
    "X_train = prepare_X(df_train, fillna_value=mean)\n",
    "w_0_mean, w_mean = train_linear_regression(X_train, y_train)\n",
    "\n",
    "X_val = prepare_X(df_val, fillna_value=mean)\n",
    "y_pred_mean = w_0_mean + X_val.dot(w_mean)\n",
    "\n",
    "rmse_mean = rmse(y_val, y_pred_mean)\n",
    "print(f\"Filled with mean (no-log): {rmse_mean}\")\n",
    "\n",
    "# Prepare the training data and calculate RMSE with fillna_value as 0 (no log)\n",
    "X_train_zero = prepare_X(df_train, fillna_value=0)\n",
    "w_0_zero, w_zero = train_linear_regression(X_train_zero, y_train)\n",
    "\n",
    "X_val_zero = prepare_X(df_val, fillna_value=0)\n",
    "y_pred_zero = w_0_zero + X_val_zero.dot(w_zero)\n",
    "\n",
    "rmse_zero = rmse(y_val, y_pred_zero)\n",
    "print(f\"Filled with 0 (no-log): {rmse_zero}\")\n",
    "\n",
    "# Compare RMSE values and print the appropriate message (no log)\n",
    "if rmse_zero < rmse_mean:\n",
    "    print(f\"Missing values 'filled with 0' (no-log) because it has a smaller RMSE of {rmse_zero}.\\n\")\n",
    "else:\n",
    "    print(f\"Missing values 'filled with mean' (no-log) because it has a smaller RMSE of {rmse_mean}.\\n\")\n",
    "\n",
    "# Calculate RMSE for log-transformed data\n",
    "\n",
    "# Prepare the training data and calculate RMSE with fillna_value as mean (with log)\n",
    "X_train_log = prepare_X(df_train, fillna_value=mean)\n",
    "w_0_mean_log, w_mean_log = train_linear_regression(X_train_log, y_train_log)\n",
    "\n",
    "X_val_log = prepare_X(df_val, fillna_value=mean)\n",
    "y_pred_mean_log = w_0_mean_log + X_val_log.dot(w_mean_log)\n",
    "\n",
    "rmse_mean_log = rmse(y_val_log, y_pred_mean_log)\n",
    "print(f\"Filled with mean (with-log): {rmse_mean_log}\")\n",
    "\n",
    "# Prepare the training data and calculate RMSE with fillna_value as 0 (with log)\n",
    "X_train_zero_log = prepare_X(df_train, fillna_value=0)\n",
    "w_0_zero_log, w_zero_log = train_linear_regression(X_train_zero_log, y_train_log)\n",
    "\n",
    "X_val_zero_log = prepare_X(df_val, fillna_value=0)\n",
    "y_pred_zero_log = w_0_zero_log + X_val_zero_log.dot(w_zero_log)\n",
    "\n",
    "rmse_zero_log = rmse(y_val_log, y_pred_zero_log)\n",
    "print(f\"Filled with 0 (with-log): {rmse_zero_log}\")\n",
    "\n",
    "# Compare RMSE values and print the appropriate message (with log)\n",
    "if rmse_zero_log < rmse_mean_log:\n",
    "    print(f\"Missing values 'filled with 0' (with-log) because it has a smaller RMSE of {rmse_zero_log}.\")\n",
    "else:\n",
    "    print(f\"Missing values 'filled with mean' (with-log) because it has a smaller RMSE of {rmse_mean_log}.\")\n"
   ]
  },
  {
   "cell_type": "markdown",
   "id": "8098e42f-a300-40aa-ad08-6b68256df9db",
   "metadata": {},
   "source": [
    "**Question 4**: Regularization"
   ]
  },
  {
   "cell_type": "code",
   "execution_count": 34,
   "id": "9942adc7-e14b-4a25-b79f-e96d0c07e39a",
   "metadata": {},
   "outputs": [],
   "source": [
    "def train_linear_regression_reg(X, y, r=0.0):\n",
    "    ones = np.ones(X.shape[0])\n",
    "    X = np.column_stack([ones, X])\n",
    "\n",
    "    XTX = X.T.dot(X)\n",
    "    reg = r * np.eye(XTX.shape[0])\n",
    "    XTX = XTX + reg\n",
    "\n",
    "    XTX_inv = np.linalg.inv(XTX)\n",
    "    w = XTX_inv.dot(X.T).dot(y)\n",
    "    \n",
    "    return w[0], w[1:]"
   ]
  },
  {
   "cell_type": "code",
   "execution_count": 35,
   "id": "12299612-bc70-4ee6-8f75-502017a02043",
   "metadata": {},
   "outputs": [],
   "source": [
    "# Fill missing values with 0 in the training and validation sets\n",
    "X_train = prepare_X(df_train, fillna_value=0)  # Prepare training data with 0 fill\n",
    "X_val = prepare_X(df_val, fillna_value=0)      # Prepare validation data with 0 fill"
   ]
  },
  {
   "cell_type": "code",
   "execution_count": 36,
   "id": "da63de21-8fb0-46b9-aedf-c6e6cbbaa8ee",
   "metadata": {},
   "outputs": [
    {
     "name": "stdout",
     "output_type": "stream",
     "text": [
      "\n",
      "No-log transformation:\n",
      "     0 597.36356\n",
      " 1e-06 597.36356\n",
      "0.0001 597.36354\n",
      " 0.001 597.36337\n",
      "  0.01 597.36168\n",
      "   0.1 597.34516\n",
      "     1 597.21212\n",
      "     5 597.01112\n",
      "    10 597.05877\n",
      "Best regularization parameter (r) no-log transformation is 5 with smallest RMSE of 597.0111186\n",
      "\n",
      "\n",
      "With-log transformation:\n",
      "     0 0.42886\n",
      " 1e-06 0.42886\n",
      "0.0001 0.42886\n",
      " 0.001 0.42886\n",
      "  0.01 0.42885\n",
      "   0.1 0.42878\n",
      "     1 0.43059\n",
      "     5 0.46321\n",
      "    10 0.50757\n",
      "Best regularization parameter (r) with-log transformation is 0.1 with smallest RMSE of 0.42877560097076456\n",
      "\n"
     ]
    }
   ],
   "source": [
    "# Initialize variables to track the minimum RMSE and corresponding r for both log and non-log cases\n",
    "min_rmse_log = float('inf')\n",
    "best_r_log = None\n",
    "\n",
    "min_rmse_no_log = float('inf')\n",
    "best_r_no_log = None\n",
    "\n",
    "print(\"\\nNo-log transformation:\")\n",
    "for r in [0, 0.000001, 0.0001, 0.001, 0.01, 0.1, 1, 5, 10]:\n",
    "    w_0, w = train_linear_regression_reg(X_train, y_train, r=r)\n",
    "    y_pred = w_0 + X_val.dot(w)\n",
    "    rmse_val = rmse(y_val, y_pred)\n",
    "    \n",
    "    # Print the current r and its RMSE value\n",
    "    print('%06s %0.5f' % (r, rmse_val))\n",
    "\n",
    "    # Check if the current RMSE is smaller than the minimum RMSE found so far\n",
    "    if rmse_val < min_rmse_no_log:\n",
    "        min_rmse_no_log = rmse_val\n",
    "        best_r_no_log = r\n",
    "\n",
    "# Print the best r and its corresponding minimum RMSE value for no log\n",
    "print(f\"Best regularization parameter (r) no-log transformation is {best_r_no_log} with smallest RMSE of {min_rmse_no_log:.7f}\\n\")\n",
    "\n",
    "print(\"\\nWith-log transformation:\")\n",
    "for r in [0, 0.000001, 0.0001, 0.001, 0.01, 0.1, 1, 5, 10]:\n",
    "    w_0, w = train_linear_regression_reg(X_train, y_train_log, r=r)\n",
    "    y_pred = w_0 + X_val.dot(w)\n",
    "    rmse_val = rmse(y_val_log, y_pred)\n",
    "    \n",
    "    # Print the current r and its RMSE value\n",
    "    print('%06s %0.5f' % (r, rmse_val))\n",
    "\n",
    "    # Check if the current RMSE is smaller than the minimum RMSE found so far\n",
    "    if rmse_val < min_rmse_log:\n",
    "        min_rmse_log = rmse_val\n",
    "        best_r_log = r\n",
    "\n",
    "# Print the best r and its corresponding minimum RMSE value for log transformation\n",
    "print(f\"Best regularization parameter (r) with-log transformation is {best_r_log} with smallest RMSE of {min_rmse_log}\\n\")\n"
   ]
  },
  {
   "cell_type": "markdown",
   "id": "1ff04e95-890b-45a3-b93d-45f43c6d947b",
   "metadata": {},
   "source": [
    "**Question 5**: Standard deviation of RMSE"
   ]
  },
  {
   "cell_type": "code",
   "execution_count": 37,
   "id": "33cf56cd-9bfa-4f67-adcf-0f278083e5fe",
   "metadata": {},
   "outputs": [
    {
     "name": "stdout",
     "output_type": "stream",
     "text": [
      "Seed 0: RMSE no-log = 565.45209, RMSE with-log = 892.14583\n",
      "Seed 1: RMSE no-log = 636.79854, RMSE with-log = 2518.90531\n",
      "Seed 2: RMSE no-log = 588.95587, RMSE with-log = 2530.82844\n",
      "Seed 3: RMSE no-log = 597.81489, RMSE with-log = 963.57047\n",
      "Seed 4: RMSE no-log = 571.96279, RMSE with-log = 869.16994\n",
      "Seed 5: RMSE no-log = 573.23833, RMSE with-log = 956.67579\n",
      "Seed 6: RMSE no-log = 647.34383, RMSE with-log = 2515.84015\n",
      "Seed 7: RMSE no-log = 550.43982, RMSE with-log = 914.78899\n",
      "Seed 8: RMSE no-log = 587.33350, RMSE with-log = 834.00840\n",
      "Seed 9: RMSE no-log = 576.10179, RMSE with-log = 716.99413\n",
      "\n",
      "Standard deviation of RMSE no-log: 29.176\n",
      "Standard deviation of RMSE with-log: 756.079\n"
     ]
    }
   ],
   "source": [
    "rmses_no_log = []\n",
    "rmses_log = []\n",
    "\n",
    "for s in [0, 1, 2, 3, 4, 5, 6, 7, 8, 9]:\n",
    "\n",
    "    n = len(df)\n",
    "\n",
    "    n_val = int(0.2 * n)\n",
    "    n_test = int(0.2 * n)\n",
    "    n_train = n - (n_val + n_test)\n",
    "\n",
    "    idx = np.arange(n)\n",
    "    np.random.seed(s)\n",
    "    np.random.shuffle(idx)\n",
    "\n",
    "    df_shuffled = df.iloc[idx]\n",
    "\n",
    "    df_train = df_shuffled.iloc[:n_train].copy()\n",
    "    df_val = df_shuffled.iloc[n_train:n_train+n_val].copy()\n",
    "    df_test = df_shuffled.iloc[n_train+n_val:].copy()\n",
    "\n",
    "    df_train = df_train.reset_index(drop=True)\n",
    "    df_val = df_val.reset_index(drop=True)\n",
    "    df_test = df_test.reset_index(drop=True)\n",
    "    \n",
    "    y_train_orig = df_train.final_price.values\n",
    "    y_val_orig = df_val.final_price.values\n",
    "    y_test_orig = df_test.final_price.values\n",
    "\n",
    "    # Case 1: Without log transformation\n",
    "    y_train_no_log = y_train_orig\n",
    "    y_val_no_log = y_val_orig\n",
    "    y_test_no_log = y_test_orig\n",
    "\n",
    "    del df_train['final_price']\n",
    "    del df_val['final_price']\n",
    "    del df_test['final_price']\n",
    "    \n",
    "    # Train and evaluate without log transformation\n",
    "    X_train = prepare_X(df_train, fillna_value=0)\n",
    "    w_0, w = train_linear_regression(X_train, y_train_no_log)\n",
    "\n",
    "    X_val = prepare_X(df_val, fillna_value=0)\n",
    "    y_pred_no_log = w_0 + X_val.dot(w)\n",
    "\n",
    "    result_no_log = rmse(y_val_no_log, y_pred_no_log)\n",
    "    rmses_no_log.append(result_no_log)\n",
    "\n",
    "    # Case 2: With log transformation\n",
    "    y_train_log = np.log1p(y_train_orig)\n",
    "    y_val_log = np.log1p(y_val_orig)\n",
    "    y_test_log = np.log1p(y_test_orig)\n",
    "\n",
    "    # Train and evaluate with log transformation\n",
    "    w_0, w = train_linear_regression(X_train, y_train_log)\n",
    "    y_pred_log = w_0 + X_val.dot(w)\n",
    "    \n",
    "    # Apply inverse transformation (expm1) to predictions and calculate RMSE\n",
    "    y_pred_log = np.expm1(y_pred_log)\n",
    "    result_log = rmse(np.expm1(y_val_log), y_pred_log)\n",
    "    rmses_log.append(result_log)\n",
    "\n",
    "    # Print RMSE for each seed\n",
    "    print(f\"Seed {s}: RMSE no-log = {result_no_log:.5f}, RMSE with-log = {result_log:.5f}\")\n",
    "\n",
    "# Calculate and print the standard deviation of RMSE for both cases\n",
    "std_no_log = np.std(rmses_no_log)\n",
    "std_log = np.std(rmses_log)\n",
    "\n",
    "print(f\"\\nStandard deviation of RMSE no-log: {round(std_no_log, 3)}\")\n",
    "print(f\"Standard deviation of RMSE with-log: {round(std_log, 3)}\")\n"
   ]
  },
  {
   "cell_type": "markdown",
   "id": "b1cc5bfb-fd03-4293-88f8-38a0555ba77f",
   "metadata": {},
   "source": [
    "**Question 6**: RMSE for Test"
   ]
  },
  {
   "cell_type": "code",
   "execution_count": 38,
   "id": "9302adcf-cbf6-4308-b26c-f612fbed6bcb",
   "metadata": {},
   "outputs": [
    {
     "name": "stdout",
     "output_type": "stream",
     "text": [
      "RMSE with-log transformation: 890.58\n",
      "RMSE no-log transformation: 608.60\n"
     ]
    }
   ],
   "source": [
    "n = len(df)\n",
    "\n",
    "n_val = int(0.2 * n)\n",
    "n_test = int(0.2 * n)\n",
    "n_train = n - (n_val + n_test)\n",
    "\n",
    "idx = np.arange(n)\n",
    "np.random.seed(9)\n",
    "np.random.shuffle(idx)\n",
    "\n",
    "df_shuffled = df.iloc[idx]\n",
    "\n",
    "df_train = df_shuffled.iloc[:n_train].copy()\n",
    "df_val = df_shuffled.iloc[n_train:n_train+n_val].copy()\n",
    "df_test = df_shuffled.iloc[n_train+n_val:].copy()\n",
    "\n",
    "df_train = df_train.reset_index(drop=True)\n",
    "df_val = df_val.reset_index(drop=True)\n",
    "df_test = df_test.reset_index(drop=True)\n",
    "\n",
    "y_train_orig = df_train.final_price.values\n",
    "y_val_orig = df_val.final_price.values\n",
    "y_test_orig = df_test.final_price.values\n",
    "\n",
    "del df_train['final_price']\n",
    "del df_val['final_price']\n",
    "del df_test['final_price']\n",
    "\n",
    "df_full_train = pd.concat([df_train, df_val])\n",
    "df_full_train = df_full_train.reset_index(drop=True)\n",
    "\n",
    "# Function to handle both log and no-log cases\n",
    "def calculate_rmse(log_transform):\n",
    "    if log_transform:\n",
    "        y_train = np.log1p(y_train_orig)\n",
    "        y_val = np.log1p(y_val_orig)\n",
    "        y_test = np.log1p(y_test_orig)\n",
    "    else:\n",
    "        y_train = y_train_orig\n",
    "        y_val = y_val_orig\n",
    "        y_test = y_test_orig\n",
    "\n",
    "    # Prepare data for training\n",
    "    X_full_train = prepare_X(df_full_train, fillna_value=0)\n",
    "    y_full_train = np.concatenate([y_train, y_val])\n",
    "\n",
    "    # Train regularized linear regression model\n",
    "    w_0, w = train_linear_regression_reg(X_full_train, y_full_train, r=0.001)\n",
    "\n",
    "    # Prepare test data\n",
    "    X_test = prepare_X(df_test, fillna_value=0)\n",
    "    y_pred_log = w_0 + X_test.dot(w)\n",
    "\n",
    "    # If log transformation was applied, inverse the transformation for predictions\n",
    "    if log_transform:\n",
    "        y_pred = np.expm1(y_pred_log)  # Inverse of np.log1p\n",
    "        y_test_true = np.expm1(y_test)  # Inverse of np.log1p on actual test data\n",
    "    else:\n",
    "        y_pred = y_pred_log\n",
    "        y_test_true = y_test\n",
    "\n",
    "    # Calculate RMSE\n",
    "    result = rmse(y_test_true, y_pred)\n",
    "    return result\n",
    "\n",
    "# Calculate and print RMSE for log transformation (True)\n",
    "result_log = calculate_rmse(log_transform=True)\n",
    "result_log_str = str(result_log)\n",
    "print(f\"RMSE with-log transformation: {result_log_str[:result_log_str.find('.')+3]}\")\n",
    "#print(f\"RMSE with log transformation: {result_log}\")\n",
    "\n",
    "# Calculate and print RMSE for no log transformation (False)\n",
    "result_no_log = calculate_rmse(log_transform=False)\n",
    "result_no_log_str = str(result_no_log)\n",
    "print(f\"RMSE no-log transformation: {result_no_log_str[:result_no_log_str.find('.')+3]}\")\n",
    "#print(f\"RMSE without log transformation: {result_no_log}\")\n"
   ]
  },
  {
   "cell_type": "code",
   "execution_count": null,
   "id": "c48a5ba7-7536-4ce7-a22c-f68150d30eef",
   "metadata": {},
   "outputs": [],
   "source": []
  }
 ],
 "metadata": {
  "kernelspec": {
   "display_name": "Python 3 (ipykernel)",
   "language": "python",
   "name": "python3"
  },
  "language_info": {
   "codemirror_mode": {
    "name": "ipython",
    "version": 3
   },
   "file_extension": ".py",
   "mimetype": "text/x-python",
   "name": "python",
   "nbconvert_exporter": "python",
   "pygments_lexer": "ipython3",
   "version": "3.12.1"
  }
 },
 "nbformat": 4,
 "nbformat_minor": 5
}
