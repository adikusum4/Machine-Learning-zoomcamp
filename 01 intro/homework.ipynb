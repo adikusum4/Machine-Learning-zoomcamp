{
 "cells": [
  {
   "cell_type": "code",
   "execution_count": 1,
   "metadata": {},
   "outputs": [
    {
     "name": "stdout",
     "output_type": "stream",
     "text": [
      "Python 3.12.1\n"
     ]
    }
   ],
   "source": [
    "!python -V"
   ]
  },
  {
   "cell_type": "code",
   "execution_count": 2,
   "metadata": {},
   "outputs": [],
   "source": [
    "import pandas as pd"
   ]
  },
  {
   "cell_type": "code",
   "execution_count": 3,
   "metadata": {},
   "outputs": [],
   "source": [
    "import numpy as np"
   ]
  },
  {
   "cell_type": "markdown",
   "metadata": {},
   "source": [
    "Q1. What's the version of Pandas that you installed?"
   ]
  },
  {
   "cell_type": "code",
   "execution_count": 4,
   "metadata": {},
   "outputs": [
    {
     "data": {
      "text/plain": [
       "'2.2.2'"
      ]
     },
     "execution_count": 4,
     "metadata": {},
     "output_type": "execute_result"
    }
   ],
   "source": [
    "pd.__version__"
   ]
  },
  {
   "cell_type": "code",
   "execution_count": 5,
   "metadata": {},
   "outputs": [],
   "source": [
    "df = pd.read_csv('https://raw.githubusercontent.com/alexeygrigorev/datasets/master/laptops.csv')\n"
   ]
  },
  {
   "cell_type": "code",
   "execution_count": 6,
   "metadata": {},
   "outputs": [
    {
     "data": {
      "text/html": [
       "<div>\n",
       "<style scoped>\n",
       "    .dataframe tbody tr th:only-of-type {\n",
       "        vertical-align: middle;\n",
       "    }\n",
       "\n",
       "    .dataframe tbody tr th {\n",
       "        vertical-align: top;\n",
       "    }\n",
       "\n",
       "    .dataframe thead th {\n",
       "        text-align: right;\n",
       "    }\n",
       "</style>\n",
       "<table border=\"1\" class=\"dataframe\">\n",
       "  <thead>\n",
       "    <tr style=\"text-align: right;\">\n",
       "      <th></th>\n",
       "      <th>Laptop</th>\n",
       "      <th>Status</th>\n",
       "      <th>Brand</th>\n",
       "      <th>Model</th>\n",
       "      <th>CPU</th>\n",
       "      <th>RAM</th>\n",
       "      <th>Storage</th>\n",
       "      <th>Storage type</th>\n",
       "      <th>GPU</th>\n",
       "      <th>Screen</th>\n",
       "      <th>Touch</th>\n",
       "      <th>Final Price</th>\n",
       "    </tr>\n",
       "  </thead>\n",
       "  <tbody>\n",
       "    <tr>\n",
       "      <th>0</th>\n",
       "      <td>ASUS ExpertBook B1 B1502CBA-EJ0436X Intel Core...</td>\n",
       "      <td>New</td>\n",
       "      <td>Asus</td>\n",
       "      <td>ExpertBook</td>\n",
       "      <td>Intel Core i5</td>\n",
       "      <td>8</td>\n",
       "      <td>512</td>\n",
       "      <td>SSD</td>\n",
       "      <td>NaN</td>\n",
       "      <td>15.6</td>\n",
       "      <td>No</td>\n",
       "      <td>1009.00</td>\n",
       "    </tr>\n",
       "    <tr>\n",
       "      <th>1</th>\n",
       "      <td>Alurin Go Start Intel Celeron N4020/8GB/256GB ...</td>\n",
       "      <td>New</td>\n",
       "      <td>Alurin</td>\n",
       "      <td>Go</td>\n",
       "      <td>Intel Celeron</td>\n",
       "      <td>8</td>\n",
       "      <td>256</td>\n",
       "      <td>SSD</td>\n",
       "      <td>NaN</td>\n",
       "      <td>15.6</td>\n",
       "      <td>No</td>\n",
       "      <td>299.00</td>\n",
       "    </tr>\n",
       "    <tr>\n",
       "      <th>2</th>\n",
       "      <td>ASUS ExpertBook B1 B1502CBA-EJ0424X Intel Core...</td>\n",
       "      <td>New</td>\n",
       "      <td>Asus</td>\n",
       "      <td>ExpertBook</td>\n",
       "      <td>Intel Core i3</td>\n",
       "      <td>8</td>\n",
       "      <td>256</td>\n",
       "      <td>SSD</td>\n",
       "      <td>NaN</td>\n",
       "      <td>15.6</td>\n",
       "      <td>No</td>\n",
       "      <td>789.00</td>\n",
       "    </tr>\n",
       "    <tr>\n",
       "      <th>3</th>\n",
       "      <td>MSI Katana GF66 12UC-082XES Intel Core i7-1270...</td>\n",
       "      <td>New</td>\n",
       "      <td>MSI</td>\n",
       "      <td>Katana</td>\n",
       "      <td>Intel Core i7</td>\n",
       "      <td>16</td>\n",
       "      <td>1000</td>\n",
       "      <td>SSD</td>\n",
       "      <td>RTX 3050</td>\n",
       "      <td>15.6</td>\n",
       "      <td>No</td>\n",
       "      <td>1199.00</td>\n",
       "    </tr>\n",
       "    <tr>\n",
       "      <th>4</th>\n",
       "      <td>HP 15S-FQ5085NS Intel Core i5-1235U/16GB/512GB...</td>\n",
       "      <td>New</td>\n",
       "      <td>HP</td>\n",
       "      <td>15S</td>\n",
       "      <td>Intel Core i5</td>\n",
       "      <td>16</td>\n",
       "      <td>512</td>\n",
       "      <td>SSD</td>\n",
       "      <td>NaN</td>\n",
       "      <td>15.6</td>\n",
       "      <td>No</td>\n",
       "      <td>669.01</td>\n",
       "    </tr>\n",
       "    <tr>\n",
       "      <th>...</th>\n",
       "      <td>...</td>\n",
       "      <td>...</td>\n",
       "      <td>...</td>\n",
       "      <td>...</td>\n",
       "      <td>...</td>\n",
       "      <td>...</td>\n",
       "      <td>...</td>\n",
       "      <td>...</td>\n",
       "      <td>...</td>\n",
       "      <td>...</td>\n",
       "      <td>...</td>\n",
       "      <td>...</td>\n",
       "    </tr>\n",
       "    <tr>\n",
       "      <th>2155</th>\n",
       "      <td>Razer Blade 17 FHD 360Hz Intel Core i7-11800H/...</td>\n",
       "      <td>Refurbished</td>\n",
       "      <td>Razer</td>\n",
       "      <td>Blade</td>\n",
       "      <td>Intel Core i7</td>\n",
       "      <td>16</td>\n",
       "      <td>1000</td>\n",
       "      <td>SSD</td>\n",
       "      <td>RTX 3060</td>\n",
       "      <td>17.3</td>\n",
       "      <td>No</td>\n",
       "      <td>2699.99</td>\n",
       "    </tr>\n",
       "    <tr>\n",
       "      <th>2156</th>\n",
       "      <td>Razer Blade 17 FHD 360Hz Intel Core i7-11800H/...</td>\n",
       "      <td>Refurbished</td>\n",
       "      <td>Razer</td>\n",
       "      <td>Blade</td>\n",
       "      <td>Intel Core i7</td>\n",
       "      <td>16</td>\n",
       "      <td>1000</td>\n",
       "      <td>SSD</td>\n",
       "      <td>RTX 3070</td>\n",
       "      <td>17.3</td>\n",
       "      <td>No</td>\n",
       "      <td>2899.99</td>\n",
       "    </tr>\n",
       "    <tr>\n",
       "      <th>2157</th>\n",
       "      <td>Razer Blade 17 FHD 360Hz Intel Core i7-11800H/...</td>\n",
       "      <td>Refurbished</td>\n",
       "      <td>Razer</td>\n",
       "      <td>Blade</td>\n",
       "      <td>Intel Core i7</td>\n",
       "      <td>32</td>\n",
       "      <td>1000</td>\n",
       "      <td>SSD</td>\n",
       "      <td>RTX 3080</td>\n",
       "      <td>17.3</td>\n",
       "      <td>No</td>\n",
       "      <td>3399.99</td>\n",
       "    </tr>\n",
       "    <tr>\n",
       "      <th>2158</th>\n",
       "      <td>Razer Book 13 Intel Evo Core i7-1165G7/16GB/1T...</td>\n",
       "      <td>Refurbished</td>\n",
       "      <td>Razer</td>\n",
       "      <td>Book</td>\n",
       "      <td>Intel Evo Core i7</td>\n",
       "      <td>16</td>\n",
       "      <td>1000</td>\n",
       "      <td>SSD</td>\n",
       "      <td>NaN</td>\n",
       "      <td>13.4</td>\n",
       "      <td>Yes</td>\n",
       "      <td>1899.99</td>\n",
       "    </tr>\n",
       "    <tr>\n",
       "      <th>2159</th>\n",
       "      <td>Razer Book FHD+ Intel Evo Core i7-1165G7/16GB/...</td>\n",
       "      <td>Refurbished</td>\n",
       "      <td>Razer</td>\n",
       "      <td>Book</td>\n",
       "      <td>Intel Evo Core i7</td>\n",
       "      <td>16</td>\n",
       "      <td>256</td>\n",
       "      <td>SSD</td>\n",
       "      <td>NaN</td>\n",
       "      <td>13.4</td>\n",
       "      <td>Yes</td>\n",
       "      <td>1699.99</td>\n",
       "    </tr>\n",
       "  </tbody>\n",
       "</table>\n",
       "<p>2160 rows × 12 columns</p>\n",
       "</div>"
      ],
      "text/plain": [
       "                                                 Laptop       Status   Brand  \\\n",
       "0     ASUS ExpertBook B1 B1502CBA-EJ0436X Intel Core...          New    Asus   \n",
       "1     Alurin Go Start Intel Celeron N4020/8GB/256GB ...          New  Alurin   \n",
       "2     ASUS ExpertBook B1 B1502CBA-EJ0424X Intel Core...          New    Asus   \n",
       "3     MSI Katana GF66 12UC-082XES Intel Core i7-1270...          New     MSI   \n",
       "4     HP 15S-FQ5085NS Intel Core i5-1235U/16GB/512GB...          New      HP   \n",
       "...                                                 ...          ...     ...   \n",
       "2155  Razer Blade 17 FHD 360Hz Intel Core i7-11800H/...  Refurbished   Razer   \n",
       "2156  Razer Blade 17 FHD 360Hz Intel Core i7-11800H/...  Refurbished   Razer   \n",
       "2157  Razer Blade 17 FHD 360Hz Intel Core i7-11800H/...  Refurbished   Razer   \n",
       "2158  Razer Book 13 Intel Evo Core i7-1165G7/16GB/1T...  Refurbished   Razer   \n",
       "2159  Razer Book FHD+ Intel Evo Core i7-1165G7/16GB/...  Refurbished   Razer   \n",
       "\n",
       "           Model                CPU  RAM  Storage Storage type       GPU  \\\n",
       "0     ExpertBook      Intel Core i5    8      512          SSD       NaN   \n",
       "1             Go      Intel Celeron    8      256          SSD       NaN   \n",
       "2     ExpertBook      Intel Core i3    8      256          SSD       NaN   \n",
       "3         Katana      Intel Core i7   16     1000          SSD  RTX 3050   \n",
       "4            15S      Intel Core i5   16      512          SSD       NaN   \n",
       "...          ...                ...  ...      ...          ...       ...   \n",
       "2155       Blade      Intel Core i7   16     1000          SSD  RTX 3060   \n",
       "2156       Blade      Intel Core i7   16     1000          SSD  RTX 3070   \n",
       "2157       Blade      Intel Core i7   32     1000          SSD  RTX 3080   \n",
       "2158        Book  Intel Evo Core i7   16     1000          SSD       NaN   \n",
       "2159        Book  Intel Evo Core i7   16      256          SSD       NaN   \n",
       "\n",
       "      Screen Touch  Final Price  \n",
       "0       15.6    No      1009.00  \n",
       "1       15.6    No       299.00  \n",
       "2       15.6    No       789.00  \n",
       "3       15.6    No      1199.00  \n",
       "4       15.6    No       669.01  \n",
       "...      ...   ...          ...  \n",
       "2155    17.3    No      2699.99  \n",
       "2156    17.3    No      2899.99  \n",
       "2157    17.3    No      3399.99  \n",
       "2158    13.4   Yes      1899.99  \n",
       "2159    13.4   Yes      1699.99  \n",
       "\n",
       "[2160 rows x 12 columns]"
      ]
     },
     "execution_count": 6,
     "metadata": {},
     "output_type": "execute_result"
    }
   ],
   "source": [
    "df"
   ]
  },
  {
   "cell_type": "code",
   "execution_count": 7,
   "metadata": {},
   "outputs": [
    {
     "name": "stdout",
     "output_type": "stream",
     "text": [
      "<class 'pandas.core.frame.DataFrame'>\n",
      "RangeIndex: 2160 entries, 0 to 2159\n",
      "Data columns (total 12 columns):\n",
      " #   Column        Non-Null Count  Dtype  \n",
      "---  ------        --------------  -----  \n",
      " 0   Laptop        2160 non-null   object \n",
      " 1   Status        2160 non-null   object \n",
      " 2   Brand         2160 non-null   object \n",
      " 3   Model         2160 non-null   object \n",
      " 4   CPU           2160 non-null   object \n",
      " 5   RAM           2160 non-null   int64  \n",
      " 6   Storage       2160 non-null   int64  \n",
      " 7   Storage type  2118 non-null   object \n",
      " 8   GPU           789 non-null    object \n",
      " 9   Screen        2156 non-null   float64\n",
      " 10  Touch         2160 non-null   object \n",
      " 11  Final Price   2160 non-null   float64\n",
      "dtypes: float64(2), int64(2), object(8)\n",
      "memory usage: 202.6+ KB\n"
     ]
    }
   ],
   "source": [
    "df.info()"
   ]
  },
  {
   "cell_type": "markdown",
   "metadata": {},
   "source": [
    "Q2. How many records are in the dataset?"
   ]
  },
  {
   "cell_type": "code",
   "execution_count": 8,
   "metadata": {},
   "outputs": [
    {
     "data": {
      "text/plain": [
       "(2160, 12)"
      ]
     },
     "execution_count": 8,
     "metadata": {},
     "output_type": "execute_result"
    }
   ],
   "source": [
    "df.shape"
   ]
  },
  {
   "cell_type": "code",
   "execution_count": 9,
   "metadata": {},
   "outputs": [
    {
     "data": {
      "text/plain": [
       "array(['Asus', 'Alurin', 'MSI', 'HP', 'Lenovo', 'Medion', 'Acer', 'Apple',\n",
       "       'Razer', 'Gigabyte', 'Dell', 'LG', 'Samsung', 'PcCom', 'Microsoft',\n",
       "       'Primux', 'Prixton', 'Dynabook Toshiba', 'Thomson', 'Denver',\n",
       "       'Deep Gaming', 'Vant', 'Innjoo', 'Jetwing', 'Millenium', 'Realme',\n",
       "       'Toshiba'], dtype=object)"
      ]
     },
     "execution_count": 9,
     "metadata": {},
     "output_type": "execute_result"
    }
   ],
   "source": [
    "df['Brand'].unique()"
   ]
  },
  {
   "cell_type": "markdown",
   "metadata": {},
   "source": [
    "Q3. How many laptop brands are presented in the dataset?"
   ]
  },
  {
   "cell_type": "code",
   "execution_count": 10,
   "metadata": {},
   "outputs": [
    {
     "data": {
      "text/plain": [
       "27"
      ]
     },
     "execution_count": 10,
     "metadata": {},
     "output_type": "execute_result"
    }
   ],
   "source": [
    "df['Brand'].nunique()"
   ]
  },
  {
   "cell_type": "markdown",
   "metadata": {},
   "source": [
    "Q4. How many columns in the dataset have missing values?"
   ]
  },
  {
   "cell_type": "code",
   "execution_count": 11,
   "metadata": {},
   "outputs": [
    {
     "data": {
      "text/plain": [
       "Laptop             0\n",
       "Status             0\n",
       "Brand              0\n",
       "Model              0\n",
       "CPU                0\n",
       "RAM                0\n",
       "Storage            0\n",
       "Storage type      42\n",
       "GPU             1371\n",
       "Screen             4\n",
       "Touch              0\n",
       "Final Price        0\n",
       "dtype: int64"
      ]
     },
     "execution_count": 11,
     "metadata": {},
     "output_type": "execute_result"
    }
   ],
   "source": [
    "df.isnull().sum()"
   ]
  },
  {
   "cell_type": "code",
   "execution_count": 12,
   "metadata": {},
   "outputs": [],
   "source": [
    "df_new=df[df['Brand'] == 'Dell']"
   ]
  },
  {
   "cell_type": "markdown",
   "metadata": {},
   "source": [
    "Q5. What's the maximum final price of Dell notebooks in the dataset?"
   ]
  },
  {
   "cell_type": "code",
   "execution_count": 13,
   "metadata": {},
   "outputs": [
    {
     "data": {
      "text/plain": [
       "np.float64(3936.0)"
      ]
     },
     "execution_count": 13,
     "metadata": {},
     "output_type": "execute_result"
    }
   ],
   "source": [
    "df_new['Final Price'].max()"
   ]
  },
  {
   "cell_type": "markdown",
   "metadata": {},
   "source": [
    "1. Find the median value of Screen column in the dataset.\n",
    "2. Next, calculate the most frequent value of the same Screen column.\n",
    "3. Use fillna method to fill the missing values in Screen column with the most frequent value from the previous step.\n",
    "4. Now, calculate the median value of Screen once again."
   ]
  },
  {
   "cell_type": "code",
   "execution_count": 14,
   "metadata": {},
   "outputs": [
    {
     "data": {
      "text/plain": [
       "np.float64(15.6)"
      ]
     },
     "execution_count": 14,
     "metadata": {},
     "output_type": "execute_result"
    }
   ],
   "source": [
    "df['Screen'].median()"
   ]
  },
  {
   "cell_type": "code",
   "execution_count": 15,
   "metadata": {},
   "outputs": [
    {
     "data": {
      "text/plain": [
       "0    15.6\n",
       "Name: Screen, dtype: float64"
      ]
     },
     "execution_count": 15,
     "metadata": {},
     "output_type": "execute_result"
    }
   ],
   "source": [
    "df['Screen'].mode()"
   ]
  },
  {
   "cell_type": "code",
   "execution_count": 16,
   "metadata": {},
   "outputs": [
    {
     "data": {
      "text/plain": [
       "Screen\n",
       "15.60    1009\n",
       "14.00     392\n",
       "16.00     174\n",
       "17.30     161\n",
       "13.30     131\n",
       "16.10      48\n",
       "17.00      33\n",
       "13.00      27\n",
       "15.00      21\n",
       "13.40      19\n",
       "13.50      19\n",
       "11.60      16\n",
       "14.20      14\n",
       "12.30      13\n",
       "14.10      11\n",
       "13.60      11\n",
       "16.20      10\n",
       "15.30       8\n",
       "10.50       7\n",
       "12.40       6\n",
       "14.40       6\n",
       "15.40       5\n",
       "12.00       4\n",
       "18.00       3\n",
       "14.50       3\n",
       "13.90       2\n",
       "12.50       1\n",
       "10.95       1\n",
       "10.10       1\n",
       "Name: count, dtype: int64"
      ]
     },
     "execution_count": 16,
     "metadata": {},
     "output_type": "execute_result"
    }
   ],
   "source": [
    "df['Screen'].value_counts()"
   ]
  },
  {
   "cell_type": "code",
   "execution_count": 17,
   "metadata": {},
   "outputs": [],
   "source": [
    "mode_value = df['Screen'].mode().iloc[0]"
   ]
  },
  {
   "cell_type": "code",
   "execution_count": 18,
   "metadata": {},
   "outputs": [],
   "source": [
    "#  Fill missing values with the mode\n",
    "df['Screen'] = df['Screen'].fillna(mode_value)"
   ]
  },
  {
   "cell_type": "markdown",
   "metadata": {},
   "source": [
    "Q6. Median value of Screen"
   ]
  },
  {
   "cell_type": "code",
   "execution_count": 19,
   "metadata": {},
   "outputs": [
    {
     "data": {
      "text/plain": [
       "np.float64(15.6)"
      ]
     },
     "execution_count": 19,
     "metadata": {},
     "output_type": "execute_result"
    }
   ],
   "source": [
    "df['Screen'].median()"
   ]
  },
  {
   "cell_type": "markdown",
   "metadata": {},
   "source": [
    "Q7. Sum of weights"
   ]
  },
  {
   "cell_type": "code",
   "execution_count": 20,
   "metadata": {},
   "outputs": [],
   "source": [
    "# 1. Select Innjoo laptops and specific columns\n",
    "df_filtered = df[df['Brand'] == \"Innjoo\"][['RAM', 'Storage', 'Screen']]"
   ]
  },
  {
   "cell_type": "code",
   "execution_count": 21,
   "metadata": {},
   "outputs": [],
   "source": [
    "# 2. Get NumPy array\n",
    "X = df_filtered.to_numpy()"
   ]
  },
  {
   "cell_type": "code",
   "execution_count": 22,
   "metadata": {},
   "outputs": [],
   "source": [
    "# 3. Matrix multiplication with transpose\n",
    "XTX = X.T @ X  # This is equivalent to np.dot(X.T, X)"
   ]
  },
  {
   "cell_type": "code",
   "execution_count": 23,
   "metadata": {},
   "outputs": [],
   "source": [
    "# 4. Inverse of XTX (handle potential singularity)\n",
    "try:\n",
    "  XTX_inv = np.linalg.inv(XTX)  # Try to calculate inverse\n",
    "except np.linalg.LinAlgError:\n",
    "  print(\"Singular matrix! XTX cannot be inverted.\")\n",
    "  XTX_inv = None  # Handle singularity if it occurs\n"
   ]
  },
  {
   "cell_type": "code",
   "execution_count": 24,
   "metadata": {},
   "outputs": [],
   "source": [
    "# 5. Create y array\n",
    "y = np.array([1100, 1300, 800, 900, 1000, 1100])"
   ]
  },
  {
   "cell_type": "code",
   "execution_count": 25,
   "metadata": {},
   "outputs": [],
   "source": [
    "# 6. Calculate w (handle potential None value for XTX_inv)\n",
    "if XTX_inv is not None:\n",
    "  w = XTX_inv @ X.T @ y\n",
    "else:\n",
    "  w = None  # Avoid multiplication if inverse is not available"
   ]
  },
  {
   "cell_type": "code",
   "execution_count": 26,
   "metadata": {},
   "outputs": [
    {
     "name": "stdout",
     "output_type": "stream",
     "text": [
      "Sum of elements in w: 91.2998806299555\n"
     ]
    }
   ],
   "source": [
    "# 7. Sum of elements in w (handle potential None value)\n",
    "if w is not None:\n",
    "  sum_w = np.sum(w)\n",
    "  print(\"Sum of elements in w:\", sum_w)\n",
    "else:\n",
    "  print(\"w is None due to singular matrix. Cannot calculate sum.\")"
   ]
  }
 ],
 "metadata": {
  "kernelspec": {
   "display_name": "Python 3 (ipykernel)",
   "language": "python",
   "name": "python3"
  },
  "language_info": {
   "codemirror_mode": {
    "name": "ipython",
    "version": 3
   },
   "file_extension": ".py",
   "mimetype": "text/x-python",
   "name": "python",
   "nbconvert_exporter": "python",
   "pygments_lexer": "ipython3",
   "version": "3.12.1"
  }
 },
 "nbformat": 4,
 "nbformat_minor": 2
}
